{
 "cells": [
  {
   "cell_type": "markdown",
   "metadata": {},
   "source": [
    "# Software Design for Data Scientists\n",
    "\n",
    "## *Sophisticated Data Manipulation"
   ]
  },
  {
   "cell_type": "markdown",
   "metadata": {},
   "source": [
    "## 1. Python's Data Science Ecosystem\n",
    "\n",
    "With this simple Python computation experience under our belt, we can now move to doing some more interesting analysis."
   ]
  },
  {
   "cell_type": "markdown",
   "metadata": {},
   "source": [
    "### Python's Data Science Ecosystem\n",
    "\n",
    "In addition to Python's built-in modules like the ``math`` module we explored above, there are also many often-used third-party modules that are core tools for doing data science with Python.\n",
    "Some of the most important ones are:\n",
    "\n",
    "#### [``numpy``](http://numpy.org/): Numerical Python\n",
    "\n",
    "Numpy is short for \"Numerical Python\", and contains tools for efficient manipulation of arrays of data.\n",
    "If you have used other computational tools like MatLab, Numpy should feel very familiar.\n",
    "\n",
    "#### [``scipy``](http://scipy.org/): Scientific Python\n",
    "\n",
    "Scipy is short for \"Scientific Python\", and contains a wide range of functionality for accomplishing common scientific tasks, such as:\n",
    "\n",
    "* optimization/minimization\n",
    "* numerical integration\n",
    "* interpolation\n",
    "* and much more\n",
    "\n",
    "We will not look closely at Scipy today, but we will use its functionality later in the course.\n",
    "\n",
    "#### [``pandas``](http://pandas.pydata.org/): Labeled Data Manipulation in Python\n",
    "\n",
    "Pandas is short for \"Panel Data\", and contains tools for doing more advanced manipulation of labeled data in Python, in particular with a columnar data structure called a *Data Frame*.\n",
    "If you've used the [R](http://rstats.org) statistical language, much of the functionality in Pandas should feel very familiar.\n",
    "\n",
    "#### [``matplotlib``](http://matplotlib.org): Visualization in Python\n",
    "\n",
    "Matplotlib started out as a Matlab plotting clone in Python, and has grown from there in the 15 years since its creation. It is the most popular data visualization tool currently in the Python data world (though other recent packages are starting to encroach on its monopoly)."
   ]
  },
  {
   "cell_type": "markdown",
   "metadata": {},
   "source": [
    "# 2. Installation"
   ]
  },
  {
   "cell_type": "markdown",
   "metadata": {},
   "source": [
    "### Installing Pandas & friends\n",
    "\n",
    "Because the above packages are not included in Python itself, you need to install them separately. While it is possible to install these from source (compiling the C and/or Fortran code that does the heavy lifting under the hood) it is much easier to use a package manager like ``conda``. All it takes is to run\n",
    "\n",
    "```\n",
    "$ conda install numpy scipy pandas matplotlib\n",
    "```\n",
    "\n",
    "and (so long as your conda setup is working) the packages will be downloaded and installed on your system."
   ]
  },
  {
   "cell_type": "markdown",
   "metadata": {},
   "source": [
    "# 3. Arrays and slicing in Numpy"
   ]
  },
  {
   "cell_type": "code",
   "execution_count": 1,
   "metadata": {},
   "outputs": [],
   "source": [
    "import numpy as np"
   ]
  },
  {
   "cell_type": "markdown",
   "metadata": {},
   "source": [
    "### Lists in native Python\n",
    "\n",
    "Let's create a **list**, a native Python object that we've used earlier today."
   ]
  },
  {
   "cell_type": "code",
   "execution_count": 2,
   "metadata": {},
   "outputs": [
    {
     "data": {
      "text/plain": [
       "[2, 5, 7, 8]"
      ]
     },
     "execution_count": 2,
     "metadata": {},
     "output_type": "execute_result"
    }
   ],
   "source": [
    "my_list = [2, 5, 7, 8]\n",
    "my_list"
   ]
  },
  {
   "cell_type": "code",
   "execution_count": 3,
   "metadata": {},
   "outputs": [
    {
     "data": {
      "text/plain": [
       "list"
      ]
     },
     "execution_count": 3,
     "metadata": {},
     "output_type": "execute_result"
    }
   ],
   "source": [
    "type(my_list)"
   ]
  },
  {
   "cell_type": "markdown",
   "metadata": {},
   "source": [
    "This list is one-dimensional, let's make it multidimensional!"
   ]
  },
  {
   "cell_type": "code",
   "execution_count": 4,
   "metadata": {},
   "outputs": [],
   "source": [
    "multi_list = [[1, 2, 3], [4, 5, 6]]"
   ]
  },
  {
   "cell_type": "markdown",
   "metadata": {},
   "source": [
    "How do we access the *6* element in the second row, third column for native Python list?"
   ]
  },
  {
   "cell_type": "code",
   "execution_count": 5,
   "metadata": {},
   "outputs": [
    {
     "data": {
      "text/plain": [
       "6"
      ]
     },
     "execution_count": 5,
     "metadata": {},
     "output_type": "execute_result"
    }
   ],
   "source": [
    "multi_list[1][2]"
   ]
  },
  {
   "cell_type": "markdown",
   "metadata": {},
   "source": [
    "### Converting to numpy Arrays"
   ]
  },
  {
   "cell_type": "code",
   "execution_count": 6,
   "metadata": {},
   "outputs": [],
   "source": [
    "my_array = np.array(my_list)"
   ]
  },
  {
   "cell_type": "code",
   "execution_count": 7,
   "metadata": {},
   "outputs": [
    {
     "data": {
      "text/plain": [
       "numpy.ndarray"
      ]
     },
     "execution_count": 7,
     "metadata": {},
     "output_type": "execute_result"
    }
   ],
   "source": [
    "type(my_array)"
   ]
  },
  {
   "cell_type": "code",
   "execution_count": 8,
   "metadata": {},
   "outputs": [
    {
     "data": {
      "text/plain": [
       "dtype('int64')"
      ]
     },
     "execution_count": 8,
     "metadata": {},
     "output_type": "execute_result"
    }
   ],
   "source": [
    "my_array.dtype"
   ]
  },
  {
   "cell_type": "code",
   "execution_count": 9,
   "metadata": {},
   "outputs": [
    {
     "data": {
      "text/plain": [
       "(4,)"
      ]
     },
     "execution_count": 9,
     "metadata": {},
     "output_type": "execute_result"
    }
   ],
   "source": [
    "my_array.shape"
   ]
  },
  {
   "cell_type": "code",
   "execution_count": 10,
   "metadata": {},
   "outputs": [],
   "source": [
    "my_array = np.array([my_list])"
   ]
  },
  {
   "cell_type": "code",
   "execution_count": 11,
   "metadata": {},
   "outputs": [
    {
     "data": {
      "text/plain": [
       "(1, 4)"
      ]
     },
     "execution_count": 11,
     "metadata": {},
     "output_type": "execute_result"
    }
   ],
   "source": [
    "my_array.shape"
   ]
  },
  {
   "cell_type": "code",
   "execution_count": 12,
   "metadata": {},
   "outputs": [
    {
     "data": {
      "text/plain": [
       "array([[2, 5, 7, 8]])"
      ]
     },
     "execution_count": 12,
     "metadata": {},
     "output_type": "execute_result"
    }
   ],
   "source": [
    "my_array"
   ]
  },
  {
   "cell_type": "code",
   "execution_count": 13,
   "metadata": {},
   "outputs": [],
   "source": [
    "multi_array = np.array([[1, 2, 3], [4, 5, 6]], np.int32)"
   ]
  },
  {
   "cell_type": "markdown",
   "metadata": {},
   "source": [
    "How do we access the *6* element in the second row, third column for numpy array?"
   ]
  },
  {
   "cell_type": "code",
   "execution_count": 14,
   "metadata": {},
   "outputs": [
    {
     "data": {
      "text/plain": [
       "6"
      ]
     },
     "execution_count": 14,
     "metadata": {},
     "output_type": "execute_result"
    }
   ],
   "source": [
    "multi_array[1][2]"
   ]
  },
  {
   "cell_type": "markdown",
   "metadata": {},
   "source": [
    "How do we retrieve a slice of the array, `array([[1, 2], [4, 5]])`?"
   ]
  },
  {
   "cell_type": "code",
   "execution_count": 15,
   "metadata": {},
   "outputs": [
    {
     "data": {
      "text/plain": [
       "array([[1, 2],\n",
       "       [4, 5]], dtype=int32)"
      ]
     },
     "execution_count": 15,
     "metadata": {},
     "output_type": "execute_result"
    }
   ],
   "source": [
    "multi_array[0:2, 0:2]"
   ]
  },
  {
   "cell_type": "markdown",
   "metadata": {},
   "source": [
    "How do we retrieve the second column of the array?"
   ]
  },
  {
   "cell_type": "code",
   "execution_count": 16,
   "metadata": {},
   "outputs": [
    {
     "data": {
      "text/plain": [
       "array([2, 5], dtype=int32)"
      ]
     },
     "execution_count": 16,
     "metadata": {},
     "output_type": "execute_result"
    }
   ],
   "source": [
    "multi_array[:, 1]"
   ]
  },
  {
   "cell_type": "markdown",
   "metadata": {},
   "source": [
    "## 4. Introduction to Pandas DataFrames"
   ]
  },
  {
   "cell_type": "markdown",
   "metadata": {},
   "source": [
    "What are the elements of a table?"
   ]
  },
  {
   "cell_type": "code",
   "execution_count": 17,
   "metadata": {},
   "outputs": [],
   "source": [
    "# Pandas DataFrames as table elements\n",
    "import pandas as pd"
   ]
  },
  {
   "cell_type": "markdown",
   "metadata": {},
   "source": [
    "What operations do we perform on tables?"
   ]
  },
  {
   "cell_type": "code",
   "execution_count": 18,
   "metadata": {},
   "outputs": [
    {
     "data": {
      "text/html": [
       "<div>\n",
       "<style scoped>\n",
       "    .dataframe tbody tr th:only-of-type {\n",
       "        vertical-align: middle;\n",
       "    }\n",
       "\n",
       "    .dataframe tbody tr th {\n",
       "        vertical-align: top;\n",
       "    }\n",
       "\n",
       "    .dataframe thead th {\n",
       "        text-align: right;\n",
       "    }\n",
       "</style>\n",
       "<table border=\"1\" class=\"dataframe\">\n",
       "  <thead>\n",
       "    <tr style=\"text-align: right;\">\n",
       "      <th></th>\n",
       "      <th>A</th>\n",
       "      <th>B</th>\n",
       "      <th>ccc</th>\n",
       "    </tr>\n",
       "  </thead>\n",
       "  <tbody>\n",
       "    <tr>\n",
       "      <th>x</th>\n",
       "      <td>1</td>\n",
       "      <td>2</td>\n",
       "      <td>1.0</td>\n",
       "    </tr>\n",
       "    <tr>\n",
       "      <th>y</th>\n",
       "      <td>2</td>\n",
       "      <td>4</td>\n",
       "      <td>33.0</td>\n",
       "    </tr>\n",
       "    <tr>\n",
       "      <th>z</th>\n",
       "      <td>3</td>\n",
       "      <td>6</td>\n",
       "      <td>4.0</td>\n",
       "    </tr>\n",
       "  </tbody>\n",
       "</table>\n",
       "</div>"
      ],
      "text/plain": [
       "   A  B   ccc\n",
       "x  1  2   1.0\n",
       "y  2  4  33.0\n",
       "z  3  6   4.0"
      ]
     },
     "execution_count": 18,
     "metadata": {},
     "output_type": "execute_result"
    }
   ],
   "source": [
    "df = pd.DataFrame({'A': [1, 2, 3], 'B': [2, 4, 6], 'ccc': [1.0, 33, 4]})\n",
    "df.index = ['x', 'y', 'z']\n",
    "df"
   ]
  },
  {
   "cell_type": "markdown",
   "metadata": {},
   "source": [
    "Adding to tables together:"
   ]
  },
  {
   "cell_type": "code",
   "execution_count": 19,
   "metadata": {},
   "outputs": [
    {
     "data": {
      "text/html": [
       "<div>\n",
       "<style scoped>\n",
       "    .dataframe tbody tr th:only-of-type {\n",
       "        vertical-align: middle;\n",
       "    }\n",
       "\n",
       "    .dataframe tbody tr th {\n",
       "        vertical-align: top;\n",
       "    }\n",
       "\n",
       "    .dataframe thead th {\n",
       "        text-align: right;\n",
       "    }\n",
       "</style>\n",
       "<table border=\"1\" class=\"dataframe\">\n",
       "  <thead>\n",
       "    <tr style=\"text-align: right;\">\n",
       "      <th></th>\n",
       "      <th>A</th>\n",
       "      <th>B</th>\n",
       "      <th>ccc</th>\n",
       "    </tr>\n",
       "  </thead>\n",
       "  <tbody>\n",
       "    <tr>\n",
       "      <th>x</th>\n",
       "      <td>2</td>\n",
       "      <td>4</td>\n",
       "      <td>2.0</td>\n",
       "    </tr>\n",
       "    <tr>\n",
       "      <th>y</th>\n",
       "      <td>4</td>\n",
       "      <td>8</td>\n",
       "      <td>66.0</td>\n",
       "    </tr>\n",
       "    <tr>\n",
       "      <th>z</th>\n",
       "      <td>6</td>\n",
       "      <td>12</td>\n",
       "      <td>8.0</td>\n",
       "    </tr>\n",
       "  </tbody>\n",
       "</table>\n",
       "</div>"
      ],
      "text/plain": [
       "   A   B   ccc\n",
       "x  2   4   2.0\n",
       "y  4   8  66.0\n",
       "z  6  12   8.0"
      ]
     },
     "execution_count": 19,
     "metadata": {},
     "output_type": "execute_result"
    }
   ],
   "source": [
    "df+df"
   ]
  },
  {
   "cell_type": "code",
   "execution_count": 20,
   "metadata": {},
   "outputs": [
    {
     "data": {
      "text/html": [
       "<div>\n",
       "<style scoped>\n",
       "    .dataframe tbody tr th:only-of-type {\n",
       "        vertical-align: middle;\n",
       "    }\n",
       "\n",
       "    .dataframe tbody tr th {\n",
       "        vertical-align: top;\n",
       "    }\n",
       "\n",
       "    .dataframe thead th {\n",
       "        text-align: right;\n",
       "    }\n",
       "</style>\n",
       "<table border=\"1\" class=\"dataframe\">\n",
       "  <thead>\n",
       "    <tr style=\"text-align: right;\">\n",
       "      <th></th>\n",
       "      <th>A</th>\n",
       "      <th>B</th>\n",
       "    </tr>\n",
       "  </thead>\n",
       "  <tbody>\n",
       "    <tr>\n",
       "      <th>x</th>\n",
       "      <td>1</td>\n",
       "      <td>2</td>\n",
       "    </tr>\n",
       "    <tr>\n",
       "      <th>z</th>\n",
       "      <td>3</td>\n",
       "      <td>6</td>\n",
       "    </tr>\n",
       "    <tr>\n",
       "      <th>y</th>\n",
       "      <td>2</td>\n",
       "      <td>4</td>\n",
       "    </tr>\n",
       "  </tbody>\n",
       "</table>\n",
       "</div>"
      ],
      "text/plain": [
       "   A  B\n",
       "x  1  2\n",
       "z  3  6\n",
       "y  2  4"
      ]
     },
     "execution_count": 20,
     "metadata": {},
     "output_type": "execute_result"
    }
   ],
   "source": [
    "df2 = pd.DataFrame({'A': [1, 3, 2], 'B': [2, 6, 4]})\n",
    "df2.index = ['x', 'z', 'y']\n",
    "df2"
   ]
  },
  {
   "cell_type": "markdown",
   "metadata": {},
   "source": [
    "If you try to add two data frames that don't have quite the same columns:"
   ]
  },
  {
   "cell_type": "code",
   "execution_count": 21,
   "metadata": {},
   "outputs": [
    {
     "data": {
      "text/html": [
       "<div>\n",
       "<style scoped>\n",
       "    .dataframe tbody tr th:only-of-type {\n",
       "        vertical-align: middle;\n",
       "    }\n",
       "\n",
       "    .dataframe tbody tr th {\n",
       "        vertical-align: top;\n",
       "    }\n",
       "\n",
       "    .dataframe thead th {\n",
       "        text-align: right;\n",
       "    }\n",
       "</style>\n",
       "<table border=\"1\" class=\"dataframe\">\n",
       "  <thead>\n",
       "    <tr style=\"text-align: right;\">\n",
       "      <th></th>\n",
       "      <th>A</th>\n",
       "      <th>B</th>\n",
       "      <th>ccc</th>\n",
       "    </tr>\n",
       "  </thead>\n",
       "  <tbody>\n",
       "    <tr>\n",
       "      <th>x</th>\n",
       "      <td>2</td>\n",
       "      <td>4</td>\n",
       "      <td>NaN</td>\n",
       "    </tr>\n",
       "    <tr>\n",
       "      <th>y</th>\n",
       "      <td>4</td>\n",
       "      <td>8</td>\n",
       "      <td>NaN</td>\n",
       "    </tr>\n",
       "    <tr>\n",
       "      <th>z</th>\n",
       "      <td>6</td>\n",
       "      <td>12</td>\n",
       "      <td>NaN</td>\n",
       "    </tr>\n",
       "  </tbody>\n",
       "</table>\n",
       "</div>"
      ],
      "text/plain": [
       "   A   B  ccc\n",
       "x  2   4  NaN\n",
       "y  4   8  NaN\n",
       "z  6  12  NaN"
      ]
     },
     "execution_count": 21,
     "metadata": {},
     "output_type": "execute_result"
    }
   ],
   "source": [
    "df+df2"
   ]
  },
  {
   "cell_type": "markdown",
   "metadata": {},
   "source": [
    "We can get a subset of columns by indexing into the data frame with a set of column names:"
   ]
  },
  {
   "cell_type": "code",
   "execution_count": 22,
   "metadata": {},
   "outputs": [
    {
     "data": {
      "text/html": [
       "<div>\n",
       "<style scoped>\n",
       "    .dataframe tbody tr th:only-of-type {\n",
       "        vertical-align: middle;\n",
       "    }\n",
       "\n",
       "    .dataframe tbody tr th {\n",
       "        vertical-align: top;\n",
       "    }\n",
       "\n",
       "    .dataframe thead th {\n",
       "        text-align: right;\n",
       "    }\n",
       "</style>\n",
       "<table border=\"1\" class=\"dataframe\">\n",
       "  <thead>\n",
       "    <tr style=\"text-align: right;\">\n",
       "      <th></th>\n",
       "      <th>A</th>\n",
       "      <th>ccc</th>\n",
       "    </tr>\n",
       "  </thead>\n",
       "  <tbody>\n",
       "    <tr>\n",
       "      <th>x</th>\n",
       "      <td>1</td>\n",
       "      <td>1.0</td>\n",
       "    </tr>\n",
       "    <tr>\n",
       "      <th>y</th>\n",
       "      <td>2</td>\n",
       "      <td>33.0</td>\n",
       "    </tr>\n",
       "    <tr>\n",
       "      <th>z</th>\n",
       "      <td>3</td>\n",
       "      <td>4.0</td>\n",
       "    </tr>\n",
       "  </tbody>\n",
       "</table>\n",
       "</div>"
      ],
      "text/plain": [
       "   A   ccc\n",
       "x  1   1.0\n",
       "y  2  33.0\n",
       "z  3   4.0"
      ]
     },
     "execution_count": 22,
     "metadata": {},
     "output_type": "execute_result"
    }
   ],
   "source": [
    "sub_df = df[['A', 'ccc']]\n",
    "sub_df"
   ]
  },
  {
   "cell_type": "markdown",
   "metadata": {},
   "source": [
    "You can also combine these operations together:"
   ]
  },
  {
   "cell_type": "code",
   "execution_count": 23,
   "metadata": {},
   "outputs": [
    {
     "data": {
      "text/plain": [
       "x     5\n",
       "y    10\n",
       "z    15\n",
       "dtype: int64"
      ]
     },
     "execution_count": 23,
     "metadata": {},
     "output_type": "execute_result"
    }
   ],
   "source": [
    "df['A'] + 2*df['B']"
   ]
  },
  {
   "cell_type": "markdown",
   "metadata": {},
   "source": [
    "# Operations on a Pandas DataFrame"
   ]
  },
  {
   "cell_type": "markdown",
   "metadata": {},
   "source": [
    "## 5. Manipulating Data with DataFrames"
   ]
  },
  {
   "cell_type": "markdown",
   "metadata": {},
   "source": [
    "### Downloading the data\n",
    "\n",
    "Shell commands can be run from the notebook by preceding them with an exclamation point:"
   ]
  },
  {
   "cell_type": "code",
   "execution_count": 24,
   "metadata": {},
   "outputs": [
    {
     "name": "stdout",
     "output_type": "stream",
     "text": [
      "data_manipulation.ipynb            python_vars_and_flow_control.ipynb\n"
     ]
    }
   ],
   "source": [
    "!ls"
   ]
  },
  {
   "cell_type": "markdown",
   "metadata": {},
   "source": [
    "uncomment this to download the data:"
   ]
  },
  {
   "cell_type": "code",
   "execution_count": 25,
   "metadata": {},
   "outputs": [
    {
     "name": "stdout",
     "output_type": "stream",
     "text": [
      "  % Total    % Received % Xferd  Average Speed   Time    Time     Time  Current\n",
      "                                 Dload  Upload   Total   Spent    Left  Speed\n",
      "100 70.8M  100 70.8M    0     0  4701k      0  0:00:15  0:00:15 --:--:-- 4832k   0  0:00:15  0:00:14  0:00:01 4900k\n",
      "Archive:  open_data_year_one.zip\n",
      "  inflating: 2015_station_data.csv   \n",
      "  inflating: 2015_status_data.csv    \n",
      "  inflating: 2015_trip_data.csv      \n",
      "  inflating: 2015_weather_data.csv   \n",
      "  inflating: README.txt              \n"
     ]
    }
   ],
   "source": [
    "!curl -O https://s3.amazonaws.com/pronto-data/open_data_year_one.zip\n",
    "!unzip open_data_year_one.zip"
   ]
  },
  {
   "cell_type": "markdown",
   "metadata": {},
   "source": [
    "### Loading Data into a DataFrame"
   ]
  },
  {
   "cell_type": "markdown",
   "metadata": {},
   "source": [
    "Because we'll use it so much, we often import under a shortened name using the ``import ... as ...`` pattern:"
   ]
  },
  {
   "cell_type": "code",
   "execution_count": 26,
   "metadata": {},
   "outputs": [],
   "source": [
    "import pandas as pd"
   ]
  },
  {
   "cell_type": "markdown",
   "metadata": {},
   "source": [
    "Now we can use the ``read_csv`` command to read the comma-separated-value data:"
   ]
  },
  {
   "cell_type": "code",
   "execution_count": 27,
   "metadata": {},
   "outputs": [],
   "source": [
    "df = pd.read_csv('2015_trip_data.csv')"
   ]
  },
  {
   "cell_type": "markdown",
   "metadata": {},
   "source": [
    "*Note: strings in Python can be defined either with double quotes or single quotes*"
   ]
  },
  {
   "cell_type": "code",
   "execution_count": 28,
   "metadata": {},
   "outputs": [
    {
     "data": {
      "text/plain": [
       "pandas.core.frame.DataFrame"
      ]
     },
     "execution_count": 28,
     "metadata": {},
     "output_type": "execute_result"
    }
   ],
   "source": [
    "type(df)"
   ]
  },
  {
   "cell_type": "code",
   "execution_count": 29,
   "metadata": {},
   "outputs": [
    {
     "data": {
      "text/plain": [
       "142846"
      ]
     },
     "execution_count": 29,
     "metadata": {},
     "output_type": "execute_result"
    }
   ],
   "source": [
    "len(df)"
   ]
  },
  {
   "cell_type": "code",
   "execution_count": 30,
   "metadata": {},
   "outputs": [
    {
     "data": {
      "text/html": [
       "<div>\n",
       "<style scoped>\n",
       "    .dataframe tbody tr th:only-of-type {\n",
       "        vertical-align: middle;\n",
       "    }\n",
       "\n",
       "    .dataframe tbody tr th {\n",
       "        vertical-align: top;\n",
       "    }\n",
       "\n",
       "    .dataframe thead th {\n",
       "        text-align: right;\n",
       "    }\n",
       "</style>\n",
       "<table border=\"1\" class=\"dataframe\">\n",
       "  <thead>\n",
       "    <tr style=\"text-align: right;\">\n",
       "      <th></th>\n",
       "      <th>trip_id</th>\n",
       "      <th>starttime</th>\n",
       "      <th>stoptime</th>\n",
       "      <th>bikeid</th>\n",
       "      <th>tripduration</th>\n",
       "      <th>from_station_name</th>\n",
       "      <th>to_station_name</th>\n",
       "      <th>from_station_id</th>\n",
       "      <th>to_station_id</th>\n",
       "      <th>usertype</th>\n",
       "      <th>gender</th>\n",
       "      <th>birthyear</th>\n",
       "    </tr>\n",
       "  </thead>\n",
       "  <tbody>\n",
       "    <tr>\n",
       "      <th>0</th>\n",
       "      <td>431</td>\n",
       "      <td>10/13/2014 10:31</td>\n",
       "      <td>10/13/2014 10:48</td>\n",
       "      <td>SEA00298</td>\n",
       "      <td>985.935</td>\n",
       "      <td>2nd Ave &amp; Spring St</td>\n",
       "      <td>Occidental Park / Occidental Ave S &amp; S Washing...</td>\n",
       "      <td>CBD-06</td>\n",
       "      <td>PS-04</td>\n",
       "      <td>Annual Member</td>\n",
       "      <td>Male</td>\n",
       "      <td>1960.0</td>\n",
       "    </tr>\n",
       "    <tr>\n",
       "      <th>1</th>\n",
       "      <td>432</td>\n",
       "      <td>10/13/2014 10:32</td>\n",
       "      <td>10/13/2014 10:48</td>\n",
       "      <td>SEA00195</td>\n",
       "      <td>926.375</td>\n",
       "      <td>2nd Ave &amp; Spring St</td>\n",
       "      <td>Occidental Park / Occidental Ave S &amp; S Washing...</td>\n",
       "      <td>CBD-06</td>\n",
       "      <td>PS-04</td>\n",
       "      <td>Annual Member</td>\n",
       "      <td>Male</td>\n",
       "      <td>1970.0</td>\n",
       "    </tr>\n",
       "    <tr>\n",
       "      <th>2</th>\n",
       "      <td>433</td>\n",
       "      <td>10/13/2014 10:33</td>\n",
       "      <td>10/13/2014 10:48</td>\n",
       "      <td>SEA00486</td>\n",
       "      <td>883.831</td>\n",
       "      <td>2nd Ave &amp; Spring St</td>\n",
       "      <td>Occidental Park / Occidental Ave S &amp; S Washing...</td>\n",
       "      <td>CBD-06</td>\n",
       "      <td>PS-04</td>\n",
       "      <td>Annual Member</td>\n",
       "      <td>Female</td>\n",
       "      <td>1988.0</td>\n",
       "    </tr>\n",
       "    <tr>\n",
       "      <th>3</th>\n",
       "      <td>434</td>\n",
       "      <td>10/13/2014 10:34</td>\n",
       "      <td>10/13/2014 10:48</td>\n",
       "      <td>SEA00333</td>\n",
       "      <td>865.937</td>\n",
       "      <td>2nd Ave &amp; Spring St</td>\n",
       "      <td>Occidental Park / Occidental Ave S &amp; S Washing...</td>\n",
       "      <td>CBD-06</td>\n",
       "      <td>PS-04</td>\n",
       "      <td>Annual Member</td>\n",
       "      <td>Female</td>\n",
       "      <td>1977.0</td>\n",
       "    </tr>\n",
       "    <tr>\n",
       "      <th>4</th>\n",
       "      <td>435</td>\n",
       "      <td>10/13/2014 10:34</td>\n",
       "      <td>10/13/2014 10:49</td>\n",
       "      <td>SEA00202</td>\n",
       "      <td>923.923</td>\n",
       "      <td>2nd Ave &amp; Spring St</td>\n",
       "      <td>Occidental Park / Occidental Ave S &amp; S Washing...</td>\n",
       "      <td>CBD-06</td>\n",
       "      <td>PS-04</td>\n",
       "      <td>Annual Member</td>\n",
       "      <td>Male</td>\n",
       "      <td>1971.0</td>\n",
       "    </tr>\n",
       "  </tbody>\n",
       "</table>\n",
       "</div>"
      ],
      "text/plain": [
       "   trip_id         starttime          stoptime    bikeid  tripduration  \\\n",
       "0      431  10/13/2014 10:31  10/13/2014 10:48  SEA00298       985.935   \n",
       "1      432  10/13/2014 10:32  10/13/2014 10:48  SEA00195       926.375   \n",
       "2      433  10/13/2014 10:33  10/13/2014 10:48  SEA00486       883.831   \n",
       "3      434  10/13/2014 10:34  10/13/2014 10:48  SEA00333       865.937   \n",
       "4      435  10/13/2014 10:34  10/13/2014 10:49  SEA00202       923.923   \n",
       "\n",
       "     from_station_name                                    to_station_name  \\\n",
       "0  2nd Ave & Spring St  Occidental Park / Occidental Ave S & S Washing...   \n",
       "1  2nd Ave & Spring St  Occidental Park / Occidental Ave S & S Washing...   \n",
       "2  2nd Ave & Spring St  Occidental Park / Occidental Ave S & S Washing...   \n",
       "3  2nd Ave & Spring St  Occidental Park / Occidental Ave S & S Washing...   \n",
       "4  2nd Ave & Spring St  Occidental Park / Occidental Ave S & S Washing...   \n",
       "\n",
       "  from_station_id to_station_id       usertype  gender  birthyear  \n",
       "0          CBD-06         PS-04  Annual Member    Male     1960.0  \n",
       "1          CBD-06         PS-04  Annual Member    Male     1970.0  \n",
       "2          CBD-06         PS-04  Annual Member  Female     1988.0  \n",
       "3          CBD-06         PS-04  Annual Member  Female     1977.0  \n",
       "4          CBD-06         PS-04  Annual Member    Male     1971.0  "
      ]
     },
     "execution_count": 30,
     "metadata": {},
     "output_type": "execute_result"
    }
   ],
   "source": [
    "df.head()"
   ]
  },
  {
   "cell_type": "markdown",
   "metadata": {},
   "source": [
    "### Viewing Pandas Dataframes"
   ]
  },
  {
   "cell_type": "markdown",
   "metadata": {},
   "source": [
    "The ``head()`` and ``tail()`` methods show us the first and last rows of the data"
   ]
  },
  {
   "cell_type": "code",
   "execution_count": 31,
   "metadata": {},
   "outputs": [
    {
     "data": {
      "text/html": [
       "<div>\n",
       "<style scoped>\n",
       "    .dataframe tbody tr th:only-of-type {\n",
       "        vertical-align: middle;\n",
       "    }\n",
       "\n",
       "    .dataframe tbody tr th {\n",
       "        vertical-align: top;\n",
       "    }\n",
       "\n",
       "    .dataframe thead th {\n",
       "        text-align: right;\n",
       "    }\n",
       "</style>\n",
       "<table border=\"1\" class=\"dataframe\">\n",
       "  <thead>\n",
       "    <tr style=\"text-align: right;\">\n",
       "      <th></th>\n",
       "      <th>trip_id</th>\n",
       "      <th>starttime</th>\n",
       "      <th>stoptime</th>\n",
       "      <th>bikeid</th>\n",
       "      <th>tripduration</th>\n",
       "      <th>from_station_name</th>\n",
       "      <th>to_station_name</th>\n",
       "      <th>from_station_id</th>\n",
       "      <th>to_station_id</th>\n",
       "      <th>usertype</th>\n",
       "      <th>gender</th>\n",
       "      <th>birthyear</th>\n",
       "    </tr>\n",
       "  </thead>\n",
       "  <tbody>\n",
       "    <tr>\n",
       "      <th>0</th>\n",
       "      <td>431</td>\n",
       "      <td>10/13/2014 10:31</td>\n",
       "      <td>10/13/2014 10:48</td>\n",
       "      <td>SEA00298</td>\n",
       "      <td>985.935</td>\n",
       "      <td>2nd Ave &amp; Spring St</td>\n",
       "      <td>Occidental Park / Occidental Ave S &amp; S Washing...</td>\n",
       "      <td>CBD-06</td>\n",
       "      <td>PS-04</td>\n",
       "      <td>Annual Member</td>\n",
       "      <td>Male</td>\n",
       "      <td>1960.0</td>\n",
       "    </tr>\n",
       "    <tr>\n",
       "      <th>1</th>\n",
       "      <td>432</td>\n",
       "      <td>10/13/2014 10:32</td>\n",
       "      <td>10/13/2014 10:48</td>\n",
       "      <td>SEA00195</td>\n",
       "      <td>926.375</td>\n",
       "      <td>2nd Ave &amp; Spring St</td>\n",
       "      <td>Occidental Park / Occidental Ave S &amp; S Washing...</td>\n",
       "      <td>CBD-06</td>\n",
       "      <td>PS-04</td>\n",
       "      <td>Annual Member</td>\n",
       "      <td>Male</td>\n",
       "      <td>1970.0</td>\n",
       "    </tr>\n",
       "    <tr>\n",
       "      <th>2</th>\n",
       "      <td>433</td>\n",
       "      <td>10/13/2014 10:33</td>\n",
       "      <td>10/13/2014 10:48</td>\n",
       "      <td>SEA00486</td>\n",
       "      <td>883.831</td>\n",
       "      <td>2nd Ave &amp; Spring St</td>\n",
       "      <td>Occidental Park / Occidental Ave S &amp; S Washing...</td>\n",
       "      <td>CBD-06</td>\n",
       "      <td>PS-04</td>\n",
       "      <td>Annual Member</td>\n",
       "      <td>Female</td>\n",
       "      <td>1988.0</td>\n",
       "    </tr>\n",
       "    <tr>\n",
       "      <th>3</th>\n",
       "      <td>434</td>\n",
       "      <td>10/13/2014 10:34</td>\n",
       "      <td>10/13/2014 10:48</td>\n",
       "      <td>SEA00333</td>\n",
       "      <td>865.937</td>\n",
       "      <td>2nd Ave &amp; Spring St</td>\n",
       "      <td>Occidental Park / Occidental Ave S &amp; S Washing...</td>\n",
       "      <td>CBD-06</td>\n",
       "      <td>PS-04</td>\n",
       "      <td>Annual Member</td>\n",
       "      <td>Female</td>\n",
       "      <td>1977.0</td>\n",
       "    </tr>\n",
       "    <tr>\n",
       "      <th>4</th>\n",
       "      <td>435</td>\n",
       "      <td>10/13/2014 10:34</td>\n",
       "      <td>10/13/2014 10:49</td>\n",
       "      <td>SEA00202</td>\n",
       "      <td>923.923</td>\n",
       "      <td>2nd Ave &amp; Spring St</td>\n",
       "      <td>Occidental Park / Occidental Ave S &amp; S Washing...</td>\n",
       "      <td>CBD-06</td>\n",
       "      <td>PS-04</td>\n",
       "      <td>Annual Member</td>\n",
       "      <td>Male</td>\n",
       "      <td>1971.0</td>\n",
       "    </tr>\n",
       "  </tbody>\n",
       "</table>\n",
       "</div>"
      ],
      "text/plain": [
       "   trip_id         starttime          stoptime    bikeid  tripduration  \\\n",
       "0      431  10/13/2014 10:31  10/13/2014 10:48  SEA00298       985.935   \n",
       "1      432  10/13/2014 10:32  10/13/2014 10:48  SEA00195       926.375   \n",
       "2      433  10/13/2014 10:33  10/13/2014 10:48  SEA00486       883.831   \n",
       "3      434  10/13/2014 10:34  10/13/2014 10:48  SEA00333       865.937   \n",
       "4      435  10/13/2014 10:34  10/13/2014 10:49  SEA00202       923.923   \n",
       "\n",
       "     from_station_name                                    to_station_name  \\\n",
       "0  2nd Ave & Spring St  Occidental Park / Occidental Ave S & S Washing...   \n",
       "1  2nd Ave & Spring St  Occidental Park / Occidental Ave S & S Washing...   \n",
       "2  2nd Ave & Spring St  Occidental Park / Occidental Ave S & S Washing...   \n",
       "3  2nd Ave & Spring St  Occidental Park / Occidental Ave S & S Washing...   \n",
       "4  2nd Ave & Spring St  Occidental Park / Occidental Ave S & S Washing...   \n",
       "\n",
       "  from_station_id to_station_id       usertype  gender  birthyear  \n",
       "0          CBD-06         PS-04  Annual Member    Male     1960.0  \n",
       "1          CBD-06         PS-04  Annual Member    Male     1970.0  \n",
       "2          CBD-06         PS-04  Annual Member  Female     1988.0  \n",
       "3          CBD-06         PS-04  Annual Member  Female     1977.0  \n",
       "4          CBD-06         PS-04  Annual Member    Male     1971.0  "
      ]
     },
     "execution_count": 31,
     "metadata": {},
     "output_type": "execute_result"
    }
   ],
   "source": [
    "df.head()"
   ]
  },
  {
   "cell_type": "code",
   "execution_count": 32,
   "metadata": {},
   "outputs": [
    {
     "data": {
      "text/plain": [
       "RangeIndex(start=0, stop=142846, step=1)"
      ]
     },
     "execution_count": 32,
     "metadata": {},
     "output_type": "execute_result"
    }
   ],
   "source": [
    "df.index"
   ]
  },
  {
   "cell_type": "code",
   "execution_count": 33,
   "metadata": {},
   "outputs": [
    {
     "data": {
      "text/html": [
       "<div>\n",
       "<style scoped>\n",
       "    .dataframe tbody tr th:only-of-type {\n",
       "        vertical-align: middle;\n",
       "    }\n",
       "\n",
       "    .dataframe tbody tr th {\n",
       "        vertical-align: top;\n",
       "    }\n",
       "\n",
       "    .dataframe thead th {\n",
       "        text-align: right;\n",
       "    }\n",
       "</style>\n",
       "<table border=\"1\" class=\"dataframe\">\n",
       "  <thead>\n",
       "    <tr style=\"text-align: right;\">\n",
       "      <th></th>\n",
       "      <th>trip_id</th>\n",
       "      <th>starttime</th>\n",
       "      <th>stoptime</th>\n",
       "      <th>bikeid</th>\n",
       "      <th>tripduration</th>\n",
       "      <th>from_station_name</th>\n",
       "      <th>to_station_name</th>\n",
       "      <th>from_station_id</th>\n",
       "      <th>to_station_id</th>\n",
       "      <th>usertype</th>\n",
       "      <th>gender</th>\n",
       "      <th>birthyear</th>\n",
       "    </tr>\n",
       "  </thead>\n",
       "  <tbody>\n",
       "    <tr>\n",
       "      <th>1</th>\n",
       "      <td>432</td>\n",
       "      <td>10/13/2014 10:32</td>\n",
       "      <td>10/13/2014 10:48</td>\n",
       "      <td>SEA00195</td>\n",
       "      <td>926.375</td>\n",
       "      <td>2nd Ave &amp; Spring St</td>\n",
       "      <td>Occidental Park / Occidental Ave S &amp; S Washing...</td>\n",
       "      <td>CBD-06</td>\n",
       "      <td>PS-04</td>\n",
       "      <td>Annual Member</td>\n",
       "      <td>Male</td>\n",
       "      <td>1970.0</td>\n",
       "    </tr>\n",
       "    <tr>\n",
       "      <th>4</th>\n",
       "      <td>435</td>\n",
       "      <td>10/13/2014 10:34</td>\n",
       "      <td>10/13/2014 10:49</td>\n",
       "      <td>SEA00202</td>\n",
       "      <td>923.923</td>\n",
       "      <td>2nd Ave &amp; Spring St</td>\n",
       "      <td>Occidental Park / Occidental Ave S &amp; S Washing...</td>\n",
       "      <td>CBD-06</td>\n",
       "      <td>PS-04</td>\n",
       "      <td>Annual Member</td>\n",
       "      <td>Male</td>\n",
       "      <td>1971.0</td>\n",
       "    </tr>\n",
       "    <tr>\n",
       "      <th>6</th>\n",
       "      <td>437</td>\n",
       "      <td>10/13/2014 11:35</td>\n",
       "      <td>10/13/2014 11:45</td>\n",
       "      <td>SEA00202</td>\n",
       "      <td>596.715</td>\n",
       "      <td>Occidental Park / Occidental Ave S &amp; S Washing...</td>\n",
       "      <td>King Street Station Plaza / 2nd Ave Extension ...</td>\n",
       "      <td>PS-04</td>\n",
       "      <td>PS-05</td>\n",
       "      <td>Annual Member</td>\n",
       "      <td>Male</td>\n",
       "      <td>1978.0</td>\n",
       "    </tr>\n",
       "    <tr>\n",
       "      <th>7</th>\n",
       "      <td>438</td>\n",
       "      <td>10/13/2014 11:35</td>\n",
       "      <td>10/13/2014 11:45</td>\n",
       "      <td>SEA00311</td>\n",
       "      <td>592.131</td>\n",
       "      <td>Occidental Park / Occidental Ave S &amp; S Washing...</td>\n",
       "      <td>King Street Station Plaza / 2nd Ave Extension ...</td>\n",
       "      <td>PS-04</td>\n",
       "      <td>PS-05</td>\n",
       "      <td>Annual Member</td>\n",
       "      <td>Male</td>\n",
       "      <td>1983.0</td>\n",
       "    </tr>\n",
       "    <tr>\n",
       "      <th>9</th>\n",
       "      <td>440</td>\n",
       "      <td>10/13/2014 11:35</td>\n",
       "      <td>10/13/2014 11:45</td>\n",
       "      <td>SEA00434</td>\n",
       "      <td>587.634</td>\n",
       "      <td>Occidental Park / Occidental Ave S &amp; S Washing...</td>\n",
       "      <td>King Street Station Plaza / 2nd Ave Extension ...</td>\n",
       "      <td>PS-04</td>\n",
       "      <td>PS-05</td>\n",
       "      <td>Annual Member</td>\n",
       "      <td>Male</td>\n",
       "      <td>1958.0</td>\n",
       "    </tr>\n",
       "    <tr>\n",
       "      <th>34</th>\n",
       "      <td>467</td>\n",
       "      <td>10/13/2014 11:45</td>\n",
       "      <td>10/13/2014 12:00</td>\n",
       "      <td>SEA00155</td>\n",
       "      <td>860.538</td>\n",
       "      <td>Occidental Park / Occidental Ave S &amp; S Washing...</td>\n",
       "      <td>2nd Ave &amp; Spring St</td>\n",
       "      <td>PS-04</td>\n",
       "      <td>CBD-06</td>\n",
       "      <td>Annual Member</td>\n",
       "      <td>Female</td>\n",
       "      <td>1989.0</td>\n",
       "    </tr>\n",
       "  </tbody>\n",
       "</table>\n",
       "</div>"
      ],
      "text/plain": [
       "    trip_id         starttime          stoptime    bikeid  tripduration  \\\n",
       "1       432  10/13/2014 10:32  10/13/2014 10:48  SEA00195       926.375   \n",
       "4       435  10/13/2014 10:34  10/13/2014 10:49  SEA00202       923.923   \n",
       "6       437  10/13/2014 11:35  10/13/2014 11:45  SEA00202       596.715   \n",
       "7       438  10/13/2014 11:35  10/13/2014 11:45  SEA00311       592.131   \n",
       "9       440  10/13/2014 11:35  10/13/2014 11:45  SEA00434       587.634   \n",
       "34      467  10/13/2014 11:45  10/13/2014 12:00  SEA00155       860.538   \n",
       "\n",
       "                                    from_station_name  \\\n",
       "1                                 2nd Ave & Spring St   \n",
       "4                                 2nd Ave & Spring St   \n",
       "6   Occidental Park / Occidental Ave S & S Washing...   \n",
       "7   Occidental Park / Occidental Ave S & S Washing...   \n",
       "9   Occidental Park / Occidental Ave S & S Washing...   \n",
       "34  Occidental Park / Occidental Ave S & S Washing...   \n",
       "\n",
       "                                      to_station_name from_station_id  \\\n",
       "1   Occidental Park / Occidental Ave S & S Washing...          CBD-06   \n",
       "4   Occidental Park / Occidental Ave S & S Washing...          CBD-06   \n",
       "6   King Street Station Plaza / 2nd Ave Extension ...           PS-04   \n",
       "7   King Street Station Plaza / 2nd Ave Extension ...           PS-04   \n",
       "9   King Street Station Plaza / 2nd Ave Extension ...           PS-04   \n",
       "34                                2nd Ave & Spring St           PS-04   \n",
       "\n",
       "   to_station_id       usertype  gender  birthyear  \n",
       "1          PS-04  Annual Member    Male     1970.0  \n",
       "4          PS-04  Annual Member    Male     1971.0  \n",
       "6          PS-05  Annual Member    Male     1978.0  \n",
       "7          PS-05  Annual Member    Male     1983.0  \n",
       "9          PS-05  Annual Member    Male     1958.0  \n",
       "34        CBD-06  Annual Member  Female     1989.0  "
      ]
     },
     "execution_count": 33,
     "metadata": {},
     "output_type": "execute_result"
    }
   ],
   "source": [
    "smaller_df = df.loc[[1,4,6,7,9,34],:]\n",
    "smaller_df"
   ]
  },
  {
   "cell_type": "code",
   "execution_count": 34,
   "metadata": {},
   "outputs": [
    {
     "data": {
      "text/plain": [
       "Index([1, 4, 6, 7, 9, 34], dtype='int64')"
      ]
     },
     "execution_count": 34,
     "metadata": {},
     "output_type": "execute_result"
    }
   ],
   "source": [
    "smaller_df.index"
   ]
  },
  {
   "cell_type": "markdown",
   "metadata": {},
   "source": [
    "The ``shape`` attribute shows us the number of elements:"
   ]
  },
  {
   "cell_type": "code",
   "execution_count": 35,
   "metadata": {},
   "outputs": [
    {
     "data": {
      "text/plain": [
       "(142846, 12)"
      ]
     },
     "execution_count": 35,
     "metadata": {},
     "output_type": "execute_result"
    }
   ],
   "source": [
    "df.shape"
   ]
  },
  {
   "cell_type": "markdown",
   "metadata": {},
   "source": [
    "The ``columns`` attribute gives us the column names"
   ]
  },
  {
   "cell_type": "code",
   "execution_count": 36,
   "metadata": {},
   "outputs": [
    {
     "data": {
      "text/plain": [
       "Index(['trip_id', 'starttime', 'stoptime', 'bikeid', 'tripduration',\n",
       "       'from_station_name', 'to_station_name', 'from_station_id',\n",
       "       'to_station_id', 'usertype', 'gender', 'birthyear'],\n",
       "      dtype='object')"
      ]
     },
     "execution_count": 36,
     "metadata": {},
     "output_type": "execute_result"
    }
   ],
   "source": [
    "df.columns"
   ]
  },
  {
   "cell_type": "code",
   "execution_count": 37,
   "metadata": {},
   "outputs": [
    {
     "data": {
      "text/plain": [
       "['trip_id',\n",
       " 'starttime',\n",
       " 'stoptime',\n",
       " 'bikeid',\n",
       " 'tripduration',\n",
       " 'from_station_name',\n",
       " 'to_station_name',\n",
       " 'from_station_id',\n",
       " 'to_station_id',\n",
       " 'usertype',\n",
       " 'gender',\n",
       " 'birthyear']"
      ]
     },
     "execution_count": 37,
     "metadata": {},
     "output_type": "execute_result"
    }
   ],
   "source": [
    "df.columns.tolist()"
   ]
  },
  {
   "cell_type": "markdown",
   "metadata": {},
   "source": [
    "The ``index`` attribute gives us the index names"
   ]
  },
  {
   "cell_type": "code",
   "execution_count": 38,
   "metadata": {},
   "outputs": [
    {
     "data": {
      "text/plain": [
       "RangeIndex(start=0, stop=142846, step=1)"
      ]
     },
     "execution_count": 38,
     "metadata": {},
     "output_type": "execute_result"
    }
   ],
   "source": [
    "df.index"
   ]
  },
  {
   "cell_type": "markdown",
   "metadata": {},
   "source": [
    "The ``dtypes`` attribute gives the data types of each column:"
   ]
  },
  {
   "cell_type": "code",
   "execution_count": 39,
   "metadata": {},
   "outputs": [
    {
     "data": {
      "text/plain": [
       "trip_id                int64\n",
       "starttime             object\n",
       "stoptime              object\n",
       "bikeid                object\n",
       "tripduration         float64\n",
       "from_station_name     object\n",
       "to_station_name       object\n",
       "from_station_id       object\n",
       "to_station_id         object\n",
       "usertype              object\n",
       "gender                object\n",
       "birthyear            float64\n",
       "dtype: object"
      ]
     },
     "execution_count": 39,
     "metadata": {},
     "output_type": "execute_result"
    }
   ],
   "source": [
    "df.dtypes"
   ]
  },
  {
   "cell_type": "markdown",
   "metadata": {},
   "source": [
    "### Sophisticated Data Manipulation\n",
    "\n",
    "Here we'll cover some key features of manipulating data with pandas"
   ]
  },
  {
   "cell_type": "markdown",
   "metadata": {},
   "source": [
    "Access columns by name using square-bracket indexing:"
   ]
  },
  {
   "cell_type": "code",
   "execution_count": 40,
   "metadata": {},
   "outputs": [
    {
     "data": {
      "text/html": [
       "<div>\n",
       "<style scoped>\n",
       "    .dataframe tbody tr th:only-of-type {\n",
       "        vertical-align: middle;\n",
       "    }\n",
       "\n",
       "    .dataframe tbody tr th {\n",
       "        vertical-align: top;\n",
       "    }\n",
       "\n",
       "    .dataframe thead th {\n",
       "        text-align: right;\n",
       "    }\n",
       "</style>\n",
       "<table border=\"1\" class=\"dataframe\">\n",
       "  <thead>\n",
       "    <tr style=\"text-align: right;\">\n",
       "      <th></th>\n",
       "      <th>trip_id</th>\n",
       "      <th>starttime</th>\n",
       "      <th>stoptime</th>\n",
       "      <th>bikeid</th>\n",
       "      <th>tripduration</th>\n",
       "      <th>from_station_name</th>\n",
       "      <th>to_station_name</th>\n",
       "      <th>from_station_id</th>\n",
       "      <th>to_station_id</th>\n",
       "      <th>usertype</th>\n",
       "      <th>gender</th>\n",
       "      <th>birthyear</th>\n",
       "    </tr>\n",
       "  </thead>\n",
       "  <tbody>\n",
       "    <tr>\n",
       "      <th>0</th>\n",
       "      <td>431</td>\n",
       "      <td>10/13/2014 10:31</td>\n",
       "      <td>10/13/2014 10:48</td>\n",
       "      <td>SEA00298</td>\n",
       "      <td>985.935</td>\n",
       "      <td>2nd Ave &amp; Spring St</td>\n",
       "      <td>Occidental Park / Occidental Ave S &amp; S Washing...</td>\n",
       "      <td>CBD-06</td>\n",
       "      <td>PS-04</td>\n",
       "      <td>Annual Member</td>\n",
       "      <td>Male</td>\n",
       "      <td>1960.0</td>\n",
       "    </tr>\n",
       "    <tr>\n",
       "      <th>1</th>\n",
       "      <td>432</td>\n",
       "      <td>10/13/2014 10:32</td>\n",
       "      <td>10/13/2014 10:48</td>\n",
       "      <td>SEA00195</td>\n",
       "      <td>926.375</td>\n",
       "      <td>2nd Ave &amp; Spring St</td>\n",
       "      <td>Occidental Park / Occidental Ave S &amp; S Washing...</td>\n",
       "      <td>CBD-06</td>\n",
       "      <td>PS-04</td>\n",
       "      <td>Annual Member</td>\n",
       "      <td>Male</td>\n",
       "      <td>1970.0</td>\n",
       "    </tr>\n",
       "    <tr>\n",
       "      <th>2</th>\n",
       "      <td>433</td>\n",
       "      <td>10/13/2014 10:33</td>\n",
       "      <td>10/13/2014 10:48</td>\n",
       "      <td>SEA00486</td>\n",
       "      <td>883.831</td>\n",
       "      <td>2nd Ave &amp; Spring St</td>\n",
       "      <td>Occidental Park / Occidental Ave S &amp; S Washing...</td>\n",
       "      <td>CBD-06</td>\n",
       "      <td>PS-04</td>\n",
       "      <td>Annual Member</td>\n",
       "      <td>Female</td>\n",
       "      <td>1988.0</td>\n",
       "    </tr>\n",
       "    <tr>\n",
       "      <th>3</th>\n",
       "      <td>434</td>\n",
       "      <td>10/13/2014 10:34</td>\n",
       "      <td>10/13/2014 10:48</td>\n",
       "      <td>SEA00333</td>\n",
       "      <td>865.937</td>\n",
       "      <td>2nd Ave &amp; Spring St</td>\n",
       "      <td>Occidental Park / Occidental Ave S &amp; S Washing...</td>\n",
       "      <td>CBD-06</td>\n",
       "      <td>PS-04</td>\n",
       "      <td>Annual Member</td>\n",
       "      <td>Female</td>\n",
       "      <td>1977.0</td>\n",
       "    </tr>\n",
       "    <tr>\n",
       "      <th>4</th>\n",
       "      <td>435</td>\n",
       "      <td>10/13/2014 10:34</td>\n",
       "      <td>10/13/2014 10:49</td>\n",
       "      <td>SEA00202</td>\n",
       "      <td>923.923</td>\n",
       "      <td>2nd Ave &amp; Spring St</td>\n",
       "      <td>Occidental Park / Occidental Ave S &amp; S Washing...</td>\n",
       "      <td>CBD-06</td>\n",
       "      <td>PS-04</td>\n",
       "      <td>Annual Member</td>\n",
       "      <td>Male</td>\n",
       "      <td>1971.0</td>\n",
       "    </tr>\n",
       "  </tbody>\n",
       "</table>\n",
       "</div>"
      ],
      "text/plain": [
       "   trip_id         starttime          stoptime    bikeid  tripduration  \\\n",
       "0      431  10/13/2014 10:31  10/13/2014 10:48  SEA00298       985.935   \n",
       "1      432  10/13/2014 10:32  10/13/2014 10:48  SEA00195       926.375   \n",
       "2      433  10/13/2014 10:33  10/13/2014 10:48  SEA00486       883.831   \n",
       "3      434  10/13/2014 10:34  10/13/2014 10:48  SEA00333       865.937   \n",
       "4      435  10/13/2014 10:34  10/13/2014 10:49  SEA00202       923.923   \n",
       "\n",
       "     from_station_name                                    to_station_name  \\\n",
       "0  2nd Ave & Spring St  Occidental Park / Occidental Ave S & S Washing...   \n",
       "1  2nd Ave & Spring St  Occidental Park / Occidental Ave S & S Washing...   \n",
       "2  2nd Ave & Spring St  Occidental Park / Occidental Ave S & S Washing...   \n",
       "3  2nd Ave & Spring St  Occidental Park / Occidental Ave S & S Washing...   \n",
       "4  2nd Ave & Spring St  Occidental Park / Occidental Ave S & S Washing...   \n",
       "\n",
       "  from_station_id to_station_id       usertype  gender  birthyear  \n",
       "0          CBD-06         PS-04  Annual Member    Male     1960.0  \n",
       "1          CBD-06         PS-04  Annual Member    Male     1970.0  \n",
       "2          CBD-06         PS-04  Annual Member  Female     1988.0  \n",
       "3          CBD-06         PS-04  Annual Member  Female     1977.0  \n",
       "4          CBD-06         PS-04  Annual Member    Male     1971.0  "
      ]
     },
     "execution_count": 40,
     "metadata": {},
     "output_type": "execute_result"
    }
   ],
   "source": [
    "df.head()"
   ]
  },
  {
   "cell_type": "code",
   "execution_count": 41,
   "metadata": {},
   "outputs": [],
   "source": [
    "df_small = df['stoptime']"
   ]
  },
  {
   "cell_type": "code",
   "execution_count": 42,
   "metadata": {},
   "outputs": [
    {
     "data": {
      "text/plain": [
       "pandas.core.series.Series"
      ]
     },
     "execution_count": 42,
     "metadata": {},
     "output_type": "execute_result"
    }
   ],
   "source": [
    "type(df_small)"
   ]
  },
  {
   "cell_type": "code",
   "execution_count": 43,
   "metadata": {},
   "outputs": [
    {
     "data": {
      "text/plain": [
       "0    10/13/2014 10:48\n",
       "1    10/13/2014 10:48\n",
       "2    10/13/2014 10:48\n",
       "3    10/13/2014 10:48\n",
       "4    10/13/2014 10:49\n",
       "Name: stoptime, dtype: object"
      ]
     },
     "execution_count": 43,
     "metadata": {},
     "output_type": "execute_result"
    }
   ],
   "source": [
    "df_small.head()"
   ]
  },
  {
   "cell_type": "code",
   "execution_count": 44,
   "metadata": {},
   "outputs": [
    {
     "data": {
      "text/plain": [
       "['10/13/2014 10:48',\n",
       " '10/13/2014 10:48',\n",
       " '10/13/2014 10:48',\n",
       " '10/13/2014 10:48',\n",
       " '10/13/2014 10:49',\n",
       " '10/13/2014 10:47',\n",
       " '10/13/2014 11:45',\n",
       " '10/13/2014 11:45',\n",
       " '10/13/2014 11:45',\n",
       " '10/13/2014 11:45',\n",
       " '10/13/2014 11:45',\n",
       " '10/13/2014 11:47',\n",
       " '10/13/2014 11:47',\n",
       " '10/13/2014 11:47',\n",
       " '10/13/2014 11:47',\n",
       " '10/13/2014 11:47',\n",
       " '10/13/2014 11:47',\n",
       " '10/13/2014 11:47',\n",
       " '10/13/2014 11:49',\n",
       " '10/13/2014 11:51',\n",
       " '10/13/2014 11:51',\n",
       " '10/13/2014 11:51',\n",
       " '10/13/2014 11:49',\n",
       " '10/13/2014 11:51',\n",
       " '10/13/2014 11:51',\n",
       " '10/13/2014 11:52',\n",
       " '10/13/2014 11:51',\n",
       " '10/13/2014 11:51',\n",
       " '10/13/2014 11:51',\n",
       " '10/13/2014 11:55',\n",
       " '10/13/2014 12:00',\n",
       " '10/13/2014 12:00',\n",
       " '10/13/2014 12:00',\n",
       " '10/13/2014 12:02',\n",
       " '10/13/2014 12:00',\n",
       " '10/13/2014 12:00',\n",
       " '10/13/2014 11:51',\n",
       " '10/13/2014 11:59',\n",
       " '10/13/2014 12:00',\n",
       " '10/13/2014 11:59',\n",
       " '10/13/2014 11:59',\n",
       " '10/13/2014 11:59',\n",
       " '10/13/2014 12:06',\n",
       " '10/13/2014 12:01',\n",
       " '10/13/2014 12:04',\n",
       " '10/13/2014 12:01',\n",
       " '10/13/2014 12:11',\n",
       " '10/13/2014 12:11',\n",
       " '10/13/2014 12:04',\n",
       " '10/13/2014 12:01',\n",
       " '10/13/2014 12:04',\n",
       " '10/13/2014 12:05',\n",
       " '10/13/2014 12:04',\n",
       " '10/13/2014 11:55',\n",
       " '10/13/2014 12:02',\n",
       " '10/13/2014 12:39',\n",
       " '10/13/2014 12:39',\n",
       " '10/13/2014 12:05',\n",
       " '10/13/2014 12:39',\n",
       " '10/13/2014 12:19',\n",
       " '10/13/2014 12:40',\n",
       " '10/13/2014 12:20',\n",
       " '10/13/2014 14:28',\n",
       " '10/13/2014 12:10',\n",
       " '10/13/2014 12:13',\n",
       " '10/13/2014 12:13',\n",
       " '10/13/2014 12:16',\n",
       " '10/13/2014 12:45',\n",
       " '10/13/2014 19:07',\n",
       " '10/13/2014 12:16',\n",
       " '10/13/2014 12:25',\n",
       " '10/13/2014 12:20',\n",
       " '10/13/2014 12:31',\n",
       " '10/13/2014 12:31',\n",
       " '10/13/2014 12:31',\n",
       " '10/13/2014 12:22',\n",
       " '10/13/2014 12:21',\n",
       " '10/13/2014 12:34',\n",
       " '10/13/2014 12:31',\n",
       " '10/13/2014 12:26',\n",
       " '10/13/2014 12:32',\n",
       " '10/13/2014 12:57',\n",
       " '10/13/2014 12:57',\n",
       " '10/13/2014 12:36',\n",
       " '10/13/2014 12:40',\n",
       " '10/13/2014 12:40',\n",
       " '10/13/2014 12:47',\n",
       " '10/13/2014 12:46',\n",
       " '10/13/2014 12:45',\n",
       " '10/13/2014 12:48',\n",
       " '10/13/2014 12:47',\n",
       " '10/13/2014 12:51',\n",
       " '10/13/2014 12:58',\n",
       " '10/13/2014 12:52',\n",
       " '10/13/2014 12:58',\n",
       " '10/13/2014 12:59',\n",
       " '10/13/2014 13:15',\n",
       " '10/13/2014 13:04',\n",
       " '10/13/2014 13:18',\n",
       " '10/13/2014 13:16',\n",
       " '10/13/2014 13:13',\n",
       " '10/13/2014 13:10',\n",
       " '10/13/2014 13:12',\n",
       " '10/13/2014 13:16',\n",
       " '10/13/2014 13:14',\n",
       " '10/13/2014 13:30',\n",
       " '10/13/2014 13:22',\n",
       " '10/13/2014 13:22',\n",
       " '10/13/2014 13:15',\n",
       " '10/13/2014 13:09',\n",
       " '10/13/2014 13:18',\n",
       " '10/13/2014 13:27',\n",
       " '10/13/2014 13:24',\n",
       " '10/13/2014 13:21',\n",
       " '10/13/2014 13:30',\n",
       " '10/13/2014 13:33',\n",
       " '10/13/2014 13:33',\n",
       " '10/13/2014 13:33',\n",
       " '10/13/2014 13:42',\n",
       " '10/13/2014 13:42',\n",
       " '10/13/2014 13:42',\n",
       " '10/13/2014 12:47',\n",
       " '10/13/2014 12:49',\n",
       " '10/13/2014 13:44',\n",
       " '10/13/2014 14:29',\n",
       " '10/13/2014 13:52',\n",
       " '10/13/2014 14:22',\n",
       " '10/13/2014 13:45',\n",
       " '10/13/2014 13:55',\n",
       " '10/13/2014 13:56',\n",
       " '10/13/2014 14:03',\n",
       " '10/13/2014 13:52',\n",
       " '10/13/2014 14:09',\n",
       " '10/13/2014 14:09',\n",
       " '10/13/2014 13:49',\n",
       " '10/13/2014 14:09',\n",
       " '10/13/2014 13:56',\n",
       " '10/13/2014 13:59',\n",
       " '10/13/2014 14:08',\n",
       " '10/13/2014 14:05',\n",
       " '10/13/2014 14:12',\n",
       " '10/13/2014 14:07',\n",
       " '10/13/2014 14:35',\n",
       " '10/13/2014 14:35',\n",
       " '10/13/2014 14:07',\n",
       " '10/13/2014 14:11',\n",
       " '10/13/2014 14:12',\n",
       " '10/13/2014 14:35',\n",
       " '10/13/2014 14:18',\n",
       " '10/13/2014 14:18',\n",
       " '10/13/2014 14:18',\n",
       " '10/13/2014 14:18',\n",
       " '10/13/2014 14:39',\n",
       " '10/13/2014 14:39',\n",
       " '10/13/2014 14:16',\n",
       " '10/13/2014 14:39',\n",
       " '10/13/2014 14:39',\n",
       " '10/13/2014 15:08',\n",
       " '10/13/2014 14:38',\n",
       " '10/13/2014 14:38',\n",
       " '10/13/2014 14:20',\n",
       " '10/13/2014 14:24',\n",
       " '10/13/2014 14:38',\n",
       " '10/13/2014 14:26',\n",
       " '10/13/2014 14:34',\n",
       " '10/13/2014 14:34',\n",
       " '10/13/2014 14:31',\n",
       " '10/13/2014 14:26',\n",
       " '10/13/2014 14:29',\n",
       " '10/13/2014 14:48',\n",
       " '10/13/2014 14:48',\n",
       " '10/13/2014 14:51',\n",
       " '10/13/2014 14:37',\n",
       " '10/13/2014 14:33',\n",
       " '10/13/2014 14:34',\n",
       " '10/13/2014 14:31',\n",
       " '10/13/2014 14:30',\n",
       " '10/13/2014 14:49',\n",
       " '10/13/2014 14:40',\n",
       " '10/13/2014 14:56',\n",
       " '10/13/2014 14:56',\n",
       " '10/13/2014 14:39',\n",
       " '10/13/2014 14:49',\n",
       " '10/13/2014 14:56',\n",
       " '10/13/2014 14:55',\n",
       " '10/13/2014 14:56',\n",
       " '10/13/2014 14:56',\n",
       " '10/13/2014 15:01',\n",
       " '10/13/2014 14:54',\n",
       " '10/13/2014 14:56',\n",
       " '10/13/2014 14:56',\n",
       " '10/13/2014 15:09',\n",
       " '10/13/2014 15:10',\n",
       " '10/13/2014 17:59',\n",
       " '10/13/2014 15:02',\n",
       " '10/13/2014 15:13',\n",
       " '10/13/2014 15:10',\n",
       " '10/13/2014 15:16',\n",
       " '10/13/2014 15:11',\n",
       " '10/13/2014 15:11',\n",
       " '10/13/2014 15:23',\n",
       " '10/13/2014 15:23',\n",
       " '10/13/2014 15:25',\n",
       " '10/13/2014 15:53',\n",
       " '10/13/2014 15:47',\n",
       " '10/13/2014 15:20',\n",
       " '10/13/2014 15:53',\n",
       " '10/13/2014 15:57',\n",
       " '10/13/2014 17:16',\n",
       " '10/13/2014 15:27',\n",
       " '10/13/2014 15:36',\n",
       " '10/13/2014 15:50',\n",
       " '10/13/2014 15:48',\n",
       " '10/13/2014 15:37',\n",
       " '10/13/2014 15:47',\n",
       " '10/13/2014 15:48',\n",
       " '10/13/2014 15:48',\n",
       " '10/13/2014 15:57',\n",
       " '10/13/2014 15:59',\n",
       " '10/13/2014 16:05',\n",
       " '10/13/2014 16:08',\n",
       " '10/13/2014 16:07',\n",
       " '10/13/2014 15:57',\n",
       " '10/13/2014 16:00',\n",
       " '10/13/2014 16:16',\n",
       " '10/13/2014 17:08',\n",
       " '10/13/2014 16:22',\n",
       " '10/13/2014 16:10',\n",
       " '10/13/2014 16:10',\n",
       " '10/13/2014 16:05',\n",
       " '10/13/2014 16:05',\n",
       " '10/13/2014 16:13',\n",
       " '10/13/2014 16:20',\n",
       " '10/13/2014 16:10',\n",
       " '10/13/2014 16:15',\n",
       " '10/13/2014 16:15',\n",
       " '10/13/2014 16:30',\n",
       " '10/13/2014 16:19',\n",
       " '10/13/2014 16:28',\n",
       " '10/13/2014 16:24',\n",
       " '10/13/2014 16:47',\n",
       " '10/13/2014 16:46',\n",
       " '10/13/2014 16:22',\n",
       " '10/13/2014 16:24',\n",
       " '10/13/2014 16:22',\n",
       " '10/13/2014 16:42',\n",
       " '10/13/2014 16:37',\n",
       " '10/13/2014 16:37',\n",
       " '10/13/2014 16:47',\n",
       " '10/13/2014 16:32',\n",
       " '10/13/2014 16:47',\n",
       " '10/13/2014 16:48',\n",
       " '10/13/2014 16:40',\n",
       " '10/13/2014 16:33',\n",
       " '10/13/2014 16:33',\n",
       " '10/13/2014 16:39',\n",
       " '10/13/2014 16:42',\n",
       " '10/13/2014 16:51',\n",
       " '10/13/2014 16:51',\n",
       " '10/13/2014 16:45',\n",
       " '10/13/2014 16:48',\n",
       " '10/13/2014 16:50',\n",
       " '10/13/2014 16:58',\n",
       " '10/13/2014 17:11',\n",
       " '10/13/2014 17:14',\n",
       " '10/13/2014 16:54',\n",
       " '10/13/2014 17:14',\n",
       " '10/13/2014 17:14',\n",
       " '10/13/2014 17:03',\n",
       " '10/13/2014 17:07',\n",
       " '10/13/2014 17:14',\n",
       " '10/13/2014 17:19',\n",
       " '10/13/2014 17:01',\n",
       " '10/13/2014 17:12',\n",
       " '10/13/2014 17:16',\n",
       " '10/13/2014 17:10',\n",
       " '10/13/2014 17:19',\n",
       " '10/13/2014 17:20',\n",
       " '10/13/2014 17:19',\n",
       " '10/13/2014 17:19',\n",
       " '10/13/2014 17:16',\n",
       " '10/13/2014 17:07',\n",
       " '10/13/2014 17:21',\n",
       " '10/13/2014 17:20',\n",
       " '10/13/2014 17:18',\n",
       " '10/13/2014 17:20',\n",
       " '10/13/2014 17:15',\n",
       " '10/13/2014 17:15',\n",
       " '10/13/2014 17:27',\n",
       " '10/13/2014 17:20',\n",
       " '10/13/2014 17:25',\n",
       " '10/13/2014 17:23',\n",
       " '10/13/2014 17:32',\n",
       " '10/13/2014 17:31',\n",
       " '10/13/2014 17:30',\n",
       " '10/13/2014 17:39',\n",
       " '10/13/2014 17:43',\n",
       " '10/13/2014 17:52',\n",
       " '10/13/2014 17:52',\n",
       " '10/13/2014 17:32',\n",
       " '10/13/2014 17:52',\n",
       " '10/13/2014 18:09',\n",
       " '10/13/2014 17:52',\n",
       " '10/13/2014 17:53',\n",
       " '10/13/2014 17:47',\n",
       " '10/13/2014 17:47',\n",
       " '10/13/2014 17:47',\n",
       " '10/13/2014 17:48',\n",
       " '10/13/2014 17:55',\n",
       " '10/13/2014 17:58',\n",
       " '10/13/2014 17:51',\n",
       " '10/13/2014 17:44',\n",
       " '10/13/2014 17:55',\n",
       " '10/13/2014 17:49',\n",
       " '10/13/2014 18:06',\n",
       " '10/13/2014 17:52',\n",
       " '10/13/2014 17:58',\n",
       " '10/13/2014 17:49',\n",
       " '10/13/2014 18:00',\n",
       " '10/13/2014 18:02',\n",
       " '10/13/2014 18:11',\n",
       " '10/13/2014 18:01',\n",
       " '10/13/2014 18:03',\n",
       " '10/13/2014 18:18',\n",
       " '10/13/2014 18:03',\n",
       " '10/13/2014 19:28',\n",
       " '10/13/2014 18:27',\n",
       " '10/13/2014 18:27',\n",
       " '10/13/2014 18:07',\n",
       " '10/13/2014 18:28',\n",
       " '10/13/2014 18:19',\n",
       " '10/13/2014 18:27',\n",
       " '10/13/2014 18:08',\n",
       " '10/13/2014 18:15',\n",
       " '10/13/2014 18:11',\n",
       " '10/13/2014 18:16',\n",
       " '10/13/2014 18:13',\n",
       " '10/13/2014 18:13',\n",
       " '10/13/2014 18:34',\n",
       " '10/13/2014 18:19',\n",
       " '10/13/2014 18:30',\n",
       " '10/13/2014 18:35',\n",
       " '10/13/2014 18:28',\n",
       " '10/13/2014 18:31',\n",
       " '10/13/2014 18:30',\n",
       " '10/13/2014 18:43',\n",
       " '10/13/2014 18:32',\n",
       " '10/13/2014 18:44',\n",
       " '10/13/2014 18:44',\n",
       " '10/13/2014 18:33',\n",
       " '10/13/2014 18:46',\n",
       " '10/13/2014 18:46',\n",
       " '10/13/2014 18:38',\n",
       " '10/13/2014 18:46',\n",
       " '10/13/2014 18:46',\n",
       " '10/13/2014 18:38',\n",
       " '10/13/2014 18:43',\n",
       " '10/13/2014 18:43',\n",
       " '10/13/2014 18:54',\n",
       " '10/13/2014 18:49',\n",
       " '10/13/2014 18:54',\n",
       " '10/13/2014 19:10',\n",
       " '10/13/2014 19:47',\n",
       " '10/13/2014 19:48',\n",
       " '10/13/2014 18:53',\n",
       " '10/13/2014 19:05',\n",
       " '10/13/2014 18:54',\n",
       " '10/13/2014 19:05',\n",
       " '10/13/2014 19:19',\n",
       " '10/13/2014 19:47',\n",
       " '10/13/2014 19:46',\n",
       " '10/13/2014 19:39',\n",
       " '10/13/2014 19:39',\n",
       " '10/13/2014 19:47',\n",
       " '10/13/2014 19:46',\n",
       " '10/13/2014 19:56',\n",
       " '10/13/2014 19:45',\n",
       " '10/13/2014 20:12',\n",
       " '10/13/2014 20:15',\n",
       " '10/13/2014 20:14',\n",
       " '10/13/2014 20:08',\n",
       " '10/13/2014 20:22',\n",
       " '10/13/2014 20:19',\n",
       " '10/13/2014 20:28',\n",
       " '10/13/2014 20:33',\n",
       " '10/13/2014 21:24',\n",
       " '10/13/2014 20:52',\n",
       " '10/13/2014 20:38',\n",
       " '10/13/2014 20:52',\n",
       " '10/13/2014 20:57',\n",
       " '10/13/2014 20:49',\n",
       " '10/13/2014 21:18',\n",
       " '10/13/2014 21:26',\n",
       " '10/13/2014 21:11',\n",
       " '10/13/2014 21:21',\n",
       " '10/13/2014 21:20',\n",
       " '10/13/2014 21:39',\n",
       " '10/13/2014 21:28',\n",
       " '10/13/2014 21:41',\n",
       " '10/13/2014 21:54',\n",
       " '10/13/2014 21:59',\n",
       " '10/13/2014 21:57',\n",
       " '10/13/2014 22:05',\n",
       " '10/13/2014 22:08',\n",
       " '10/13/2014 22:22',\n",
       " '10/13/2014 22:32',\n",
       " '10/13/2014 23:17',\n",
       " '10/13/2014 23:15',\n",
       " '10/14/2014 6:52',\n",
       " '10/14/2014 5:57',\n",
       " '10/14/2014 6:14',\n",
       " '10/14/2014 6:36',\n",
       " '10/14/2014 6:42',\n",
       " '10/14/2014 6:50',\n",
       " '10/14/2014 6:50',\n",
       " '10/14/2014 7:21',\n",
       " '10/14/2014 7:28',\n",
       " '10/14/2014 7:29',\n",
       " '10/14/2014 7:36',\n",
       " '10/14/2014 7:34',\n",
       " '10/14/2014 7:34',\n",
       " '10/14/2014 7:39',\n",
       " '10/14/2014 7:50',\n",
       " '10/14/2014 7:50',\n",
       " '10/14/2014 7:48',\n",
       " '10/14/2014 7:45',\n",
       " '10/14/2014 7:48',\n",
       " '10/14/2014 7:58',\n",
       " '10/14/2014 8:00',\n",
       " '10/14/2014 7:50',\n",
       " '10/14/2014 7:55',\n",
       " '10/14/2014 8:05',\n",
       " '10/14/2014 8:01',\n",
       " '10/14/2014 8:18',\n",
       " '10/14/2014 8:03',\n",
       " '10/14/2014 8:14',\n",
       " '10/14/2014 8:06',\n",
       " '10/14/2014 8:06',\n",
       " '10/14/2014 8:09',\n",
       " '10/14/2014 8:12',\n",
       " '10/14/2014 8:16',\n",
       " '10/14/2014 8:11',\n",
       " '10/14/2014 8:09',\n",
       " '10/14/2014 8:14',\n",
       " '10/14/2014 8:19',\n",
       " '10/14/2014 8:37',\n",
       " '10/14/2014 8:19',\n",
       " '10/14/2014 10:11',\n",
       " '10/14/2014 8:17',\n",
       " '10/14/2014 8:29',\n",
       " '10/14/2014 8:26',\n",
       " '10/14/2014 8:30',\n",
       " '10/14/2014 8:41',\n",
       " '10/14/2014 8:31',\n",
       " '10/14/2014 8:33',\n",
       " '10/14/2014 8:33',\n",
       " '10/14/2014 8:38',\n",
       " '10/14/2014 8:44',\n",
       " '10/14/2014 8:39',\n",
       " '10/14/2014 8:54',\n",
       " '10/14/2014 8:46',\n",
       " '10/14/2014 8:45',\n",
       " '10/14/2014 8:48',\n",
       " '10/14/2014 9:00',\n",
       " '10/14/2014 9:14',\n",
       " '10/14/2014 8:50',\n",
       " '10/14/2014 8:59',\n",
       " '10/14/2014 8:54',\n",
       " '10/14/2014 9:17',\n",
       " '10/14/2014 9:26',\n",
       " '10/14/2014 9:04',\n",
       " '10/14/2014 9:02',\n",
       " '10/14/2014 9:18',\n",
       " '10/14/2014 9:10',\n",
       " '10/14/2014 9:17',\n",
       " '10/14/2014 13:20',\n",
       " '10/14/2014 9:26',\n",
       " '10/14/2014 9:20',\n",
       " '10/14/2014 9:30',\n",
       " '10/14/2014 9:37',\n",
       " '10/14/2014 9:32',\n",
       " '10/14/2014 9:38',\n",
       " '10/14/2014 9:41',\n",
       " '10/14/2014 9:40',\n",
       " '10/14/2014 9:45',\n",
       " '10/14/2014 9:40',\n",
       " '10/14/2014 10:15',\n",
       " '10/14/2014 10:15',\n",
       " '10/14/2014 9:44',\n",
       " '10/14/2014 9:54',\n",
       " '10/14/2014 11:59',\n",
       " '10/14/2014 9:54',\n",
       " '10/14/2014 10:00',\n",
       " '10/14/2014 10:10',\n",
       " '10/14/2014 10:05',\n",
       " '10/14/2014 10:01',\n",
       " '10/14/2014 10:08',\n",
       " '10/14/2014 10:09',\n",
       " '10/14/2014 10:27',\n",
       " '10/14/2014 10:08',\n",
       " '10/14/2014 10:17',\n",
       " '10/14/2014 10:10',\n",
       " '10/14/2014 10:30',\n",
       " '10/14/2014 10:30',\n",
       " '10/14/2014 10:23',\n",
       " '10/14/2014 10:24',\n",
       " '10/14/2014 10:34',\n",
       " '10/14/2014 10:53',\n",
       " '10/14/2014 10:53',\n",
       " '10/14/2014 10:51',\n",
       " '10/14/2014 10:48',\n",
       " '10/14/2014 10:53',\n",
       " '10/14/2014 17:19',\n",
       " '10/14/2014 11:01',\n",
       " '10/14/2014 11:01',\n",
       " '10/14/2014 11:07',\n",
       " '10/14/2014 11:27',\n",
       " '10/14/2014 11:25',\n",
       " '10/14/2014 11:13',\n",
       " '10/14/2014 11:13',\n",
       " '10/14/2014 11:17',\n",
       " '10/14/2014 11:18',\n",
       " '10/14/2014 11:18',\n",
       " '10/14/2014 11:20',\n",
       " '10/14/2014 11:27',\n",
       " '10/14/2014 11:27',\n",
       " '10/14/2014 11:27',\n",
       " '10/14/2014 11:32',\n",
       " '10/14/2014 11:26',\n",
       " '10/14/2014 11:35',\n",
       " '10/14/2014 12:16',\n",
       " '10/14/2014 12:16',\n",
       " '10/14/2014 11:38',\n",
       " '10/14/2014 11:43',\n",
       " '10/14/2014 11:43',\n",
       " '10/14/2014 11:43',\n",
       " '10/14/2014 11:54',\n",
       " '10/14/2014 11:54',\n",
       " '10/14/2014 11:54',\n",
       " '10/14/2014 11:54',\n",
       " '10/14/2014 11:49',\n",
       " '10/14/2014 11:55',\n",
       " '10/14/2014 11:54',\n",
       " '10/14/2014 11:57',\n",
       " '10/14/2014 11:56',\n",
       " '10/14/2014 12:02',\n",
       " '10/14/2014 12:06',\n",
       " '10/14/2014 11:56',\n",
       " '10/14/2014 12:11',\n",
       " '10/14/2014 14:11',\n",
       " '10/14/2014 14:11',\n",
       " '10/14/2014 12:11',\n",
       " '10/14/2014 12:11',\n",
       " '10/14/2014 11:58',\n",
       " '10/14/2014 12:11',\n",
       " '10/14/2014 12:00',\n",
       " '10/14/2014 12:26',\n",
       " '10/14/2014 12:13',\n",
       " '10/14/2014 12:11',\n",
       " '10/14/2014 12:11',\n",
       " '10/14/2014 12:11',\n",
       " '10/14/2014 12:10',\n",
       " '10/14/2014 12:11',\n",
       " '10/14/2014 12:17',\n",
       " '10/14/2014 12:21',\n",
       " '10/14/2014 12:54',\n",
       " '10/14/2014 12:45',\n",
       " '10/14/2014 13:17',\n",
       " '10/14/2014 12:21',\n",
       " '10/14/2014 12:26',\n",
       " '10/14/2014 12:44',\n",
       " '10/14/2014 12:29',\n",
       " '10/14/2014 12:30',\n",
       " '10/14/2014 12:29',\n",
       " '10/14/2014 12:37',\n",
       " '10/14/2014 12:54',\n",
       " '10/14/2014 12:38',\n",
       " '10/14/2014 12:54',\n",
       " '10/14/2014 12:35',\n",
       " '10/14/2014 12:41',\n",
       " '10/14/2014 12:34',\n",
       " '10/14/2014 12:46',\n",
       " '10/14/2014 12:49',\n",
       " '10/14/2014 13:09',\n",
       " '10/14/2014 12:40',\n",
       " '10/14/2014 12:44',\n",
       " '10/14/2014 13:09',\n",
       " '10/14/2014 12:52',\n",
       " '10/14/2014 12:55',\n",
       " '10/14/2014 12:58',\n",
       " '10/14/2014 12:58',\n",
       " '10/14/2014 12:55',\n",
       " '10/14/2014 12:54',\n",
       " '10/14/2014 12:58',\n",
       " '10/14/2014 13:02',\n",
       " '10/14/2014 13:01',\n",
       " '10/14/2014 12:59',\n",
       " '10/14/2014 12:59',\n",
       " '10/14/2014 13:10',\n",
       " '10/14/2014 13:11',\n",
       " '10/14/2014 13:01',\n",
       " '10/14/2014 13:10',\n",
       " '10/14/2014 14:05',\n",
       " '10/14/2014 13:09',\n",
       " '10/14/2014 13:31',\n",
       " '10/14/2014 13:22',\n",
       " '10/14/2014 13:38',\n",
       " '10/14/2014 13:10',\n",
       " '10/14/2014 13:20',\n",
       " '10/14/2014 13:10',\n",
       " '10/14/2014 13:10',\n",
       " '10/14/2014 13:16',\n",
       " '10/14/2014 13:17',\n",
       " '10/14/2014 13:19',\n",
       " '10/14/2014 13:17',\n",
       " '10/14/2014 13:27',\n",
       " '10/14/2014 13:30',\n",
       " '10/14/2014 13:29',\n",
       " '10/14/2014 13:23',\n",
       " '10/14/2014 13:26',\n",
       " '10/14/2014 13:30',\n",
       " '10/14/2014 13:30',\n",
       " '10/14/2014 13:26',\n",
       " '10/14/2014 13:26',\n",
       " '10/14/2014 13:25',\n",
       " '10/14/2014 13:30',\n",
       " '10/14/2014 13:25',\n",
       " '10/14/2014 13:38',\n",
       " '10/14/2014 13:42',\n",
       " '10/14/2014 13:33',\n",
       " '10/14/2014 13:29',\n",
       " '10/14/2014 13:39',\n",
       " '10/14/2014 14:15',\n",
       " '10/14/2014 13:43',\n",
       " '10/14/2014 13:41',\n",
       " '10/14/2014 13:40',\n",
       " '10/14/2014 13:43',\n",
       " '10/14/2014 13:43',\n",
       " '10/14/2014 15:52',\n",
       " '10/14/2014 13:42',\n",
       " '10/14/2014 13:56',\n",
       " '10/14/2014 13:53',\n",
       " '10/14/2014 13:41',\n",
       " '10/14/2014 13:53',\n",
       " '10/14/2014 13:55',\n",
       " '10/14/2014 13:51',\n",
       " '10/14/2014 14:10',\n",
       " '10/14/2014 13:43',\n",
       " '10/14/2014 13:44',\n",
       " '10/14/2014 13:54',\n",
       " '10/14/2014 13:54',\n",
       " '10/14/2014 13:56',\n",
       " '10/14/2014 14:27',\n",
       " '10/14/2014 14:09',\n",
       " '10/14/2014 14:30',\n",
       " '10/14/2014 14:29',\n",
       " '10/14/2014 14:10',\n",
       " '10/14/2014 14:38',\n",
       " '10/14/2014 14:18',\n",
       " '10/14/2014 14:38',\n",
       " '10/14/2014 14:16',\n",
       " '10/14/2014 14:22',\n",
       " '10/14/2014 14:26',\n",
       " '10/14/2014 14:32',\n",
       " '10/14/2014 15:51',\n",
       " '10/14/2014 14:22',\n",
       " '10/14/2014 14:35',\n",
       " '10/14/2014 14:40',\n",
       " '10/14/2014 14:31',\n",
       " '10/14/2014 14:36',\n",
       " '10/14/2014 14:38',\n",
       " '10/14/2014 14:52',\n",
       " '10/14/2014 14:54',\n",
       " '10/14/2014 14:52',\n",
       " '10/14/2014 15:01',\n",
       " '10/14/2014 15:00',\n",
       " '10/14/2014 15:09',\n",
       " '10/14/2014 15:09',\n",
       " '10/14/2014 14:57',\n",
       " '10/14/2014 14:57',\n",
       " '10/14/2014 15:03',\n",
       " '10/14/2014 15:06',\n",
       " '10/14/2014 15:10',\n",
       " '10/14/2014 15:17',\n",
       " '10/14/2014 15:17',\n",
       " '10/14/2014 15:20',\n",
       " '10/14/2014 15:21',\n",
       " '10/14/2014 15:32',\n",
       " '10/14/2014 15:42',\n",
       " '10/14/2014 15:42',\n",
       " '10/14/2014 15:34',\n",
       " '10/14/2014 15:46',\n",
       " '10/14/2014 15:45',\n",
       " '10/14/2014 15:47',\n",
       " '10/14/2014 15:52',\n",
       " '10/14/2014 15:46',\n",
       " '10/14/2014 15:46',\n",
       " '10/14/2014 15:48',\n",
       " '10/14/2014 16:23',\n",
       " '10/14/2014 15:49',\n",
       " '10/14/2014 15:48',\n",
       " '10/14/2014 15:48',\n",
       " '10/14/2014 16:50',\n",
       " '10/14/2014 16:00',\n",
       " '10/14/2014 16:25',\n",
       " '10/14/2014 18:40',\n",
       " '10/14/2014 16:24',\n",
       " '10/14/2014 16:25',\n",
       " '10/14/2014 16:00',\n",
       " '10/14/2014 16:25',\n",
       " '10/14/2014 16:25',\n",
       " '10/14/2014 15:57',\n",
       " '10/14/2014 16:09',\n",
       " '10/14/2014 16:25',\n",
       " '10/14/2014 16:21',\n",
       " '10/14/2014 16:21',\n",
       " '10/14/2014 16:27',\n",
       " '10/14/2014 16:08',\n",
       " '10/14/2014 16:14',\n",
       " '10/14/2014 16:17',\n",
       " '10/14/2014 16:16',\n",
       " '10/14/2014 17:54',\n",
       " '10/14/2014 16:20',\n",
       " '10/14/2014 16:41',\n",
       " '10/14/2014 16:41',\n",
       " '10/14/2014 16:26',\n",
       " '10/14/2014 16:47',\n",
       " '10/14/2014 16:39',\n",
       " '10/14/2014 16:49',\n",
       " '10/14/2014 16:40',\n",
       " '10/14/2014 16:43',\n",
       " '10/14/2014 16:46',\n",
       " '10/14/2014 16:51',\n",
       " '10/14/2014 16:52',\n",
       " '10/14/2014 16:50',\n",
       " '10/14/2014 16:50',\n",
       " '10/14/2014 17:07',\n",
       " '10/14/2014 17:18',\n",
       " '10/14/2014 17:04',\n",
       " '10/14/2014 17:01',\n",
       " '10/14/2014 17:03',\n",
       " '10/14/2014 16:58',\n",
       " '10/14/2014 17:09',\n",
       " '10/14/2014 17:08',\n",
       " '10/14/2014 17:12',\n",
       " '10/14/2014 17:11',\n",
       " '10/14/2014 17:13',\n",
       " '10/14/2014 17:07',\n",
       " '10/14/2014 17:14',\n",
       " '10/14/2014 17:21',\n",
       " '10/14/2014 17:56',\n",
       " '10/14/2014 17:25',\n",
       " '10/14/2014 17:24',\n",
       " '10/14/2014 17:18',\n",
       " '10/14/2014 17:33',\n",
       " '10/14/2014 17:26',\n",
       " '10/14/2014 17:22',\n",
       " '10/14/2014 17:34',\n",
       " '10/14/2014 17:32',\n",
       " '10/14/2014 18:55',\n",
       " '10/14/2014 17:29',\n",
       " '10/14/2014 17:24',\n",
       " '10/14/2014 17:32',\n",
       " '10/14/2014 17:30',\n",
       " '10/14/2014 17:42',\n",
       " '10/14/2014 17:41',\n",
       " '10/14/2014 17:36',\n",
       " '10/14/2014 17:37',\n",
       " '10/14/2014 17:45',\n",
       " '10/14/2014 17:49',\n",
       " '10/14/2014 17:45',\n",
       " '10/14/2014 17:44',\n",
       " '10/14/2014 17:54',\n",
       " '10/14/2014 17:51',\n",
       " '10/14/2014 17:52',\n",
       " '10/14/2014 17:47',\n",
       " '10/14/2014 17:56',\n",
       " '10/14/2014 17:48',\n",
       " '10/14/2014 17:56',\n",
       " '10/14/2014 17:56',\n",
       " '10/14/2014 17:54',\n",
       " '10/14/2014 17:54',\n",
       " '10/14/2014 18:07',\n",
       " '10/14/2014 18:10',\n",
       " '10/14/2014 18:07',\n",
       " '10/14/2014 18:02',\n",
       " '10/14/2014 18:09',\n",
       " '10/14/2014 18:04',\n",
       " '10/14/2014 18:02',\n",
       " '10/14/2014 19:03',\n",
       " '10/14/2014 18:36',\n",
       " '10/14/2014 18:06',\n",
       " '10/14/2014 18:06',\n",
       " '10/14/2014 18:09',\n",
       " '10/14/2014 18:14',\n",
       " '10/14/2014 19:04',\n",
       " '10/14/2014 19:03',\n",
       " '10/14/2014 18:10',\n",
       " '10/14/2014 18:47',\n",
       " '10/14/2014 18:24',\n",
       " '10/14/2014 18:35',\n",
       " '10/14/2014 18:35',\n",
       " '10/14/2014 18:27',\n",
       " '10/14/2014 18:27',\n",
       " '10/14/2014 18:28',\n",
       " '10/14/2014 18:26',\n",
       " '10/14/2014 18:30',\n",
       " '10/14/2014 18:29',\n",
       " '10/14/2014 18:32',\n",
       " '10/14/2014 18:35',\n",
       " '10/14/2014 18:37',\n",
       " '10/14/2014 18:30',\n",
       " '10/14/2014 18:35',\n",
       " '10/14/2014 18:29',\n",
       " '10/14/2014 18:39',\n",
       " '10/14/2014 18:34',\n",
       " '10/14/2014 18:53',\n",
       " '10/14/2014 18:44',\n",
       " '10/14/2014 18:41',\n",
       " '10/14/2014 18:40',\n",
       " '10/14/2014 19:09',\n",
       " '10/14/2014 18:45',\n",
       " '10/14/2014 18:51',\n",
       " '10/14/2014 18:49',\n",
       " '10/14/2014 18:52',\n",
       " '10/14/2014 18:53',\n",
       " '10/14/2014 18:55',\n",
       " '10/14/2014 18:55',\n",
       " '10/14/2014 19:02',\n",
       " '10/14/2014 18:59',\n",
       " '10/14/2014 18:59',\n",
       " '10/14/2014 18:59',\n",
       " '10/14/2014 19:03',\n",
       " '10/14/2014 19:07',\n",
       " '10/14/2014 19:05',\n",
       " '10/14/2014 19:22',\n",
       " '10/14/2014 19:12',\n",
       " '10/14/2014 19:28',\n",
       " '10/14/2014 19:28',\n",
       " '10/14/2014 19:25',\n",
       " '10/14/2014 19:16',\n",
       " '10/14/2014 19:36',\n",
       " '10/14/2014 19:24',\n",
       " '10/14/2014 19:29',\n",
       " '10/14/2014 19:47',\n",
       " '10/14/2014 19:44',\n",
       " '10/14/2014 19:44',\n",
       " '10/14/2014 19:48',\n",
       " '10/14/2014 19:48',\n",
       " '10/14/2014 19:42',\n",
       " '10/14/2014 19:45',\n",
       " '10/14/2014 19:55',\n",
       " '10/14/2014 19:48',\n",
       " '10/14/2014 19:51',\n",
       " '10/14/2014 20:26',\n",
       " '10/14/2014 20:26',\n",
       " '10/14/2014 19:51',\n",
       " '10/14/2014 19:53',\n",
       " '10/14/2014 21:27',\n",
       " '10/14/2014 21:37',\n",
       " '10/14/2014 21:26',\n",
       " '10/14/2014 20:11',\n",
       " '10/14/2014 20:36',\n",
       " '10/14/2014 20:17',\n",
       " '10/14/2014 20:36',\n",
       " '10/14/2014 20:36',\n",
       " '10/14/2014 20:14',\n",
       " '10/14/2014 20:22',\n",
       " '10/14/2014 20:22',\n",
       " '10/14/2014 20:42',\n",
       " '10/14/2014 20:32',\n",
       " '10/14/2014 20:49',\n",
       " '10/14/2014 21:39',\n",
       " '10/14/2014 20:57',\n",
       " '10/14/2014 21:01',\n",
       " '10/14/2014 21:02',\n",
       " '10/14/2014 21:04',\n",
       " '10/14/2014 21:04',\n",
       " '10/14/2014 21:08',\n",
       " '10/14/2014 21:06',\n",
       " '10/14/2014 21:16',\n",
       " '10/14/2014 21:23',\n",
       " '10/14/2014 21:19',\n",
       " '10/14/2014 22:46',\n",
       " '10/14/2014 21:26',\n",
       " '10/14/2014 21:26',\n",
       " '10/14/2014 21:33',\n",
       " '10/14/2014 21:43',\n",
       " '10/14/2014 21:46',\n",
       " '10/14/2014 21:48',\n",
       " '10/14/2014 22:02',\n",
       " '10/14/2014 22:16',\n",
       " '10/14/2014 22:30',\n",
       " '10/14/2014 22:30',\n",
       " '10/15/2014 4:29',\n",
       " '10/15/2014 4:29',\n",
       " '10/14/2014 22:50',\n",
       " '10/14/2014 22:55',\n",
       " '10/14/2014 23:20',\n",
       " '10/15/2014 0:01',\n",
       " '10/15/2014 0:18',\n",
       " '10/15/2014 0:22',\n",
       " '10/15/2014 0:53',\n",
       " '10/15/2014 1:13',\n",
       " '10/15/2014 1:59',\n",
       " '10/15/2014 2:12',\n",
       " '10/15/2014 6:16',\n",
       " '10/15/2014 6:20',\n",
       " '10/15/2014 6:47',\n",
       " '10/15/2014 6:40',\n",
       " '10/15/2014 6:44',\n",
       " '10/15/2014 6:39',\n",
       " '10/15/2014 6:47',\n",
       " '10/15/2014 7:03',\n",
       " '10/15/2014 7:21',\n",
       " '10/15/2014 7:24',\n",
       " '10/15/2014 7:22',\n",
       " '10/15/2014 7:44',\n",
       " '10/15/2014 7:49',\n",
       " '10/15/2014 7:52',\n",
       " '10/15/2014 8:01',\n",
       " '10/15/2014 8:02',\n",
       " '10/15/2014 8:15',\n",
       " '10/15/2014 8:16',\n",
       " '10/15/2014 8:13',\n",
       " '10/15/2014 8:18',\n",
       " '10/15/2014 8:19',\n",
       " '10/15/2014 8:38',\n",
       " '10/15/2014 8:35',\n",
       " '10/15/2014 8:35',\n",
       " '10/15/2014 8:47',\n",
       " '10/15/2014 8:36',\n",
       " '10/15/2014 8:52',\n",
       " '10/15/2014 8:56',\n",
       " '10/15/2014 9:16',\n",
       " '10/15/2014 9:16',\n",
       " '10/15/2014 9:09',\n",
       " '10/15/2014 9:14',\n",
       " '10/15/2014 9:26',\n",
       " '10/15/2014 9:19',\n",
       " '10/15/2014 9:23',\n",
       " '10/15/2014 9:28',\n",
       " '10/15/2014 9:31',\n",
       " '10/15/2014 9:34',\n",
       " '10/15/2014 9:27',\n",
       " '10/15/2014 9:39',\n",
       " '10/15/2014 9:29',\n",
       " '10/15/2014 9:37',\n",
       " '10/15/2014 9:30',\n",
       " '10/15/2014 9:39',\n",
       " '10/15/2014 9:57',\n",
       " '10/15/2014 9:54',\n",
       " '10/15/2014 10:01',\n",
       " '10/15/2014 9:57',\n",
       " '10/15/2014 9:58',\n",
       " '10/15/2014 10:09',\n",
       " '10/15/2014 10:15',\n",
       " '10/15/2014 10:22',\n",
       " '10/15/2014 10:08',\n",
       " '10/15/2014 10:13',\n",
       " '10/15/2014 10:15',\n",
       " '10/15/2014 10:41',\n",
       " '10/15/2014 10:28',\n",
       " '10/15/2014 10:33',\n",
       " '10/15/2014 10:38',\n",
       " '10/15/2014 10:34',\n",
       " '10/15/2014 10:42',\n",
       " '10/15/2014 10:37',\n",
       " '10/15/2014 11:06',\n",
       " '10/15/2014 11:06',\n",
       " '10/15/2014 10:49',\n",
       " '10/15/2014 10:52',\n",
       " '10/15/2014 10:53',\n",
       " '10/15/2014 11:11',\n",
       " '10/15/2014 11:03',\n",
       " '10/15/2014 11:05',\n",
       " '10/15/2014 11:03',\n",
       " '10/15/2014 11:03',\n",
       " '10/15/2014 11:05',\n",
       " '10/15/2014 11:07',\n",
       " '10/15/2014 11:24',\n",
       " '10/15/2014 11:29',\n",
       " '10/15/2014 11:32',\n",
       " '10/15/2014 11:21',\n",
       " '10/15/2014 11:42',\n",
       " '10/15/2014 11:34',\n",
       " '10/15/2014 11:42',\n",
       " '10/15/2014 11:53',\n",
       " '10/15/2014 11:44',\n",
       " '10/15/2014 12:01',\n",
       " '10/15/2014 11:52',\n",
       " '10/15/2014 12:05',\n",
       " '10/15/2014 12:05',\n",
       " '10/15/2014 12:40',\n",
       " '10/15/2014 12:40',\n",
       " '10/15/2014 12:52',\n",
       " '10/15/2014 12:34',\n",
       " '10/15/2014 12:32',\n",
       " '10/15/2014 12:38',\n",
       " '10/15/2014 12:53',\n",
       " ...]"
      ]
     },
     "execution_count": 44,
     "metadata": {},
     "output_type": "execute_result"
    }
   ],
   "source": [
    "df_small.tolist()"
   ]
  },
  {
   "cell_type": "markdown",
   "metadata": {},
   "source": [
    "Mathematical operations on columns happen *element-wise*:"
   ]
  },
  {
   "cell_type": "code",
   "execution_count": 45,
   "metadata": {},
   "outputs": [
    {
     "data": {
      "text/plain": [
       "0    0.273871\n",
       "1    0.257326\n",
       "Name: tripduration, dtype: float64"
      ]
     },
     "execution_count": 45,
     "metadata": {},
     "output_type": "execute_result"
    }
   ],
   "source": [
    "trip_duration_hours = df['tripduration']/3600\n",
    "trip_duration_hours[:2]"
   ]
  },
  {
   "cell_type": "code",
   "execution_count": 46,
   "metadata": {},
   "outputs": [
    {
     "data": {
      "text/plain": [
       "0    0.273871\n",
       "1    0.257326\n",
       "2    0.245509\n",
       "3    0.240538\n",
       "4    0.256645\n",
       "Name: tripduration, dtype: float64"
      ]
     },
     "execution_count": 46,
     "metadata": {},
     "output_type": "execute_result"
    }
   ],
   "source": [
    "trip_duration_hours.head()"
   ]
  },
  {
   "cell_type": "code",
   "execution_count": 47,
   "metadata": {},
   "outputs": [],
   "source": [
    "df['trip_duration_hours'] = df['tripduration']/3600"
   ]
  },
  {
   "cell_type": "code",
   "execution_count": 48,
   "metadata": {},
   "outputs": [
    {
     "data": {
      "text/html": [
       "<div>\n",
       "<style scoped>\n",
       "    .dataframe tbody tr th:only-of-type {\n",
       "        vertical-align: middle;\n",
       "    }\n",
       "\n",
       "    .dataframe tbody tr th {\n",
       "        vertical-align: top;\n",
       "    }\n",
       "\n",
       "    .dataframe thead th {\n",
       "        text-align: right;\n",
       "    }\n",
       "</style>\n",
       "<table border=\"1\" class=\"dataframe\">\n",
       "  <thead>\n",
       "    <tr style=\"text-align: right;\">\n",
       "      <th></th>\n",
       "      <th>trip_id</th>\n",
       "      <th>starttime</th>\n",
       "      <th>stoptime</th>\n",
       "      <th>bikeid</th>\n",
       "      <th>tripduration</th>\n",
       "      <th>from_station_name</th>\n",
       "      <th>to_station_name</th>\n",
       "      <th>from_station_id</th>\n",
       "      <th>to_station_id</th>\n",
       "      <th>usertype</th>\n",
       "      <th>gender</th>\n",
       "      <th>birthyear</th>\n",
       "      <th>trip_duration_hours</th>\n",
       "    </tr>\n",
       "  </thead>\n",
       "  <tbody>\n",
       "    <tr>\n",
       "      <th>0</th>\n",
       "      <td>431</td>\n",
       "      <td>10/13/2014 10:31</td>\n",
       "      <td>10/13/2014 10:48</td>\n",
       "      <td>SEA00298</td>\n",
       "      <td>985.935</td>\n",
       "      <td>2nd Ave &amp; Spring St</td>\n",
       "      <td>Occidental Park / Occidental Ave S &amp; S Washing...</td>\n",
       "      <td>CBD-06</td>\n",
       "      <td>PS-04</td>\n",
       "      <td>Annual Member</td>\n",
       "      <td>Male</td>\n",
       "      <td>1960.0</td>\n",
       "      <td>0.273871</td>\n",
       "    </tr>\n",
       "    <tr>\n",
       "      <th>1</th>\n",
       "      <td>432</td>\n",
       "      <td>10/13/2014 10:32</td>\n",
       "      <td>10/13/2014 10:48</td>\n",
       "      <td>SEA00195</td>\n",
       "      <td>926.375</td>\n",
       "      <td>2nd Ave &amp; Spring St</td>\n",
       "      <td>Occidental Park / Occidental Ave S &amp; S Washing...</td>\n",
       "      <td>CBD-06</td>\n",
       "      <td>PS-04</td>\n",
       "      <td>Annual Member</td>\n",
       "      <td>Male</td>\n",
       "      <td>1970.0</td>\n",
       "      <td>0.257326</td>\n",
       "    </tr>\n",
       "    <tr>\n",
       "      <th>2</th>\n",
       "      <td>433</td>\n",
       "      <td>10/13/2014 10:33</td>\n",
       "      <td>10/13/2014 10:48</td>\n",
       "      <td>SEA00486</td>\n",
       "      <td>883.831</td>\n",
       "      <td>2nd Ave &amp; Spring St</td>\n",
       "      <td>Occidental Park / Occidental Ave S &amp; S Washing...</td>\n",
       "      <td>CBD-06</td>\n",
       "      <td>PS-04</td>\n",
       "      <td>Annual Member</td>\n",
       "      <td>Female</td>\n",
       "      <td>1988.0</td>\n",
       "      <td>0.245509</td>\n",
       "    </tr>\n",
       "    <tr>\n",
       "      <th>3</th>\n",
       "      <td>434</td>\n",
       "      <td>10/13/2014 10:34</td>\n",
       "      <td>10/13/2014 10:48</td>\n",
       "      <td>SEA00333</td>\n",
       "      <td>865.937</td>\n",
       "      <td>2nd Ave &amp; Spring St</td>\n",
       "      <td>Occidental Park / Occidental Ave S &amp; S Washing...</td>\n",
       "      <td>CBD-06</td>\n",
       "      <td>PS-04</td>\n",
       "      <td>Annual Member</td>\n",
       "      <td>Female</td>\n",
       "      <td>1977.0</td>\n",
       "      <td>0.240538</td>\n",
       "    </tr>\n",
       "    <tr>\n",
       "      <th>4</th>\n",
       "      <td>435</td>\n",
       "      <td>10/13/2014 10:34</td>\n",
       "      <td>10/13/2014 10:49</td>\n",
       "      <td>SEA00202</td>\n",
       "      <td>923.923</td>\n",
       "      <td>2nd Ave &amp; Spring St</td>\n",
       "      <td>Occidental Park / Occidental Ave S &amp; S Washing...</td>\n",
       "      <td>CBD-06</td>\n",
       "      <td>PS-04</td>\n",
       "      <td>Annual Member</td>\n",
       "      <td>Male</td>\n",
       "      <td>1971.0</td>\n",
       "      <td>0.256645</td>\n",
       "    </tr>\n",
       "  </tbody>\n",
       "</table>\n",
       "</div>"
      ],
      "text/plain": [
       "   trip_id         starttime          stoptime    bikeid  tripduration  \\\n",
       "0      431  10/13/2014 10:31  10/13/2014 10:48  SEA00298       985.935   \n",
       "1      432  10/13/2014 10:32  10/13/2014 10:48  SEA00195       926.375   \n",
       "2      433  10/13/2014 10:33  10/13/2014 10:48  SEA00486       883.831   \n",
       "3      434  10/13/2014 10:34  10/13/2014 10:48  SEA00333       865.937   \n",
       "4      435  10/13/2014 10:34  10/13/2014 10:49  SEA00202       923.923   \n",
       "\n",
       "     from_station_name                                    to_station_name  \\\n",
       "0  2nd Ave & Spring St  Occidental Park / Occidental Ave S & S Washing...   \n",
       "1  2nd Ave & Spring St  Occidental Park / Occidental Ave S & S Washing...   \n",
       "2  2nd Ave & Spring St  Occidental Park / Occidental Ave S & S Washing...   \n",
       "3  2nd Ave & Spring St  Occidental Park / Occidental Ave S & S Washing...   \n",
       "4  2nd Ave & Spring St  Occidental Park / Occidental Ave S & S Washing...   \n",
       "\n",
       "  from_station_id to_station_id       usertype  gender  birthyear  \\\n",
       "0          CBD-06         PS-04  Annual Member    Male     1960.0   \n",
       "1          CBD-06         PS-04  Annual Member    Male     1970.0   \n",
       "2          CBD-06         PS-04  Annual Member  Female     1988.0   \n",
       "3          CBD-06         PS-04  Annual Member  Female     1977.0   \n",
       "4          CBD-06         PS-04  Annual Member    Male     1971.0   \n",
       "\n",
       "   trip_duration_hours  \n",
       "0             0.273871  \n",
       "1             0.257326  \n",
       "2             0.245509  \n",
       "3             0.240538  \n",
       "4             0.256645  "
      ]
     },
     "execution_count": 48,
     "metadata": {},
     "output_type": "execute_result"
    }
   ],
   "source": [
    "df.head()"
   ]
  },
  {
   "cell_type": "code",
   "execution_count": 49,
   "metadata": {},
   "outputs": [],
   "source": [
    "del df['trip_duration_hours']"
   ]
  },
  {
   "cell_type": "code",
   "execution_count": 50,
   "metadata": {},
   "outputs": [
    {
     "data": {
      "text/html": [
       "<div>\n",
       "<style scoped>\n",
       "    .dataframe tbody tr th:only-of-type {\n",
       "        vertical-align: middle;\n",
       "    }\n",
       "\n",
       "    .dataframe tbody tr th {\n",
       "        vertical-align: top;\n",
       "    }\n",
       "\n",
       "    .dataframe thead th {\n",
       "        text-align: right;\n",
       "    }\n",
       "</style>\n",
       "<table border=\"1\" class=\"dataframe\">\n",
       "  <thead>\n",
       "    <tr style=\"text-align: right;\">\n",
       "      <th></th>\n",
       "      <th>trip_id</th>\n",
       "      <th>starttime</th>\n",
       "      <th>stoptime</th>\n",
       "      <th>bikeid</th>\n",
       "      <th>tripduration</th>\n",
       "      <th>from_station_name</th>\n",
       "      <th>to_station_name</th>\n",
       "      <th>from_station_id</th>\n",
       "      <th>to_station_id</th>\n",
       "      <th>usertype</th>\n",
       "      <th>gender</th>\n",
       "      <th>birthyear</th>\n",
       "    </tr>\n",
       "  </thead>\n",
       "  <tbody>\n",
       "    <tr>\n",
       "      <th>0</th>\n",
       "      <td>431</td>\n",
       "      <td>10/13/2014 10:31</td>\n",
       "      <td>10/13/2014 10:48</td>\n",
       "      <td>SEA00298</td>\n",
       "      <td>985.935</td>\n",
       "      <td>2nd Ave &amp; Spring St</td>\n",
       "      <td>Occidental Park / Occidental Ave S &amp; S Washing...</td>\n",
       "      <td>CBD-06</td>\n",
       "      <td>PS-04</td>\n",
       "      <td>Annual Member</td>\n",
       "      <td>Male</td>\n",
       "      <td>1960.0</td>\n",
       "    </tr>\n",
       "    <tr>\n",
       "      <th>1</th>\n",
       "      <td>432</td>\n",
       "      <td>10/13/2014 10:32</td>\n",
       "      <td>10/13/2014 10:48</td>\n",
       "      <td>SEA00195</td>\n",
       "      <td>926.375</td>\n",
       "      <td>2nd Ave &amp; Spring St</td>\n",
       "      <td>Occidental Park / Occidental Ave S &amp; S Washing...</td>\n",
       "      <td>CBD-06</td>\n",
       "      <td>PS-04</td>\n",
       "      <td>Annual Member</td>\n",
       "      <td>Male</td>\n",
       "      <td>1970.0</td>\n",
       "    </tr>\n",
       "    <tr>\n",
       "      <th>2</th>\n",
       "      <td>433</td>\n",
       "      <td>10/13/2014 10:33</td>\n",
       "      <td>10/13/2014 10:48</td>\n",
       "      <td>SEA00486</td>\n",
       "      <td>883.831</td>\n",
       "      <td>2nd Ave &amp; Spring St</td>\n",
       "      <td>Occidental Park / Occidental Ave S &amp; S Washing...</td>\n",
       "      <td>CBD-06</td>\n",
       "      <td>PS-04</td>\n",
       "      <td>Annual Member</td>\n",
       "      <td>Female</td>\n",
       "      <td>1988.0</td>\n",
       "    </tr>\n",
       "    <tr>\n",
       "      <th>3</th>\n",
       "      <td>434</td>\n",
       "      <td>10/13/2014 10:34</td>\n",
       "      <td>10/13/2014 10:48</td>\n",
       "      <td>SEA00333</td>\n",
       "      <td>865.937</td>\n",
       "      <td>2nd Ave &amp; Spring St</td>\n",
       "      <td>Occidental Park / Occidental Ave S &amp; S Washing...</td>\n",
       "      <td>CBD-06</td>\n",
       "      <td>PS-04</td>\n",
       "      <td>Annual Member</td>\n",
       "      <td>Female</td>\n",
       "      <td>1977.0</td>\n",
       "    </tr>\n",
       "    <tr>\n",
       "      <th>4</th>\n",
       "      <td>435</td>\n",
       "      <td>10/13/2014 10:34</td>\n",
       "      <td>10/13/2014 10:49</td>\n",
       "      <td>SEA00202</td>\n",
       "      <td>923.923</td>\n",
       "      <td>2nd Ave &amp; Spring St</td>\n",
       "      <td>Occidental Park / Occidental Ave S &amp; S Washing...</td>\n",
       "      <td>CBD-06</td>\n",
       "      <td>PS-04</td>\n",
       "      <td>Annual Member</td>\n",
       "      <td>Male</td>\n",
       "      <td>1971.0</td>\n",
       "    </tr>\n",
       "  </tbody>\n",
       "</table>\n",
       "</div>"
      ],
      "text/plain": [
       "   trip_id         starttime          stoptime    bikeid  tripduration  \\\n",
       "0      431  10/13/2014 10:31  10/13/2014 10:48  SEA00298       985.935   \n",
       "1      432  10/13/2014 10:32  10/13/2014 10:48  SEA00195       926.375   \n",
       "2      433  10/13/2014 10:33  10/13/2014 10:48  SEA00486       883.831   \n",
       "3      434  10/13/2014 10:34  10/13/2014 10:48  SEA00333       865.937   \n",
       "4      435  10/13/2014 10:34  10/13/2014 10:49  SEA00202       923.923   \n",
       "\n",
       "     from_station_name                                    to_station_name  \\\n",
       "0  2nd Ave & Spring St  Occidental Park / Occidental Ave S & S Washing...   \n",
       "1  2nd Ave & Spring St  Occidental Park / Occidental Ave S & S Washing...   \n",
       "2  2nd Ave & Spring St  Occidental Park / Occidental Ave S & S Washing...   \n",
       "3  2nd Ave & Spring St  Occidental Park / Occidental Ave S & S Washing...   \n",
       "4  2nd Ave & Spring St  Occidental Park / Occidental Ave S & S Washing...   \n",
       "\n",
       "  from_station_id to_station_id       usertype  gender  birthyear  \n",
       "0          CBD-06         PS-04  Annual Member    Male     1960.0  \n",
       "1          CBD-06         PS-04  Annual Member    Male     1970.0  \n",
       "2          CBD-06         PS-04  Annual Member  Female     1988.0  \n",
       "3          CBD-06         PS-04  Annual Member  Female     1977.0  \n",
       "4          CBD-06         PS-04  Annual Member    Male     1971.0  "
      ]
     },
     "execution_count": 50,
     "metadata": {},
     "output_type": "execute_result"
    }
   ],
   "source": [
    "df.head()"
   ]
  },
  {
   "cell_type": "code",
   "execution_count": 51,
   "metadata": {},
   "outputs": [
    {
     "data": {
      "text/html": [
       "<div>\n",
       "<style scoped>\n",
       "    .dataframe tbody tr th:only-of-type {\n",
       "        vertical-align: middle;\n",
       "    }\n",
       "\n",
       "    .dataframe tbody tr th {\n",
       "        vertical-align: top;\n",
       "    }\n",
       "\n",
       "    .dataframe thead th {\n",
       "        text-align: right;\n",
       "    }\n",
       "</style>\n",
       "<table border=\"1\" class=\"dataframe\">\n",
       "  <thead>\n",
       "    <tr style=\"text-align: right;\">\n",
       "      <th></th>\n",
       "      <th>starttime</th>\n",
       "      <th>stoptime</th>\n",
       "    </tr>\n",
       "  </thead>\n",
       "  <tbody>\n",
       "    <tr>\n",
       "      <th>0</th>\n",
       "      <td>10/13/2014 10:31</td>\n",
       "      <td>10/13/2014 10:48</td>\n",
       "    </tr>\n",
       "    <tr>\n",
       "      <th>4</th>\n",
       "      <td>10/13/2014 10:34</td>\n",
       "      <td>10/13/2014 10:49</td>\n",
       "    </tr>\n",
       "  </tbody>\n",
       "</table>\n",
       "</div>"
      ],
      "text/plain": [
       "          starttime          stoptime\n",
       "0  10/13/2014 10:31  10/13/2014 10:48\n",
       "4  10/13/2014 10:34  10/13/2014 10:49"
      ]
     },
     "execution_count": 51,
     "metadata": {},
     "output_type": "execute_result"
    }
   ],
   "source": [
    "df.loc[[0,4],['starttime', 'stoptime']]"
   ]
  },
  {
   "cell_type": "code",
   "execution_count": 52,
   "metadata": {},
   "outputs": [
    {
     "data": {
      "text/html": [
       "<div>\n",
       "<style scoped>\n",
       "    .dataframe tbody tr th:only-of-type {\n",
       "        vertical-align: middle;\n",
       "    }\n",
       "\n",
       "    .dataframe tbody tr th {\n",
       "        vertical-align: top;\n",
       "    }\n",
       "\n",
       "    .dataframe thead th {\n",
       "        text-align: right;\n",
       "    }\n",
       "</style>\n",
       "<table border=\"1\" class=\"dataframe\">\n",
       "  <thead>\n",
       "    <tr style=\"text-align: right;\">\n",
       "      <th></th>\n",
       "      <th>trip_id</th>\n",
       "      <th>starttime</th>\n",
       "      <th>stoptime</th>\n",
       "      <th>bikeid</th>\n",
       "      <th>tripduration</th>\n",
       "      <th>from_station_name</th>\n",
       "      <th>to_station_name</th>\n",
       "      <th>from_station_id</th>\n",
       "      <th>to_station_id</th>\n",
       "      <th>usertype</th>\n",
       "      <th>gender</th>\n",
       "      <th>birthyear</th>\n",
       "    </tr>\n",
       "  </thead>\n",
       "  <tbody>\n",
       "    <tr>\n",
       "      <th>68</th>\n",
       "      <td>506</td>\n",
       "      <td>10/13/2014 12:08</td>\n",
       "      <td>10/13/2014 19:07</td>\n",
       "      <td>SEA00155</td>\n",
       "      <td>25119.114</td>\n",
       "      <td>2nd Ave &amp; Spring St</td>\n",
       "      <td>2nd Ave &amp; Vine St</td>\n",
       "      <td>CBD-06</td>\n",
       "      <td>BT-03</td>\n",
       "      <td>Annual Member</td>\n",
       "      <td>Male</td>\n",
       "      <td>1988.0</td>\n",
       "    </tr>\n",
       "    <tr>\n",
       "      <th>193</th>\n",
       "      <td>649</td>\n",
       "      <td>10/13/2014 14:54</td>\n",
       "      <td>10/13/2014 17:59</td>\n",
       "      <td>SEA00193</td>\n",
       "      <td>11144.159</td>\n",
       "      <td>NE 42nd St &amp; University Way NE</td>\n",
       "      <td>NE 42nd St &amp; University Way NE</td>\n",
       "      <td>UD-02</td>\n",
       "      <td>UD-02</td>\n",
       "      <td>Short-Term Pass Holder</td>\n",
       "      <td>NaN</td>\n",
       "      <td>NaN</td>\n",
       "    </tr>\n",
       "    <tr>\n",
       "      <th>408</th>\n",
       "      <td>908</td>\n",
       "      <td>10/13/2014 23:12</td>\n",
       "      <td>10/14/2014 6:52</td>\n",
       "      <td>SEA00230</td>\n",
       "      <td>27583.945</td>\n",
       "      <td>7th Ave &amp; Union St</td>\n",
       "      <td>2nd Ave &amp; Pine St</td>\n",
       "      <td>CBD-03</td>\n",
       "      <td>CBD-13</td>\n",
       "      <td>Short-Term Pass Holder</td>\n",
       "      <td>NaN</td>\n",
       "      <td>NaN</td>\n",
       "    </tr>\n",
       "    <tr>\n",
       "      <th>475</th>\n",
       "      <td>983</td>\n",
       "      <td>10/14/2014 9:12</td>\n",
       "      <td>10/14/2014 13:20</td>\n",
       "      <td>SEA00181</td>\n",
       "      <td>14885.176</td>\n",
       "      <td>Pier 69 / Alaskan Way &amp; Clay St</td>\n",
       "      <td>Pier 69 / Alaskan Way &amp; Clay St</td>\n",
       "      <td>WF-01</td>\n",
       "      <td>WF-01</td>\n",
       "      <td>Short-Term Pass Holder</td>\n",
       "      <td>NaN</td>\n",
       "      <td>NaN</td>\n",
       "    </tr>\n",
       "    <tr>\n",
       "      <th>512</th>\n",
       "      <td>1025</td>\n",
       "      <td>10/14/2014 10:49</td>\n",
       "      <td>10/14/2014 17:19</td>\n",
       "      <td>SEA00244</td>\n",
       "      <td>23346.911</td>\n",
       "      <td>E Pine St &amp; 16th Ave</td>\n",
       "      <td>PATH / 9th Ave &amp; Westlake Ave</td>\n",
       "      <td>CH-07</td>\n",
       "      <td>SLU-07</td>\n",
       "      <td>Annual Member</td>\n",
       "      <td>Male</td>\n",
       "      <td>1986.0</td>\n",
       "    </tr>\n",
       "  </tbody>\n",
       "</table>\n",
       "</div>"
      ],
      "text/plain": [
       "     trip_id         starttime          stoptime    bikeid  tripduration  \\\n",
       "68       506  10/13/2014 12:08  10/13/2014 19:07  SEA00155     25119.114   \n",
       "193      649  10/13/2014 14:54  10/13/2014 17:59  SEA00193     11144.159   \n",
       "408      908  10/13/2014 23:12   10/14/2014 6:52  SEA00230     27583.945   \n",
       "475      983   10/14/2014 9:12  10/14/2014 13:20  SEA00181     14885.176   \n",
       "512     1025  10/14/2014 10:49  10/14/2014 17:19  SEA00244     23346.911   \n",
       "\n",
       "                   from_station_name                  to_station_name  \\\n",
       "68               2nd Ave & Spring St                2nd Ave & Vine St   \n",
       "193   NE 42nd St & University Way NE   NE 42nd St & University Way NE   \n",
       "408               7th Ave & Union St                2nd Ave & Pine St   \n",
       "475  Pier 69 / Alaskan Way & Clay St  Pier 69 / Alaskan Way & Clay St   \n",
       "512             E Pine St & 16th Ave    PATH / 9th Ave & Westlake Ave   \n",
       "\n",
       "    from_station_id to_station_id                usertype gender  birthyear  \n",
       "68           CBD-06         BT-03           Annual Member   Male     1988.0  \n",
       "193           UD-02         UD-02  Short-Term Pass Holder    NaN        NaN  \n",
       "408          CBD-03        CBD-13  Short-Term Pass Holder    NaN        NaN  \n",
       "475           WF-01         WF-01  Short-Term Pass Holder    NaN        NaN  \n",
       "512           CH-07        SLU-07           Annual Member   Male     1986.0  "
      ]
     },
     "execution_count": 52,
     "metadata": {},
     "output_type": "execute_result"
    }
   ],
   "source": [
    "df_long_trips = df[df['tripduration'] > 10000]\n",
    "df_long_trips.head()"
   ]
  },
  {
   "cell_type": "code",
   "execution_count": 53,
   "metadata": {},
   "outputs": [
    {
     "data": {
      "text/plain": [
       "0         False\n",
       "1         False\n",
       "2         False\n",
       "3         False\n",
       "4         False\n",
       "          ...  \n",
       "142841    False\n",
       "142842    False\n",
       "142843    False\n",
       "142844    False\n",
       "142845    False\n",
       "Name: tripduration, Length: 142846, dtype: bool"
      ]
     },
     "execution_count": 53,
     "metadata": {},
     "output_type": "execute_result"
    }
   ],
   "source": [
    "sel = df['tripduration'] > 10000\n",
    "sel"
   ]
  },
  {
   "cell_type": "code",
   "execution_count": 54,
   "metadata": {},
   "outputs": [],
   "source": [
    "df_long_trips = df[sel]"
   ]
  },
  {
   "cell_type": "code",
   "execution_count": 55,
   "metadata": {},
   "outputs": [
    {
     "data": {
      "text/html": [
       "<div>\n",
       "<style scoped>\n",
       "    .dataframe tbody tr th:only-of-type {\n",
       "        vertical-align: middle;\n",
       "    }\n",
       "\n",
       "    .dataframe tbody tr th {\n",
       "        vertical-align: top;\n",
       "    }\n",
       "\n",
       "    .dataframe thead th {\n",
       "        text-align: right;\n",
       "    }\n",
       "</style>\n",
       "<table border=\"1\" class=\"dataframe\">\n",
       "  <thead>\n",
       "    <tr style=\"text-align: right;\">\n",
       "      <th></th>\n",
       "      <th>trip_id</th>\n",
       "      <th>starttime</th>\n",
       "      <th>stoptime</th>\n",
       "      <th>bikeid</th>\n",
       "      <th>tripduration</th>\n",
       "      <th>from_station_name</th>\n",
       "      <th>to_station_name</th>\n",
       "      <th>from_station_id</th>\n",
       "      <th>to_station_id</th>\n",
       "      <th>usertype</th>\n",
       "      <th>gender</th>\n",
       "      <th>birthyear</th>\n",
       "    </tr>\n",
       "  </thead>\n",
       "  <tbody>\n",
       "    <tr>\n",
       "      <th>68</th>\n",
       "      <td>506</td>\n",
       "      <td>10/13/2014 12:08</td>\n",
       "      <td>10/13/2014 19:07</td>\n",
       "      <td>SEA00155</td>\n",
       "      <td>25119.114</td>\n",
       "      <td>2nd Ave &amp; Spring St</td>\n",
       "      <td>2nd Ave &amp; Vine St</td>\n",
       "      <td>CBD-06</td>\n",
       "      <td>BT-03</td>\n",
       "      <td>Annual Member</td>\n",
       "      <td>Male</td>\n",
       "      <td>1988.0</td>\n",
       "    </tr>\n",
       "    <tr>\n",
       "      <th>193</th>\n",
       "      <td>649</td>\n",
       "      <td>10/13/2014 14:54</td>\n",
       "      <td>10/13/2014 17:59</td>\n",
       "      <td>SEA00193</td>\n",
       "      <td>11144.159</td>\n",
       "      <td>NE 42nd St &amp; University Way NE</td>\n",
       "      <td>NE 42nd St &amp; University Way NE</td>\n",
       "      <td>UD-02</td>\n",
       "      <td>UD-02</td>\n",
       "      <td>Short-Term Pass Holder</td>\n",
       "      <td>NaN</td>\n",
       "      <td>NaN</td>\n",
       "    </tr>\n",
       "    <tr>\n",
       "      <th>408</th>\n",
       "      <td>908</td>\n",
       "      <td>10/13/2014 23:12</td>\n",
       "      <td>10/14/2014 6:52</td>\n",
       "      <td>SEA00230</td>\n",
       "      <td>27583.945</td>\n",
       "      <td>7th Ave &amp; Union St</td>\n",
       "      <td>2nd Ave &amp; Pine St</td>\n",
       "      <td>CBD-03</td>\n",
       "      <td>CBD-13</td>\n",
       "      <td>Short-Term Pass Holder</td>\n",
       "      <td>NaN</td>\n",
       "      <td>NaN</td>\n",
       "    </tr>\n",
       "    <tr>\n",
       "      <th>475</th>\n",
       "      <td>983</td>\n",
       "      <td>10/14/2014 9:12</td>\n",
       "      <td>10/14/2014 13:20</td>\n",
       "      <td>SEA00181</td>\n",
       "      <td>14885.176</td>\n",
       "      <td>Pier 69 / Alaskan Way &amp; Clay St</td>\n",
       "      <td>Pier 69 / Alaskan Way &amp; Clay St</td>\n",
       "      <td>WF-01</td>\n",
       "      <td>WF-01</td>\n",
       "      <td>Short-Term Pass Holder</td>\n",
       "      <td>NaN</td>\n",
       "      <td>NaN</td>\n",
       "    </tr>\n",
       "    <tr>\n",
       "      <th>512</th>\n",
       "      <td>1025</td>\n",
       "      <td>10/14/2014 10:49</td>\n",
       "      <td>10/14/2014 17:19</td>\n",
       "      <td>SEA00244</td>\n",
       "      <td>23346.911</td>\n",
       "      <td>E Pine St &amp; 16th Ave</td>\n",
       "      <td>PATH / 9th Ave &amp; Westlake Ave</td>\n",
       "      <td>CH-07</td>\n",
       "      <td>SLU-07</td>\n",
       "      <td>Annual Member</td>\n",
       "      <td>Male</td>\n",
       "      <td>1986.0</td>\n",
       "    </tr>\n",
       "    <tr>\n",
       "      <th>...</th>\n",
       "      <td>...</td>\n",
       "      <td>...</td>\n",
       "      <td>...</td>\n",
       "      <td>...</td>\n",
       "      <td>...</td>\n",
       "      <td>...</td>\n",
       "      <td>...</td>\n",
       "      <td>...</td>\n",
       "      <td>...</td>\n",
       "      <td>...</td>\n",
       "      <td>...</td>\n",
       "      <td>...</td>\n",
       "    </tr>\n",
       "    <tr>\n",
       "      <th>142194</th>\n",
       "      <td>156098</td>\n",
       "      <td>10/11/2015 10:17</td>\n",
       "      <td>10/11/2015 14:16</td>\n",
       "      <td>SEA00329</td>\n",
       "      <td>14307.313</td>\n",
       "      <td>Pier 69 / Alaskan Way &amp; Clay St</td>\n",
       "      <td>Pier 69 / Alaskan Way &amp; Clay St</td>\n",
       "      <td>WF-01</td>\n",
       "      <td>WF-01</td>\n",
       "      <td>Short-Term Pass Holder</td>\n",
       "      <td>NaN</td>\n",
       "      <td>NaN</td>\n",
       "    </tr>\n",
       "    <tr>\n",
       "      <th>142290</th>\n",
       "      <td>156212</td>\n",
       "      <td>10/11/2015 13:39</td>\n",
       "      <td>10/11/2015 17:13</td>\n",
       "      <td>SEA00100</td>\n",
       "      <td>12871.344</td>\n",
       "      <td>12th Ave &amp; E Mercer St</td>\n",
       "      <td>12th Ave &amp; E Mercer St</td>\n",
       "      <td>CH-15</td>\n",
       "      <td>CH-15</td>\n",
       "      <td>Short-Term Pass Holder</td>\n",
       "      <td>NaN</td>\n",
       "      <td>NaN</td>\n",
       "    </tr>\n",
       "    <tr>\n",
       "      <th>142340</th>\n",
       "      <td>156265</td>\n",
       "      <td>10/11/2015 15:01</td>\n",
       "      <td>10/11/2015 19:33</td>\n",
       "      <td>SEA00287</td>\n",
       "      <td>16296.593</td>\n",
       "      <td>Burke-Gilman Trail / NE Blakeley St &amp; 24th Ave NE</td>\n",
       "      <td>Burke-Gilman Trail / NE Blakeley St &amp; 24th Ave NE</td>\n",
       "      <td>UD-01</td>\n",
       "      <td>UD-01</td>\n",
       "      <td>Short-Term Pass Holder</td>\n",
       "      <td>NaN</td>\n",
       "      <td>NaN</td>\n",
       "    </tr>\n",
       "    <tr>\n",
       "      <th>142341</th>\n",
       "      <td>156266</td>\n",
       "      <td>10/11/2015 15:01</td>\n",
       "      <td>10/11/2015 19:33</td>\n",
       "      <td>SEA00407</td>\n",
       "      <td>16277.801</td>\n",
       "      <td>Burke-Gilman Trail / NE Blakeley St &amp; 24th Ave NE</td>\n",
       "      <td>Burke-Gilman Trail / NE Blakeley St &amp; 24th Ave NE</td>\n",
       "      <td>UD-01</td>\n",
       "      <td>UD-01</td>\n",
       "      <td>Short-Term Pass Holder</td>\n",
       "      <td>NaN</td>\n",
       "      <td>NaN</td>\n",
       "    </tr>\n",
       "    <tr>\n",
       "      <th>142344</th>\n",
       "      <td>156269</td>\n",
       "      <td>10/11/2015 15:04</td>\n",
       "      <td>10/11/2015 21:15</td>\n",
       "      <td>SEA00217</td>\n",
       "      <td>22266.594</td>\n",
       "      <td>Lake Union Park / Valley St &amp; Boren Ave N</td>\n",
       "      <td>3rd Ave &amp; Broad St</td>\n",
       "      <td>SLU-17</td>\n",
       "      <td>BT-01</td>\n",
       "      <td>Short-Term Pass Holder</td>\n",
       "      <td>NaN</td>\n",
       "      <td>NaN</td>\n",
       "    </tr>\n",
       "  </tbody>\n",
       "</table>\n",
       "<p>1853 rows × 12 columns</p>\n",
       "</div>"
      ],
      "text/plain": [
       "        trip_id         starttime          stoptime    bikeid  tripduration  \\\n",
       "68          506  10/13/2014 12:08  10/13/2014 19:07  SEA00155     25119.114   \n",
       "193         649  10/13/2014 14:54  10/13/2014 17:59  SEA00193     11144.159   \n",
       "408         908  10/13/2014 23:12   10/14/2014 6:52  SEA00230     27583.945   \n",
       "475         983   10/14/2014 9:12  10/14/2014 13:20  SEA00181     14885.176   \n",
       "512        1025  10/14/2014 10:49  10/14/2014 17:19  SEA00244     23346.911   \n",
       "...         ...               ...               ...       ...           ...   \n",
       "142194   156098  10/11/2015 10:17  10/11/2015 14:16  SEA00329     14307.313   \n",
       "142290   156212  10/11/2015 13:39  10/11/2015 17:13  SEA00100     12871.344   \n",
       "142340   156265  10/11/2015 15:01  10/11/2015 19:33  SEA00287     16296.593   \n",
       "142341   156266  10/11/2015 15:01  10/11/2015 19:33  SEA00407     16277.801   \n",
       "142344   156269  10/11/2015 15:04  10/11/2015 21:15  SEA00217     22266.594   \n",
       "\n",
       "                                        from_station_name  \\\n",
       "68                                    2nd Ave & Spring St   \n",
       "193                        NE 42nd St & University Way NE   \n",
       "408                                    7th Ave & Union St   \n",
       "475                       Pier 69 / Alaskan Way & Clay St   \n",
       "512                                  E Pine St & 16th Ave   \n",
       "...                                                   ...   \n",
       "142194                    Pier 69 / Alaskan Way & Clay St   \n",
       "142290                             12th Ave & E Mercer St   \n",
       "142340  Burke-Gilman Trail / NE Blakeley St & 24th Ave NE   \n",
       "142341  Burke-Gilman Trail / NE Blakeley St & 24th Ave NE   \n",
       "142344          Lake Union Park / Valley St & Boren Ave N   \n",
       "\n",
       "                                          to_station_name from_station_id  \\\n",
       "68                                      2nd Ave & Vine St          CBD-06   \n",
       "193                        NE 42nd St & University Way NE           UD-02   \n",
       "408                                     2nd Ave & Pine St          CBD-03   \n",
       "475                       Pier 69 / Alaskan Way & Clay St           WF-01   \n",
       "512                         PATH / 9th Ave & Westlake Ave           CH-07   \n",
       "...                                                   ...             ...   \n",
       "142194                    Pier 69 / Alaskan Way & Clay St           WF-01   \n",
       "142290                             12th Ave & E Mercer St           CH-15   \n",
       "142340  Burke-Gilman Trail / NE Blakeley St & 24th Ave NE           UD-01   \n",
       "142341  Burke-Gilman Trail / NE Blakeley St & 24th Ave NE           UD-01   \n",
       "142344                                 3rd Ave & Broad St          SLU-17   \n",
       "\n",
       "       to_station_id                usertype gender  birthyear  \n",
       "68             BT-03           Annual Member   Male     1988.0  \n",
       "193            UD-02  Short-Term Pass Holder    NaN        NaN  \n",
       "408           CBD-13  Short-Term Pass Holder    NaN        NaN  \n",
       "475            WF-01  Short-Term Pass Holder    NaN        NaN  \n",
       "512           SLU-07           Annual Member   Male     1986.0  \n",
       "...              ...                     ...    ...        ...  \n",
       "142194         WF-01  Short-Term Pass Holder    NaN        NaN  \n",
       "142290         CH-15  Short-Term Pass Holder    NaN        NaN  \n",
       "142340         UD-01  Short-Term Pass Holder    NaN        NaN  \n",
       "142341         UD-01  Short-Term Pass Holder    NaN        NaN  \n",
       "142344         BT-01  Short-Term Pass Holder    NaN        NaN  \n",
       "\n",
       "[1853 rows x 12 columns]"
      ]
     },
     "execution_count": 55,
     "metadata": {},
     "output_type": "execute_result"
    }
   ],
   "source": [
    "df_long_trips"
   ]
  },
  {
   "cell_type": "code",
   "execution_count": 56,
   "metadata": {},
   "outputs": [
    {
     "data": {
      "text/plain": [
       "(1853, 12)"
      ]
     },
     "execution_count": 56,
     "metadata": {},
     "output_type": "execute_result"
    }
   ],
   "source": [
    "df[sel].shape"
   ]
  },
  {
   "cell_type": "markdown",
   "metadata": {},
   "source": [
    "Columns can be created (or overwritten) with the assignment operator.\n",
    "Let's create a *tripminutes* column with the number of minutes for each trip"
   ]
  },
  {
   "cell_type": "code",
   "execution_count": 57,
   "metadata": {},
   "outputs": [],
   "source": [
    "df['tripminutes'] = df['tripduration']/60"
   ]
  },
  {
   "cell_type": "markdown",
   "metadata": {},
   "source": [
    "More complicated mathematical operations can be done with tools in the ``numpy`` package:"
   ]
  },
  {
   "cell_type": "markdown",
   "metadata": {},
   "source": [
    "### Working with Times"
   ]
  },
  {
   "cell_type": "markdown",
   "metadata": {},
   "source": [
    "One trick to know when working with columns of times is that Pandas ``DateTimeIndex`` provides a nice interface for working with columns of times.\n",
    "\n",
    "For a dataset of this size, using ``pd.to_datetime`` and specifying the date format can make things much faster (from the [strftime reference](http://strftime.org/), we see that the pronto data has format ``\"%m/%d/%Y %I:%M:%S %p\"``"
   ]
  },
  {
   "cell_type": "markdown",
   "metadata": {},
   "source": [
    "(Note: you can also use ``infer_datetime_format=True`` in most cases to automatically infer the correct format, though due to a bug it doesn't work when AM/PM are present)"
   ]
  },
  {
   "cell_type": "markdown",
   "metadata": {},
   "source": [
    "With it, we can extract, the hour of the day, the day of the week, the month, and a wide range of other views of the time:"
   ]
  },
  {
   "cell_type": "code",
   "execution_count": 58,
   "metadata": {},
   "outputs": [],
   "source": [
    "datetime_series = pd.to_datetime(df['starttime'])\n",
    "df['hour'] = datetime_series.dt.hour\n",
    "df['dayofweek'] = datetime_series.dt.weekday\n",
    "df['month'] = datetime_series.dt.month"
   ]
  },
  {
   "cell_type": "markdown",
   "metadata": {},
   "source": [
    "### Simple Grouping of Data\n",
    "\n",
    "The real power of Pandas comes in its tools for grouping and aggregating data. Here we'll look at *value counts* and the basics of *group-by* operations."
   ]
  },
  {
   "cell_type": "markdown",
   "metadata": {},
   "source": [
    "#### Value Counts"
   ]
  },
  {
   "cell_type": "markdown",
   "metadata": {},
   "source": [
    "Pandas includes an array of useful functionality for manipulating and analyzing tabular data.\n",
    "We'll take a look at two of these here."
   ]
  },
  {
   "cell_type": "markdown",
   "metadata": {},
   "source": [
    "The ``pandas.value_counts`` returns statistics on the unique values within each column.\n",
    "\n",
    "We can use it, for example, to break down rides by gender:"
   ]
  },
  {
   "cell_type": "code",
   "execution_count": 59,
   "metadata": {},
   "outputs": [
    {
     "data": {
      "text/plain": [
       "gender\n",
       "Male      67608\n",
       "Female    18245\n",
       "Other      1507\n",
       "Name: count, dtype: int64"
      ]
     },
     "execution_count": 59,
     "metadata": {},
     "output_type": "execute_result"
    }
   ],
   "source": [
    "df[\"gender\"].value_counts()"
   ]
  },
  {
   "cell_type": "markdown",
   "metadata": {},
   "source": [
    "Or to break down rides by age:"
   ]
  },
  {
   "cell_type": "code",
   "execution_count": 60,
   "metadata": {},
   "outputs": [
    {
     "data": {
      "text/plain": [
       "birthyear\n",
       "37.0    9320\n",
       "39.0    5370\n",
       "43.0    4779\n",
       "42.0    4629\n",
       "36.0    4188\n",
       "41.0    3965\n",
       "40.0    3815\n",
       "34.0    3605\n",
       "38.0    3492\n",
       "33.0    2912\n",
       "35.0    2755\n",
       "47.0    2465\n",
       "44.0    2236\n",
       "46.0    2063\n",
       "45.0    1976\n",
       "49.0    1969\n",
       "52.0    1921\n",
       "32.0    1798\n",
       "62.0    1769\n",
       "48.0    1577\n",
       "59.0    1510\n",
       "50.0    1497\n",
       "60.0    1374\n",
       "57.0    1354\n",
       "53.0    1279\n",
       "55.0    1185\n",
       "31.0    1126\n",
       "56.0    1085\n",
       "51.0    1076\n",
       "54.0    1056\n",
       "63.0     875\n",
       "61.0     828\n",
       "58.0     761\n",
       "65.0     696\n",
       "74.0     657\n",
       "30.0     549\n",
       "68.0     481\n",
       "64.0     429\n",
       "29.0     412\n",
       "69.0     397\n",
       "71.0     337\n",
       "73.0     251\n",
       "77.0     244\n",
       "67.0     224\n",
       "72.0     204\n",
       "66.0     160\n",
       "75.0     154\n",
       "70.0     152\n",
       "28.0     121\n",
       "79.0     115\n",
       "78.0      39\n",
       "76.0      34\n",
       "26.0      25\n",
       "85.0      23\n",
       "27.0      21\n",
       "81.0      11\n",
       "88.0       6\n",
       "25.0       5\n",
       "82.0       2\n",
       "80.0       1\n",
       "Name: count, dtype: int64"
      ]
     },
     "execution_count": 60,
     "metadata": {},
     "output_type": "execute_result"
    }
   ],
   "source": [
    "(2024 - df[\"birthyear\"]).value_counts()"
   ]
  },
  {
   "cell_type": "markdown",
   "metadata": {},
   "source": [
    "By default, the values rather than the index are sorted. Use ``sort=False`` to turn this behavior off:"
   ]
  },
  {
   "cell_type": "code",
   "execution_count": 61,
   "metadata": {},
   "outputs": [
    {
     "data": {
      "text/plain": [
       "birthyear\n",
       "1960.0     429\n",
       "1970.0    1056\n",
       "1988.0    4188\n",
       "1977.0    2465\n",
       "1971.0    1279\n",
       "1974.0    1497\n",
       "1978.0    2063\n",
       "1983.0    3965\n",
       "1958.0     160\n",
       "1982.0    4629\n",
       "1984.0    3815\n",
       "1955.0     397\n",
       "1953.0     337\n",
       "1959.0     696\n",
       "1950.0     657\n",
       "1976.0    1577\n",
       "1986.0    3492\n",
       "1967.0    1354\n",
       "1987.0    9320\n",
       "1969.0    1185\n",
       "1973.0    1076\n",
       "1989.0    2755\n",
       "1946.0      39\n",
       "1956.0     481\n",
       "1951.0     251\n",
       "1981.0    4779\n",
       "1979.0    1976\n",
       "1972.0    1921\n",
       "1990.0    3605\n",
       "1968.0    1085\n",
       "1964.0    1374\n",
       "1952.0     204\n",
       "1975.0    1969\n",
       "1949.0     154\n",
       "1991.0    2912\n",
       "1985.0    5370\n",
       "1963.0     828\n",
       "1980.0    2236\n",
       "1992.0    1798\n",
       "1948.0      34\n",
       "1966.0     761\n",
       "1961.0     875\n",
       "1965.0    1510\n",
       "1962.0    1769\n",
       "1954.0     152\n",
       "1994.0     549\n",
       "1957.0     224\n",
       "1945.0     115\n",
       "1947.0     244\n",
       "1993.0    1126\n",
       "1943.0      11\n",
       "1996.0     121\n",
       "1942.0       2\n",
       "1998.0      25\n",
       "1936.0       6\n",
       "1995.0     412\n",
       "1944.0       1\n",
       "1999.0       5\n",
       "1939.0      23\n",
       "1997.0      21\n",
       "Name: count, dtype: int64"
      ]
     },
     "execution_count": 61,
     "metadata": {},
     "output_type": "execute_result"
    }
   ],
   "source": [
    "df[\"birthyear\"].value_counts(sort=False)"
   ]
  },
  {
   "cell_type": "markdown",
   "metadata": {},
   "source": [
    "We can explore other things as well: day of week, hour of day, etc."
   ]
  },
  {
   "cell_type": "code",
   "execution_count": 62,
   "metadata": {},
   "outputs": [
    {
     "data": {
      "text/plain": [
       "hour\n",
       "17    14163\n",
       "16    11629\n",
       "8     10967\n",
       "18    10382\n",
       "15     9850\n",
       "9      9751\n",
       "13     9575\n",
       "12     9571\n",
       "14     9096\n",
       "11     8864\n",
       "10     7761\n",
       "19     6939\n",
       "7      6093\n",
       "20     4792\n",
       "21     3730\n",
       "22     2484\n",
       "6      1855\n",
       "23     1749\n",
       "0      1022\n",
       "5       905\n",
       "1       682\n",
       "2       478\n",
       "4       316\n",
       "3       192\n",
       "Name: count, dtype: int64"
      ]
     },
     "execution_count": 62,
     "metadata": {},
     "output_type": "execute_result"
    }
   ],
   "source": [
    "df[\"hour\"].value_counts()"
   ]
  },
  {
   "cell_type": "markdown",
   "metadata": {},
   "source": [
    "### Group-by Operation\n",
    "\n",
    "One of the killer features of the Pandas dataframe is the ability to do group-by operations.\n",
    "You can visualize the group-by like this (image borrowed from the [Python Data Science Handbook](http://shop.oreilly.com/product/0636920034919.do))"
   ]
  },
  {
   "cell_type": "code",
   "execution_count": 63,
   "metadata": {},
   "outputs": [
    {
     "data": {
      "text/html": [
       "<div>\n",
       "<style scoped>\n",
       "    .dataframe tbody tr th:only-of-type {\n",
       "        vertical-align: middle;\n",
       "    }\n",
       "\n",
       "    .dataframe tbody tr th {\n",
       "        vertical-align: top;\n",
       "    }\n",
       "\n",
       "    .dataframe thead th {\n",
       "        text-align: right;\n",
       "    }\n",
       "</style>\n",
       "<table border=\"1\" class=\"dataframe\">\n",
       "  <thead>\n",
       "    <tr style=\"text-align: right;\">\n",
       "      <th></th>\n",
       "      <th>trip_id</th>\n",
       "      <th>starttime</th>\n",
       "      <th>stoptime</th>\n",
       "      <th>bikeid</th>\n",
       "      <th>tripduration</th>\n",
       "      <th>from_station_name</th>\n",
       "      <th>to_station_name</th>\n",
       "      <th>from_station_id</th>\n",
       "      <th>to_station_id</th>\n",
       "      <th>usertype</th>\n",
       "      <th>gender</th>\n",
       "      <th>birthyear</th>\n",
       "      <th>tripminutes</th>\n",
       "      <th>hour</th>\n",
       "      <th>dayofweek</th>\n",
       "      <th>month</th>\n",
       "    </tr>\n",
       "  </thead>\n",
       "  <tbody>\n",
       "    <tr>\n",
       "      <th>0</th>\n",
       "      <td>431</td>\n",
       "      <td>10/13/2014 10:31</td>\n",
       "      <td>10/13/2014 10:48</td>\n",
       "      <td>SEA00298</td>\n",
       "      <td>985.935</td>\n",
       "      <td>2nd Ave &amp; Spring St</td>\n",
       "      <td>Occidental Park / Occidental Ave S &amp; S Washing...</td>\n",
       "      <td>CBD-06</td>\n",
       "      <td>PS-04</td>\n",
       "      <td>Annual Member</td>\n",
       "      <td>Male</td>\n",
       "      <td>1960.0</td>\n",
       "      <td>16.432250</td>\n",
       "      <td>10</td>\n",
       "      <td>0</td>\n",
       "      <td>10</td>\n",
       "    </tr>\n",
       "    <tr>\n",
       "      <th>1</th>\n",
       "      <td>432</td>\n",
       "      <td>10/13/2014 10:32</td>\n",
       "      <td>10/13/2014 10:48</td>\n",
       "      <td>SEA00195</td>\n",
       "      <td>926.375</td>\n",
       "      <td>2nd Ave &amp; Spring St</td>\n",
       "      <td>Occidental Park / Occidental Ave S &amp; S Washing...</td>\n",
       "      <td>CBD-06</td>\n",
       "      <td>PS-04</td>\n",
       "      <td>Annual Member</td>\n",
       "      <td>Male</td>\n",
       "      <td>1970.0</td>\n",
       "      <td>15.439583</td>\n",
       "      <td>10</td>\n",
       "      <td>0</td>\n",
       "      <td>10</td>\n",
       "    </tr>\n",
       "    <tr>\n",
       "      <th>2</th>\n",
       "      <td>433</td>\n",
       "      <td>10/13/2014 10:33</td>\n",
       "      <td>10/13/2014 10:48</td>\n",
       "      <td>SEA00486</td>\n",
       "      <td>883.831</td>\n",
       "      <td>2nd Ave &amp; Spring St</td>\n",
       "      <td>Occidental Park / Occidental Ave S &amp; S Washing...</td>\n",
       "      <td>CBD-06</td>\n",
       "      <td>PS-04</td>\n",
       "      <td>Annual Member</td>\n",
       "      <td>Female</td>\n",
       "      <td>1988.0</td>\n",
       "      <td>14.730517</td>\n",
       "      <td>10</td>\n",
       "      <td>0</td>\n",
       "      <td>10</td>\n",
       "    </tr>\n",
       "    <tr>\n",
       "      <th>3</th>\n",
       "      <td>434</td>\n",
       "      <td>10/13/2014 10:34</td>\n",
       "      <td>10/13/2014 10:48</td>\n",
       "      <td>SEA00333</td>\n",
       "      <td>865.937</td>\n",
       "      <td>2nd Ave &amp; Spring St</td>\n",
       "      <td>Occidental Park / Occidental Ave S &amp; S Washing...</td>\n",
       "      <td>CBD-06</td>\n",
       "      <td>PS-04</td>\n",
       "      <td>Annual Member</td>\n",
       "      <td>Female</td>\n",
       "      <td>1977.0</td>\n",
       "      <td>14.432283</td>\n",
       "      <td>10</td>\n",
       "      <td>0</td>\n",
       "      <td>10</td>\n",
       "    </tr>\n",
       "    <tr>\n",
       "      <th>4</th>\n",
       "      <td>435</td>\n",
       "      <td>10/13/2014 10:34</td>\n",
       "      <td>10/13/2014 10:49</td>\n",
       "      <td>SEA00202</td>\n",
       "      <td>923.923</td>\n",
       "      <td>2nd Ave &amp; Spring St</td>\n",
       "      <td>Occidental Park / Occidental Ave S &amp; S Washing...</td>\n",
       "      <td>CBD-06</td>\n",
       "      <td>PS-04</td>\n",
       "      <td>Annual Member</td>\n",
       "      <td>Male</td>\n",
       "      <td>1971.0</td>\n",
       "      <td>15.398717</td>\n",
       "      <td>10</td>\n",
       "      <td>0</td>\n",
       "      <td>10</td>\n",
       "    </tr>\n",
       "  </tbody>\n",
       "</table>\n",
       "</div>"
      ],
      "text/plain": [
       "   trip_id         starttime          stoptime    bikeid  tripduration  \\\n",
       "0      431  10/13/2014 10:31  10/13/2014 10:48  SEA00298       985.935   \n",
       "1      432  10/13/2014 10:32  10/13/2014 10:48  SEA00195       926.375   \n",
       "2      433  10/13/2014 10:33  10/13/2014 10:48  SEA00486       883.831   \n",
       "3      434  10/13/2014 10:34  10/13/2014 10:48  SEA00333       865.937   \n",
       "4      435  10/13/2014 10:34  10/13/2014 10:49  SEA00202       923.923   \n",
       "\n",
       "     from_station_name                                    to_station_name  \\\n",
       "0  2nd Ave & Spring St  Occidental Park / Occidental Ave S & S Washing...   \n",
       "1  2nd Ave & Spring St  Occidental Park / Occidental Ave S & S Washing...   \n",
       "2  2nd Ave & Spring St  Occidental Park / Occidental Ave S & S Washing...   \n",
       "3  2nd Ave & Spring St  Occidental Park / Occidental Ave S & S Washing...   \n",
       "4  2nd Ave & Spring St  Occidental Park / Occidental Ave S & S Washing...   \n",
       "\n",
       "  from_station_id to_station_id       usertype  gender  birthyear  \\\n",
       "0          CBD-06         PS-04  Annual Member    Male     1960.0   \n",
       "1          CBD-06         PS-04  Annual Member    Male     1970.0   \n",
       "2          CBD-06         PS-04  Annual Member  Female     1988.0   \n",
       "3          CBD-06         PS-04  Annual Member  Female     1977.0   \n",
       "4          CBD-06         PS-04  Annual Member    Male     1971.0   \n",
       "\n",
       "   tripminutes  hour  dayofweek  month  \n",
       "0    16.432250    10          0     10  \n",
       "1    15.439583    10          0     10  \n",
       "2    14.730517    10          0     10  \n",
       "3    14.432283    10          0     10  \n",
       "4    15.398717    10          0     10  "
      ]
     },
     "execution_count": 63,
     "metadata": {},
     "output_type": "execute_result"
    }
   ],
   "source": [
    "df.head()"
   ]
  },
  {
   "cell_type": "code",
   "execution_count": 65,
   "metadata": {},
   "outputs": [
    {
     "data": {
      "text/html": [
       "<div>\n",
       "<style scoped>\n",
       "    .dataframe tbody tr th:only-of-type {\n",
       "        vertical-align: middle;\n",
       "    }\n",
       "\n",
       "    .dataframe tbody tr th {\n",
       "        vertical-align: top;\n",
       "    }\n",
       "\n",
       "    .dataframe thead th {\n",
       "        text-align: right;\n",
       "    }\n",
       "</style>\n",
       "<table border=\"1\" class=\"dataframe\">\n",
       "  <thead>\n",
       "    <tr style=\"text-align: right;\">\n",
       "      <th></th>\n",
       "      <th>count</th>\n",
       "    </tr>\n",
       "    <tr>\n",
       "      <th>from_station_id</th>\n",
       "      <th></th>\n",
       "    </tr>\n",
       "  </thead>\n",
       "  <tbody>\n",
       "    <tr>\n",
       "      <th>BT-01</th>\n",
       "      <td>5885</td>\n",
       "    </tr>\n",
       "    <tr>\n",
       "      <th>BT-03</th>\n",
       "      <td>4199</td>\n",
       "    </tr>\n",
       "    <tr>\n",
       "      <th>BT-04</th>\n",
       "      <td>2221</td>\n",
       "    </tr>\n",
       "    <tr>\n",
       "      <th>BT-05</th>\n",
       "      <td>3368</td>\n",
       "    </tr>\n",
       "    <tr>\n",
       "      <th>CBD-03</th>\n",
       "      <td>2974</td>\n",
       "    </tr>\n",
       "  </tbody>\n",
       "</table>\n",
       "</div>"
      ],
      "text/plain": [
       "                 count\n",
       "from_station_id       \n",
       "BT-01             5885\n",
       "BT-03             4199\n",
       "BT-04             2221\n",
       "BT-05             3368\n",
       "CBD-03            2974"
      ]
     },
     "execution_count": 65,
     "metadata": {},
     "output_type": "execute_result"
    }
   ],
   "source": [
    "df_sub = df[['from_station_id', 'trip_id']]\n",
    "df_count = df_sub.groupby(['from_station_id']).count()\n",
    "df_count.head()\n",
    "df_count.columns = ['count']\n",
    "df_count.head()"
   ]
  },
  {
   "cell_type": "code",
   "execution_count": 66,
   "metadata": {},
   "outputs": [
    {
     "data": {
      "text/html": [
       "<div>\n",
       "<style scoped>\n",
       "    .dataframe tbody tr th:only-of-type {\n",
       "        vertical-align: middle;\n",
       "    }\n",
       "\n",
       "    .dataframe tbody tr th {\n",
       "        vertical-align: top;\n",
       "    }\n",
       "\n",
       "    .dataframe thead th {\n",
       "        text-align: right;\n",
       "    }\n",
       "</style>\n",
       "<table border=\"1\" class=\"dataframe\">\n",
       "  <thead>\n",
       "    <tr style=\"text-align: right;\">\n",
       "      <th></th>\n",
       "      <th>tripduration</th>\n",
       "    </tr>\n",
       "    <tr>\n",
       "      <th>from_station_id</th>\n",
       "      <th></th>\n",
       "    </tr>\n",
       "  </thead>\n",
       "  <tbody>\n",
       "    <tr>\n",
       "      <th>BT-01</th>\n",
       "      <td>1427.309926</td>\n",
       "    </tr>\n",
       "    <tr>\n",
       "      <th>BT-03</th>\n",
       "      <td>1036.889216</td>\n",
       "    </tr>\n",
       "    <tr>\n",
       "      <th>BT-04</th>\n",
       "      <td>949.446619</td>\n",
       "    </tr>\n",
       "    <tr>\n",
       "      <th>BT-05</th>\n",
       "      <td>1227.268273</td>\n",
       "    </tr>\n",
       "    <tr>\n",
       "      <th>CBD-03</th>\n",
       "      <td>1154.281482</td>\n",
       "    </tr>\n",
       "  </tbody>\n",
       "</table>\n",
       "</div>"
      ],
      "text/plain": [
       "                 tripduration\n",
       "from_station_id              \n",
       "BT-01             1427.309926\n",
       "BT-03             1036.889216\n",
       "BT-04              949.446619\n",
       "BT-05             1227.268273\n",
       "CBD-03            1154.281482"
      ]
     },
     "execution_count": 66,
     "metadata": {},
     "output_type": "execute_result"
    }
   ],
   "source": [
    "df_sub = df[['from_station_id', 'tripduration']]\n",
    "df_mean = df_sub.groupby(['from_station_id']).mean()\n",
    "df_mean.head()"
   ]
  },
  {
   "cell_type": "code",
   "execution_count": 67,
   "metadata": {},
   "outputs": [
    {
     "data": {
      "text/plain": [
       "{'BT-01': [217, 227, 228, 282, 283, 310, 326, 327, 329, 331, 443, 470, 471, 525, 526, 569, 657, 659, 661, 702, 751, 800, 801, 861, 998, 1068, 1154, 1172, 1411, 1412, 1418, 1423, 1427, 1477, 1482, 1521, 1522, 1528, 1543, 1544, 1614, 1801, 1802, 1803, 1865, 1867, 1868, 1897, 2021, 2023, 2025, 2027, 2028, 2058, 2137, 2138, 2175, 2176, 2228, 2229, 2335, 2425, 2622, 2624, 2647, 2649, 2741, 2771, 2854, 2855, 2892, 2945, 3028, 3053, 3097, 3254, 3264, 3613, 3643, 3674, 3765, 3789, 3863, 3913, 3971, 3984, 3993, 3997, 4007, 4020, 4152, 4193, 4384, 4601, 4724, 4780, 4819, 4932, 4933, 5019, ...], 'BT-03': [86, 87, 230, 261, 366, 407, 414, 439, 453, 753, 760, 809, 824, 909, 926, 1035, 1041, 1099, 1103, 1133, 1180, 1184, 1215, 1240, 1241, 1267, 1287, 1302, 1331, 1333, 1496, 1567, 1568, 1616, 1653, 1693, 1884, 1935, 2002, 2042, 2072, 2112, 2113, 2134, 2178, 2179, 2314, 2315, 2330, 2331, 2332, 2333, 2334, 2344, 2384, 2401, 2487, 2519, 2558, 2559, 2577, 2635, 2637, 2641, 2655, 2663, 2664, 2684, 2732, 2793, 2806, 2840, 2968, 2975, 2977, 3040, 3059, 3078, 3135, 3181, 3186, 3189, 3214, 3237, 3298, 3307, 3317, 3358, 3362, 3390, 3393, 3423, 3434, 3442, 3458, 3514, 3535, 3537, 3538, 3565, ...], 'BT-04': [66, 67, 93, 103, 107, 166, 233, 259, 322, 333, 394, 395, 398, 501, 570, 592, 603, 606, 607, 609, 610, 804, 805, 823, 853, 946, 960, 981, 1001, 1023, 1024, 1210, 1274, 1301, 1307, 1311, 1336, 1342, 1387, 1499, 1500, 1565, 1575, 1595, 1640, 1691, 1698, 1735, 1812, 1843, 1855, 1899, 1923, 1995, 1997, 2155, 2207, 2210, 2328, 2580, 2598, 2600, 2654, 2669, 2670, 2852, 2989, 2999, 3001, 3005, 3032, 3057, 3058, 3185, 3271, 3290, 3352, 3398, 3417, 3418, 3436, 3479, 3502, 3513, 3556, 3684, 3761, 3915, 3945, 3983, 3994, 4091, 4113, 4151, 4160, 4235, 4238, 4281, 4325, 4399, ...], 'BT-05': [109, 413, 426, 513, 585, 618, 743, 752, 794, 1003, 1204, 1254, 1316, 1348, 1405, 1438, 1461, 1515, 1609, 1623, 1709, 1736, 1772, 1786, 1788, 1790, 1833, 1838, 1859, 1860, 1953, 1984, 2026, 2065, 2066, 2247, 2284, 2306, 2491, 2492, 2515, 2571, 2572, 2709, 2710, 2713, 2787, 2867, 2898, 2951, 2952, 2974, 3017, 3071, 3134, 3142, 3145, 3229, 3330, 3342, 3350, 3445, 3494, 3550, 3577, 3578, 3594, 3607, 3688, 3689, 3696, 3697, 3705, 3775, 3823, 3839, 3893, 3924, 3938, 3959, 4041, 4050, 4061, 4177, 4178, 4196, 4208, 4233, 4321, 4385, 4402, 4407, 4429, 4474, 4481, 4681, 4713, 4714, 4715, 4726, ...], 'CBD-03': [118, 119, 164, 229, 275, 285, 328, 339, 356, 357, 362, 363, 383, 408, 495, 520, 527, 766, 772, 779, 781, 986, 1046, 1093, 1102, 1113, 1127, 1136, 1163, 1186, 1205, 1208, 1209, 1420, 1474, 1475, 1503, 1504, 1524, 1529, 1555, 1611, 1717, 1740, 1741, 1752, 1758, 1796, 1809, 1813, 1832, 1840, 1861, 1874, 1879, 1889, 1957, 1971, 2062, 2121, 2128, 2243, 2244, 2245, 2246, 2305, 2307, 2310, 2311, 2316, 2317, 2318, 2319, 2320, 2389, 2399, 2400, 2404, 2405, 2468, 2545, 2546, 2721, 2791, 2792, 2856, 2857, 2905, 2907, 2916, 2919, 2920, 2949, 3022, 3041, 3085, 3091, 3125, 3126, 3161, ...], 'CBD-04': [105406, 105472, 105481, 105486, 105628, 105629, 105849, 105850, 105869, 105872, 106070, 106131, 106152, 106153, 106156, 106229, 106493, 106607, 106608, 106670, 106674, 106675, 106684, 106714, 106736, 106759, 106814, 106945, 107104, 107363, 107366, 107415, 107434, 107459, 107460, 107506, 107523, 107566, 107655, 107730, 107858, 107951, 107986, 108012, 108019, 108045, 108049, 108104, 108304, 108305, 108496, 108500, 108533, 108534, 108536, 108961, 108962, 109084, 109166, 109169, 109173, 109313, 109314, 109395, 109532, 109783, 109807, 109822, 109827, 109828, 110076, 110117, 110187, 110199, 110202, 110311, 110345, 110384, 110408, 110494, 110554, 110908, 110909, 110961, 110967, 111004, 111020, 111105, 111343, 111421, 111441, 111485, 111518, 111560, 111561, 111589, 111621, 111636, 111649, 111750, ...], 'CBD-05': [54, 79, 94, 148, 149, 150, 151, 165, 211, 219, 252, 257, 258, 271, 274, 301, 303, 323, 423, 434, 576, 586, 629, 666, 774, 908, 915, 919, 924, 930, 988, 996, 997, 1061, 1072, 1116, 1122, 1125, 1224, 1243, 1245, 1399, 1437, 1578, 1579, 1712, 1715, 1725, 1731, 1748, 1749, 1775, 1805, 1810, 1944, 1945, 2079, 2309, 2313, 2322, 2323, 2359, 2429, 2484, 2552, 2553, 2556, 2607, 2608, 2724, 2725, 2734, 2737, 2811, 2983, 2986, 3100, 3140, 3141, 3162, 3170, 3171, 3203, 3217, 3234, 3309, 3357, 3376, 3456, 3465, 3472, 3525, 3563, 3571, 3612, 3638, 3641, 3736, 3774, 3785, ...], 'CBD-06': [0, 1, 2, 3, 4, 5, 63, 68, 70, 71, 75, 84, 85, 105, 114, 117, 145, 185, 186, 189, 190, 209, 268, 293, 342, 348, 438, 548, 579, 593, 594, 595, 622, 623, 674, 675, 692, 695, 730, 765, 788, 890, 965, 1028, 1029, 1033, 1049, 1057, 1060, 1096, 1101, 1124, 1191, 1202, 1203, 1260, 1297, 1319, 1340, 1401, 1421, 1434, 1466, 1473, 1488, 1585, 1586, 1603, 1607, 1794, 1816, 1864, 1875, 1876, 1922, 1972, 2338, 2339, 2372, 2373, 2458, 2518, 2863, 3029, 3049, 3115, 3118, 3122, 3228, 3245, 3300, 3321, 3410, 3411, 3420, 3558, 3564, 3585, 3630, 3664, ...], 'CBD-07': [42, 69, 78, 141, 196, 269, 478, 510, 522, 542, 559, 560, 582, 645, 658, 668, 670, 691, 736, 749, 869, 959, 980, 987, 1036, 1048, 1059, 1071, 1107, 1115, 1139, 1147, 1152, 1356, 1376, 1417, 1447, 1457, 1739, 1754, 1800, 2016, 2017, 2018, 2055, 2190, 2631, 2632, 2826, 3048, 3054, 3055, 3082, 3175, 3180, 3204, 3205, 3287, 3288, 3433, 3454, 3631, 3646, 3647, 3660, 3807, 3917, 3929, 3941, 3950, 3952, 3958, 3986, 3987, 4023, 4037, 4066, 4244, 4309, 4383, 4439, 4440, 4485, 4490, 4505, 4750, 4756, 4915, 5150, 5185, 5201, 5210, 5263, 5269, 5279, 5311, 5312, 5313, 5328, 5357, ...], 'CBD-13': [98, 139, 198, 249, 276, 334, 381, 388, 424, 442, 523, 588, 596, 597, 598, 599, 601, 664, 718, 744, 757, 806, 852, 879, 880, 887, 888, 933, 1002, 1008, 1088, 1092, 1119, 1155, 1187, 1189, 1192, 1284, 1327, 1330, 1337, 1353, 1366, 1391, 1436, 1440, 1458, 1464, 1484, 1487, 1497, 1516, 1536, 1538, 1542, 1562, 1582, 1583, 1589, 1706, 1724, 1726, 1761, 1771, 1783, 1793, 1815, 1837, 1856, 1924, 1985, 1986, 2064, 2067, 2068, 2136, 2139, 2140, 2150, 2162, 2166, 2167, 2195, 2235, 2236, 2293, 2325, 2349, 2350, 2388, 2407, 2436, 2465, 2513, 2534, 2588, 2589, 2645, 2728, 2751, ...], 'CD-01': [68534, 68535, 69172, 69173, 69956, 70370, 70532, 70549, 70623, 70624, 70874, 70875, 71352, 71799, 71966, 71970, 72511, 72568, 72761, 72954, 72955, 73564, 73702, 74008, 74052, 74080, 74253, 74257, 74296, 74684, 74787, 74788, 75056, 75377, 75540, 75541, 75582, 75789, 75790, 75791, 75852, 75912, 75913, 76420, 76421, 76899, 76901, 76902, 76905, 76912, 77158, 77243, 77480, 77674, 78014, 78017, 78572, 78600, 78601, 78853, 78854, 78869, 79103, 79141, 79371, 79374, 79544, 79883, 79884, 80114, 80255, 80256, 80935, 81602, 81696, 81967, 82139, 82260, 82448, 82713, 82852, 83030, 83075, 83267, 83460, 83733, 84288, 84746, 84777, 84945, 85343, 85504, 85628, 85655, 85931, 86436, 86984, 87107, 87733, 87778, ...], 'CH-01': [256, 355, 382, 416, 437, 444, 502, 503, 600, 679, 712, 821, 962, 990, 1000, 1062, 1098, 1131, 1207, 1212, 1232, 1253, 1285, 1357, 1390, 1508, 1570, 1612, 1630, 1764, 1842, 1845, 1909, 1910, 1919, 1925, 1926, 2024, 2043, 2049, 2133, 2171, 2181, 2193, 2257, 2342, 2391, 2454, 2467, 2469, 2486, 2609, 2620, 2679, 2689, 2698, 2699, 2797, 2816, 2817, 2837, 2900, 2915, 3012, 3039, 3136, 3168, 3305, 3386, 3414, 3570, 3618, 3668, 3702, 3715, 3799, 3827, 3830, 3862, 4060, 4154, 4164, 4211, 4271, 4282, 4312, 4419, 4551, 4572, 4578, 4656, 4657, 4658, 4817, 4858, 4910, 4916, 5020, 5081, 5096, ...], 'CH-02': [55, 56, 58, 112, 113, 126, 127, 154, 162, 163, 176, 179, 180, 235, 254, 265, 286, 317, 336, 389, 405, 409, 410, 418, 419, 422, 440, 473, 481, 672, 699, 787, 810, 815, 828, 847, 848, 892, 893, 901, 906, 917, 918, 938, 953, 957, 973, 983, 1056, 1104, 1105, 1160, 1161, 1178, 1179, 1193, 1196, 1199, 1218, 1220, 1235, 1236, 1255, 1258, 1268, 1281, 1293, 1295, 1304, 1364, 1379, 1395, 1396, 1439, 1532, 1541, 1574, 1587, 1622, 1636, 1642, 1647, 1654, 1665, 1676, 1734, 1823, 1835, 1836, 1907, 1908, 1911, 1912, 1930, 1931, 1939, 2034, 2040, 2059, 2126, ...], 'CH-03': [290, 417, 428, 435, 436, 452, 494, 516, 640, 665, 807, 925, 929, 955, 966, 967, 1042, 1150, 1219, 1231, 1247, 1249, 1252, 1261, 1271, 1282, 1303, 1318, 1329, 1448, 1624, 1631, 1641, 1643, 1646, 1655, 1660, 1669, 1692, 1723, 1822, 1825, 1852, 1927, 1928, 1956, 2096, 2172, 2185, 2242, 2286, 2363, 2406, 2542, 2543, 2604, 2605, 2610, 2617, 2621, 2659, 2743, 2823, 2933, 2934, 2978, 2980, 2988, 3073, 3193, 3299, 3366, 3371, 3372, 3397, 3427, 3500, 3608, 3659, 3724, 3739, 3749, 3758, 3859, 3871, 3884, 3891, 3895, 3933, 3946, 3951, 4123, 4209, 4210, 4212, 4219, 4220, 4221, 4229, 4234, ...], 'CH-05': [134, 195, 205, 248, 250, 251, 315, 324, 337, 390, 393, 445, 450, 472, 653, 676, 677, 767, 785, 792, 811, 837, 838, 871, 954, 978, 1040, 1167, 1168, 1217, 1264, 1291, 1306, 1326, 1328, 1472, 1478, 1494, 1626, 1649, 1659, 1688, 1695, 1728, 1743, 1747, 1817, 1818, 1851, 1866, 1893, 1894, 1903, 1913, 1921, 2001, 2022, 2083, 2095, 2103, 2148, 2184, 2188, 2200, 2205, 2265, 2275, 2276, 2278, 2295, 2296, 2378, 2379, 2383, 2398, 2428, 2551, 2561, 2562, 2623, 2628, 2630, 2877, 2922, 2923, 2924, 2925, 2926, 2928, 2947, 2948, 3002, 3006, 3158, 3166, 3169, 3191, 3267, 3338, 3385, ...], 'CH-06': [212, 253, 277, 278, 279, 403, 449, 504, 684, 881, 928, 937, 1126, 1200, 1201, 1251, 1645, 1664, 1677, 1819, 1951, 2784, 2802, 2991, 3132, 3202, 3343, 3344, 3382, 3520, 3730, 3791, 3796, 3814, 3844, 3868, 3870, 3872, 3920, 4038, 4108, 4134, 4165, 4168, 4202, 4217, 4224, 4230, 4261, 4274, 4377, 4378, 4396, 4661, 4667, 4873, 4920, 4953, 4954, 5016, 5064, 5100, 5129, 5135, 5136, 5156, 5327, 5432, 5444, 5477, 5478, 5641, 5689, 5708, 5751, 5775, 5958, 6100, 6121, 6143, 6151, 6168, 6183, 6280, 6284, 6312, 6337, 6361, 6374, 6539, 6644, 6651, 6657, 6658, 6749, 6750, 6765, 6803, 7095, 7107, ...], 'CH-07': [146, 210, 299, 341, 374, 377, 401, 415, 431, 466, 512, 627, 728, 776, 822, 825, 826, 827, 829, 836, 870, 907, 914, 940, 941, 982, 1063, 1151, 1227, 1234, 1280, 1294, 1314, 1315, 1449, 1450, 1451, 1619, 1620, 1658, 1670, 1682, 1697, 1934, 2050, 2053, 2120, 2125, 2130, 2173, 2177, 2196, 2261, 2262, 2290, 2292, 2352, 2416, 2426, 2453, 2460, 2485, 2517, 2523, 2524, 2563, 2587, 2594, 2712, 2779, 2841, 2843, 2845, 2846, 2936, 2960, 2992, 3010, 3013, 3019, 3027, 3042, 3050, 3131, 3179, 3200, 3212, 3266, 3295, 3323, 3327, 3375, 3389, 3392, 3437, 3441, 3489, 3505, 3509, 3536, ...], 'CH-08': [120, 136, 144, 158, 159, 242, 262, 294, 311, 321, 352, 376, 480, 489, 491, 496, 497, 509, 517, 524, 711, 741, 756, 778, 789, 795, 796, 819, 851, 872, 884, 885, 897, 947, 949, 956, 971, 1100, 1108, 1149, 1206, 1213, 1256, 1263, 1289, 1332, 1334, 1406, 1459, 1481, 1525, 1599, 1600, 1644, 1667, 1689, 1742, 1751, 1759, 1767, 1811, 1858, 1869, 1870, 1881, 1882, 1890, 1892, 1896, 1904, 1914, 1941, 1955, 2091, 2092, 2203, 2272, 2280, 2281, 2285, 2300, 2324, 2374, 2422, 2423, 2462, 2512, 2634, 2657, 2658, 2661, 2666, 2695, 2696, 2716, 2717, 2757, 2790, 2796, 2828, ...], 'CH-09': [100, 168, 222, 349, 380, 467, 567, 578, 628, 647, 758, 835, 882, 894, 895, 1032, 1084, 1148, 1153, 1181, 1182, 1197, 1237, 1292, 1305, 1343, 1344, 1345, 1501, 1526, 1549, 1588, 1671, 1738, 1828, 1871, 1900, 1901, 1990, 2000, 2033, 2037, 2047, 2151, 2163, 2165, 2202, 2226, 2227, 2254, 2298, 2299, 2301, 2302, 2329, 2355, 2356, 2362, 2364, 2386, 2478, 2569, 2570, 2581, 2582, 2612, 2703, 2707, 2745, 2754, 2755, 2762, 2830, 2831, 2833, 2847, 2871, 2883, 2961, 3119, 3129, 3172, 3244, 3273, 3278, 3322, 3334, 3335, 3353, 3406, 3519, 3522, 3609, 3622, 3637, 3710, 3716, 3772, 3810, 3833, ...], 'CH-12': [319, 384, 411, 441, 451, 462, 540, 554, 558, 605, 651, 777, 813, 818, 832, 856, 883, 898, 911, 958, 1112, 1121, 1137, 1216, 1223, 1228, 1233, 1279, 1317, 1325, 1415, 1520, 1545, 1548, 1564, 1590, 1597, 1615, 1635, 1680, 1824, 1829, 1841, 1846, 1853, 1854, 1895, 1954, 1968, 1969, 2232, 2456, 2457, 2495, 2496, 2606, 2625, 2646, 2803, 2901, 2902, 2937, 2938, 2970, 3023, 3105, 3130, 3155, 3159, 3197, 3198, 3224, 3347, 3364, 3367, 3370, 3378, 3419, 3469, 3498, 3586, 3649, 3657, 3676, 3701, 3708, 3714, 3744, 3832, 3840, 3857, 3858, 3875, 3878, 3914, 4016, 4070, 4084, 4092, 4099, ...], 'CH-15': [108, 160, 244, 340, 402, 430, 459, 468, 722, 723, 724, 738, 747, 799, 802, 803, 831, 923, 945, 1106, 1190, 1229, 1272, 1299, 1300, 1358, 1416, 1432, 1571, 1629, 1657, 1933, 1959, 1960, 1962, 1963, 1987, 1994, 1996, 2019, 2060, 2115, 2194, 2268, 2269, 2357, 2390, 2522, 2576, 2586, 2601, 2602, 2636, 2914, 2997, 2998, 3009, 3111, 3152, 3210, 3260, 3294, 3318, 3331, 3349, 3374, 3391, 3396, 3400, 3401, 3426, 3438, 3444, 3461, 3640, 3687, 3690, 3699, 3751, 3752, 3847, 3877, 3894, 3912, 3926, 3982, 4011, 4161, 4176, 4199, 4249, 4255, 4256, 4260, 4273, 4335, 4344, 4415, 4432, 4473, ...], 'DPD-01': [59, 90, 92, 289, 568, 644, 667, 739, 839, 974, 979, 1010, 1067, 1164, 1594, 1651, 1673, 1780, 1781, 1826, 1872, 1873, 1998, 1999, 2279, 2554, 2575, 2614, 2615, 2869, 2927, 3046, 3102, 3182, 3236, 3248, 3251, 3263, 3279, 3282, 3304, 3340, 3549, 3611, 3692, 3709, 3790, 3806, 3835, 3836, 3845, 3942, 3943, 3944, 4028, 4141, 4354, 4529, 4552, 4566, 4583, 4764, 4825, 4870, 4952, 4978, 5055, 5195, 5204, 5209, 5338, 5351, 5369, 5375, 5385, 5392, 5448, 5453, 5510, 5620, 5627, 5666, 5671, 5677, 5679, 5772, 5812, 5831, 5931, 6033, 6061, 6062, 6063, 6064, 6086, 6101, 6125, 6126, 6138, 6231, ...], 'DPD-03': [131, 197, 345, 347, 726, 844, 1074, 1144, 1347, 1430, 1514, 1696, 2189, 2215, 2345, 2353, 2360, 2361, 3020, 3123, 3124, 3150, 3160, 3302, 3526, 3665, 3918, 3935, 4129, 4323, 4327, 4332, 4363, 4414, 4466, 4467, 4515, 4563, 5215, 5367, 5587, 5616, 5833, 5900, 5915, 5943, 6022, 6076, 6306, 6327, 6477, 6506, 6555, 6642, 6660, 6838, 6842, 6843, 7017, 7106, 7348, 7494, 7612, 7613, 7858, 8186, 8229, 8357, 8361, 8432, 8440, 8807, 8936, 8999, 9000, 9218, 9219, 9220, 9259, 9421, 9422, 9564, 9579, 9882, 9895, 9904, 10075, 10276, 10478, 10564, 10682, 10798, 10872, 11006, 11087, 11099, 11212, 11339, 11510, 11511, ...], 'EL-01': [199, 400, 700, 701, 714, 715, 768, 1175, 1350, 1351, 1467, 1592, 1604, 1707, 1980, 2767, 2814, 2815, 2842, 2851, 3269, 3283, 3477, 3593, 3599, 3600, 3604, 3691, 4046, 4270, 4290, 4390, 4391, 4438, 4452, 4486, 4543, 4575, 4893, 5049, 5170, 5280, 5636, 5672, 5702, 5881, 5882, 5914, 6001, 6011, 6013, 6050, 6286, 6305, 6455, 6459, 6834, 6875, 6881, 6890, 6891, 6892, 6893, 6894, 7119, 7151, 7824, 7825, 7893, 8138, 8168, 8216, 8239, 8290, 8476, 8668, 8686, 8782, 8799, 8976, 9276, 9277, 9607, 9639, 9838, 9839, 9840, 9933, 9946, 9968, 10249, 10255, 10300, 10358, 10418, 10427, 10645, 10658, 10785, 10805, ...], 'EL-03': [344, 358, 360, 425, 492, 583, 927, 1026, 1070, 1109, 1117, 1165, 1166, 1242, 1355, 1424, 1580, 1581, 1686, 1711, 2011, 2013, 2135, 2157, 2211, 2212, 2348, 2371, 2394, 2395, 2525, 2526, 2633, 2650, 2671, 2680, 2897, 3096, 3164, 3259, 3373, 3388, 3446, 3496, 3597, 3624, 3740, 3768, 3804, 3808, 3828, 3831, 4064, 4078, 4226, 4379, 4503, 4509, 4538, 4549, 4584, 4600, 4919, 4936, 4957, 5124, 5219, 5353, 5374, 5498, 5538, 5547, 5549, 5614, 5701, 5711, 5723, 5835, 5870, 5995, 6007, 6014, 6015, 6042, 6171, 6175, 6196, 6287, 6517, 6530, 6641, 6672, 6673, 6681, 6682, 6711, 6760, 6761, 6879, 7057, ...], 'EL-05': [200, 201, 447, 456, 488, 615, 646, 694, 762, 858, 859, 860, 903, 916, 1230, 1250, 1273, 1309, 1377, 1419, 1628, 1648, 1685, 1940, 1967, 2063, 2122, 2123, 2129, 2248, 2528, 2592, 2638, 2642, 2643, 2715, 2788, 2789, 2794, 2798, 2800, 2801, 2818, 2819, 2821, 2822, 2982, 2990, 2996, 3011, 3043, 3383, 3399, 3486, 3735, 3738, 3999, 4086, 4166, 4289, 4306, 4426, 4431, 4555, 4577, 4768, 4828, 4877, 4896, 4925, 4964, 4967, 4974, 4975, 5126, 5139, 5709, 5714, 5862, 5894, 5895, 5896, 5971, 6024, 6025, 6162, 6180, 6313, 6430, 6661, 6774, 6802, 6917, 6933, 6934, 7126, 7127, 7132, 7156, 7159, ...], 'FH-01': [99, 231, 325, 330, 373, 386, 455, 485, 505, 521, 742, 786, 808, 866, 867, 868, 874, 875, 876, 877, 944, 975, 992, 1014, 1031, 1054, 1083, 1091, 1308, 1407, 1445, 1454, 1460, 1468, 1470, 1495, 1537, 1634, 1699, 1762, 1785, 1795, 1799, 1905, 1906, 1973, 1974, 2260, 2387, 2445, 2448, 2450, 2452, 2530, 2531, 2672, 2673, 2872, 2950, 2979, 3086, 3128, 3153, 3194, 3207, 3313, 3363, 3368, 3471, 3590, 3595, 3683, 3698, 3825, 3838, 3904, 4004, 4017, 4039, 4047, 4048, 4203, 4302, 4393, 4433, 4459, 4468, 4470, 4510, 4763, 4983, 4984, 5143, 5165, 5225, 5261, 5278, 5317, 5326, 5336, ...], 'FH-04': [364, 371, 392, 396, 460, 482, 529, 950, 970, 984, 1145, 1244, 1552, 1559, 1601, 1661, 1679, 1769, 1991, 1992, 2030, 2143, 2144, 2266, 2267, 2303, 2304, 2375, 2564, 2639, 2758, 2884, 2885, 2886, 2888, 3014, 3103, 3107, 3280, 3337, 3387, 3473, 3583, 3584, 3695, 3707, 3721, 3731, 3756, 3841, 3842, 3854, 3874, 3903, 4045, 4155, 4182, 4258, 4500, 4536, 4610, 4680, 4757, 4778, 4834, 4895, 4903, 4946, 5101, 5161, 5368, 5370, 5408, 5445, 5476, 5506, 5540, 5583, 5678, 5686, 5756, 5876, 5920, 5928, 6020, 6021, 6037, 6083, 6154, 6163, 6166, 6207, 6303, 6356, 6394, 6465, 6496, 6514, 6575, 6717, ...], 'ID-04': [88, 123, 155, 156, 169, 170, 214, 223, 237, 309, 479, 483, 652, 732, 763, 769, 841, 862, 864, 865, 899, 1005, 1012, 1037, 1176, 1298, 1372, 1380, 1389, 1479, 1511, 1550, 1553, 1683, 1684, 1885, 1888, 1891, 1989, 2005, 2031, 2217, 2343, 2392, 2393, 2396, 2397, 2444, 2471, 2683, 2687, 2861, 3149, 3221, 3247, 3255, 3439, 3515, 3516, 3548, 3553, 3579, 3581, 3617, 3666, 3667, 3795, 3932, 3966, 3968, 4026, 4073, 4317, 4320, 4357, 4400, 4568, 4677, 4770, 4939, 4955, 5038, 5255, 5296, 5297, 5298, 5329, 5360, 5364, 5548, 5561, 5580, 5619, 5643, 5668, 5787, 5788, 5832, 5968, 6132, ...], 'PS-04': [6, 7, 8, 9, 10, 11, 12, 13, 14, 15, 16, 17, 18, 19, 20, 21, 22, 23, 24, 25, 26, 27, 28, 29, 30, 31, 32, 33, 34, 35, 36, 37, 38, 39, 40, 41, 43, 44, 46, 47, 48, 50, 51, 52, 62, 77, 81, 82, 83, 97, 106, 111, 125, 138, 140, 171, 172, 173, 174, 175, 191, 194, 221, 234, 238, 239, 255, 335, 346, 378, 379, 461, 465, 506, 553, 555, 561, 587, 613, 634, 663, 671, 680, 681, 698, 727, 754, 783, 816, 842, 920, 936, 991, 1015, 1020, 1118, 1162, 1171, 1238, 1239, ...], 'PS-05': [45, 49, 53, 57, 89, 130, 202, 218, 246, 247, 263, 474, 515, 528, 562, 563, 602, 632, 725, 735, 939, 1004, 1017, 1138, 1226, 1288, 1370, 1386, 1539, 1675, 1694, 1705, 1737, 1744, 1745, 1746, 1753, 1766, 1776, 2206, 2282, 2283, 2336, 2432, 2489, 2535, 2940, 2941, 3060, 3231, 3453, 3530, 3651, 4027, 4029, 4087, 4358, 4559, 4672, 4773, 4809, 5247, 5282, 5558, 5584, 5610, 5612, 5653, 5753, 6038, 6238, 6324, 6511, 6663, 6664, 6903, 6938, 6940, 6941, 6942, 6943, 6944, 6946, 6947, 6948, 6996, 6997, 6998, 7274, 7288, 7314, 7441, 7456, 7704, 7705, 7823, 7918, 7996, 8093, 8101, ...], 'Pronto shop': [74114], 'SLU-01': [110, 142, 143, 147, 152, 153, 220, 308, 312, 370, 387, 399, 433, 476, 484, 490, 545, 571, 581, 584, 656, 683, 687, 688, 689, 708, 719, 745, 770, 849, 873, 889, 922, 989, 1030, 1034, 1043, 1078, 1079, 1095, 1120, 1128, 1129, 1143, 1157, 1185, 1313, 1339, 1384, 1403, 1442, 1443, 1489, 1576, 1577, 1584, 1652, 1681, 1773, 1798, 1806, 1857, 1920, 1970, 1976, 1977, 1983, 2020, 2029, 2035, 2036, 2054, 2056, 2119, 2142, 2145, 2146, 2180, 2187, 2220, 2221, 2223, 2256, 2270, 2417, 2418, 2476, 2477, 2481, 2482, 2483, 2516, 2536, 2538, 2539, 2540, 2541, 2560, 2590, 2603, ...], 'SLU-02': [137, 181, 296, 397, 427, 458, 464, 500, 530, 531, 682, 790, 931, 1021, 1090, 1114, 1123, 1246, 1257, 1275, 1323, 1361, 1397, 1485, 1638, 1718, 1719, 1849, 1942, 1943, 2085, 2101, 2102, 2147, 2182, 2186, 2199, 2253, 2255, 2326, 2385, 2430, 2431, 2488, 2529, 2880, 3033, 3137, 3178, 3241, 3384, 3395, 3555, 3671, 3717, 3728, 3737, 3889, 3899, 3902, 4005, 4014, 4052, 4090, 4204, 4250, 4257, 4265, 4295, 4386, 4409, 4645, 4707, 4711, 4712, 4746, 4747, 4776, 4835, 4889, 4890, 5132, 5141, 5146, 5167, 5212, 5217, 5409, 5410, 5413, 5475, 5489, 5507, 5748, 5764, 5823, 5905, 5906, 5930, 5946, ...], 'SLU-04': [213, 245, 273, 288, 291, 295, 316, 432, 589, 639, 662, 764, 782, 791, 812, 817, 878, 886, 993, 994, 1007, 1022, 1073, 1076, 1132, 1146, 1211, 1359, 1363, 1371, 1428, 1463, 1502, 1505, 1551, 1560, 1561, 1596, 1598, 1678, 1988, 2004, 2006, 2007, 2069, 2070, 2086, 2118, 2434, 2435, 2437, 2438, 2449, 2451, 2537, 2567, 2568, 2573, 2574, 2675, 2697, 2701, 2702, 2708, 2711, 2764, 2786, 2810, 2893, 2909, 2910, 2913, 2995, 3070, 3106, 3143, 3195, 3256, 3329, 3339, 3450, 3511, 3518, 3529, 3561, 3582, 3596, 3598, 3672, 3713, 3783, 3869, 3953, 3996, 4022, 4103, 4104, 4137, 4288, 4318, ...], 'SLU-07': [368, 454, 551, 552, 575, 577, 633, 648, 734, 740, 746, 759, 793, 797, 814, 830, 843, 932, 1027, 1045, 1064, 1085, 1086, 1087, 1135, 1159, 1174, 1194, 1198, 1221, 1286, 1341, 1346, 1369, 1373, 1385, 1392, 1444, 1530, 1534, 1558, 1602, 1632, 1714, 1765, 1770, 1777, 1778, 1787, 1791, 1820, 1830, 1834, 1839, 1844, 1850, 1880, 2367, 2579, 2705, 2706, 2714, 2742, 2795, 2839, 2848, 2882, 2917, 2931, 2967, 3021, 3056, 3080, 3093, 3127, 3144, 3151, 3174, 3208, 3220, 3246, 3275, 3291, 3308, 3320, 3328, 3336, 3440, 3463, 3554, 3572, 3606, 3614, 3645, 3658, 3662, 3680, 3722, 3815, 3843, ...], 'SLU-15': [101, 178, 232, 243, 284, 287, 292, 313, 318, 338, 429, 498, 546, 547, 572, 573, 612, 685, 690, 697, 703, 748, 750, 755, 771, 775, 845, 846, 912, 985, 1019, 1058, 1081, 1097, 1140, 1158, 1169, 1248, 1266, 1270, 1290, 1312, 1322, 1368, 1375, 1398, 1410, 1413, 1414, 1469, 1476, 1486, 1491, 1509, 1513, 1531, 1535, 1540, 1546, 1618, 1637, 1666, 1703, 1730, 1733, 1763, 1792, 1807, 2097, 2111, 2414, 2419, 2420, 2421, 2441, 2446, 2548, 2722, 2723, 2740, 2804, 2834, 2835, 2895, 2903, 2976, 2994, 3024, 3089, 3101, 3108, 3112, 3133, 3147, 3157, 3177, 3196, 3211, 3222, 3225, ...], 'SLU-16': [391, 406, 420, 448, 486, 487, 532, 536, 537, 538, 539, 541, 731, 784, 900, 921, 972, 1013, 1065, 1075, 1094, 1156, 1222, 1269, 1276, 1296, 1381, 1382, 1429, 1512, 1625, 1756, 1789, 1952, 1981, 1982, 2041, 2087, 2164, 2169, 2237, 2555, 2557, 2616, 2738, 2739, 2748, 2753, 2768, 2921, 3003, 3156, 3201, 3206, 3274, 3312, 3333, 3451, 3539, 3605, 3615, 3636, 3811, 4051, 4056, 4074, 4106, 4110, 4181, 4207, 4216, 4248, 4442, 4471, 4544, 4632, 4633, 4634, 4849, 4935, 4973, 5256, 5389, 5470, 5499, 5796, 6032, 6051, 6052, 6152, 6156, 6210, 6316, 6341, 6497, 6501, 6509, 6564, 6612, 6613, ...], 'SLU-17': [192, 206, 224, 225, 226, 305, 306, 549, 550, 635, 704, 705, 706, 707, 709, 710, 713, 840, 902, 905, 968, 969, 1050, 1051, 1111, 1130, 1431, 2003, 2061, 2093, 2099, 2216, 2263, 2264, 2291, 2493, 2494, 2500, 2501, 2520, 2521, 2585, 2596, 2613, 2648, 2651, 2652, 2653, 2667, 2676, 2729, 2730, 2731, 2733, 2735, 2744, 2749, 2756, 2759, 2763, 2765, 2774, 2775, 2808, 2809, 2812, 2813, 2832, 2879, 3113, 3114, 3213, 3493, 3620, 3650, 3653, 3779, 3813, 4018, 4032, 4033, 4247, 4297, 4394, 4403, 4406, 4472, 4494, 4710, 4736, 4777, 4802, 4859, 4944, 4945, 5004, 5031, 5054, 5234, 5258, ...], 'SLU-18': [102, 320, 359, 446, 544, 556, 565, 566, 591, 614, 616, 617, 620, 621, 624, 625, 626, 630, 636, 637, 638, 641, 642, 643, 649, 650, 693, 798, 834, 913, 952, 1225, 1349, 1506, 1517, 1518, 1563, 1569, 1672, 1831, 1877, 1878, 1886, 1887, 1915, 1916, 1917, 1918, 1929, 1946, 1949, 1950, 1975, 1978, 2032, 2044, 2088, 2089, 2105, 2110, 2233, 2234, 2251, 2252, 2308, 2312, 2337, 2368, 2370, 2591, 2593, 2626, 2627, 2665, 3004, 3063, 3069, 3090, 3094, 3216, 3369, 3421, 3429, 3430, 3449, 3544, 3719, 3727, 3753, 3764, 3771, 3777, 3906, 4008, 4100, 4243, 4267, 4453, 4460, 4576, ...], 'SLU-19': [129, 280, 304, 350, 351, 353, 354, 457, 493, 564, 590, 604, 686, 733, 820, 863, 1259, 1277, 1388, 1400, 1639, 1720, 1721, 1755, 1782, 1902, 1993, 2104, 2287, 2288, 2297, 2351, 2402, 2410, 2411, 2412, 2413, 2455, 2459, 2527, 2629, 2766, 2868, 2870, 2955, 2956, 2957, 3066, 3067, 3074, 3223, 3249, 3250, 3341, 3402, 3447, 3483, 3484, 3507, 3677, 3685, 3693, 3694, 3704, 3733, 3881, 3882, 4072, 4085, 4114, 4115, 4285, 4370, 4514, 4516, 4528, 4593, 4608, 4612, 4613, 4729, 4735, 4737, 4739, 4740, 4741, 4847, 4852, 4872, 4943, 4947, 4956, 4971, 5021, 5115, 5192, 5233, 5235, 5237, 5358, ...], 'SLU-20': [79313, 79447, 79479, 79590, 79663, 79664, 79665, 79870, 79874, 80000, 80017, 80027, 80050, 80051, 80052, 80053, 80105, 80106, 80432, 80614, 81006, 81073, 81237, 81487, 81550, 81846, 81883, 81915, 81926, 82036, 82149, 82319, 82934, 83327, 83471, 83552, 84175, 84188, 84212, 84213, 84214, 84336, 85072, 85107, 85308, 85564, 85597, 85619, 85711, 86044, 86116, 86443, 86552, 86619, 86639, 86653, 86674, 86716, 86764, 86830, 86897, 86936, 87104, 87137, 87187, 87204, 87233, 87264, 87308, 87325, 87332, 87442, 87443, 87546, 88280, 88281, 88282, 88416, 88417, 88420, 88464, 88547, 88563, 88610, 88617, 88636, 88661, 88667, 88994, 89134, 89147, 89177, 89235, 89237, 89292, 89516, 89580, 89675, 89785, 89823, ...], 'SLU-21': [133378, 133379, 133402, 133634, 133635, 133758, 133759, 134192, 134193, 135030, 135258, 135296, 135651, 135652, 135673, 135861, 135863, 136042, 136109, 136110, 136320, 136418, 136419, 136420, 136636, 136637, 136980, 137785, 138199, 138200, 138201, 138474, 139109, 139127, 139210, 139259, 139536, 139583, 139584, 139725, 139743, 139744, 139883, 140061, 140177, 140194, 140195, 140394, 140430, 140431, 140872, 140931, 141090, 141385, 141386, 141387, 141403, 141639, 141872, 141979, 141980, 142036, 142037, 142123, 142128, 142129, 142130, 142131, 142132, 142375, 142615, 142674, 142701, 142743, 142757, 142758, 142760, 142761], 'UD-01': [60, 61, 76, 177, 182, 208, 608, 942, 943, 1053, 1134, 1262, 1354, 1547, 1617, 1936, 1937, 1966, 2094, 2183, 2470, 2472, 2514, 2547, 2550, 2677, 2681, 2682, 2685, 2686, 2693, 2694, 2736, 2894, 2971, 3000, 3109, 3110, 3167, 3257, 3258, 3270, 3361, 3377, 3482, 3527, 3860, 3892, 4222, 4293, 4331, 4478, 4484, 4491, 4588, 4721, 4904, 4981, 4982, 4990, 5321, 5330, 5395, 5416, 5692, 5717, 5765, 5921, 5950, 6096, 6139, 6217, 6218, 6363, 6450, 6458, 6662, 6771, 6853, 6855, 6868, 6871, 6936, 7074, 7081, 7094, 7108, 7109, 7112, 7134, 7135, 7185, 7187, 7206, 7208, 7209, 7359, 7382, 7617, 7618, ...], 'UD-02': [91, 96, 183, 193, 204, 240, 241, 543, 654, 655, 721, 850, 976, 977, 1066, 1188, 1310, 1365, 1383, 1507, 1519, 1533, 1633, 1662, 1674, 1768, 2965, 3163, 3187, 3188, 3428, 3547, 3557, 3560, 3592, 4190, 4369, 4813, 4938, 5110, 5268, 5500, 5520, 5602, 5603, 5826, 5851, 5898, 5899, 6247, 6311, 6358, 6428, 6689, 6690, 6691, 6701, 6731, 6790, 6823, 7092, 7138, 7140, 7141, 7252, 7518, 7597, 7598, 7721, 7950, 7951, 8179, 8355, 8469, 8611, 8642, 8692, 8699, 8712, 8871, 8872, 9359, 9360, 9391, 9392, 9440, 9539, 9540, 9719, 9720, 9820, 9947, 10006, 10550, 10732, 10806, 10810, 10817, 11019, 11036, ...], 'UD-04': [95, 161, 184, 188, 260, 372, 499, 611, 678, 891, 961, 995, 1044, 1170, 1173, 1177, 1426, 1573, 1605, 1650, 1704, 1710, 1797, 1964, 1965, 2048, 2073, 2109, 2201, 2424, 2473, 2611, 2688, 2691, 2692, 2849, 2850, 2875, 2876, 2912, 2935, 3065, 3081, 3092, 3425, 3466, 3531, 3540, 3792, 3824, 3848, 3956, 3970, 4055, 4094, 4263, 4464, 4469, 4614, 4642, 4691, 4692, 4796, 4837, 4879, 4926, 5058, 5163, 5207, 5216, 5365, 5596, 5659, 5688, 5816, 5855, 5910, 6214, 6268, 6423, 6447, 6454, 6637, 6647, 6693, 6705, 6745, 6759, 6808, 6809, 6869, 6870, 6873, 6874, 6914, 6984, 6985, 7079, 7205, 7215, ...], 'UD-07': [115, 116, 281, 469, 669, 696, 737, 904, 963, 1039, 1214, 1367, 1490, 1608, 1613, 1663, 1716, 2014, 2127, 2347, 2499, 2690, 2959, 3052, 3061, 3281, 3359, 3431, 3712, 3837, 3911, 3930, 3931, 3936, 4071, 4187, 4218, 4284, 4365, 4382, 4446, 4594, 4760, 4883, 4885, 4951, 4980, 5023, 5181, 5228, 5306, 5419, 5426, 5427, 5529, 5530, 5795, 5799, 6002, 6172, 6239, 6556, 6635, 6726, 6727, 6728, 6751, 6960, 7096, 7167, 7175, 7192, 7193, 7404, 7600, 7601, 7697, 8099, 8134, 8142, 8240, 8267, 8304, 8614, 8615, 8702, 8705, 8706, 8771, 8881, 8915, 8916, 8921, 8922, 8971, 9162, 9168, 9266, 9267, 9431, ...], 'UW-01': [729, 1690, 1757, 2124, 2382, 2746, 3087, 3356, 3404, 3510, 3512, 3734, 3788, 3907, 4021, 4316, 4337, 4359, 4620, 4625, 4884, 4891, 4892, 5125, 5223, 5344, 5516, 5541, 5550, 5592, 5734, 5838, 6131, 6203, 6253, 6282, 6299, 6331, 6384, 6413, 6505, 6748, 7022, 7087, 7457, 7504, 7514, 7521, 7607, 7608, 7664, 7767, 8039, 8107, 8215, 8269, 8661, 9025, 9403, 9404, 9437, 9599, 9637, 9817, 9853, 9907, 9986, 10565, 10600, 10664, 10743, 10777, 11049, 11062, 11100, 11146, 11204, 11398, 11519, 11540, 11541, 11587, 11716, 11818, 12003, 12121, 12154, 12231, 12357, 12468, 12591, 12680, 12783, 12836, 13627, 13677, 13946, 14057, 14740, 14872, ...], 'UW-02': [72, 73, 74, 80, 421, 857, 964, 1025, 1183, 1433, 1435, 1566, 1932, 2057, 2116, 2117, 2354, 2720, 2778, 3098, 3306, 3319, 3492, 3523, 3543, 3603, 3767, 4362, 4424, 5003, 5006, 5080, 5202, 5308, 5325, 5333, 5600, 5923, 6003, 6250, 6267, 6270, 6453, 6524, 7090, 7491, 7603, 7604, 7869, 8148, 8401, 8813, 8911, 8912, 8918, 9589, 9790, 9875, 9889, 9891, 9985, 10147, 10494, 11053, 11054, 11520, 11521, 11525, 11527, 11530, 11534, 11680, 11773, 12047, 12051, 12053, 12055, 12056, 12058, 12088, 12096, 12300, 12397, 12407, 12782, 12933, 12938, 12973, 12974, 13093, 13244, 13497, 13943, 14521, 14737, 14981, 14984, 15217, 15310, 15965, ...], 'UW-04': [187, 343, 375, 463, 477, 580, 673, 761, 780, 833, 1052, 1055, 1080, 1110, 1324, 1393, 1394, 1483, 1527, 1708, 1750, 1784, 1804, 1814, 2074, 2075, 2114, 2213, 2214, 2218, 2219, 2239, 2240, 2271, 2415, 2490, 2497, 2674, 2781, 2985, 3138, 3199, 3285, 3355, 3432, 3480, 3542, 3580, 3610, 3635, 3910, 3919, 4003, 4036, 4065, 4279, 4338, 4355, 4492, 4507, 4606, 4968, 4969, 5059, 5303, 5356, 5390, 5393, 5436, 5511, 5528, 5531, 5792, 5829, 5854, 5903, 5938, 5972, 6074, 6075, 6215, 6288, 6326, 6403, 6451, 6797, 6945, 6961, 7080, 7103, 7114, 7146, 7147, 7222, 7433, 7541, 7786, 7830, 7851, 7852, ...], 'UW-06': [167, 272, 385, 631, 773, 951, 1011, 1047, 1077, 1082, 1195, 1338, 1402, 1493, 1510, 1572, 1606, 1621, 1713, 1722, 1808, 1827, 2084, 2149, 2152, 2238, 2769, 2770, 2773, 2805, 2853, 2932, 3120, 3121, 3218, 3219, 3233, 3240, 3243, 3310, 3311, 3348, 3448, 3464, 3478, 3491, 3532, 3545, 3588, 3639, 3642, 3682, 3762, 3801, 3822, 3937, 3940, 3977, 4000, 4006, 4058, 4082, 4138, 4175, 4345, 4454, 4698, 4733, 5070, 5166, 5245, 5292, 5352, 5519, 5554, 5579, 5629, 5654, 5685, 5755, 5944, 5965, 5974, 5989, 6026, 6117, 6200, 6227, 6228, 6251, 6255, 6257, 6263, 6301, 6339, 6352, 6396, 6422, 6429, 6456, ...], 'UW-07': [121, 122, 215, 216, 365, 367, 404, 720, 1089, 1141, 1142, 1408, 1409, 1453, 1471, 1668, 1700, 2015, 2051, 2249, 2532, 3173, 3566, 3879, 4310, 4463, 4605, 4647, 5042, 5062, 5154, 5401, 5402, 5405, 5414, 5435, 5647, 5682, 5726, 5911, 5986, 5987, 6068, 6812, 6849, 6850, 7118, 7552, 7584, 7630, 7631, 7969, 8308, 8523, 8677, 8750, 8788, 8865, 9069, 9301, 9318, 9319, 9320, 9326, 9329, 9330, 9346, 9347, 9363, 9592, 9700, 9843, 10905, 11163, 11581, 11582, 12146, 12179, 12363, 12521, 12615, 12752, 12809, 12849, 12899, 12954, 12955, 13144, 13183, 13300, 13301, 13734, 13757, 14013, 14068, 14359, 14434, 14561, 14796, 15080, ...], 'UW-10': [104, 124, 128, 314, 619, 896, 934, 935, 999, 1006, 1069, 1278, 1360, 1374, 1441, 1465, 1498, 2098, 2376, 2377, 2583, 2584, 2644, 2827, 2865, 2866, 3252, 3455, 3567, 3573, 3939, 3962, 4019, 4301, 4339, 4342, 4493, 4526, 4807, 5262, 5662, 5786, 5878, 5918, 6349, 6499, 6779, 6793, 7048, 7130, 7412, 7417, 7531, 7643, 7644, 7928, 7976, 8214, 8348, 8376, 8630, 8808, 8827, 9213, 9248, 9342, 9343, 9601, 9737, 9741, 9742, 10003, 10184, 12101, 12158, 12294, 12507, 12621, 12903, 13029, 13481, 13516, 13897, 13898, 13901, 14005, 14517, 14691, 14698, 14969, 15004, 15096, 15124, 15170, 15171, 15173, 15180, 15445, 15954, 15971, ...], 'WF-01': [133, 135, 297, 298, 300, 302, 307, 369, 475, 514, 518, 519, 533, 534, 535, 660, 716, 854, 855, 910, 948, 1009, 1016, 1038, 1320, 1321, 1404, 1422, 1456, 1480, 1523, 1556, 1557, 1591, 1593, 1774, 1862, 1863, 1898, 1979, 2008, 2009, 2012, 2038, 2039, 2052, 2080, 2081, 2082, 2100, 2106, 2107, 2108, 2131, 2158, 2159, 2160, 2161, 2170, 2174, 2191, 2192, 2204, 2241, 2346, 2358, 2365, 2366, 2380, 2381, 2427, 2433, 2464, 2474, 2475, 2479, 2480, 2502, 2505, 2544, 2578, 2618, 2619, 2668, 2700, 2704, 2718, 2719, 2726, 2727, 2747, 2776, 2785, 2807, 2820, 2825, 2829, 2836, 2838, 2858, ...], 'WF-04': [64, 65, 132, 157, 203, 207, 236, 264, 266, 267, 270, 332, 361, 412, 507, 508, 511, 557, 574, 717, 1018, 1335, 1378, 1446, 1455, 1701, 1702, 1760, 1779, 2076, 2077, 2078, 2090, 2153, 2154, 2156, 2197, 2198, 2258, 2259, 2340, 2341, 2503, 2504, 2506, 2507, 2508, 2509, 2510, 2511, 2533, 2565, 2566, 2656, 2660, 2662, 2780, 3030, 3031, 3051, 3062, 3079, 3146, 3192, 3230, 3265, 3541, 3559, 3654, 3797, 3995, 4030, 4031, 4098, 4356, 4455, 4498, 4663, 4664, 4743, 4744, 4783, 4784, 4785, 4861, 4996, 4998, 5203, 5266, 5267, 5271, 5272, 5273, 5314, 5343, 5407, 5513, 5570, 5593, 5632, ...]}"
      ]
     },
     "execution_count": 67,
     "metadata": {},
     "output_type": "execute_result"
    }
   ],
   "source": [
    "dfgroup = df.groupby(['from_station_id'])\n",
    "dfgroup.groups"
   ]
  },
  {
   "cell_type": "markdown",
   "metadata": {},
   "source": [
    "The simplest version of a groupby looks like this, and you can use almost any aggregation function you wish (mean, median, sum, minimum, maximum, standard deviation, count, etc.)\n",
    "\n",
    "```\n",
    "<data object>.groupby(<grouping values>)['<column to aggregate>'].<aggregate>()\n",
    "```\n",
    "\n",
    "for example, we can group by gender and find the average of duration:"
   ]
  },
  {
   "cell_type": "code",
   "execution_count": 68,
   "metadata": {},
   "outputs": [
    {
     "data": {
      "text/plain": [
       "gender\n",
       "Female    728.251519\n",
       "Male      572.838792\n",
       "Other     653.934669\n",
       "Name: tripduration, dtype: float64"
      ]
     },
     "execution_count": 68,
     "metadata": {},
     "output_type": "execute_result"
    }
   ],
   "source": [
    "df.groupby('gender')['tripduration'].mean()"
   ]
  },
  {
   "cell_type": "markdown",
   "metadata": {},
   "source": [
    "You can even group by multiple values: for example we can look at the trip duration by time of day and by gender:"
   ]
  },
  {
   "cell_type": "code",
   "execution_count": 69,
   "metadata": {},
   "outputs": [
    {
     "data": {
      "text/plain": [
       "gender  hour\n",
       "Female  0        540.996455\n",
       "        1        523.310639\n",
       "        2        502.295000\n",
       "        3       1007.800500\n",
       "        4        547.410355\n",
       "                   ...     \n",
       "Other   19       574.795243\n",
       "        20       483.064831\n",
       "        21       456.407500\n",
       "        22       397.138250\n",
       "        23       310.997222\n",
       "Name: tripduration, Length: 71, dtype: float64"
      ]
     },
     "execution_count": 69,
     "metadata": {},
     "output_type": "execute_result"
    }
   ],
   "source": [
    "df.groupby(['gender', 'hour'])['tripduration'].mean()"
   ]
  },
  {
   "cell_type": "markdown",
   "metadata": {},
   "source": [
    "The ``unstack()`` operation can help make sense of this type of multiply-grouped data. What this technically does is split a multiple-valued index into an index plus columns:"
   ]
  },
  {
   "cell_type": "code",
   "execution_count": 70,
   "metadata": {},
   "outputs": [
    {
     "data": {
      "text/html": [
       "<div>\n",
       "<style scoped>\n",
       "    .dataframe tbody tr th:only-of-type {\n",
       "        vertical-align: middle;\n",
       "    }\n",
       "\n",
       "    .dataframe tbody tr th {\n",
       "        vertical-align: top;\n",
       "    }\n",
       "\n",
       "    .dataframe thead th {\n",
       "        text-align: right;\n",
       "    }\n",
       "</style>\n",
       "<table border=\"1\" class=\"dataframe\">\n",
       "  <thead>\n",
       "    <tr style=\"text-align: right;\">\n",
       "      <th>hour</th>\n",
       "      <th>0</th>\n",
       "      <th>1</th>\n",
       "      <th>2</th>\n",
       "      <th>3</th>\n",
       "      <th>4</th>\n",
       "      <th>5</th>\n",
       "      <th>6</th>\n",
       "      <th>7</th>\n",
       "      <th>8</th>\n",
       "      <th>9</th>\n",
       "      <th>...</th>\n",
       "      <th>14</th>\n",
       "      <th>15</th>\n",
       "      <th>16</th>\n",
       "      <th>17</th>\n",
       "      <th>18</th>\n",
       "      <th>19</th>\n",
       "      <th>20</th>\n",
       "      <th>21</th>\n",
       "      <th>22</th>\n",
       "      <th>23</th>\n",
       "    </tr>\n",
       "    <tr>\n",
       "      <th>gender</th>\n",
       "      <th></th>\n",
       "      <th></th>\n",
       "      <th></th>\n",
       "      <th></th>\n",
       "      <th></th>\n",
       "      <th></th>\n",
       "      <th></th>\n",
       "      <th></th>\n",
       "      <th></th>\n",
       "      <th></th>\n",
       "      <th></th>\n",
       "      <th></th>\n",
       "      <th></th>\n",
       "      <th></th>\n",
       "      <th></th>\n",
       "      <th></th>\n",
       "      <th></th>\n",
       "      <th></th>\n",
       "      <th></th>\n",
       "      <th></th>\n",
       "      <th></th>\n",
       "    </tr>\n",
       "  </thead>\n",
       "  <tbody>\n",
       "    <tr>\n",
       "      <th>Female</th>\n",
       "      <td>540.996455</td>\n",
       "      <td>523.310639</td>\n",
       "      <td>502.295000</td>\n",
       "      <td>1007.800500</td>\n",
       "      <td>547.410355</td>\n",
       "      <td>778.254332</td>\n",
       "      <td>657.245450</td>\n",
       "      <td>743.552857</td>\n",
       "      <td>678.593891</td>\n",
       "      <td>652.899275</td>\n",
       "      <td>...</td>\n",
       "      <td>785.130618</td>\n",
       "      <td>751.267857</td>\n",
       "      <td>756.890662</td>\n",
       "      <td>775.647138</td>\n",
       "      <td>744.844373</td>\n",
       "      <td>720.510559</td>\n",
       "      <td>702.979207</td>\n",
       "      <td>674.491882</td>\n",
       "      <td>665.30151</td>\n",
       "      <td>661.940170</td>\n",
       "    </tr>\n",
       "    <tr>\n",
       "      <th>Male</th>\n",
       "      <td>525.053893</td>\n",
       "      <td>471.947179</td>\n",
       "      <td>532.854533</td>\n",
       "      <td>485.238744</td>\n",
       "      <td>728.095014</td>\n",
       "      <td>495.684878</td>\n",
       "      <td>482.291031</td>\n",
       "      <td>567.667777</td>\n",
       "      <td>553.140782</td>\n",
       "      <td>541.172096</td>\n",
       "      <td>...</td>\n",
       "      <td>605.820788</td>\n",
       "      <td>635.217859</td>\n",
       "      <td>632.089743</td>\n",
       "      <td>630.434811</td>\n",
       "      <td>565.923676</td>\n",
       "      <td>544.084021</td>\n",
       "      <td>555.195317</td>\n",
       "      <td>531.572719</td>\n",
       "      <td>523.98790</td>\n",
       "      <td>485.150192</td>\n",
       "    </tr>\n",
       "    <tr>\n",
       "      <th>Other</th>\n",
       "      <td>487.427300</td>\n",
       "      <td>825.941000</td>\n",
       "      <td>440.641333</td>\n",
       "      <td>338.601000</td>\n",
       "      <td>168.646000</td>\n",
       "      <td>NaN</td>\n",
       "      <td>585.178400</td>\n",
       "      <td>631.525145</td>\n",
       "      <td>607.788879</td>\n",
       "      <td>670.046800</td>\n",
       "      <td>...</td>\n",
       "      <td>706.807707</td>\n",
       "      <td>634.847866</td>\n",
       "      <td>830.724119</td>\n",
       "      <td>719.429153</td>\n",
       "      <td>568.669115</td>\n",
       "      <td>574.795243</td>\n",
       "      <td>483.064831</td>\n",
       "      <td>456.407500</td>\n",
       "      <td>397.13825</td>\n",
       "      <td>310.997222</td>\n",
       "    </tr>\n",
       "  </tbody>\n",
       "</table>\n",
       "<p>3 rows × 24 columns</p>\n",
       "</div>"
      ],
      "text/plain": [
       "hour            0           1           2            3           4   \\\n",
       "gender                                                                \n",
       "Female  540.996455  523.310639  502.295000  1007.800500  547.410355   \n",
       "Male    525.053893  471.947179  532.854533   485.238744  728.095014   \n",
       "Other   487.427300  825.941000  440.641333   338.601000  168.646000   \n",
       "\n",
       "hour            5           6           7           8           9   ...  \\\n",
       "gender                                                              ...   \n",
       "Female  778.254332  657.245450  743.552857  678.593891  652.899275  ...   \n",
       "Male    495.684878  482.291031  567.667777  553.140782  541.172096  ...   \n",
       "Other          NaN  585.178400  631.525145  607.788879  670.046800  ...   \n",
       "\n",
       "hour            14          15          16          17          18  \\\n",
       "gender                                                               \n",
       "Female  785.130618  751.267857  756.890662  775.647138  744.844373   \n",
       "Male    605.820788  635.217859  632.089743  630.434811  565.923676   \n",
       "Other   706.807707  634.847866  830.724119  719.429153  568.669115   \n",
       "\n",
       "hour            19          20          21         22          23  \n",
       "gender                                                             \n",
       "Female  720.510559  702.979207  674.491882  665.30151  661.940170  \n",
       "Male    544.084021  555.195317  531.572719  523.98790  485.150192  \n",
       "Other   574.795243  483.064831  456.407500  397.13825  310.997222  \n",
       "\n",
       "[3 rows x 24 columns]"
      ]
     },
     "execution_count": 70,
     "metadata": {},
     "output_type": "execute_result"
    }
   ],
   "source": [
    "df.groupby(['gender', 'hour'])['tripduration'].mean().unstack()"
   ]
  },
  {
   "cell_type": "markdown",
   "metadata": {},
   "source": [
    "### Visualizing data with ``pandas``\n",
    "\n",
    "Of course, looking at tables of data is not very intuitive.\n",
    "Fortunately Pandas has many useful plotting functions built-in, all of which make use of the ``matplotlib`` library to generate plots.\n",
    "\n",
    "In the past, whenever you did plotting in the IPython notebook, you should have first run this *magic command* which configured the notebook to work well with plots. However, this is *no longer necessary* as of the last few years. If you have an *old* installation of iPython, you may need to do this - but you should have upgraded as part of the Software Installation instructions."
   ]
  },
  {
   "cell_type": "code",
   "execution_count": 71,
   "metadata": {},
   "outputs": [],
   "source": [
    "%matplotlib inline"
   ]
  },
  {
   "cell_type": "markdown",
   "metadata": {},
   "source": [
    "Now we can simply call the `plot()` method of any series or dataframe to get a reasonable view of the data:"
   ]
  },
  {
   "cell_type": "code",
   "execution_count": 72,
   "metadata": {},
   "outputs": [
    {
     "data": {
      "text/plain": [
       "<Axes: >"
      ]
     },
     "execution_count": 72,
     "metadata": {},
     "output_type": "execute_result"
    },
    {
     "data": {
      "image/png": "[encoded data removed]",
      "text/plain": [
       "<Figure size 640x480 with 1 Axes>"
      ]
     },
     "metadata": {},
     "output_type": "display_data"
    }
   ],
   "source": [
    "import matplotlib.pyplot as plt\n",
    "df['tripduration'].plot()"
   ]
  },
  {
   "cell_type": "markdown",
   "metadata": {},
   "source": [
    "### Adjusting the Plot Style\n",
    "\n",
    "Matplotlib has a number of plot styles you can use. For example, if you like R you might use the ggplot style:"
   ]
  },
  {
   "cell_type": "code",
   "execution_count": 73,
   "metadata": {},
   "outputs": [],
   "source": [
    "plt.style.use(\"ggplot\")"
   ]
  },
  {
   "cell_type": "markdown",
   "metadata": {},
   "source": [
    "### Other plot types\n",
    "\n",
    "Pandas supports a range of other plotting types; you can find these by using the <TAB> autocomplete on the ``plot`` method:"
   ]
  },
  {
   "cell_type": "code",
   "execution_count": 74,
   "metadata": {},
   "outputs": [],
   "source": [
    "# plt."
   ]
  },
  {
   "cell_type": "markdown",
   "metadata": {},
   "source": [
    "For example, we can create a histogram of trip durations:"
   ]
  },
  {
   "cell_type": "code",
   "execution_count": 75,
   "metadata": {},
   "outputs": [
    {
     "data": {
      "text/plain": [
       "<Axes: >"
      ]
     },
     "execution_count": 75,
     "metadata": {},
     "output_type": "execute_result"
    },
    {
     "data": {
      "image/png": "[encoded data removed]",
      "text/plain": [
       "<Figure size 640x480 with 1 Axes>"
      ]
     },
     "metadata": {},
     "output_type": "display_data"
    }
   ],
   "source": [
    "df['tripduration'].hist()"
   ]
  },
  {
   "cell_type": "markdown",
   "metadata": {},
   "source": [
    "If you'd like to adjust the x and y limits of the plot, you can use the ``set_xlim()`` and ``set_ylim()`` method of the resulting object:"
   ]
  },
  {
   "cell_type": "code",
   "execution_count": 76,
   "metadata": {},
   "outputs": [
    {
     "data": {
      "text/plain": [
       "(0.0, 20000.0)"
      ]
     },
     "execution_count": 76,
     "metadata": {},
     "output_type": "execute_result"
    },
    {
     "data": {
      "image/png": "[encoded data removed]",
      "text/plain": [
       "<Figure size 640x480 with 1 Axes>"
      ]
     },
     "metadata": {},
     "output_type": "display_data"
    }
   ],
   "source": [
    "df['tripduration'].hist().set_xlim(0, 20000)"
   ]
  },
  {
   "cell_type": "markdown",
   "metadata": {},
   "source": [
    "## Breakout: Exploring the Data\n",
    "\n",
    "Make a plot of the total number of rides as a function of month of the year (You'll need to extract the month, use a ``groupby``, and find the appropriate aggregation to count the number in each group)."
   ]
  },
  {
   "cell_type": "code",
   "execution_count": 77,
   "metadata": {},
   "outputs": [
    {
     "data": {
      "text/plain": [
       "<Axes: xlabel='month'>"
      ]
     },
     "execution_count": 77,
     "metadata": {},
     "output_type": "execute_result"
    },
    {
     "data": {
      "image/png": "[encoded data removed]",
      "text/plain": [
       "<Figure size 640x480 with 1 Axes>"
      ]
     },
     "metadata": {},
     "output_type": "display_data"
    }
   ],
   "source": [
    "df.groupby('month')['month'].count().plot()"
   ]
  },
  {
   "cell_type": "markdown",
   "metadata": {},
   "source": [
    "Split this plot by gender. Do you see any seasonal ridership patterns by gender?"
   ]
  },
  {
   "cell_type": "code",
   "execution_count": 78,
   "metadata": {},
   "outputs": [
    {
     "data": {
      "text/plain": [
       "<Axes: xlabel='month'>"
      ]
     },
     "execution_count": 78,
     "metadata": {},
     "output_type": "execute_result"
    },
    {
     "data": {
      "image/png": "[encoded data removed]",
      "text/plain": [
       "<Figure size 640x480 with 1 Axes>"
      ]
     },
     "metadata": {},
     "output_type": "display_data"
    }
   ],
   "source": [
    "df.groupby(['month', 'gender'])['month'].count().unstack().plot()"
   ]
  },
  {
   "cell_type": "markdown",
   "metadata": {},
   "source": [
    "Split this plot by user type. Do you see any seasonal ridership patterns by usertype?"
   ]
  },
  {
   "cell_type": "code",
   "execution_count": 79,
   "metadata": {},
   "outputs": [
    {
     "data": {
      "text/plain": [
       "<Axes: xlabel='month'>"
      ]
     },
     "execution_count": 79,
     "metadata": {},
     "output_type": "execute_result"
    },
    {
     "data": {
      "image/png": "[encoded data removed]",
      "text/plain": [
       "<Figure size 640x480 with 1 Axes>"
      ]
     },
     "metadata": {},
     "output_type": "display_data"
    }
   ],
   "source": [
    "df.groupby(['month', 'usertype'])['month'].count().unstack().plot()"
   ]
  },
  {
   "cell_type": "markdown",
   "metadata": {},
   "source": [
    "Repeat the above three steps, counting the number of rides by time of day rather that by month."
   ]
  },
  {
   "cell_type": "code",
   "execution_count": 80,
   "metadata": {},
   "outputs": [
    {
     "data": {
      "text/plain": [
       "<Axes: xlabel='hour'>"
      ]
     },
     "execution_count": 80,
     "metadata": {},
     "output_type": "execute_result"
    },
    {
     "data": {
      "image/png": "[encoded data removed]",
      "text/plain": [
       "<Figure size 640x480 with 1 Axes>"
      ]
     },
     "metadata": {},
     "output_type": "display_data"
    }
   ],
   "source": [
    "df.groupby('hour')['hour'].count().plot()"
   ]
  },
  {
   "cell_type": "code",
   "execution_count": 81,
   "metadata": {},
   "outputs": [
    {
     "data": {
      "text/plain": [
       "<Axes: xlabel='hour'>"
      ]
     },
     "execution_count": 81,
     "metadata": {},
     "output_type": "execute_result"
    },
    {
     "data": {
      "image/png": "[encoded data removed]",
      "text/plain": [
       "<Figure size 640x480 with 1 Axes>"
      ]
     },
     "metadata": {},
     "output_type": "display_data"
    }
   ],
   "source": [
    "df.groupby(['hour', 'gender'])['month'].count().unstack().plot()"
   ]
  },
  {
   "cell_type": "code",
   "execution_count": 82,
   "metadata": {},
   "outputs": [
    {
     "data": {
      "text/plain": [
       "<Axes: xlabel='hour'>"
      ]
     },
     "execution_count": 82,
     "metadata": {},
     "output_type": "execute_result"
    },
    {
     "data": {
      "image/png": "[encoded data removed]",
      "text/plain": [
       "<Figure size 640x480 with 1 Axes>"
      ]
     },
     "metadata": {},
     "output_type": "display_data"
    }
   ],
   "source": [
    "df.groupby(['hour', 'usertype'])['month'].count().unstack().plot()"
   ]
  },
  {
   "cell_type": "markdown",
   "metadata": {},
   "source": [
    "Are there any other interesting insights you can discover in the data using these tools?"
   ]
  },
  {
   "cell_type": "code",
   "execution_count": null,
   "metadata": {},
   "outputs": [],
   "source": []
  }
 ],
 "metadata": {
  "anaconda-cloud": {},
  "kernelspec": {
   "display_name": "Python 3 (ipykernel)",
   "language": "python",
   "name": "python3"
  },
  "language_info": {
   "codemirror_mode": {
    "name": "ipython",
    "version": 3
   },
   "file_extension": ".py",
   "mimetype": "text/x-python",
   "name": "python",
   "nbconvert_exporter": "python",
   "pygments_lexer": "ipython3",
   "version": "3.11.11"
  },
  "vscode": {
   "interpreter": {
    "hash": "31f2aee4e71d21fbe5cf8b01ff0e069b9275f58929596ceb00d14d90e3e16cd6"
   }
  }
 },
 "nbformat": 4,
 "nbformat_minor": 4
}
