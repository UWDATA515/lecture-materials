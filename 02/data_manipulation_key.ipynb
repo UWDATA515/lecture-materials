{
 "cells": [
  {
   "cell_type": "markdown",
   "metadata": {},
   "source": [
    "# Software Design for Data Scientists\n",
    "\n",
    "## *Sophisticated Data Manipulation"
   ]
  },
  {
   "cell_type": "markdown",
   "metadata": {},
   "source": [
    "## 1. Python's Data Science Ecosystem\n",
    "\n",
    "With this simple Python computation experience under our belt, we can now move to doing some more interesting analysis."
   ]
  },
  {
   "cell_type": "markdown",
   "metadata": {},
   "source": [
    "### Python's Data Science Ecosystem\n",
    "\n",
    "In addition to Python's built-in modules like the ``math`` module we explored above, there are also many often-used third-party modules that are core tools for doing data science with Python.\n",
    "Some of the most important ones are:\n",
    "\n",
    "#### [``numpy``](http://numpy.org/): Numerical Python\n",
    "\n",
    "Numpy is short for \"Numerical Python\", and contains tools for efficient manipulation of arrays of data.\n",
    "If you have used other computational tools like MatLab, Numpy should feel very familiar.\n",
    "\n",
    "#### [``scipy``](http://scipy.org/): Scientific Python\n",
    "\n",
    "Scipy is short for \"Scientific Python\", and contains a wide range of functionality for accomplishing common scientific tasks, such as:\n",
    "\n",
    "* optimization/minimization\n",
    "* numerical integration\n",
    "* interpolation\n",
    "* and much more\n",
    "\n",
    "We will not look closely at Scipy today, but we will use its functionality later in the course.\n",
    "\n",
    "#### [``pandas``](http://pandas.pydata.org/): Labeled Data Manipulation in Python\n",
    "\n",
    "Pandas is short for \"Panel Data\", and contains tools for doing more advanced manipulation of labeled data in Python, in particular with a columnar data structure called a *Data Frame*.\n",
    "If you've used the [R](http://rstats.org) statistical language, much of the functionality in Pandas should feel very familiar.\n",
    "\n",
    "#### [``matplotlib``](http://matplotlib.org): Visualization in Python\n",
    "\n",
    "Matplotlib started out as a Matlab plotting clone in Python, and has grown from there in the 15 years since its creation. It is the most popular data visualization tool currently in the Python data world (though other recent packages are starting to encroach on its monopoly)."
   ]
  },
  {
   "cell_type": "markdown",
   "metadata": {},
   "source": [
    "# 2. Installation"
   ]
  },
  {
   "cell_type": "markdown",
   "metadata": {},
   "source": [
    "### Installing Pandas & friends\n",
    "\n",
    "Because the above packages are not included in Python itself, you need to install them separately. While it is possible to install these from source (compiling the C and/or Fortran code that does the heavy lifting under the hood) it is much easier to use a package manager like ``conda``. All it takes is to run\n",
    "\n",
    "```\n",
    "$ conda install numpy scipy pandas matplotlib\n",
    "```\n",
    "\n",
    "and (so long as your conda setup is working) the packages will be downloaded and installed on your system."
   ]
  },
  {
   "cell_type": "markdown",
   "metadata": {},
   "source": [
    "# 3. Arrays and slicing in Numpy"
   ]
  },
  {
   "cell_type": "code",
   "execution_count": 1,
   "metadata": {},
   "outputs": [],
   "source": [
    "import numpy as np"
   ]
  },
  {
   "cell_type": "markdown",
   "metadata": {},
   "source": [
    "### Lists in native Python\n",
    "\n",
    "Let's create a **list**, a native Python object that we've used earlier today."
   ]
  },
  {
   "cell_type": "code",
   "execution_count": 2,
   "metadata": {},
   "outputs": [
    {
     "data": {
      "text/plain": [
       "[2, 5, 7, 8]"
      ]
     },
     "execution_count": 2,
     "metadata": {},
     "output_type": "execute_result"
    }
   ],
   "source": [
    "my_list = [2, 5, 7, 8]\n",
    "my_list"
   ]
  },
  {
   "cell_type": "code",
   "execution_count": 3,
   "metadata": {},
   "outputs": [
    {
     "data": {
      "text/plain": [
       "list"
      ]
     },
     "execution_count": 3,
     "metadata": {},
     "output_type": "execute_result"
    }
   ],
   "source": [
    "type(my_list)"
   ]
  },
  {
   "cell_type": "markdown",
   "metadata": {},
   "source": [
    "This list is one-dimensional, let's make it multidimensional!"
   ]
  },
  {
   "cell_type": "code",
   "execution_count": 4,
   "metadata": {},
   "outputs": [],
   "source": [
    "multi_list = [[1, 2, 3], [4, 5, 6]]"
   ]
  },
  {
   "cell_type": "markdown",
   "metadata": {},
   "source": [
    "How do we access the *6* element in the second row, third column for native Python list?"
   ]
  },
  {
   "cell_type": "code",
   "execution_count": 5,
   "metadata": {},
   "outputs": [
    {
     "data": {
      "text/plain": [
       "6"
      ]
     },
     "execution_count": 5,
     "metadata": {},
     "output_type": "execute_result"
    }
   ],
   "source": [
    "multi_list[1][2]"
   ]
  },
  {
   "cell_type": "markdown",
   "metadata": {},
   "source": [
    "### Converting to numpy Arrays"
   ]
  },
  {
   "cell_type": "code",
   "execution_count": 6,
   "metadata": {},
   "outputs": [],
   "source": [
    "my_array = np.array(my_list)"
   ]
  },
  {
   "cell_type": "code",
   "execution_count": 7,
   "metadata": {},
   "outputs": [
    {
     "data": {
      "text/plain": [
       "numpy.ndarray"
      ]
     },
     "execution_count": 7,
     "metadata": {},
     "output_type": "execute_result"
    }
   ],
   "source": [
    "type(my_array)"
   ]
  },
  {
   "cell_type": "code",
   "execution_count": 8,
   "metadata": {},
   "outputs": [
    {
     "data": {
      "text/plain": [
       "dtype('int64')"
      ]
     },
     "execution_count": 8,
     "metadata": {},
     "output_type": "execute_result"
    }
   ],
   "source": [
    "my_array.dtype"
   ]
  },
  {
   "cell_type": "code",
   "execution_count": 9,
   "metadata": {},
   "outputs": [
    {
     "data": {
      "text/plain": [
       "(4,)"
      ]
     },
     "execution_count": 9,
     "metadata": {},
     "output_type": "execute_result"
    }
   ],
   "source": [
    "my_array.shape"
   ]
  },
  {
   "cell_type": "code",
   "execution_count": 10,
   "metadata": {},
   "outputs": [],
   "source": [
    "my_array = np.array([my_list])"
   ]
  },
  {
   "cell_type": "code",
   "execution_count": 11,
   "metadata": {},
   "outputs": [
    {
     "data": {
      "text/plain": [
       "(1, 4)"
      ]
     },
     "execution_count": 11,
     "metadata": {},
     "output_type": "execute_result"
    }
   ],
   "source": [
    "my_array.shape"
   ]
  },
  {
   "cell_type": "code",
   "execution_count": 12,
   "metadata": {},
   "outputs": [
    {
     "data": {
      "text/plain": [
       "array([[2, 5, 7, 8]])"
      ]
     },
     "execution_count": 12,
     "metadata": {},
     "output_type": "execute_result"
    }
   ],
   "source": [
    "my_array"
   ]
  },
  {
   "cell_type": "code",
   "execution_count": 13,
   "metadata": {},
   "outputs": [],
   "source": [
    "multi_array = np.array([[1, 2, 3], [4, 5, 6]], np.int32)"
   ]
  },
  {
   "cell_type": "markdown",
   "metadata": {},
   "source": [
    "How do we access the *6* element in the second row, third column for numpy array?"
   ]
  },
  {
   "cell_type": "code",
   "execution_count": 14,
   "metadata": {},
   "outputs": [
    {
     "data": {
      "text/plain": [
       "6"
      ]
     },
     "execution_count": 14,
     "metadata": {},
     "output_type": "execute_result"
    }
   ],
   "source": [
    "multi_array[1][2]"
   ]
  },
  {
   "cell_type": "markdown",
   "metadata": {},
   "source": [
    "How do we retrieve a slice of the array, `array([[1, 2], [4, 5]])`?"
   ]
  },
  {
   "cell_type": "code",
   "execution_count": 15,
   "metadata": {},
   "outputs": [
    {
     "data": {
      "text/plain": [
       "array([[1, 2],\n",
       "       [4, 5]], dtype=int32)"
      ]
     },
     "execution_count": 15,
     "metadata": {},
     "output_type": "execute_result"
    }
   ],
   "source": [
    "multi_array[0:2, 0:2]"
   ]
  },
  {
   "cell_type": "markdown",
   "metadata": {},
   "source": [
    "How do we retrieve the second column of the array?"
   ]
  },
  {
   "cell_type": "code",
   "execution_count": 16,
   "metadata": {},
   "outputs": [
    {
     "data": {
      "text/plain": [
       "array([2, 5], dtype=int32)"
      ]
     },
     "execution_count": 16,
     "metadata": {},
     "output_type": "execute_result"
    }
   ],
   "source": [
    "multi_array[:, 1]"
   ]
  },
  {
   "cell_type": "markdown",
   "metadata": {},
   "source": [
    "## 4. Introduction to Pandas DataFrames"
   ]
  },
  {
   "cell_type": "markdown",
   "metadata": {},
   "source": [
    "What are the elements of a table?"
   ]
  },
  {
   "cell_type": "code",
   "execution_count": 17,
   "metadata": {},
   "outputs": [],
   "source": [
    "# Pandas DataFrames as table elements\n",
    "import pandas as pd"
   ]
  },
  {
   "cell_type": "markdown",
   "metadata": {},
   "source": [
    "What operations do we perform on tables?"
   ]
  },
  {
   "cell_type": "code",
   "execution_count": 18,
   "metadata": {},
   "outputs": [
    {
     "data": {
      "text/html": [
       "<div>\n",
       "<style scoped>\n",
       "    .dataframe tbody tr th:only-of-type {\n",
       "        vertical-align: middle;\n",
       "    }\n",
       "\n",
       "    .dataframe tbody tr th {\n",
       "        vertical-align: top;\n",
       "    }\n",
       "\n",
       "    .dataframe thead th {\n",
       "        text-align: right;\n",
       "    }\n",
       "</style>\n",
       "<table border=\"1\" class=\"dataframe\">\n",
       "  <thead>\n",
       "    <tr style=\"text-align: right;\">\n",
       "      <th></th>\n",
       "      <th>A</th>\n",
       "      <th>B</th>\n",
       "      <th>ccc</th>\n",
       "    </tr>\n",
       "  </thead>\n",
       "  <tbody>\n",
       "    <tr>\n",
       "      <th>x</th>\n",
       "      <td>1</td>\n",
       "      <td>2</td>\n",
       "      <td>1.0</td>\n",
       "    </tr>\n",
       "    <tr>\n",
       "      <th>y</th>\n",
       "      <td>2</td>\n",
       "      <td>4</td>\n",
       "      <td>33.0</td>\n",
       "    </tr>\n",
       "    <tr>\n",
       "      <th>z</th>\n",
       "      <td>3</td>\n",
       "      <td>6</td>\n",
       "      <td>4.0</td>\n",
       "    </tr>\n",
       "  </tbody>\n",
       "</table>\n",
       "</div>"
      ],
      "text/plain": [
       "   A  B   ccc\n",
       "x  1  2   1.0\n",
       "y  2  4  33.0\n",
       "z  3  6   4.0"
      ]
     },
     "execution_count": 18,
     "metadata": {},
     "output_type": "execute_result"
    }
   ],
   "source": [
    "df = pd.DataFrame({'A': [1, 2, 3], 'B': [2, 4, 6], 'ccc': [1.0, 33, 4]})\n",
    "df.index = ['x', 'y', 'z']\n",
    "df"
   ]
  },
  {
   "cell_type": "markdown",
   "metadata": {},
   "source": [
    "Adding to tables together:"
   ]
  },
  {
   "cell_type": "code",
   "execution_count": 19,
   "metadata": {},
   "outputs": [
    {
     "data": {
      "text/html": [
       "<div>\n",
       "<style scoped>\n",
       "    .dataframe tbody tr th:only-of-type {\n",
       "        vertical-align: middle;\n",
       "    }\n",
       "\n",
       "    .dataframe tbody tr th {\n",
       "        vertical-align: top;\n",
       "    }\n",
       "\n",
       "    .dataframe thead th {\n",
       "        text-align: right;\n",
       "    }\n",
       "</style>\n",
       "<table border=\"1\" class=\"dataframe\">\n",
       "  <thead>\n",
       "    <tr style=\"text-align: right;\">\n",
       "      <th></th>\n",
       "      <th>A</th>\n",
       "      <th>B</th>\n",
       "      <th>ccc</th>\n",
       "    </tr>\n",
       "  </thead>\n",
       "  <tbody>\n",
       "    <tr>\n",
       "      <th>x</th>\n",
       "      <td>2</td>\n",
       "      <td>4</td>\n",
       "      <td>2.0</td>\n",
       "    </tr>\n",
       "    <tr>\n",
       "      <th>y</th>\n",
       "      <td>4</td>\n",
       "      <td>8</td>\n",
       "      <td>66.0</td>\n",
       "    </tr>\n",
       "    <tr>\n",
       "      <th>z</th>\n",
       "      <td>6</td>\n",
       "      <td>12</td>\n",
       "      <td>8.0</td>\n",
       "    </tr>\n",
       "  </tbody>\n",
       "</table>\n",
       "</div>"
      ],
      "text/plain": [
       "   A   B   ccc\n",
       "x  2   4   2.0\n",
       "y  4   8  66.0\n",
       "z  6  12   8.0"
      ]
     },
     "execution_count": 19,
     "metadata": {},
     "output_type": "execute_result"
    }
   ],
   "source": [
    "df+df"
   ]
  },
  {
   "cell_type": "code",
   "execution_count": 20,
   "metadata": {},
   "outputs": [
    {
     "data": {
      "text/html": [
       "<div>\n",
       "<style scoped>\n",
       "    .dataframe tbody tr th:only-of-type {\n",
       "        vertical-align: middle;\n",
       "    }\n",
       "\n",
       "    .dataframe tbody tr th {\n",
       "        vertical-align: top;\n",
       "    }\n",
       "\n",
       "    .dataframe thead th {\n",
       "        text-align: right;\n",
       "    }\n",
       "</style>\n",
       "<table border=\"1\" class=\"dataframe\">\n",
       "  <thead>\n",
       "    <tr style=\"text-align: right;\">\n",
       "      <th></th>\n",
       "      <th>A</th>\n",
       "      <th>B</th>\n",
       "    </tr>\n",
       "  </thead>\n",
       "  <tbody>\n",
       "    <tr>\n",
       "      <th>x</th>\n",
       "      <td>1</td>\n",
       "      <td>2</td>\n",
       "    </tr>\n",
       "    <tr>\n",
       "      <th>z</th>\n",
       "      <td>3</td>\n",
       "      <td>6</td>\n",
       "    </tr>\n",
       "    <tr>\n",
       "      <th>y</th>\n",
       "      <td>2</td>\n",
       "      <td>4</td>\n",
       "    </tr>\n",
       "  </tbody>\n",
       "</table>\n",
       "</div>"
      ],
      "text/plain": [
       "   A  B\n",
       "x  1  2\n",
       "z  3  6\n",
       "y  2  4"
      ]
     },
     "execution_count": 20,
     "metadata": {},
     "output_type": "execute_result"
    }
   ],
   "source": [
    "df2 = pd.DataFrame({'A': [1, 3, 2], 'B': [2, 6, 4]})\n",
    "df2.index = ['x', 'z', 'y']\n",
    "df2"
   ]
  },
  {
   "cell_type": "markdown",
   "metadata": {},
   "source": [
    "If you try to add two data frames that don't have quite the same columns:"
   ]
  },
  {
   "cell_type": "code",
   "execution_count": 21,
   "metadata": {},
   "outputs": [
    {
     "data": {
      "text/html": [
       "<div>\n",
       "<style scoped>\n",
       "    .dataframe tbody tr th:only-of-type {\n",
       "        vertical-align: middle;\n",
       "    }\n",
       "\n",
       "    .dataframe tbody tr th {\n",
       "        vertical-align: top;\n",
       "    }\n",
       "\n",
       "    .dataframe thead th {\n",
       "        text-align: right;\n",
       "    }\n",
       "</style>\n",
       "<table border=\"1\" class=\"dataframe\">\n",
       "  <thead>\n",
       "    <tr style=\"text-align: right;\">\n",
       "      <th></th>\n",
       "      <th>A</th>\n",
       "      <th>B</th>\n",
       "      <th>ccc</th>\n",
       "    </tr>\n",
       "  </thead>\n",
       "  <tbody>\n",
       "    <tr>\n",
       "      <th>x</th>\n",
       "      <td>2</td>\n",
       "      <td>4</td>\n",
       "      <td>NaN</td>\n",
       "    </tr>\n",
       "    <tr>\n",
       "      <th>y</th>\n",
       "      <td>4</td>\n",
       "      <td>8</td>\n",
       "      <td>NaN</td>\n",
       "    </tr>\n",
       "    <tr>\n",
       "      <th>z</th>\n",
       "      <td>6</td>\n",
       "      <td>12</td>\n",
       "      <td>NaN</td>\n",
       "    </tr>\n",
       "  </tbody>\n",
       "</table>\n",
       "</div>"
      ],
      "text/plain": [
       "   A   B  ccc\n",
       "x  2   4  NaN\n",
       "y  4   8  NaN\n",
       "z  6  12  NaN"
      ]
     },
     "execution_count": 21,
     "metadata": {},
     "output_type": "execute_result"
    }
   ],
   "source": [
    "df+df2"
   ]
  },
  {
   "cell_type": "markdown",
   "metadata": {},
   "source": [
    "We can get a subset of columns by indexing into the data frame with a set of column names:"
   ]
  },
  {
   "cell_type": "code",
   "execution_count": 22,
   "metadata": {},
   "outputs": [
    {
     "data": {
      "text/html": [
       "<div>\n",
       "<style scoped>\n",
       "    .dataframe tbody tr th:only-of-type {\n",
       "        vertical-align: middle;\n",
       "    }\n",
       "\n",
       "    .dataframe tbody tr th {\n",
       "        vertical-align: top;\n",
       "    }\n",
       "\n",
       "    .dataframe thead th {\n",
       "        text-align: right;\n",
       "    }\n",
       "</style>\n",
       "<table border=\"1\" class=\"dataframe\">\n",
       "  <thead>\n",
       "    <tr style=\"text-align: right;\">\n",
       "      <th></th>\n",
       "      <th>A</th>\n",
       "      <th>ccc</th>\n",
       "    </tr>\n",
       "  </thead>\n",
       "  <tbody>\n",
       "    <tr>\n",
       "      <th>x</th>\n",
       "      <td>1</td>\n",
       "      <td>1.0</td>\n",
       "    </tr>\n",
       "    <tr>\n",
       "      <th>y</th>\n",
       "      <td>2</td>\n",
       "      <td>33.0</td>\n",
       "    </tr>\n",
       "    <tr>\n",
       "      <th>z</th>\n",
       "      <td>3</td>\n",
       "      <td>4.0</td>\n",
       "    </tr>\n",
       "  </tbody>\n",
       "</table>\n",
       "</div>"
      ],
      "text/plain": [
       "   A   ccc\n",
       "x  1   1.0\n",
       "y  2  33.0\n",
       "z  3   4.0"
      ]
     },
     "execution_count": 22,
     "metadata": {},
     "output_type": "execute_result"
    }
   ],
   "source": [
    "sub_df = df[['A', 'ccc']]\n",
    "sub_df"
   ]
  },
  {
   "cell_type": "markdown",
   "metadata": {},
   "source": [
    "You can also combine these operations together:"
   ]
  },
  {
   "cell_type": "code",
   "execution_count": 23,
   "metadata": {},
   "outputs": [
    {
     "data": {
      "text/plain": [
       "x     5\n",
       "y    10\n",
       "z    15\n",
       "dtype: int64"
      ]
     },
     "execution_count": 23,
     "metadata": {},
     "output_type": "execute_result"
    }
   ],
   "source": [
    "df['A'] + 2*df['B']"
   ]
  },
  {
   "cell_type": "markdown",
   "metadata": {},
   "source": [
    "# Operations on a Pandas DataFrame"
   ]
  },
  {
   "cell_type": "markdown",
   "metadata": {},
   "source": [
    "## 5. Manipulating Data with DataFrames"
   ]
  },
  {
   "cell_type": "markdown",
   "metadata": {},
   "source": [
    "### Downloading the data\n",
    "\n",
    "Shell commands can be run from the notebook by preceding them with an exclamation point:"
   ]
  },
  {
   "cell_type": "code",
   "execution_count": 24,
   "metadata": {},
   "outputs": [
    {
     "name": "stdout",
     "output_type": "stream",
     "text": [
      "data_manipulation.ipynb                jupyter_and_python_breakout_key.ipynb\r\n",
      "data_manipulation_key.ipynb            pronto.csv\r\n",
      "jupyter.md                             \u001b[31mpython_vars_and_flow_control.ipynb\u001b[m\u001b[m\r\n",
      "jupyter_and_python_breakout.ipynb      python_vars_and_flow_control_key.ipynb\r\n"
     ]
    }
   ],
   "source": [
    "!ls"
   ]
  },
  {
   "cell_type": "markdown",
   "metadata": {},
   "source": [
    "uncomment this to download the data:"
   ]
  },
  {
   "cell_type": "code",
   "execution_count": 25,
   "metadata": {},
   "outputs": [],
   "source": [
    "#!curl -o pronto.csv 'https://data.seattle.gov/api/views/tw7j-dfaw/rows.csv?accessType=DOWNLOAD'"
   ]
  },
  {
   "cell_type": "markdown",
   "metadata": {},
   "source": [
    "### Loading Data into a DataFrame"
   ]
  },
  {
   "cell_type": "markdown",
   "metadata": {},
   "source": [
    "Because we'll use it so much, we often import under a shortened name using the ``import ... as ...`` pattern:"
   ]
  },
  {
   "cell_type": "code",
   "execution_count": 26,
   "metadata": {},
   "outputs": [],
   "source": [
    "import pandas as pd"
   ]
  },
  {
   "cell_type": "markdown",
   "metadata": {},
   "source": [
    "Now we can use the ``read_csv`` command to read the comma-separated-value data:"
   ]
  },
  {
   "cell_type": "code",
   "execution_count": 27,
   "metadata": {},
   "outputs": [],
   "source": [
    "df = pd.read_csv('pronto.csv')"
   ]
  },
  {
   "cell_type": "markdown",
   "metadata": {},
   "source": [
    "*Note: strings in Python can be defined either with double quotes or single quotes*"
   ]
  },
  {
   "cell_type": "code",
   "execution_count": 28,
   "metadata": {},
   "outputs": [
    {
     "data": {
      "text/plain": [
       "pandas.core.frame.DataFrame"
      ]
     },
     "execution_count": 28,
     "metadata": {},
     "output_type": "execute_result"
    }
   ],
   "source": [
    "type(df)"
   ]
  },
  {
   "cell_type": "code",
   "execution_count": 29,
   "metadata": {},
   "outputs": [
    {
     "data": {
      "text/plain": [
       "275091"
      ]
     },
     "execution_count": 29,
     "metadata": {},
     "output_type": "execute_result"
    }
   ],
   "source": [
    "len(df)"
   ]
  },
  {
   "cell_type": "code",
   "execution_count": 30,
   "metadata": {},
   "outputs": [
    {
     "data": {
      "text/html": [
       "<div>\n",
       "<style scoped>\n",
       "    .dataframe tbody tr th:only-of-type {\n",
       "        vertical-align: middle;\n",
       "    }\n",
       "\n",
       "    .dataframe tbody tr th {\n",
       "        vertical-align: top;\n",
       "    }\n",
       "\n",
       "    .dataframe thead th {\n",
       "        text-align: right;\n",
       "    }\n",
       "</style>\n",
       "<table border=\"1\" class=\"dataframe\">\n",
       "  <thead>\n",
       "    <tr style=\"text-align: right;\">\n",
       "      <th></th>\n",
       "      <th>trip_id</th>\n",
       "      <th>starttime</th>\n",
       "      <th>stoptime</th>\n",
       "      <th>bikeid</th>\n",
       "      <th>tripduration</th>\n",
       "      <th>from_station_name</th>\n",
       "      <th>to_station_name</th>\n",
       "      <th>from_station_id</th>\n",
       "      <th>to_station_id</th>\n",
       "      <th>usertype</th>\n",
       "      <th>gender</th>\n",
       "      <th>birthyear</th>\n",
       "    </tr>\n",
       "  </thead>\n",
       "  <tbody>\n",
       "    <tr>\n",
       "      <th>0</th>\n",
       "      <td>431</td>\n",
       "      <td>10/13/2014 10:31:00 AM</td>\n",
       "      <td>10/13/2014 10:48:00 AM</td>\n",
       "      <td>SEA00298</td>\n",
       "      <td>985.935</td>\n",
       "      <td>2nd Ave &amp; Spring St</td>\n",
       "      <td>Occidental Park / Occidental Ave S &amp; S Washing...</td>\n",
       "      <td>CBD-06</td>\n",
       "      <td>PS-04</td>\n",
       "      <td>Member</td>\n",
       "      <td>Male</td>\n",
       "      <td>1960.0</td>\n",
       "    </tr>\n",
       "    <tr>\n",
       "      <th>1</th>\n",
       "      <td>432</td>\n",
       "      <td>10/13/2014 10:32:00 AM</td>\n",
       "      <td>10/13/2014 10:48:00 AM</td>\n",
       "      <td>SEA00195</td>\n",
       "      <td>926.375</td>\n",
       "      <td>2nd Ave &amp; Spring St</td>\n",
       "      <td>Occidental Park / Occidental Ave S &amp; S Washing...</td>\n",
       "      <td>CBD-06</td>\n",
       "      <td>PS-04</td>\n",
       "      <td>Member</td>\n",
       "      <td>Male</td>\n",
       "      <td>1970.0</td>\n",
       "    </tr>\n",
       "    <tr>\n",
       "      <th>2</th>\n",
       "      <td>433</td>\n",
       "      <td>10/13/2014 10:33:00 AM</td>\n",
       "      <td>10/13/2014 10:48:00 AM</td>\n",
       "      <td>SEA00486</td>\n",
       "      <td>883.831</td>\n",
       "      <td>2nd Ave &amp; Spring St</td>\n",
       "      <td>Occidental Park / Occidental Ave S &amp; S Washing...</td>\n",
       "      <td>CBD-06</td>\n",
       "      <td>PS-04</td>\n",
       "      <td>Member</td>\n",
       "      <td>Female</td>\n",
       "      <td>1988.0</td>\n",
       "    </tr>\n",
       "    <tr>\n",
       "      <th>3</th>\n",
       "      <td>434</td>\n",
       "      <td>10/13/2014 10:34:00 AM</td>\n",
       "      <td>10/13/2014 10:48:00 AM</td>\n",
       "      <td>SEA00333</td>\n",
       "      <td>865.937</td>\n",
       "      <td>2nd Ave &amp; Spring St</td>\n",
       "      <td>Occidental Park / Occidental Ave S &amp; S Washing...</td>\n",
       "      <td>CBD-06</td>\n",
       "      <td>PS-04</td>\n",
       "      <td>Member</td>\n",
       "      <td>Female</td>\n",
       "      <td>1977.0</td>\n",
       "    </tr>\n",
       "    <tr>\n",
       "      <th>4</th>\n",
       "      <td>435</td>\n",
       "      <td>10/13/2014 10:34:00 AM</td>\n",
       "      <td>10/13/2014 10:49:00 AM</td>\n",
       "      <td>SEA00202</td>\n",
       "      <td>923.923</td>\n",
       "      <td>2nd Ave &amp; Spring St</td>\n",
       "      <td>Occidental Park / Occidental Ave S &amp; S Washing...</td>\n",
       "      <td>CBD-06</td>\n",
       "      <td>PS-04</td>\n",
       "      <td>Member</td>\n",
       "      <td>Male</td>\n",
       "      <td>1971.0</td>\n",
       "    </tr>\n",
       "  </tbody>\n",
       "</table>\n",
       "</div>"
      ],
      "text/plain": [
       "   trip_id               starttime                stoptime    bikeid  \\\n",
       "0      431  10/13/2014 10:31:00 AM  10/13/2014 10:48:00 AM  SEA00298   \n",
       "1      432  10/13/2014 10:32:00 AM  10/13/2014 10:48:00 AM  SEA00195   \n",
       "2      433  10/13/2014 10:33:00 AM  10/13/2014 10:48:00 AM  SEA00486   \n",
       "3      434  10/13/2014 10:34:00 AM  10/13/2014 10:48:00 AM  SEA00333   \n",
       "4      435  10/13/2014 10:34:00 AM  10/13/2014 10:49:00 AM  SEA00202   \n",
       "\n",
       "   tripduration    from_station_name  \\\n",
       "0       985.935  2nd Ave & Spring St   \n",
       "1       926.375  2nd Ave & Spring St   \n",
       "2       883.831  2nd Ave & Spring St   \n",
       "3       865.937  2nd Ave & Spring St   \n",
       "4       923.923  2nd Ave & Spring St   \n",
       "\n",
       "                                     to_station_name from_station_id  \\\n",
       "0  Occidental Park / Occidental Ave S & S Washing...          CBD-06   \n",
       "1  Occidental Park / Occidental Ave S & S Washing...          CBD-06   \n",
       "2  Occidental Park / Occidental Ave S & S Washing...          CBD-06   \n",
       "3  Occidental Park / Occidental Ave S & S Washing...          CBD-06   \n",
       "4  Occidental Park / Occidental Ave S & S Washing...          CBD-06   \n",
       "\n",
       "  to_station_id usertype  gender  birthyear  \n",
       "0         PS-04   Member    Male     1960.0  \n",
       "1         PS-04   Member    Male     1970.0  \n",
       "2         PS-04   Member  Female     1988.0  \n",
       "3         PS-04   Member  Female     1977.0  \n",
       "4         PS-04   Member    Male     1971.0  "
      ]
     },
     "execution_count": 30,
     "metadata": {},
     "output_type": "execute_result"
    }
   ],
   "source": [
    "df.head()"
   ]
  },
  {
   "cell_type": "markdown",
   "metadata": {},
   "source": [
    "### Viewing Pandas Dataframes"
   ]
  },
  {
   "cell_type": "markdown",
   "metadata": {},
   "source": [
    "The ``head()`` and ``tail()`` methods show us the first and last rows of the data"
   ]
  },
  {
   "cell_type": "code",
   "execution_count": 31,
   "metadata": {},
   "outputs": [
    {
     "data": {
      "text/html": [
       "<div>\n",
       "<style scoped>\n",
       "    .dataframe tbody tr th:only-of-type {\n",
       "        vertical-align: middle;\n",
       "    }\n",
       "\n",
       "    .dataframe tbody tr th {\n",
       "        vertical-align: top;\n",
       "    }\n",
       "\n",
       "    .dataframe thead th {\n",
       "        text-align: right;\n",
       "    }\n",
       "</style>\n",
       "<table border=\"1\" class=\"dataframe\">\n",
       "  <thead>\n",
       "    <tr style=\"text-align: right;\">\n",
       "      <th></th>\n",
       "      <th>trip_id</th>\n",
       "      <th>starttime</th>\n",
       "      <th>stoptime</th>\n",
       "      <th>bikeid</th>\n",
       "      <th>tripduration</th>\n",
       "      <th>from_station_name</th>\n",
       "      <th>to_station_name</th>\n",
       "      <th>from_station_id</th>\n",
       "      <th>to_station_id</th>\n",
       "      <th>usertype</th>\n",
       "      <th>gender</th>\n",
       "      <th>birthyear</th>\n",
       "    </tr>\n",
       "  </thead>\n",
       "  <tbody>\n",
       "    <tr>\n",
       "      <th>0</th>\n",
       "      <td>431</td>\n",
       "      <td>10/13/2014 10:31:00 AM</td>\n",
       "      <td>10/13/2014 10:48:00 AM</td>\n",
       "      <td>SEA00298</td>\n",
       "      <td>985.935</td>\n",
       "      <td>2nd Ave &amp; Spring St</td>\n",
       "      <td>Occidental Park / Occidental Ave S &amp; S Washing...</td>\n",
       "      <td>CBD-06</td>\n",
       "      <td>PS-04</td>\n",
       "      <td>Member</td>\n",
       "      <td>Male</td>\n",
       "      <td>1960.0</td>\n",
       "    </tr>\n",
       "    <tr>\n",
       "      <th>1</th>\n",
       "      <td>432</td>\n",
       "      <td>10/13/2014 10:32:00 AM</td>\n",
       "      <td>10/13/2014 10:48:00 AM</td>\n",
       "      <td>SEA00195</td>\n",
       "      <td>926.375</td>\n",
       "      <td>2nd Ave &amp; Spring St</td>\n",
       "      <td>Occidental Park / Occidental Ave S &amp; S Washing...</td>\n",
       "      <td>CBD-06</td>\n",
       "      <td>PS-04</td>\n",
       "      <td>Member</td>\n",
       "      <td>Male</td>\n",
       "      <td>1970.0</td>\n",
       "    </tr>\n",
       "    <tr>\n",
       "      <th>2</th>\n",
       "      <td>433</td>\n",
       "      <td>10/13/2014 10:33:00 AM</td>\n",
       "      <td>10/13/2014 10:48:00 AM</td>\n",
       "      <td>SEA00486</td>\n",
       "      <td>883.831</td>\n",
       "      <td>2nd Ave &amp; Spring St</td>\n",
       "      <td>Occidental Park / Occidental Ave S &amp; S Washing...</td>\n",
       "      <td>CBD-06</td>\n",
       "      <td>PS-04</td>\n",
       "      <td>Member</td>\n",
       "      <td>Female</td>\n",
       "      <td>1988.0</td>\n",
       "    </tr>\n",
       "    <tr>\n",
       "      <th>3</th>\n",
       "      <td>434</td>\n",
       "      <td>10/13/2014 10:34:00 AM</td>\n",
       "      <td>10/13/2014 10:48:00 AM</td>\n",
       "      <td>SEA00333</td>\n",
       "      <td>865.937</td>\n",
       "      <td>2nd Ave &amp; Spring St</td>\n",
       "      <td>Occidental Park / Occidental Ave S &amp; S Washing...</td>\n",
       "      <td>CBD-06</td>\n",
       "      <td>PS-04</td>\n",
       "      <td>Member</td>\n",
       "      <td>Female</td>\n",
       "      <td>1977.0</td>\n",
       "    </tr>\n",
       "    <tr>\n",
       "      <th>4</th>\n",
       "      <td>435</td>\n",
       "      <td>10/13/2014 10:34:00 AM</td>\n",
       "      <td>10/13/2014 10:49:00 AM</td>\n",
       "      <td>SEA00202</td>\n",
       "      <td>923.923</td>\n",
       "      <td>2nd Ave &amp; Spring St</td>\n",
       "      <td>Occidental Park / Occidental Ave S &amp; S Washing...</td>\n",
       "      <td>CBD-06</td>\n",
       "      <td>PS-04</td>\n",
       "      <td>Member</td>\n",
       "      <td>Male</td>\n",
       "      <td>1971.0</td>\n",
       "    </tr>\n",
       "  </tbody>\n",
       "</table>\n",
       "</div>"
      ],
      "text/plain": [
       "   trip_id               starttime                stoptime    bikeid  \\\n",
       "0      431  10/13/2014 10:31:00 AM  10/13/2014 10:48:00 AM  SEA00298   \n",
       "1      432  10/13/2014 10:32:00 AM  10/13/2014 10:48:00 AM  SEA00195   \n",
       "2      433  10/13/2014 10:33:00 AM  10/13/2014 10:48:00 AM  SEA00486   \n",
       "3      434  10/13/2014 10:34:00 AM  10/13/2014 10:48:00 AM  SEA00333   \n",
       "4      435  10/13/2014 10:34:00 AM  10/13/2014 10:49:00 AM  SEA00202   \n",
       "\n",
       "   tripduration    from_station_name  \\\n",
       "0       985.935  2nd Ave & Spring St   \n",
       "1       926.375  2nd Ave & Spring St   \n",
       "2       883.831  2nd Ave & Spring St   \n",
       "3       865.937  2nd Ave & Spring St   \n",
       "4       923.923  2nd Ave & Spring St   \n",
       "\n",
       "                                     to_station_name from_station_id  \\\n",
       "0  Occidental Park / Occidental Ave S & S Washing...          CBD-06   \n",
       "1  Occidental Park / Occidental Ave S & S Washing...          CBD-06   \n",
       "2  Occidental Park / Occidental Ave S & S Washing...          CBD-06   \n",
       "3  Occidental Park / Occidental Ave S & S Washing...          CBD-06   \n",
       "4  Occidental Park / Occidental Ave S & S Washing...          CBD-06   \n",
       "\n",
       "  to_station_id usertype  gender  birthyear  \n",
       "0         PS-04   Member    Male     1960.0  \n",
       "1         PS-04   Member    Male     1970.0  \n",
       "2         PS-04   Member  Female     1988.0  \n",
       "3         PS-04   Member  Female     1977.0  \n",
       "4         PS-04   Member    Male     1971.0  "
      ]
     },
     "execution_count": 31,
     "metadata": {},
     "output_type": "execute_result"
    }
   ],
   "source": [
    "df.head()"
   ]
  },
  {
   "cell_type": "code",
   "execution_count": 32,
   "metadata": {},
   "outputs": [
    {
     "data": {
      "text/plain": [
       "['trip_id',\n",
       " 'starttime',\n",
       " 'stoptime',\n",
       " 'bikeid',\n",
       " 'tripduration',\n",
       " 'from_station_name',\n",
       " 'to_station_name',\n",
       " 'from_station_id',\n",
       " 'to_station_id',\n",
       " 'usertype',\n",
       " 'gender',\n",
       " 'birthyear']"
      ]
     },
     "execution_count": 32,
     "metadata": {},
     "output_type": "execute_result"
    }
   ],
   "source": [
    "df.columns.tolist()"
   ]
  },
  {
   "cell_type": "code",
   "execution_count": 33,
   "metadata": {},
   "outputs": [
    {
     "data": {
      "text/plain": [
       "RangeIndex(start=0, stop=275091, step=1)"
      ]
     },
     "execution_count": 33,
     "metadata": {},
     "output_type": "execute_result"
    }
   ],
   "source": [
    "df.index"
   ]
  },
  {
   "cell_type": "code",
   "execution_count": 34,
   "metadata": {},
   "outputs": [],
   "source": [
    "smaller_df = df.loc[[1,4,6,7,9,34],:]\n"
   ]
  },
  {
   "cell_type": "code",
   "execution_count": 35,
   "metadata": {},
   "outputs": [
    {
     "data": {
      "text/plain": [
       "Int64Index([1, 4, 6, 7, 9, 34], dtype='int64')"
      ]
     },
     "execution_count": 35,
     "metadata": {},
     "output_type": "execute_result"
    }
   ],
   "source": [
    "smaller_df.index"
   ]
  },
  {
   "cell_type": "markdown",
   "metadata": {},
   "source": [
    "The ``shape`` attribute shows us the number of elements:"
   ]
  },
  {
   "cell_type": "code",
   "execution_count": 36,
   "metadata": {},
   "outputs": [
    {
     "data": {
      "text/plain": [
       "(275091, 12)"
      ]
     },
     "execution_count": 36,
     "metadata": {},
     "output_type": "execute_result"
    }
   ],
   "source": [
    "df.shape"
   ]
  },
  {
   "cell_type": "markdown",
   "metadata": {},
   "source": [
    "The ``columns`` attribute gives us the column names"
   ]
  },
  {
   "cell_type": "code",
   "execution_count": 37,
   "metadata": {},
   "outputs": [
    {
     "data": {
      "text/plain": [
       "Index(['trip_id', 'starttime', 'stoptime', 'bikeid', 'tripduration',\n",
       "       'from_station_name', 'to_station_name', 'from_station_id',\n",
       "       'to_station_id', 'usertype', 'gender', 'birthyear'],\n",
       "      dtype='object')"
      ]
     },
     "execution_count": 37,
     "metadata": {},
     "output_type": "execute_result"
    }
   ],
   "source": [
    "df.columns"
   ]
  },
  {
   "cell_type": "markdown",
   "metadata": {},
   "source": [
    "The ``index`` attribute gives us the index names"
   ]
  },
  {
   "cell_type": "code",
   "execution_count": 38,
   "metadata": {},
   "outputs": [
    {
     "data": {
      "text/plain": [
       "RangeIndex(start=0, stop=275091, step=1)"
      ]
     },
     "execution_count": 38,
     "metadata": {},
     "output_type": "execute_result"
    }
   ],
   "source": [
    "df.index"
   ]
  },
  {
   "cell_type": "markdown",
   "metadata": {},
   "source": [
    "The ``dtypes`` attribute gives the data types of each column:"
   ]
  },
  {
   "cell_type": "code",
   "execution_count": 39,
   "metadata": {},
   "outputs": [
    {
     "data": {
      "text/plain": [
       "trip_id                int64\n",
       "starttime             object\n",
       "stoptime              object\n",
       "bikeid                object\n",
       "tripduration         float64\n",
       "from_station_name     object\n",
       "to_station_name       object\n",
       "from_station_id       object\n",
       "to_station_id         object\n",
       "usertype              object\n",
       "gender                object\n",
       "birthyear            float64\n",
       "dtype: object"
      ]
     },
     "execution_count": 39,
     "metadata": {},
     "output_type": "execute_result"
    }
   ],
   "source": [
    "df.dtypes"
   ]
  },
  {
   "cell_type": "markdown",
   "metadata": {},
   "source": [
    "### Sophisticated Data Manipulation\n",
    "\n",
    "Here we'll cover some key features of manipulating data with pandas"
   ]
  },
  {
   "cell_type": "markdown",
   "metadata": {},
   "source": [
    "Access columns by name using square-bracket indexing:"
   ]
  },
  {
   "cell_type": "code",
   "execution_count": 40,
   "metadata": {},
   "outputs": [
    {
     "data": {
      "text/html": [
       "<div>\n",
       "<style scoped>\n",
       "    .dataframe tbody tr th:only-of-type {\n",
       "        vertical-align: middle;\n",
       "    }\n",
       "\n",
       "    .dataframe tbody tr th {\n",
       "        vertical-align: top;\n",
       "    }\n",
       "\n",
       "    .dataframe thead th {\n",
       "        text-align: right;\n",
       "    }\n",
       "</style>\n",
       "<table border=\"1\" class=\"dataframe\">\n",
       "  <thead>\n",
       "    <tr style=\"text-align: right;\">\n",
       "      <th></th>\n",
       "      <th>trip_id</th>\n",
       "      <th>starttime</th>\n",
       "      <th>stoptime</th>\n",
       "      <th>bikeid</th>\n",
       "      <th>tripduration</th>\n",
       "      <th>from_station_name</th>\n",
       "      <th>to_station_name</th>\n",
       "      <th>from_station_id</th>\n",
       "      <th>to_station_id</th>\n",
       "      <th>usertype</th>\n",
       "      <th>gender</th>\n",
       "      <th>birthyear</th>\n",
       "    </tr>\n",
       "  </thead>\n",
       "  <tbody>\n",
       "    <tr>\n",
       "      <th>0</th>\n",
       "      <td>431</td>\n",
       "      <td>10/13/2014 10:31:00 AM</td>\n",
       "      <td>10/13/2014 10:48:00 AM</td>\n",
       "      <td>SEA00298</td>\n",
       "      <td>985.935</td>\n",
       "      <td>2nd Ave &amp; Spring St</td>\n",
       "      <td>Occidental Park / Occidental Ave S &amp; S Washing...</td>\n",
       "      <td>CBD-06</td>\n",
       "      <td>PS-04</td>\n",
       "      <td>Member</td>\n",
       "      <td>Male</td>\n",
       "      <td>1960.0</td>\n",
       "    </tr>\n",
       "    <tr>\n",
       "      <th>1</th>\n",
       "      <td>432</td>\n",
       "      <td>10/13/2014 10:32:00 AM</td>\n",
       "      <td>10/13/2014 10:48:00 AM</td>\n",
       "      <td>SEA00195</td>\n",
       "      <td>926.375</td>\n",
       "      <td>2nd Ave &amp; Spring St</td>\n",
       "      <td>Occidental Park / Occidental Ave S &amp; S Washing...</td>\n",
       "      <td>CBD-06</td>\n",
       "      <td>PS-04</td>\n",
       "      <td>Member</td>\n",
       "      <td>Male</td>\n",
       "      <td>1970.0</td>\n",
       "    </tr>\n",
       "    <tr>\n",
       "      <th>2</th>\n",
       "      <td>433</td>\n",
       "      <td>10/13/2014 10:33:00 AM</td>\n",
       "      <td>10/13/2014 10:48:00 AM</td>\n",
       "      <td>SEA00486</td>\n",
       "      <td>883.831</td>\n",
       "      <td>2nd Ave &amp; Spring St</td>\n",
       "      <td>Occidental Park / Occidental Ave S &amp; S Washing...</td>\n",
       "      <td>CBD-06</td>\n",
       "      <td>PS-04</td>\n",
       "      <td>Member</td>\n",
       "      <td>Female</td>\n",
       "      <td>1988.0</td>\n",
       "    </tr>\n",
       "    <tr>\n",
       "      <th>3</th>\n",
       "      <td>434</td>\n",
       "      <td>10/13/2014 10:34:00 AM</td>\n",
       "      <td>10/13/2014 10:48:00 AM</td>\n",
       "      <td>SEA00333</td>\n",
       "      <td>865.937</td>\n",
       "      <td>2nd Ave &amp; Spring St</td>\n",
       "      <td>Occidental Park / Occidental Ave S &amp; S Washing...</td>\n",
       "      <td>CBD-06</td>\n",
       "      <td>PS-04</td>\n",
       "      <td>Member</td>\n",
       "      <td>Female</td>\n",
       "      <td>1977.0</td>\n",
       "    </tr>\n",
       "    <tr>\n",
       "      <th>4</th>\n",
       "      <td>435</td>\n",
       "      <td>10/13/2014 10:34:00 AM</td>\n",
       "      <td>10/13/2014 10:49:00 AM</td>\n",
       "      <td>SEA00202</td>\n",
       "      <td>923.923</td>\n",
       "      <td>2nd Ave &amp; Spring St</td>\n",
       "      <td>Occidental Park / Occidental Ave S &amp; S Washing...</td>\n",
       "      <td>CBD-06</td>\n",
       "      <td>PS-04</td>\n",
       "      <td>Member</td>\n",
       "      <td>Male</td>\n",
       "      <td>1971.0</td>\n",
       "    </tr>\n",
       "  </tbody>\n",
       "</table>\n",
       "</div>"
      ],
      "text/plain": [
       "   trip_id               starttime                stoptime    bikeid  \\\n",
       "0      431  10/13/2014 10:31:00 AM  10/13/2014 10:48:00 AM  SEA00298   \n",
       "1      432  10/13/2014 10:32:00 AM  10/13/2014 10:48:00 AM  SEA00195   \n",
       "2      433  10/13/2014 10:33:00 AM  10/13/2014 10:48:00 AM  SEA00486   \n",
       "3      434  10/13/2014 10:34:00 AM  10/13/2014 10:48:00 AM  SEA00333   \n",
       "4      435  10/13/2014 10:34:00 AM  10/13/2014 10:49:00 AM  SEA00202   \n",
       "\n",
       "   tripduration    from_station_name  \\\n",
       "0       985.935  2nd Ave & Spring St   \n",
       "1       926.375  2nd Ave & Spring St   \n",
       "2       883.831  2nd Ave & Spring St   \n",
       "3       865.937  2nd Ave & Spring St   \n",
       "4       923.923  2nd Ave & Spring St   \n",
       "\n",
       "                                     to_station_name from_station_id  \\\n",
       "0  Occidental Park / Occidental Ave S & S Washing...          CBD-06   \n",
       "1  Occidental Park / Occidental Ave S & S Washing...          CBD-06   \n",
       "2  Occidental Park / Occidental Ave S & S Washing...          CBD-06   \n",
       "3  Occidental Park / Occidental Ave S & S Washing...          CBD-06   \n",
       "4  Occidental Park / Occidental Ave S & S Washing...          CBD-06   \n",
       "\n",
       "  to_station_id usertype  gender  birthyear  \n",
       "0         PS-04   Member    Male     1960.0  \n",
       "1         PS-04   Member    Male     1970.0  \n",
       "2         PS-04   Member  Female     1988.0  \n",
       "3         PS-04   Member  Female     1977.0  \n",
       "4         PS-04   Member    Male     1971.0  "
      ]
     },
     "execution_count": 40,
     "metadata": {},
     "output_type": "execute_result"
    }
   ],
   "source": [
    "df.head()"
   ]
  },
  {
   "cell_type": "code",
   "execution_count": 41,
   "metadata": {},
   "outputs": [],
   "source": [
    "df_small = df['stoptime']"
   ]
  },
  {
   "cell_type": "code",
   "execution_count": 42,
   "metadata": {},
   "outputs": [
    {
     "data": {
      "text/plain": [
       "pandas.core.series.Series"
      ]
     },
     "execution_count": 42,
     "metadata": {},
     "output_type": "execute_result"
    }
   ],
   "source": [
    "type(df_small)"
   ]
  },
  {
   "cell_type": "code",
   "execution_count": 43,
   "metadata": {},
   "outputs": [
    {
     "data": {
      "text/plain": [
       "0    10/13/2014 10:48:00 AM\n",
       "1    10/13/2014 10:48:00 AM\n",
       "2    10/13/2014 10:48:00 AM\n",
       "3    10/13/2014 10:48:00 AM\n",
       "4    10/13/2014 10:49:00 AM\n",
       "Name: stoptime, dtype: object"
      ]
     },
     "execution_count": 43,
     "metadata": {},
     "output_type": "execute_result"
    }
   ],
   "source": [
    "df_small.head()"
   ]
  },
  {
   "cell_type": "code",
   "execution_count": 44,
   "metadata": {},
   "outputs": [
    {
     "data": {
      "text/plain": [
       "pandas.core.series.Series"
      ]
     },
     "execution_count": 44,
     "metadata": {},
     "output_type": "execute_result"
    }
   ],
   "source": [
    "type(df_small)"
   ]
  },
  {
   "cell_type": "code",
   "execution_count": 45,
   "metadata": {},
   "outputs": [
    {
     "data": {
      "text/plain": [
       "['10/13/2014 10:48:00 AM',\n",
       " '10/13/2014 10:48:00 AM',\n",
       " '10/13/2014 10:48:00 AM',\n",
       " '10/13/2014 10:48:00 AM',\n",
       " '10/13/2014 10:49:00 AM',\n",
       " '10/13/2014 10:47:00 AM',\n",
       " '10/13/2014 11:45:00 AM',\n",
       " '10/13/2014 11:45:00 AM',\n",
       " '10/13/2014 11:45:00 AM',\n",
       " '10/13/2014 11:45:00 AM',\n",
       " '10/13/2014 11:45:00 AM',\n",
       " '10/13/2014 11:47:00 AM',\n",
       " '10/13/2014 11:47:00 AM',\n",
       " '10/13/2014 11:47:00 AM',\n",
       " '10/13/2014 11:47:00 AM',\n",
       " '10/13/2014 11:47:00 AM',\n",
       " '10/13/2014 11:47:00 AM',\n",
       " '10/13/2014 11:47:00 AM',\n",
       " '10/13/2014 11:49:00 AM',\n",
       " '10/13/2014 11:51:00 AM',\n",
       " '10/13/2014 11:51:00 AM',\n",
       " '10/13/2014 11:51:00 AM',\n",
       " '10/13/2014 11:49:00 AM',\n",
       " '10/13/2014 11:51:00 AM',\n",
       " '10/13/2014 11:51:00 AM',\n",
       " '10/13/2014 11:52:00 AM',\n",
       " '10/13/2014 11:51:00 AM',\n",
       " '10/13/2014 11:51:00 AM',\n",
       " '10/13/2014 11:51:00 AM',\n",
       " '10/13/2014 11:55:00 AM',\n",
       " '10/13/2014 12:00:00 PM',\n",
       " '10/13/2014 12:00:00 PM',\n",
       " '10/13/2014 12:00:00 PM',\n",
       " '10/13/2014 12:02:00 PM',\n",
       " '10/13/2014 12:00:00 PM',\n",
       " '10/13/2014 12:00:00 PM',\n",
       " '10/13/2014 11:51:00 AM',\n",
       " '10/13/2014 11:59:00 AM',\n",
       " '10/13/2014 12:00:00 PM',\n",
       " '10/13/2014 11:59:00 AM',\n",
       " '10/13/2014 11:59:00 AM',\n",
       " '10/13/2014 11:59:00 AM',\n",
       " '10/13/2014 12:06:00 PM',\n",
       " '10/13/2014 12:01:00 PM',\n",
       " '10/13/2014 12:04:00 PM',\n",
       " '10/13/2014 12:01:00 PM',\n",
       " '10/13/2014 12:11:00 PM',\n",
       " '10/13/2014 12:11:00 PM',\n",
       " '10/13/2014 12:04:00 PM',\n",
       " '10/13/2014 12:01:00 PM',\n",
       " '10/13/2014 12:04:00 PM',\n",
       " '10/13/2014 12:05:00 PM',\n",
       " '10/13/2014 12:04:00 PM',\n",
       " '10/13/2014 11:55:00 AM',\n",
       " '10/13/2014 12:02:00 PM',\n",
       " '10/13/2014 12:39:00 PM',\n",
       " '10/13/2014 12:39:00 PM',\n",
       " '10/13/2014 12:05:00 PM',\n",
       " '10/13/2014 12:39:00 PM',\n",
       " '10/13/2014 12:19:00 PM',\n",
       " '10/13/2014 12:40:00 PM',\n",
       " '10/13/2014 12:20:00 PM',\n",
       " '10/13/2014 02:28:00 PM',\n",
       " '10/13/2014 12:10:00 PM',\n",
       " '10/13/2014 12:13:00 PM',\n",
       " '10/13/2014 12:13:00 PM',\n",
       " '10/13/2014 12:16:00 PM',\n",
       " '10/13/2014 12:45:00 PM',\n",
       " '10/13/2014 07:07:00 PM',\n",
       " '10/13/2014 12:16:00 PM',\n",
       " '10/13/2014 12:25:00 PM',\n",
       " '10/13/2014 12:20:00 PM',\n",
       " '10/13/2014 12:31:00 PM',\n",
       " '10/13/2014 12:31:00 PM',\n",
       " '10/13/2014 12:31:00 PM',\n",
       " '10/13/2014 12:22:00 PM',\n",
       " '10/13/2014 12:21:00 PM',\n",
       " '10/13/2014 12:34:00 PM',\n",
       " '10/13/2014 12:31:00 PM',\n",
       " '10/13/2014 12:26:00 PM',\n",
       " '10/13/2014 12:32:00 PM',\n",
       " '10/13/2014 12:57:00 PM',\n",
       " '10/13/2014 12:57:00 PM',\n",
       " '10/13/2014 01:21:00 PM',\n",
       " '10/13/2014 12:36:00 PM',\n",
       " '10/13/2014 12:40:00 PM',\n",
       " '10/13/2014 12:40:00 PM',\n",
       " '10/13/2014 12:47:00 PM',\n",
       " '10/13/2014 12:46:00 PM',\n",
       " '10/13/2014 12:45:00 PM',\n",
       " '10/13/2014 12:48:00 PM',\n",
       " '10/13/2014 12:47:00 PM',\n",
       " '10/13/2014 12:51:00 PM',\n",
       " '10/13/2014 12:58:00 PM',\n",
       " '10/13/2014 12:52:00 PM',\n",
       " '10/13/2014 12:58:00 PM',\n",
       " '10/13/2014 12:59:00 PM',\n",
       " '10/13/2014 01:15:00 PM',\n",
       " '10/13/2014 01:04:00 PM',\n",
       " '10/13/2014 01:18:00 PM',\n",
       " '10/13/2014 01:16:00 PM',\n",
       " '10/13/2014 01:13:00 PM',\n",
       " '10/13/2014 01:10:00 PM',\n",
       " '10/13/2014 01:12:00 PM',\n",
       " '10/13/2014 01:16:00 PM',\n",
       " '10/13/2014 01:14:00 PM',\n",
       " '10/13/2014 01:30:00 PM',\n",
       " '10/13/2014 01:22:00 PM',\n",
       " '10/13/2014 01:22:00 PM',\n",
       " '10/13/2014 01:15:00 PM',\n",
       " '10/13/2014 01:09:00 PM',\n",
       " '10/13/2014 01:18:00 PM',\n",
       " '10/13/2014 01:27:00 PM',\n",
       " '10/13/2014 01:24:00 PM',\n",
       " '10/13/2014 01:30:00 PM',\n",
       " '10/13/2014 01:33:00 PM',\n",
       " '10/13/2014 01:33:00 PM',\n",
       " '10/13/2014 01:33:00 PM',\n",
       " '10/13/2014 01:42:00 PM',\n",
       " '10/13/2014 01:42:00 PM',\n",
       " '10/13/2014 01:42:00 PM',\n",
       " '10/13/2014 12:47:00 PM',\n",
       " '10/13/2014 12:49:00 PM',\n",
       " '10/13/2014 01:44:00 PM',\n",
       " '10/13/2014 02:29:00 PM',\n",
       " '10/13/2014 01:52:00 PM',\n",
       " '10/13/2014 02:22:00 PM',\n",
       " '10/13/2014 01:45:00 PM',\n",
       " '10/13/2014 01:55:00 PM',\n",
       " '10/13/2014 01:56:00 PM',\n",
       " '10/13/2014 02:03:00 PM',\n",
       " '10/13/2014 01:52:00 PM',\n",
       " '10/13/2014 02:09:00 PM',\n",
       " '10/13/2014 02:09:00 PM',\n",
       " '10/13/2014 01:49:00 PM',\n",
       " '10/13/2014 02:09:00 PM',\n",
       " '10/13/2014 01:56:00 PM',\n",
       " '10/13/2014 01:59:00 PM',\n",
       " '10/13/2014 02:08:00 PM',\n",
       " '10/13/2014 02:05:00 PM',\n",
       " '10/13/2014 02:12:00 PM',\n",
       " '10/13/2014 02:07:00 PM',\n",
       " '10/13/2014 02:35:00 PM',\n",
       " '10/13/2014 02:35:00 PM',\n",
       " '10/13/2014 02:07:00 PM',\n",
       " '10/13/2014 02:11:00 PM',\n",
       " '10/13/2014 02:12:00 PM',\n",
       " '10/13/2014 02:35:00 PM',\n",
       " '10/13/2014 02:18:00 PM',\n",
       " '10/13/2014 02:18:00 PM',\n",
       " '10/13/2014 02:18:00 PM',\n",
       " '10/13/2014 02:18:00 PM',\n",
       " '10/13/2014 02:39:00 PM',\n",
       " '10/13/2014 02:39:00 PM',\n",
       " '10/13/2014 02:16:00 PM',\n",
       " '10/13/2014 02:39:00 PM',\n",
       " '10/13/2014 02:39:00 PM',\n",
       " '10/13/2014 03:08:00 PM',\n",
       " '10/13/2014 02:38:00 PM',\n",
       " '10/13/2014 02:38:00 PM',\n",
       " '10/13/2014 02:20:00 PM',\n",
       " '10/13/2014 02:24:00 PM',\n",
       " '10/13/2014 02:38:00 PM',\n",
       " '10/13/2014 02:26:00 PM',\n",
       " '10/13/2014 02:34:00 PM',\n",
       " '10/13/2014 02:34:00 PM',\n",
       " '10/13/2014 02:31:00 PM',\n",
       " '10/13/2014 02:26:00 PM',\n",
       " '10/13/2014 02:29:00 PM',\n",
       " '10/13/2014 02:48:00 PM',\n",
       " '10/13/2014 02:48:00 PM',\n",
       " '10/13/2014 02:51:00 PM',\n",
       " '10/13/2014 02:37:00 PM',\n",
       " '10/13/2014 02:33:00 PM',\n",
       " '10/13/2014 02:34:00 PM',\n",
       " '10/13/2014 02:31:00 PM',\n",
       " '10/13/2014 02:30:00 PM',\n",
       " '10/13/2014 02:49:00 PM',\n",
       " '10/13/2014 02:40:00 PM',\n",
       " '10/13/2014 02:56:00 PM',\n",
       " '10/13/2014 02:56:00 PM',\n",
       " '10/13/2014 02:39:00 PM',\n",
       " '10/13/2014 02:49:00 PM',\n",
       " '10/13/2014 02:56:00 PM',\n",
       " '10/13/2014 02:55:00 PM',\n",
       " '10/13/2014 02:56:00 PM',\n",
       " '10/13/2014 02:56:00 PM',\n",
       " '10/13/2014 03:01:00 PM',\n",
       " '10/13/2014 02:54:00 PM',\n",
       " '10/13/2014 02:56:00 PM',\n",
       " '10/13/2014 02:56:00 PM',\n",
       " '10/13/2014 03:09:00 PM',\n",
       " '10/13/2014 03:10:00 PM',\n",
       " '10/13/2014 05:59:00 PM',\n",
       " '10/13/2014 03:02:00 PM',\n",
       " '10/13/2014 03:13:00 PM',\n",
       " '10/13/2014 03:10:00 PM',\n",
       " '10/13/2014 03:16:00 PM',\n",
       " '10/13/2014 03:11:00 PM',\n",
       " '10/13/2014 03:11:00 PM',\n",
       " '10/13/2014 03:23:00 PM',\n",
       " '10/13/2014 03:23:00 PM',\n",
       " '10/13/2014 03:25:00 PM',\n",
       " '10/13/2014 03:53:00 PM',\n",
       " '10/13/2014 03:47:00 PM',\n",
       " '10/13/2014 03:20:00 PM',\n",
       " '10/13/2014 03:53:00 PM',\n",
       " '10/13/2014 03:57:00 PM',\n",
       " '10/13/2014 05:16:00 PM',\n",
       " '10/13/2014 03:27:00 PM',\n",
       " '10/13/2014 03:36:00 PM',\n",
       " '10/13/2014 03:50:00 PM',\n",
       " '10/13/2014 03:48:00 PM',\n",
       " '10/13/2014 03:37:00 PM',\n",
       " '10/13/2014 03:47:00 PM',\n",
       " '10/13/2014 03:48:00 PM',\n",
       " '10/13/2014 03:48:00 PM',\n",
       " '10/13/2014 03:57:00 PM',\n",
       " '10/13/2014 03:59:00 PM',\n",
       " '10/13/2014 04:05:00 PM',\n",
       " '10/13/2014 04:08:00 PM',\n",
       " '10/13/2014 04:07:00 PM',\n",
       " '10/13/2014 03:57:00 PM',\n",
       " '10/13/2014 04:00:00 PM',\n",
       " '10/13/2014 04:16:00 PM',\n",
       " '10/13/2014 05:08:00 PM',\n",
       " '10/13/2014 04:22:00 PM',\n",
       " '10/13/2014 04:10:00 PM',\n",
       " '10/13/2014 04:10:00 PM',\n",
       " '10/13/2014 04:05:00 PM',\n",
       " '10/13/2014 04:05:00 PM',\n",
       " '10/13/2014 04:13:00 PM',\n",
       " '10/13/2014 04:20:00 PM',\n",
       " '10/13/2014 04:10:00 PM',\n",
       " '10/13/2014 04:15:00 PM',\n",
       " '10/13/2014 04:15:00 PM',\n",
       " '10/13/2014 04:30:00 PM',\n",
       " '10/13/2014 04:19:00 PM',\n",
       " '10/13/2014 04:28:00 PM',\n",
       " '10/13/2014 04:24:00 PM',\n",
       " '10/13/2014 04:47:00 PM',\n",
       " '10/13/2014 04:46:00 PM',\n",
       " '10/13/2014 04:22:00 PM',\n",
       " '10/13/2014 04:24:00 PM',\n",
       " '10/13/2014 04:22:00 PM',\n",
       " '10/13/2014 04:42:00 PM',\n",
       " '10/13/2014 04:37:00 PM',\n",
       " '10/13/2014 04:37:00 PM',\n",
       " '10/13/2014 04:47:00 PM',\n",
       " '10/13/2014 04:32:00 PM',\n",
       " '10/13/2014 04:47:00 PM',\n",
       " '10/13/2014 04:48:00 PM',\n",
       " '10/13/2014 04:40:00 PM',\n",
       " '10/13/2014 04:33:00 PM',\n",
       " '10/13/2014 04:33:00 PM',\n",
       " '10/13/2014 04:39:00 PM',\n",
       " '10/13/2014 04:42:00 PM',\n",
       " '10/13/2014 04:51:00 PM',\n",
       " '10/13/2014 04:51:00 PM',\n",
       " '10/13/2014 04:45:00 PM',\n",
       " '10/13/2014 04:48:00 PM',\n",
       " '10/13/2014 04:50:00 PM',\n",
       " '10/13/2014 04:58:00 PM',\n",
       " '10/13/2014 05:11:00 PM',\n",
       " '10/13/2014 05:14:00 PM',\n",
       " '10/13/2014 04:54:00 PM',\n",
       " '10/13/2014 05:14:00 PM',\n",
       " '10/13/2014 05:14:00 PM',\n",
       " '10/13/2014 05:03:00 PM',\n",
       " '10/13/2014 05:07:00 PM',\n",
       " '10/13/2014 05:14:00 PM',\n",
       " '10/13/2014 05:19:00 PM',\n",
       " '10/13/2014 05:01:00 PM',\n",
       " '10/13/2014 05:12:00 PM',\n",
       " '10/13/2014 05:16:00 PM',\n",
       " '10/13/2014 05:10:00 PM',\n",
       " '10/13/2014 05:19:00 PM',\n",
       " '10/13/2014 05:20:00 PM',\n",
       " '10/13/2014 05:19:00 PM',\n",
       " '10/13/2014 05:19:00 PM',\n",
       " '10/13/2014 05:16:00 PM',\n",
       " '10/13/2014 05:07:00 PM',\n",
       " '10/13/2014 05:21:00 PM',\n",
       " '10/13/2014 05:20:00 PM',\n",
       " '10/13/2014 05:18:00 PM',\n",
       " '10/13/2014 05:20:00 PM',\n",
       " '10/13/2014 05:15:00 PM',\n",
       " '10/13/2014 05:15:00 PM',\n",
       " '10/13/2014 05:27:00 PM',\n",
       " '10/13/2014 05:20:00 PM',\n",
       " '10/13/2014 05:25:00 PM',\n",
       " '10/13/2014 05:23:00 PM',\n",
       " '10/13/2014 05:32:00 PM',\n",
       " '10/13/2014 05:31:00 PM',\n",
       " '10/13/2014 05:30:00 PM',\n",
       " '10/13/2014 05:39:00 PM',\n",
       " '10/13/2014 05:43:00 PM',\n",
       " '10/13/2014 05:52:00 PM',\n",
       " '10/13/2014 05:52:00 PM',\n",
       " '10/13/2014 05:32:00 PM',\n",
       " '10/13/2014 05:52:00 PM',\n",
       " '10/13/2014 06:09:00 PM',\n",
       " '10/13/2014 05:52:00 PM',\n",
       " '10/13/2014 05:53:00 PM',\n",
       " '10/13/2014 05:47:00 PM',\n",
       " '10/13/2014 05:47:00 PM',\n",
       " '10/13/2014 05:47:00 PM',\n",
       " '10/13/2014 05:48:00 PM',\n",
       " '10/13/2014 05:55:00 PM',\n",
       " '10/13/2014 05:58:00 PM',\n",
       " '10/13/2014 05:51:00 PM',\n",
       " '10/13/2014 05:44:00 PM',\n",
       " '10/13/2014 05:55:00 PM',\n",
       " '10/13/2014 05:49:00 PM',\n",
       " '10/13/2014 06:06:00 PM',\n",
       " '10/13/2014 05:52:00 PM',\n",
       " '10/13/2014 05:58:00 PM',\n",
       " '10/13/2014 05:49:00 PM',\n",
       " '10/13/2014 06:00:00 PM',\n",
       " '10/13/2014 06:02:00 PM',\n",
       " '10/13/2014 06:11:00 PM',\n",
       " '10/13/2014 06:01:00 PM',\n",
       " '10/13/2014 06:03:00 PM',\n",
       " '10/13/2014 06:18:00 PM',\n",
       " '10/13/2014 06:03:00 PM',\n",
       " '10/13/2014 07:28:00 PM',\n",
       " '10/13/2014 06:27:00 PM',\n",
       " '10/13/2014 06:27:00 PM',\n",
       " '10/13/2014 06:07:00 PM',\n",
       " '10/13/2014 06:28:00 PM',\n",
       " '10/13/2014 06:19:00 PM',\n",
       " '10/13/2014 06:27:00 PM',\n",
       " '10/13/2014 06:08:00 PM',\n",
       " '10/13/2014 06:15:00 PM',\n",
       " '10/13/2014 06:11:00 PM',\n",
       " '10/13/2014 06:16:00 PM',\n",
       " '10/13/2014 06:13:00 PM',\n",
       " '10/13/2014 06:13:00 PM',\n",
       " '10/13/2014 06:34:00 PM',\n",
       " '10/13/2014 06:19:00 PM',\n",
       " '10/13/2014 06:30:00 PM',\n",
       " '10/13/2014 06:35:00 PM',\n",
       " '10/13/2014 06:28:00 PM',\n",
       " '10/13/2014 06:31:00 PM',\n",
       " '10/13/2014 06:30:00 PM',\n",
       " '10/13/2014 06:43:00 PM',\n",
       " '10/13/2014 06:32:00 PM',\n",
       " '10/13/2014 06:44:00 PM',\n",
       " '10/13/2014 06:44:00 PM',\n",
       " '10/13/2014 06:33:00 PM',\n",
       " '10/13/2014 06:46:00 PM',\n",
       " '10/13/2014 06:46:00 PM',\n",
       " '10/13/2014 06:38:00 PM',\n",
       " '10/13/2014 06:46:00 PM',\n",
       " '10/13/2014 06:46:00 PM',\n",
       " '10/13/2014 06:38:00 PM',\n",
       " '10/13/2014 06:43:00 PM',\n",
       " '10/13/2014 06:43:00 PM',\n",
       " '10/13/2014 06:54:00 PM',\n",
       " '10/13/2014 06:49:00 PM',\n",
       " '10/13/2014 06:54:00 PM',\n",
       " '10/13/2014 07:10:00 PM',\n",
       " '10/13/2014 07:47:00 PM',\n",
       " '10/13/2014 07:48:00 PM',\n",
       " '10/13/2014 06:53:00 PM',\n",
       " '10/13/2014 07:05:00 PM',\n",
       " '10/13/2014 06:54:00 PM',\n",
       " '10/13/2014 07:05:00 PM',\n",
       " '10/13/2014 07:19:00 PM',\n",
       " '10/13/2014 07:47:00 PM',\n",
       " '10/13/2014 07:46:00 PM',\n",
       " '10/13/2014 07:39:00 PM',\n",
       " '10/13/2014 07:39:00 PM',\n",
       " '10/13/2014 07:47:00 PM',\n",
       " '10/13/2014 07:46:00 PM',\n",
       " '10/13/2014 07:56:00 PM',\n",
       " '10/13/2014 07:45:00 PM',\n",
       " '10/13/2014 08:12:00 PM',\n",
       " '10/13/2014 08:15:00 PM',\n",
       " '10/13/2014 08:14:00 PM',\n",
       " '10/13/2014 08:08:00 PM',\n",
       " '10/13/2014 08:22:00 PM',\n",
       " '10/13/2014 08:19:00 PM',\n",
       " '10/13/2014 08:28:00 PM',\n",
       " '10/13/2014 08:33:00 PM',\n",
       " '10/13/2014 09:24:00 PM',\n",
       " '10/13/2014 08:52:00 PM',\n",
       " '10/13/2014 08:38:00 PM',\n",
       " '10/13/2014 08:52:00 PM',\n",
       " '10/13/2014 08:57:00 PM',\n",
       " '10/13/2014 08:49:00 PM',\n",
       " '10/13/2014 09:18:00 PM',\n",
       " '10/13/2014 09:26:00 PM',\n",
       " '10/13/2014 09:11:00 PM',\n",
       " '10/13/2014 09:21:00 PM',\n",
       " '10/13/2014 09:20:00 PM',\n",
       " '10/13/2014 09:39:00 PM',\n",
       " '10/13/2014 09:28:00 PM',\n",
       " '10/13/2014 09:41:00 PM',\n",
       " '10/13/2014 09:54:00 PM',\n",
       " '10/13/2014 09:59:00 PM',\n",
       " '10/13/2014 09:57:00 PM',\n",
       " '10/13/2014 10:05:00 PM',\n",
       " '10/13/2014 10:08:00 PM',\n",
       " '10/13/2014 10:22:00 PM',\n",
       " '10/13/2014 10:32:00 PM',\n",
       " '10/13/2014 11:17:00 PM',\n",
       " '10/13/2014 11:15:00 PM',\n",
       " '10/14/2014 06:52:00 AM',\n",
       " '10/14/2014 05:57:00 AM',\n",
       " '10/14/2014 06:14:00 AM',\n",
       " '10/14/2014 06:36:00 AM',\n",
       " '10/14/2014 06:42:00 AM',\n",
       " '10/14/2014 06:50:00 AM',\n",
       " '10/14/2014 06:50:00 AM',\n",
       " '10/14/2014 07:21:00 AM',\n",
       " '10/14/2014 07:28:00 AM',\n",
       " '10/14/2014 07:29:00 AM',\n",
       " '10/14/2014 07:36:00 AM',\n",
       " '10/14/2014 07:34:00 AM',\n",
       " '10/14/2014 07:34:00 AM',\n",
       " '10/14/2014 07:39:00 AM',\n",
       " '10/14/2014 07:50:00 AM',\n",
       " '10/14/2014 07:50:00 AM',\n",
       " '10/14/2014 07:48:00 AM',\n",
       " '10/14/2014 07:45:00 AM',\n",
       " '10/14/2014 07:48:00 AM',\n",
       " '10/14/2014 07:58:00 AM',\n",
       " '10/14/2014 08:00:00 AM',\n",
       " '10/14/2014 07:50:00 AM',\n",
       " '10/14/2014 07:55:00 AM',\n",
       " '10/14/2014 08:05:00 AM',\n",
       " '10/14/2014 08:01:00 AM',\n",
       " '10/14/2014 08:18:00 AM',\n",
       " '10/14/2014 08:03:00 AM',\n",
       " '10/14/2014 08:14:00 AM',\n",
       " '10/14/2014 08:06:00 AM',\n",
       " '10/14/2014 08:06:00 AM',\n",
       " '10/14/2014 08:09:00 AM',\n",
       " '10/14/2014 08:12:00 AM',\n",
       " '10/14/2014 08:16:00 AM',\n",
       " '10/14/2014 08:11:00 AM',\n",
       " '10/14/2014 08:09:00 AM',\n",
       " '10/14/2014 08:14:00 AM',\n",
       " '10/14/2014 08:19:00 AM',\n",
       " '10/14/2014 08:37:00 AM',\n",
       " '10/14/2014 08:19:00 AM',\n",
       " '10/14/2014 10:11:00 AM',\n",
       " '10/14/2014 08:17:00 AM',\n",
       " '10/14/2014 08:29:00 AM',\n",
       " '10/14/2014 08:26:00 AM',\n",
       " '10/14/2014 08:30:00 AM',\n",
       " '10/14/2014 08:41:00 AM',\n",
       " '10/14/2014 08:31:00 AM',\n",
       " '10/14/2014 08:33:00 AM',\n",
       " '10/14/2014 08:33:00 AM',\n",
       " '10/14/2014 08:38:00 AM',\n",
       " '10/14/2014 08:44:00 AM',\n",
       " '10/14/2014 08:39:00 AM',\n",
       " '10/14/2014 08:54:00 AM',\n",
       " '10/14/2014 08:46:00 AM',\n",
       " '10/14/2014 08:45:00 AM',\n",
       " '10/14/2014 08:48:00 AM',\n",
       " '10/14/2014 09:00:00 AM',\n",
       " '10/14/2014 09:14:00 AM',\n",
       " '10/14/2014 08:50:00 AM',\n",
       " '10/14/2014 08:59:00 AM',\n",
       " '10/14/2014 08:54:00 AM',\n",
       " '10/14/2014 09:17:00 AM',\n",
       " '10/14/2014 09:26:00 AM',\n",
       " '10/14/2014 09:04:00 AM',\n",
       " '10/14/2014 09:02:00 AM',\n",
       " '10/14/2014 09:18:00 AM',\n",
       " '10/14/2014 09:10:00 AM',\n",
       " '10/14/2014 09:17:00 AM',\n",
       " '10/14/2014 01:20:00 PM',\n",
       " '10/14/2014 09:26:00 AM',\n",
       " '10/14/2014 09:20:00 AM',\n",
       " '10/14/2014 09:30:00 AM',\n",
       " '10/14/2014 09:37:00 AM',\n",
       " '10/14/2014 09:32:00 AM',\n",
       " '10/14/2014 09:38:00 AM',\n",
       " '10/14/2014 09:41:00 AM',\n",
       " '10/14/2014 09:40:00 AM',\n",
       " '10/14/2014 09:45:00 AM',\n",
       " '10/14/2014 09:40:00 AM',\n",
       " '10/14/2014 10:15:00 AM',\n",
       " '10/14/2014 10:15:00 AM',\n",
       " '10/14/2014 09:44:00 AM',\n",
       " '10/14/2014 09:54:00 AM',\n",
       " '10/14/2014 11:59:00 AM',\n",
       " '10/14/2014 09:54:00 AM',\n",
       " '10/14/2014 10:00:00 AM',\n",
       " '10/14/2014 10:10:00 AM',\n",
       " '10/14/2014 10:05:00 AM',\n",
       " '10/14/2014 10:01:00 AM',\n",
       " '10/14/2014 10:08:00 AM',\n",
       " '10/14/2014 10:09:00 AM',\n",
       " '10/14/2014 10:27:00 AM',\n",
       " '10/14/2014 10:08:00 AM',\n",
       " '10/14/2014 10:17:00 AM',\n",
       " '10/14/2014 10:10:00 AM',\n",
       " '10/14/2014 10:30:00 AM',\n",
       " '10/14/2014 10:30:00 AM',\n",
       " '10/14/2014 10:23:00 AM',\n",
       " '10/14/2014 10:24:00 AM',\n",
       " '10/14/2014 10:34:00 AM',\n",
       " '10/14/2014 10:53:00 AM',\n",
       " '10/14/2014 10:53:00 AM',\n",
       " '10/14/2014 10:51:00 AM',\n",
       " '10/14/2014 10:48:00 AM',\n",
       " '10/14/2014 10:53:00 AM',\n",
       " '10/14/2014 05:19:00 PM',\n",
       " '10/14/2014 11:01:00 AM',\n",
       " '10/14/2014 11:01:00 AM',\n",
       " '10/14/2014 11:07:00 AM',\n",
       " '10/14/2014 11:27:00 AM',\n",
       " '10/14/2014 11:25:00 AM',\n",
       " '10/14/2014 11:13:00 AM',\n",
       " '10/14/2014 11:13:00 AM',\n",
       " '10/14/2014 11:17:00 AM',\n",
       " '10/14/2014 11:18:00 AM',\n",
       " '10/14/2014 11:18:00 AM',\n",
       " '10/14/2014 11:20:00 AM',\n",
       " '10/14/2014 11:27:00 AM',\n",
       " '10/14/2014 11:27:00 AM',\n",
       " '10/14/2014 11:27:00 AM',\n",
       " '10/14/2014 11:32:00 AM',\n",
       " '10/14/2014 11:26:00 AM',\n",
       " '10/14/2014 11:35:00 AM',\n",
       " '10/14/2014 12:16:00 PM',\n",
       " '10/14/2014 12:16:00 PM',\n",
       " '10/14/2014 11:38:00 AM',\n",
       " '10/14/2014 11:43:00 AM',\n",
       " '10/14/2014 11:43:00 AM',\n",
       " '10/14/2014 11:43:00 AM',\n",
       " '10/14/2014 11:54:00 AM',\n",
       " '10/14/2014 11:54:00 AM',\n",
       " '10/14/2014 11:54:00 AM',\n",
       " '10/14/2014 11:54:00 AM',\n",
       " '10/14/2014 11:49:00 AM',\n",
       " '10/14/2014 11:55:00 AM',\n",
       " '10/14/2014 11:54:00 AM',\n",
       " '10/14/2014 11:57:00 AM',\n",
       " '10/14/2014 11:56:00 AM',\n",
       " '10/14/2014 12:02:00 PM',\n",
       " '10/14/2014 12:06:00 PM',\n",
       " '10/14/2014 11:56:00 AM',\n",
       " '10/14/2014 12:11:00 PM',\n",
       " '10/14/2014 02:11:00 PM',\n",
       " '10/14/2014 02:11:00 PM',\n",
       " '10/14/2014 12:11:00 PM',\n",
       " '10/14/2014 12:11:00 PM',\n",
       " '10/14/2014 11:58:00 AM',\n",
       " '10/14/2014 12:11:00 PM',\n",
       " '10/14/2014 12:00:00 PM',\n",
       " '10/14/2014 12:26:00 PM',\n",
       " '10/14/2014 12:13:00 PM',\n",
       " '10/14/2014 12:11:00 PM',\n",
       " '10/14/2014 12:11:00 PM',\n",
       " '10/14/2014 12:11:00 PM',\n",
       " '10/14/2014 12:10:00 PM',\n",
       " '10/14/2014 12:11:00 PM',\n",
       " '10/14/2014 12:17:00 PM',\n",
       " '10/14/2014 12:21:00 PM',\n",
       " '10/14/2014 12:54:00 PM',\n",
       " '10/14/2014 12:45:00 PM',\n",
       " '10/14/2014 01:17:00 PM',\n",
       " '10/14/2014 12:21:00 PM',\n",
       " '10/14/2014 12:26:00 PM',\n",
       " '10/14/2014 12:44:00 PM',\n",
       " '10/14/2014 12:29:00 PM',\n",
       " '10/14/2014 12:30:00 PM',\n",
       " '10/14/2014 12:29:00 PM',\n",
       " '10/14/2014 12:37:00 PM',\n",
       " '10/14/2014 12:54:00 PM',\n",
       " '10/14/2014 12:38:00 PM',\n",
       " '10/14/2014 12:54:00 PM',\n",
       " '10/14/2014 12:35:00 PM',\n",
       " '10/14/2014 12:41:00 PM',\n",
       " '10/14/2014 12:34:00 PM',\n",
       " '10/14/2014 12:46:00 PM',\n",
       " '10/14/2014 12:49:00 PM',\n",
       " '10/14/2014 01:09:00 PM',\n",
       " '10/14/2014 12:40:00 PM',\n",
       " '10/14/2014 12:44:00 PM',\n",
       " '10/14/2014 01:09:00 PM',\n",
       " '10/14/2014 12:52:00 PM',\n",
       " '10/14/2014 12:55:00 PM',\n",
       " '10/14/2014 12:58:00 PM',\n",
       " '10/14/2014 12:58:00 PM',\n",
       " '10/14/2014 12:55:00 PM',\n",
       " '10/14/2014 12:54:00 PM',\n",
       " '10/14/2014 12:58:00 PM',\n",
       " '10/14/2014 01:02:00 PM',\n",
       " '10/14/2014 01:01:00 PM',\n",
       " '10/14/2014 12:59:00 PM',\n",
       " '10/14/2014 12:59:00 PM',\n",
       " '10/14/2014 01:10:00 PM',\n",
       " '10/14/2014 01:11:00 PM',\n",
       " '10/14/2014 01:01:00 PM',\n",
       " '10/14/2014 01:10:00 PM',\n",
       " '10/14/2014 02:05:00 PM',\n",
       " '10/14/2014 01:09:00 PM',\n",
       " '10/14/2014 01:31:00 PM',\n",
       " '10/14/2014 01:22:00 PM',\n",
       " '10/14/2014 01:38:00 PM',\n",
       " '10/14/2014 01:10:00 PM',\n",
       " '10/14/2014 01:20:00 PM',\n",
       " '10/14/2014 01:10:00 PM',\n",
       " '10/14/2014 01:10:00 PM',\n",
       " '10/14/2014 01:16:00 PM',\n",
       " '10/14/2014 01:17:00 PM',\n",
       " '10/14/2014 01:19:00 PM',\n",
       " '10/14/2014 01:17:00 PM',\n",
       " '10/14/2014 01:27:00 PM',\n",
       " '10/14/2014 01:30:00 PM',\n",
       " '10/14/2014 01:29:00 PM',\n",
       " '10/14/2014 01:23:00 PM',\n",
       " '10/14/2014 01:26:00 PM',\n",
       " '10/14/2014 01:30:00 PM',\n",
       " '10/14/2014 01:30:00 PM',\n",
       " '10/14/2014 01:26:00 PM',\n",
       " '10/14/2014 01:26:00 PM',\n",
       " '10/14/2014 01:25:00 PM',\n",
       " '10/14/2014 01:30:00 PM',\n",
       " '10/14/2014 01:25:00 PM',\n",
       " '10/14/2014 01:38:00 PM',\n",
       " '10/14/2014 01:42:00 PM',\n",
       " '10/14/2014 01:33:00 PM',\n",
       " '10/14/2014 01:29:00 PM',\n",
       " '10/14/2014 01:39:00 PM',\n",
       " '10/14/2014 02:15:00 PM',\n",
       " '10/14/2014 01:43:00 PM',\n",
       " '10/14/2014 01:41:00 PM',\n",
       " '10/14/2014 01:40:00 PM',\n",
       " '10/14/2014 01:43:00 PM',\n",
       " '10/14/2014 01:43:00 PM',\n",
       " '10/14/2014 03:52:00 PM',\n",
       " '10/14/2014 01:42:00 PM',\n",
       " '10/14/2014 01:56:00 PM',\n",
       " '10/14/2014 01:53:00 PM',\n",
       " '10/14/2014 01:41:00 PM',\n",
       " '10/14/2014 01:53:00 PM',\n",
       " '10/14/2014 01:55:00 PM',\n",
       " '10/14/2014 01:51:00 PM',\n",
       " '10/14/2014 02:10:00 PM',\n",
       " '10/14/2014 01:43:00 PM',\n",
       " '10/14/2014 01:44:00 PM',\n",
       " '10/14/2014 01:54:00 PM',\n",
       " '10/14/2014 01:54:00 PM',\n",
       " '10/14/2014 01:56:00 PM',\n",
       " '10/14/2014 02:27:00 PM',\n",
       " '10/14/2014 02:09:00 PM',\n",
       " '10/14/2014 02:30:00 PM',\n",
       " '10/14/2014 02:29:00 PM',\n",
       " '10/14/2014 02:10:00 PM',\n",
       " '10/14/2014 02:38:00 PM',\n",
       " '10/14/2014 02:18:00 PM',\n",
       " '10/14/2014 02:38:00 PM',\n",
       " '10/14/2014 02:16:00 PM',\n",
       " '10/14/2014 02:22:00 PM',\n",
       " '10/14/2014 02:26:00 PM',\n",
       " '10/14/2014 02:32:00 PM',\n",
       " '10/14/2014 03:51:00 PM',\n",
       " '10/14/2014 02:22:00 PM',\n",
       " '10/14/2014 02:35:00 PM',\n",
       " '10/14/2014 02:40:00 PM',\n",
       " '10/14/2014 02:31:00 PM',\n",
       " '10/14/2014 02:36:00 PM',\n",
       " '10/14/2014 02:38:00 PM',\n",
       " '10/14/2014 02:52:00 PM',\n",
       " '10/14/2014 02:54:00 PM',\n",
       " '10/14/2014 02:52:00 PM',\n",
       " '10/14/2014 03:01:00 PM',\n",
       " '10/14/2014 03:00:00 PM',\n",
       " '10/14/2014 03:09:00 PM',\n",
       " '10/14/2014 03:09:00 PM',\n",
       " '10/14/2014 02:57:00 PM',\n",
       " '10/14/2014 02:57:00 PM',\n",
       " '10/14/2014 03:03:00 PM',\n",
       " '10/14/2014 03:06:00 PM',\n",
       " '10/14/2014 03:10:00 PM',\n",
       " '10/14/2014 03:17:00 PM',\n",
       " '10/14/2014 03:17:00 PM',\n",
       " '10/14/2014 03:20:00 PM',\n",
       " '10/14/2014 03:21:00 PM',\n",
       " '10/14/2014 03:32:00 PM',\n",
       " '10/14/2014 03:42:00 PM',\n",
       " '10/14/2014 03:42:00 PM',\n",
       " '10/14/2014 03:34:00 PM',\n",
       " '10/14/2014 03:46:00 PM',\n",
       " '10/14/2014 03:45:00 PM',\n",
       " '10/14/2014 03:47:00 PM',\n",
       " '10/14/2014 03:52:00 PM',\n",
       " '10/14/2014 03:46:00 PM',\n",
       " '10/14/2014 03:46:00 PM',\n",
       " '10/14/2014 03:48:00 PM',\n",
       " '10/14/2014 04:23:00 PM',\n",
       " '10/14/2014 03:49:00 PM',\n",
       " '10/14/2014 03:48:00 PM',\n",
       " '10/14/2014 06:41:00 PM',\n",
       " '10/14/2014 03:48:00 PM',\n",
       " '10/14/2014 04:50:00 PM',\n",
       " '10/14/2014 04:00:00 PM',\n",
       " '10/14/2014 04:25:00 PM',\n",
       " '10/14/2014 06:40:00 PM',\n",
       " '10/14/2014 04:24:00 PM',\n",
       " '10/14/2014 04:25:00 PM',\n",
       " '10/14/2014 04:00:00 PM',\n",
       " '10/14/2014 04:25:00 PM',\n",
       " '10/14/2014 04:25:00 PM',\n",
       " '10/14/2014 03:57:00 PM',\n",
       " '10/14/2014 04:09:00 PM',\n",
       " '10/14/2014 04:25:00 PM',\n",
       " '10/14/2014 04:21:00 PM',\n",
       " '10/14/2014 04:21:00 PM',\n",
       " '10/14/2014 04:27:00 PM',\n",
       " '10/14/2014 04:08:00 PM',\n",
       " '10/14/2014 04:14:00 PM',\n",
       " '10/14/2014 04:17:00 PM',\n",
       " '10/14/2014 04:16:00 PM',\n",
       " '10/14/2014 05:54:00 PM',\n",
       " '10/14/2014 04:20:00 PM',\n",
       " '10/14/2014 04:41:00 PM',\n",
       " '10/14/2014 04:41:00 PM',\n",
       " '10/14/2014 04:26:00 PM',\n",
       " '10/14/2014 04:47:00 PM',\n",
       " '10/14/2014 04:39:00 PM',\n",
       " '10/14/2014 04:49:00 PM',\n",
       " '10/14/2014 04:40:00 PM',\n",
       " '10/14/2014 04:43:00 PM',\n",
       " '10/14/2014 04:46:00 PM',\n",
       " '10/14/2014 04:51:00 PM',\n",
       " '10/14/2014 04:52:00 PM',\n",
       " '10/14/2014 04:50:00 PM',\n",
       " '10/14/2014 04:50:00 PM',\n",
       " '10/14/2014 05:07:00 PM',\n",
       " '10/14/2014 05:18:00 PM',\n",
       " '10/14/2014 05:04:00 PM',\n",
       " '10/14/2014 05:01:00 PM',\n",
       " '10/14/2014 05:03:00 PM',\n",
       " '10/14/2014 04:58:00 PM',\n",
       " '10/14/2014 05:09:00 PM',\n",
       " '10/14/2014 05:08:00 PM',\n",
       " '10/14/2014 05:12:00 PM',\n",
       " '10/14/2014 05:11:00 PM',\n",
       " '10/14/2014 05:13:00 PM',\n",
       " '10/14/2014 05:07:00 PM',\n",
       " '10/14/2014 05:14:00 PM',\n",
       " '10/14/2014 05:21:00 PM',\n",
       " '10/14/2014 05:56:00 PM',\n",
       " '10/14/2014 05:25:00 PM',\n",
       " '10/14/2014 05:24:00 PM',\n",
       " '10/14/2014 05:18:00 PM',\n",
       " '10/14/2014 05:33:00 PM',\n",
       " '10/14/2014 05:26:00 PM',\n",
       " '10/14/2014 05:22:00 PM',\n",
       " '10/14/2014 05:34:00 PM',\n",
       " '10/14/2014 05:32:00 PM',\n",
       " '10/14/2014 06:55:00 PM',\n",
       " '10/14/2014 05:29:00 PM',\n",
       " '10/14/2014 05:24:00 PM',\n",
       " '10/14/2014 05:32:00 PM',\n",
       " '10/14/2014 05:30:00 PM',\n",
       " '10/14/2014 05:42:00 PM',\n",
       " '10/14/2014 05:41:00 PM',\n",
       " '10/14/2014 05:36:00 PM',\n",
       " '10/14/2014 05:37:00 PM',\n",
       " '10/14/2014 05:45:00 PM',\n",
       " '10/14/2014 05:49:00 PM',\n",
       " '10/14/2014 05:45:00 PM',\n",
       " '10/14/2014 05:44:00 PM',\n",
       " '10/14/2014 05:54:00 PM',\n",
       " '10/14/2014 05:51:00 PM',\n",
       " '10/14/2014 05:52:00 PM',\n",
       " '10/14/2014 05:47:00 PM',\n",
       " '10/14/2014 05:56:00 PM',\n",
       " '10/14/2014 05:48:00 PM',\n",
       " '10/14/2014 05:56:00 PM',\n",
       " '10/14/2014 05:56:00 PM',\n",
       " '10/14/2014 05:54:00 PM',\n",
       " '10/14/2014 05:54:00 PM',\n",
       " '10/14/2014 06:07:00 PM',\n",
       " '10/14/2014 06:10:00 PM',\n",
       " '10/14/2014 06:07:00 PM',\n",
       " '10/14/2014 06:02:00 PM',\n",
       " '10/14/2014 06:09:00 PM',\n",
       " '10/14/2014 06:04:00 PM',\n",
       " '10/14/2014 06:02:00 PM',\n",
       " '10/14/2014 07:03:00 PM',\n",
       " '10/14/2014 06:36:00 PM',\n",
       " '10/14/2014 06:06:00 PM',\n",
       " '10/14/2014 06:06:00 PM',\n",
       " '10/14/2014 06:09:00 PM',\n",
       " '10/14/2014 06:14:00 PM',\n",
       " '10/14/2014 07:04:00 PM',\n",
       " '10/14/2014 07:03:00 PM',\n",
       " '10/14/2014 06:10:00 PM',\n",
       " '10/14/2014 06:47:00 PM',\n",
       " '10/14/2014 06:24:00 PM',\n",
       " '10/14/2014 06:35:00 PM',\n",
       " '10/14/2014 06:35:00 PM',\n",
       " '10/14/2014 06:27:00 PM',\n",
       " '10/14/2014 06:27:00 PM',\n",
       " '10/14/2014 06:28:00 PM',\n",
       " '10/14/2014 06:26:00 PM',\n",
       " '10/14/2014 06:30:00 PM',\n",
       " '10/14/2014 06:29:00 PM',\n",
       " '10/14/2014 06:32:00 PM',\n",
       " '10/14/2014 06:35:00 PM',\n",
       " '10/14/2014 06:37:00 PM',\n",
       " '10/14/2014 06:30:00 PM',\n",
       " '10/14/2014 06:35:00 PM',\n",
       " '10/14/2014 06:29:00 PM',\n",
       " '10/14/2014 06:39:00 PM',\n",
       " '10/14/2014 06:34:00 PM',\n",
       " '10/14/2014 06:53:00 PM',\n",
       " '10/14/2014 06:44:00 PM',\n",
       " '10/14/2014 06:40:00 PM',\n",
       " '10/14/2014 07:09:00 PM',\n",
       " '10/14/2014 06:45:00 PM',\n",
       " '10/14/2014 06:51:00 PM',\n",
       " '10/14/2014 06:49:00 PM',\n",
       " '10/14/2014 06:52:00 PM',\n",
       " '10/14/2014 06:53:00 PM',\n",
       " '10/14/2014 06:55:00 PM',\n",
       " '10/14/2014 06:55:00 PM',\n",
       " '10/14/2014 07:02:00 PM',\n",
       " '10/14/2014 06:59:00 PM',\n",
       " '10/14/2014 06:59:00 PM',\n",
       " '10/14/2014 06:59:00 PM',\n",
       " '10/14/2014 07:03:00 PM',\n",
       " '10/14/2014 07:07:00 PM',\n",
       " '10/14/2014 07:05:00 PM',\n",
       " '10/14/2014 07:22:00 PM',\n",
       " '10/14/2014 07:12:00 PM',\n",
       " '10/14/2014 07:28:00 PM',\n",
       " '10/14/2014 07:28:00 PM',\n",
       " '10/14/2014 07:25:00 PM',\n",
       " '10/14/2014 07:16:00 PM',\n",
       " '10/14/2014 07:36:00 PM',\n",
       " '10/14/2014 07:24:00 PM',\n",
       " '10/14/2014 07:29:00 PM',\n",
       " '10/14/2014 07:47:00 PM',\n",
       " '10/14/2014 07:44:00 PM',\n",
       " '10/14/2014 07:44:00 PM',\n",
       " '10/14/2014 07:48:00 PM',\n",
       " '10/14/2014 07:48:00 PM',\n",
       " '10/14/2014 07:42:00 PM',\n",
       " '10/14/2014 07:45:00 PM',\n",
       " '10/14/2014 07:55:00 PM',\n",
       " '10/14/2014 07:48:00 PM',\n",
       " '10/14/2014 07:51:00 PM',\n",
       " '10/14/2014 08:26:00 PM',\n",
       " '10/14/2014 08:26:00 PM',\n",
       " '10/14/2014 07:51:00 PM',\n",
       " '10/14/2014 07:53:00 PM',\n",
       " '10/14/2014 09:27:00 PM',\n",
       " '10/14/2014 09:37:00 PM',\n",
       " '10/14/2014 09:26:00 PM',\n",
       " '10/14/2014 08:11:00 PM',\n",
       " '10/14/2014 08:36:00 PM',\n",
       " '10/14/2014 08:17:00 PM',\n",
       " '10/14/2014 08:36:00 PM',\n",
       " '10/14/2014 08:36:00 PM',\n",
       " '10/14/2014 08:14:00 PM',\n",
       " '10/14/2014 08:22:00 PM',\n",
       " '10/14/2014 08:22:00 PM',\n",
       " '10/14/2014 08:42:00 PM',\n",
       " '10/14/2014 08:32:00 PM',\n",
       " '10/14/2014 08:49:00 PM',\n",
       " '10/14/2014 09:39:00 PM',\n",
       " '10/14/2014 08:57:00 PM',\n",
       " '10/14/2014 09:01:00 PM',\n",
       " '10/14/2014 09:02:00 PM',\n",
       " '10/14/2014 09:04:00 PM',\n",
       " '10/14/2014 09:04:00 PM',\n",
       " '10/14/2014 09:08:00 PM',\n",
       " '10/14/2014 09:06:00 PM',\n",
       " '10/14/2014 09:16:00 PM',\n",
       " '10/14/2014 09:23:00 PM',\n",
       " '10/14/2014 09:19:00 PM',\n",
       " '10/14/2014 10:46:00 PM',\n",
       " '10/14/2014 09:26:00 PM',\n",
       " '10/14/2014 09:26:00 PM',\n",
       " '10/14/2014 09:33:00 PM',\n",
       " '10/14/2014 09:43:00 PM',\n",
       " '10/14/2014 09:46:00 PM',\n",
       " '10/14/2014 09:48:00 PM',\n",
       " '10/14/2014 10:02:00 PM',\n",
       " '10/14/2014 10:16:00 PM',\n",
       " '10/14/2014 10:30:00 PM',\n",
       " '10/14/2014 10:30:00 PM',\n",
       " '10/15/2014 04:29:00 AM',\n",
       " '10/15/2014 04:29:00 AM',\n",
       " '10/14/2014 10:50:00 PM',\n",
       " '10/14/2014 10:55:00 PM',\n",
       " '10/14/2014 11:20:00 PM',\n",
       " '10/15/2014 12:01:00 AM',\n",
       " '10/15/2014 12:18:00 AM',\n",
       " '10/15/2014 12:22:00 AM',\n",
       " '10/15/2014 12:53:00 AM',\n",
       " '10/15/2014 01:13:00 AM',\n",
       " '10/15/2014 01:59:00 AM',\n",
       " '10/15/2014 02:12:00 AM',\n",
       " '10/15/2014 06:16:00 AM',\n",
       " '10/15/2014 06:20:00 AM',\n",
       " '10/15/2014 06:47:00 AM',\n",
       " '10/15/2014 06:40:00 AM',\n",
       " '10/15/2014 06:44:00 AM',\n",
       " '10/15/2014 06:39:00 AM',\n",
       " '10/15/2014 06:47:00 AM',\n",
       " '10/15/2014 07:03:00 AM',\n",
       " '10/15/2014 07:21:00 AM',\n",
       " '10/15/2014 07:24:00 AM',\n",
       " '10/15/2014 07:22:00 AM',\n",
       " '10/15/2014 07:44:00 AM',\n",
       " '10/15/2014 07:49:00 AM',\n",
       " '10/15/2014 07:52:00 AM',\n",
       " '10/15/2014 08:01:00 AM',\n",
       " '10/15/2014 08:02:00 AM',\n",
       " '10/15/2014 08:15:00 AM',\n",
       " '10/15/2014 08:16:00 AM',\n",
       " '10/15/2014 08:13:00 AM',\n",
       " '10/15/2014 08:18:00 AM',\n",
       " '10/15/2014 08:19:00 AM',\n",
       " '10/15/2014 08:38:00 AM',\n",
       " '10/15/2014 08:35:00 AM',\n",
       " '10/15/2014 08:35:00 AM',\n",
       " '10/15/2014 08:47:00 AM',\n",
       " '10/15/2014 08:36:00 AM',\n",
       " '10/15/2014 08:52:00 AM',\n",
       " '10/15/2014 08:56:00 AM',\n",
       " '10/15/2014 09:16:00 AM',\n",
       " '10/15/2014 09:16:00 AM',\n",
       " '10/15/2014 09:09:00 AM',\n",
       " '10/15/2014 09:14:00 AM',\n",
       " '10/15/2014 09:26:00 AM',\n",
       " '10/15/2014 09:19:00 AM',\n",
       " '10/15/2014 09:23:00 AM',\n",
       " '10/15/2014 09:28:00 AM',\n",
       " '10/15/2014 09:31:00 AM',\n",
       " '10/15/2014 09:34:00 AM',\n",
       " '10/15/2014 09:27:00 AM',\n",
       " '10/15/2014 09:39:00 AM',\n",
       " '10/15/2014 09:29:00 AM',\n",
       " '10/15/2014 09:37:00 AM',\n",
       " '10/15/2014 09:30:00 AM',\n",
       " '10/15/2014 09:39:00 AM',\n",
       " '10/15/2014 09:57:00 AM',\n",
       " '10/15/2014 09:54:00 AM',\n",
       " '10/15/2014 10:01:00 AM',\n",
       " '10/15/2014 09:57:00 AM',\n",
       " '10/15/2014 09:58:00 AM',\n",
       " '10/15/2014 10:09:00 AM',\n",
       " '10/15/2014 10:15:00 AM',\n",
       " '10/15/2014 10:22:00 AM',\n",
       " '10/15/2014 10:08:00 AM',\n",
       " '10/15/2014 10:13:00 AM',\n",
       " '10/15/2014 10:15:00 AM',\n",
       " '10/15/2014 10:41:00 AM',\n",
       " '10/15/2014 10:28:00 AM',\n",
       " '10/15/2014 10:33:00 AM',\n",
       " '10/15/2014 10:38:00 AM',\n",
       " '10/15/2014 10:34:00 AM',\n",
       " '10/15/2014 10:42:00 AM',\n",
       " '10/15/2014 10:37:00 AM',\n",
       " '10/15/2014 11:06:00 AM',\n",
       " '10/15/2014 11:06:00 AM',\n",
       " '10/15/2014 10:49:00 AM',\n",
       " '10/15/2014 10:52:00 AM',\n",
       " '10/15/2014 10:53:00 AM',\n",
       " '10/15/2014 11:11:00 AM',\n",
       " '10/15/2014 11:03:00 AM',\n",
       " '10/15/2014 11:05:00 AM',\n",
       " '10/15/2014 11:03:00 AM',\n",
       " '10/15/2014 11:03:00 AM',\n",
       " '10/15/2014 11:05:00 AM',\n",
       " '10/15/2014 11:07:00 AM',\n",
       " '10/15/2014 11:24:00 AM',\n",
       " '10/15/2014 11:29:00 AM',\n",
       " '10/15/2014 11:32:00 AM',\n",
       " '10/15/2014 11:21:00 AM',\n",
       " '10/15/2014 11:42:00 AM',\n",
       " '10/15/2014 11:34:00 AM',\n",
       " '10/15/2014 11:42:00 AM',\n",
       " '10/15/2014 11:53:00 AM',\n",
       " '10/15/2014 11:44:00 AM',\n",
       " '10/15/2014 12:01:00 PM',\n",
       " '10/15/2014 11:52:00 AM',\n",
       " '10/15/2014 12:05:00 PM',\n",
       " '10/15/2014 12:05:00 PM',\n",
       " '10/15/2014 12:40:00 PM',\n",
       " '10/15/2014 12:40:00 PM',\n",
       " '10/15/2014 12:52:00 PM',\n",
       " '10/15/2014 12:34:00 PM',\n",
       " '10/15/2014 12:32:00 PM',\n",
       " '10/15/2014 12:38:00 PM',\n",
       " '10/15/2014 12:53:00 PM',\n",
       " ...]"
      ]
     },
     "execution_count": 45,
     "metadata": {},
     "output_type": "execute_result"
    }
   ],
   "source": [
    "df_small.tolist()"
   ]
  },
  {
   "cell_type": "markdown",
   "metadata": {},
   "source": [
    "Mathematical operations on columns happen *element-wise*:"
   ]
  },
  {
   "cell_type": "code",
   "execution_count": 46,
   "metadata": {},
   "outputs": [
    {
     "data": {
      "text/plain": [
       "0    0.273871\n",
       "1    0.257326\n",
       "Name: tripduration, dtype: float64"
      ]
     },
     "execution_count": 46,
     "metadata": {},
     "output_type": "execute_result"
    }
   ],
   "source": [
    "trip_duration_hours = df['tripduration']/3600\n",
    "trip_duration_hours[:2]"
   ]
  },
  {
   "cell_type": "code",
   "execution_count": 47,
   "metadata": {},
   "outputs": [
    {
     "data": {
      "text/plain": [
       "0    0.273871\n",
       "1    0.257326\n",
       "2    0.245509\n",
       "3    0.240538\n",
       "4    0.256645\n",
       "Name: tripduration, dtype: float64"
      ]
     },
     "execution_count": 47,
     "metadata": {},
     "output_type": "execute_result"
    }
   ],
   "source": [
    "trip_duration_hours.head()"
   ]
  },
  {
   "cell_type": "code",
   "execution_count": 48,
   "metadata": {},
   "outputs": [],
   "source": [
    "df['trip_duration_hours'] = df['tripduration']/3600"
   ]
  },
  {
   "cell_type": "code",
   "execution_count": 49,
   "metadata": {},
   "outputs": [
    {
     "data": {
      "text/html": [
       "<div>\n",
       "<style scoped>\n",
       "    .dataframe tbody tr th:only-of-type {\n",
       "        vertical-align: middle;\n",
       "    }\n",
       "\n",
       "    .dataframe tbody tr th {\n",
       "        vertical-align: top;\n",
       "    }\n",
       "\n",
       "    .dataframe thead th {\n",
       "        text-align: right;\n",
       "    }\n",
       "</style>\n",
       "<table border=\"1\" class=\"dataframe\">\n",
       "  <thead>\n",
       "    <tr style=\"text-align: right;\">\n",
       "      <th></th>\n",
       "      <th>trip_id</th>\n",
       "      <th>starttime</th>\n",
       "      <th>stoptime</th>\n",
       "      <th>bikeid</th>\n",
       "      <th>tripduration</th>\n",
       "      <th>from_station_name</th>\n",
       "      <th>to_station_name</th>\n",
       "      <th>from_station_id</th>\n",
       "      <th>to_station_id</th>\n",
       "      <th>usertype</th>\n",
       "      <th>gender</th>\n",
       "      <th>birthyear</th>\n",
       "      <th>trip_duration_hours</th>\n",
       "    </tr>\n",
       "  </thead>\n",
       "  <tbody>\n",
       "    <tr>\n",
       "      <th>0</th>\n",
       "      <td>431</td>\n",
       "      <td>10/13/2014 10:31:00 AM</td>\n",
       "      <td>10/13/2014 10:48:00 AM</td>\n",
       "      <td>SEA00298</td>\n",
       "      <td>985.935</td>\n",
       "      <td>2nd Ave &amp; Spring St</td>\n",
       "      <td>Occidental Park / Occidental Ave S &amp; S Washing...</td>\n",
       "      <td>CBD-06</td>\n",
       "      <td>PS-04</td>\n",
       "      <td>Member</td>\n",
       "      <td>Male</td>\n",
       "      <td>1960.0</td>\n",
       "      <td>0.273871</td>\n",
       "    </tr>\n",
       "    <tr>\n",
       "      <th>1</th>\n",
       "      <td>432</td>\n",
       "      <td>10/13/2014 10:32:00 AM</td>\n",
       "      <td>10/13/2014 10:48:00 AM</td>\n",
       "      <td>SEA00195</td>\n",
       "      <td>926.375</td>\n",
       "      <td>2nd Ave &amp; Spring St</td>\n",
       "      <td>Occidental Park / Occidental Ave S &amp; S Washing...</td>\n",
       "      <td>CBD-06</td>\n",
       "      <td>PS-04</td>\n",
       "      <td>Member</td>\n",
       "      <td>Male</td>\n",
       "      <td>1970.0</td>\n",
       "      <td>0.257326</td>\n",
       "    </tr>\n",
       "    <tr>\n",
       "      <th>2</th>\n",
       "      <td>433</td>\n",
       "      <td>10/13/2014 10:33:00 AM</td>\n",
       "      <td>10/13/2014 10:48:00 AM</td>\n",
       "      <td>SEA00486</td>\n",
       "      <td>883.831</td>\n",
       "      <td>2nd Ave &amp; Spring St</td>\n",
       "      <td>Occidental Park / Occidental Ave S &amp; S Washing...</td>\n",
       "      <td>CBD-06</td>\n",
       "      <td>PS-04</td>\n",
       "      <td>Member</td>\n",
       "      <td>Female</td>\n",
       "      <td>1988.0</td>\n",
       "      <td>0.245509</td>\n",
       "    </tr>\n",
       "    <tr>\n",
       "      <th>3</th>\n",
       "      <td>434</td>\n",
       "      <td>10/13/2014 10:34:00 AM</td>\n",
       "      <td>10/13/2014 10:48:00 AM</td>\n",
       "      <td>SEA00333</td>\n",
       "      <td>865.937</td>\n",
       "      <td>2nd Ave &amp; Spring St</td>\n",
       "      <td>Occidental Park / Occidental Ave S &amp; S Washing...</td>\n",
       "      <td>CBD-06</td>\n",
       "      <td>PS-04</td>\n",
       "      <td>Member</td>\n",
       "      <td>Female</td>\n",
       "      <td>1977.0</td>\n",
       "      <td>0.240538</td>\n",
       "    </tr>\n",
       "    <tr>\n",
       "      <th>4</th>\n",
       "      <td>435</td>\n",
       "      <td>10/13/2014 10:34:00 AM</td>\n",
       "      <td>10/13/2014 10:49:00 AM</td>\n",
       "      <td>SEA00202</td>\n",
       "      <td>923.923</td>\n",
       "      <td>2nd Ave &amp; Spring St</td>\n",
       "      <td>Occidental Park / Occidental Ave S &amp; S Washing...</td>\n",
       "      <td>CBD-06</td>\n",
       "      <td>PS-04</td>\n",
       "      <td>Member</td>\n",
       "      <td>Male</td>\n",
       "      <td>1971.0</td>\n",
       "      <td>0.256645</td>\n",
       "    </tr>\n",
       "  </tbody>\n",
       "</table>\n",
       "</div>"
      ],
      "text/plain": [
       "   trip_id               starttime                stoptime    bikeid  \\\n",
       "0      431  10/13/2014 10:31:00 AM  10/13/2014 10:48:00 AM  SEA00298   \n",
       "1      432  10/13/2014 10:32:00 AM  10/13/2014 10:48:00 AM  SEA00195   \n",
       "2      433  10/13/2014 10:33:00 AM  10/13/2014 10:48:00 AM  SEA00486   \n",
       "3      434  10/13/2014 10:34:00 AM  10/13/2014 10:48:00 AM  SEA00333   \n",
       "4      435  10/13/2014 10:34:00 AM  10/13/2014 10:49:00 AM  SEA00202   \n",
       "\n",
       "   tripduration    from_station_name  \\\n",
       "0       985.935  2nd Ave & Spring St   \n",
       "1       926.375  2nd Ave & Spring St   \n",
       "2       883.831  2nd Ave & Spring St   \n",
       "3       865.937  2nd Ave & Spring St   \n",
       "4       923.923  2nd Ave & Spring St   \n",
       "\n",
       "                                     to_station_name from_station_id  \\\n",
       "0  Occidental Park / Occidental Ave S & S Washing...          CBD-06   \n",
       "1  Occidental Park / Occidental Ave S & S Washing...          CBD-06   \n",
       "2  Occidental Park / Occidental Ave S & S Washing...          CBD-06   \n",
       "3  Occidental Park / Occidental Ave S & S Washing...          CBD-06   \n",
       "4  Occidental Park / Occidental Ave S & S Washing...          CBD-06   \n",
       "\n",
       "  to_station_id usertype  gender  birthyear  trip_duration_hours  \n",
       "0         PS-04   Member    Male     1960.0             0.273871  \n",
       "1         PS-04   Member    Male     1970.0             0.257326  \n",
       "2         PS-04   Member  Female     1988.0             0.245509  \n",
       "3         PS-04   Member  Female     1977.0             0.240538  \n",
       "4         PS-04   Member    Male     1971.0             0.256645  "
      ]
     },
     "execution_count": 49,
     "metadata": {},
     "output_type": "execute_result"
    }
   ],
   "source": [
    "df.head()"
   ]
  },
  {
   "cell_type": "code",
   "execution_count": 50,
   "metadata": {},
   "outputs": [],
   "source": [
    "del df['trip_duration_hours']"
   ]
  },
  {
   "cell_type": "code",
   "execution_count": 51,
   "metadata": {},
   "outputs": [
    {
     "data": {
      "text/html": [
       "<div>\n",
       "<style scoped>\n",
       "    .dataframe tbody tr th:only-of-type {\n",
       "        vertical-align: middle;\n",
       "    }\n",
       "\n",
       "    .dataframe tbody tr th {\n",
       "        vertical-align: top;\n",
       "    }\n",
       "\n",
       "    .dataframe thead th {\n",
       "        text-align: right;\n",
       "    }\n",
       "</style>\n",
       "<table border=\"1\" class=\"dataframe\">\n",
       "  <thead>\n",
       "    <tr style=\"text-align: right;\">\n",
       "      <th></th>\n",
       "      <th>trip_id</th>\n",
       "      <th>starttime</th>\n",
       "      <th>stoptime</th>\n",
       "      <th>bikeid</th>\n",
       "      <th>tripduration</th>\n",
       "      <th>from_station_name</th>\n",
       "      <th>to_station_name</th>\n",
       "      <th>from_station_id</th>\n",
       "      <th>to_station_id</th>\n",
       "      <th>usertype</th>\n",
       "      <th>gender</th>\n",
       "      <th>birthyear</th>\n",
       "    </tr>\n",
       "  </thead>\n",
       "  <tbody>\n",
       "    <tr>\n",
       "      <th>0</th>\n",
       "      <td>431</td>\n",
       "      <td>10/13/2014 10:31:00 AM</td>\n",
       "      <td>10/13/2014 10:48:00 AM</td>\n",
       "      <td>SEA00298</td>\n",
       "      <td>985.935</td>\n",
       "      <td>2nd Ave &amp; Spring St</td>\n",
       "      <td>Occidental Park / Occidental Ave S &amp; S Washing...</td>\n",
       "      <td>CBD-06</td>\n",
       "      <td>PS-04</td>\n",
       "      <td>Member</td>\n",
       "      <td>Male</td>\n",
       "      <td>1960.0</td>\n",
       "    </tr>\n",
       "    <tr>\n",
       "      <th>1</th>\n",
       "      <td>432</td>\n",
       "      <td>10/13/2014 10:32:00 AM</td>\n",
       "      <td>10/13/2014 10:48:00 AM</td>\n",
       "      <td>SEA00195</td>\n",
       "      <td>926.375</td>\n",
       "      <td>2nd Ave &amp; Spring St</td>\n",
       "      <td>Occidental Park / Occidental Ave S &amp; S Washing...</td>\n",
       "      <td>CBD-06</td>\n",
       "      <td>PS-04</td>\n",
       "      <td>Member</td>\n",
       "      <td>Male</td>\n",
       "      <td>1970.0</td>\n",
       "    </tr>\n",
       "    <tr>\n",
       "      <th>2</th>\n",
       "      <td>433</td>\n",
       "      <td>10/13/2014 10:33:00 AM</td>\n",
       "      <td>10/13/2014 10:48:00 AM</td>\n",
       "      <td>SEA00486</td>\n",
       "      <td>883.831</td>\n",
       "      <td>2nd Ave &amp; Spring St</td>\n",
       "      <td>Occidental Park / Occidental Ave S &amp; S Washing...</td>\n",
       "      <td>CBD-06</td>\n",
       "      <td>PS-04</td>\n",
       "      <td>Member</td>\n",
       "      <td>Female</td>\n",
       "      <td>1988.0</td>\n",
       "    </tr>\n",
       "    <tr>\n",
       "      <th>3</th>\n",
       "      <td>434</td>\n",
       "      <td>10/13/2014 10:34:00 AM</td>\n",
       "      <td>10/13/2014 10:48:00 AM</td>\n",
       "      <td>SEA00333</td>\n",
       "      <td>865.937</td>\n",
       "      <td>2nd Ave &amp; Spring St</td>\n",
       "      <td>Occidental Park / Occidental Ave S &amp; S Washing...</td>\n",
       "      <td>CBD-06</td>\n",
       "      <td>PS-04</td>\n",
       "      <td>Member</td>\n",
       "      <td>Female</td>\n",
       "      <td>1977.0</td>\n",
       "    </tr>\n",
       "    <tr>\n",
       "      <th>4</th>\n",
       "      <td>435</td>\n",
       "      <td>10/13/2014 10:34:00 AM</td>\n",
       "      <td>10/13/2014 10:49:00 AM</td>\n",
       "      <td>SEA00202</td>\n",
       "      <td>923.923</td>\n",
       "      <td>2nd Ave &amp; Spring St</td>\n",
       "      <td>Occidental Park / Occidental Ave S &amp; S Washing...</td>\n",
       "      <td>CBD-06</td>\n",
       "      <td>PS-04</td>\n",
       "      <td>Member</td>\n",
       "      <td>Male</td>\n",
       "      <td>1971.0</td>\n",
       "    </tr>\n",
       "  </tbody>\n",
       "</table>\n",
       "</div>"
      ],
      "text/plain": [
       "   trip_id               starttime                stoptime    bikeid  \\\n",
       "0      431  10/13/2014 10:31:00 AM  10/13/2014 10:48:00 AM  SEA00298   \n",
       "1      432  10/13/2014 10:32:00 AM  10/13/2014 10:48:00 AM  SEA00195   \n",
       "2      433  10/13/2014 10:33:00 AM  10/13/2014 10:48:00 AM  SEA00486   \n",
       "3      434  10/13/2014 10:34:00 AM  10/13/2014 10:48:00 AM  SEA00333   \n",
       "4      435  10/13/2014 10:34:00 AM  10/13/2014 10:49:00 AM  SEA00202   \n",
       "\n",
       "   tripduration    from_station_name  \\\n",
       "0       985.935  2nd Ave & Spring St   \n",
       "1       926.375  2nd Ave & Spring St   \n",
       "2       883.831  2nd Ave & Spring St   \n",
       "3       865.937  2nd Ave & Spring St   \n",
       "4       923.923  2nd Ave & Spring St   \n",
       "\n",
       "                                     to_station_name from_station_id  \\\n",
       "0  Occidental Park / Occidental Ave S & S Washing...          CBD-06   \n",
       "1  Occidental Park / Occidental Ave S & S Washing...          CBD-06   \n",
       "2  Occidental Park / Occidental Ave S & S Washing...          CBD-06   \n",
       "3  Occidental Park / Occidental Ave S & S Washing...          CBD-06   \n",
       "4  Occidental Park / Occidental Ave S & S Washing...          CBD-06   \n",
       "\n",
       "  to_station_id usertype  gender  birthyear  \n",
       "0         PS-04   Member    Male     1960.0  \n",
       "1         PS-04   Member    Male     1970.0  \n",
       "2         PS-04   Member  Female     1988.0  \n",
       "3         PS-04   Member  Female     1977.0  \n",
       "4         PS-04   Member    Male     1971.0  "
      ]
     },
     "execution_count": 51,
     "metadata": {},
     "output_type": "execute_result"
    }
   ],
   "source": [
    "df.head()"
   ]
  },
  {
   "cell_type": "code",
   "execution_count": 52,
   "metadata": {},
   "outputs": [
    {
     "data": {
      "text/html": [
       "<div>\n",
       "<style scoped>\n",
       "    .dataframe tbody tr th:only-of-type {\n",
       "        vertical-align: middle;\n",
       "    }\n",
       "\n",
       "    .dataframe tbody tr th {\n",
       "        vertical-align: top;\n",
       "    }\n",
       "\n",
       "    .dataframe thead th {\n",
       "        text-align: right;\n",
       "    }\n",
       "</style>\n",
       "<table border=\"1\" class=\"dataframe\">\n",
       "  <thead>\n",
       "    <tr style=\"text-align: right;\">\n",
       "      <th></th>\n",
       "      <th>starttime</th>\n",
       "      <th>stoptime</th>\n",
       "    </tr>\n",
       "  </thead>\n",
       "  <tbody>\n",
       "    <tr>\n",
       "      <th>0</th>\n",
       "      <td>10/13/2014 10:31:00 AM</td>\n",
       "      <td>10/13/2014 10:48:00 AM</td>\n",
       "    </tr>\n",
       "    <tr>\n",
       "      <th>4</th>\n",
       "      <td>10/13/2014 10:34:00 AM</td>\n",
       "      <td>10/13/2014 10:49:00 AM</td>\n",
       "    </tr>\n",
       "  </tbody>\n",
       "</table>\n",
       "</div>"
      ],
      "text/plain": [
       "                starttime                stoptime\n",
       "0  10/13/2014 10:31:00 AM  10/13/2014 10:48:00 AM\n",
       "4  10/13/2014 10:34:00 AM  10/13/2014 10:49:00 AM"
      ]
     },
     "execution_count": 52,
     "metadata": {},
     "output_type": "execute_result"
    }
   ],
   "source": [
    "df.loc[[0,4],['starttime', 'stoptime']]"
   ]
  },
  {
   "cell_type": "code",
   "execution_count": 53,
   "metadata": {},
   "outputs": [],
   "source": [
    "df_long_trips = df[df['tripduration'] > 10000]"
   ]
  },
  {
   "cell_type": "code",
   "execution_count": 54,
   "metadata": {},
   "outputs": [],
   "source": [
    "sel = df['tripduration'] > 10000\n",
    "df_long_trips = df[sel]"
   ]
  },
  {
   "cell_type": "code",
   "execution_count": 55,
   "metadata": {},
   "outputs": [
    {
     "data": {
      "text/html": [
       "<div>\n",
       "<style scoped>\n",
       "    .dataframe tbody tr th:only-of-type {\n",
       "        vertical-align: middle;\n",
       "    }\n",
       "\n",
       "    .dataframe tbody tr th {\n",
       "        vertical-align: top;\n",
       "    }\n",
       "\n",
       "    .dataframe thead th {\n",
       "        text-align: right;\n",
       "    }\n",
       "</style>\n",
       "<table border=\"1\" class=\"dataframe\">\n",
       "  <thead>\n",
       "    <tr style=\"text-align: right;\">\n",
       "      <th></th>\n",
       "      <th>trip_id</th>\n",
       "      <th>starttime</th>\n",
       "      <th>stoptime</th>\n",
       "      <th>bikeid</th>\n",
       "      <th>tripduration</th>\n",
       "      <th>from_station_name</th>\n",
       "      <th>to_station_name</th>\n",
       "      <th>from_station_id</th>\n",
       "      <th>to_station_id</th>\n",
       "      <th>usertype</th>\n",
       "      <th>gender</th>\n",
       "      <th>birthyear</th>\n",
       "    </tr>\n",
       "  </thead>\n",
       "  <tbody>\n",
       "    <tr>\n",
       "      <th>68</th>\n",
       "      <td>506</td>\n",
       "      <td>10/13/2014 12:08:00 PM</td>\n",
       "      <td>10/13/2014 07:07:00 PM</td>\n",
       "      <td>SEA00155</td>\n",
       "      <td>25119.114</td>\n",
       "      <td>2nd Ave &amp; Spring St</td>\n",
       "      <td>2nd Ave &amp; Vine St</td>\n",
       "      <td>CBD-06</td>\n",
       "      <td>BT-03</td>\n",
       "      <td>Member</td>\n",
       "      <td>Male</td>\n",
       "      <td>1988.0</td>\n",
       "    </tr>\n",
       "    <tr>\n",
       "      <th>193</th>\n",
       "      <td>649</td>\n",
       "      <td>10/13/2014 02:54:00 PM</td>\n",
       "      <td>10/13/2014 05:59:00 PM</td>\n",
       "      <td>SEA00193</td>\n",
       "      <td>11144.159</td>\n",
       "      <td>NE 42nd St &amp; University Way NE</td>\n",
       "      <td>NE 42nd St &amp; University Way NE</td>\n",
       "      <td>UD-02</td>\n",
       "      <td>UD-02</td>\n",
       "      <td>Short-Term Pass Holder</td>\n",
       "      <td>NaN</td>\n",
       "      <td>NaN</td>\n",
       "    </tr>\n",
       "    <tr>\n",
       "      <th>408</th>\n",
       "      <td>908</td>\n",
       "      <td>10/13/2014 11:12:00 PM</td>\n",
       "      <td>10/14/2014 06:52:00 AM</td>\n",
       "      <td>SEA00230</td>\n",
       "      <td>27583.945</td>\n",
       "      <td>7th Ave &amp; Union St</td>\n",
       "      <td>2nd Ave &amp; Pine St</td>\n",
       "      <td>CBD-03</td>\n",
       "      <td>CBD-13</td>\n",
       "      <td>Short-Term Pass Holder</td>\n",
       "      <td>NaN</td>\n",
       "      <td>NaN</td>\n",
       "    </tr>\n",
       "    <tr>\n",
       "      <th>475</th>\n",
       "      <td>983</td>\n",
       "      <td>10/14/2014 09:12:00 AM</td>\n",
       "      <td>10/14/2014 01:20:00 PM</td>\n",
       "      <td>SEA00181</td>\n",
       "      <td>14885.176</td>\n",
       "      <td>Pier 69 / Alaskan Way &amp; Clay St</td>\n",
       "      <td>Pier 69 / Alaskan Way &amp; Clay St</td>\n",
       "      <td>WF-01</td>\n",
       "      <td>WF-01</td>\n",
       "      <td>Short-Term Pass Holder</td>\n",
       "      <td>NaN</td>\n",
       "      <td>NaN</td>\n",
       "    </tr>\n",
       "    <tr>\n",
       "      <th>512</th>\n",
       "      <td>1025</td>\n",
       "      <td>10/14/2014 10:49:00 AM</td>\n",
       "      <td>10/14/2014 05:19:00 PM</td>\n",
       "      <td>SEA00244</td>\n",
       "      <td>23346.911</td>\n",
       "      <td>E Pine St &amp; 16th Ave</td>\n",
       "      <td>PATH / 9th Ave &amp; Westlake Ave</td>\n",
       "      <td>CH-07</td>\n",
       "      <td>SLU-07</td>\n",
       "      <td>Member</td>\n",
       "      <td>Male</td>\n",
       "      <td>1986.0</td>\n",
       "    </tr>\n",
       "    <tr>\n",
       "      <th>...</th>\n",
       "      <td>...</td>\n",
       "      <td>...</td>\n",
       "      <td>...</td>\n",
       "      <td>...</td>\n",
       "      <td>...</td>\n",
       "      <td>...</td>\n",
       "      <td>...</td>\n",
       "      <td>...</td>\n",
       "      <td>...</td>\n",
       "      <td>...</td>\n",
       "      <td>...</td>\n",
       "      <td>...</td>\n",
       "    </tr>\n",
       "    <tr>\n",
       "      <th>274051</th>\n",
       "      <td>294382</td>\n",
       "      <td>03/25/2017 02:28:00 PM</td>\n",
       "      <td>03/25/2017 07:05:00 PM</td>\n",
       "      <td>SEA00494</td>\n",
       "      <td>16634.168</td>\n",
       "      <td>Cal Anderson Park / 11th Ave &amp; Pine St</td>\n",
       "      <td>Pier 69 / Alaskan Way &amp; Clay St</td>\n",
       "      <td>CH-08</td>\n",
       "      <td>WF-01</td>\n",
       "      <td>Short-Term Pass Holder</td>\n",
       "      <td>NaN</td>\n",
       "      <td>NaN</td>\n",
       "    </tr>\n",
       "    <tr>\n",
       "      <th>274052</th>\n",
       "      <td>294383</td>\n",
       "      <td>03/25/2017 02:28:00 PM</td>\n",
       "      <td>03/25/2017 07:05:00 PM</td>\n",
       "      <td>SEA00182</td>\n",
       "      <td>16639.182</td>\n",
       "      <td>Cal Anderson Park / 11th Ave &amp; Pine St</td>\n",
       "      <td>Pier 69 / Alaskan Way &amp; Clay St</td>\n",
       "      <td>CH-08</td>\n",
       "      <td>WF-01</td>\n",
       "      <td>Short-Term Pass Holder</td>\n",
       "      <td>NaN</td>\n",
       "      <td>NaN</td>\n",
       "    </tr>\n",
       "    <tr>\n",
       "      <th>274266</th>\n",
       "      <td>294604</td>\n",
       "      <td>03/27/2017 11:56:00 AM</td>\n",
       "      <td>03/27/2017 03:29:00 PM</td>\n",
       "      <td>SEA00291</td>\n",
       "      <td>12758.624</td>\n",
       "      <td>6th Ave S &amp; S King St</td>\n",
       "      <td>NE 42nd St &amp; University Way NE</td>\n",
       "      <td>ID-04</td>\n",
       "      <td>UD-02</td>\n",
       "      <td>Short-Term Pass Holder</td>\n",
       "      <td>NaN</td>\n",
       "      <td>NaN</td>\n",
       "    </tr>\n",
       "    <tr>\n",
       "      <th>275086</th>\n",
       "      <td>295463</td>\n",
       "      <td>03/31/2017 11:16:00 PM</td>\n",
       "      <td>04/01/2017 02:11:00 AM</td>\n",
       "      <td>SEA00347</td>\n",
       "      <td>10487.475</td>\n",
       "      <td>NE 42nd St &amp; University Way NE</td>\n",
       "      <td>E Harrison St &amp; Broadway Ave E</td>\n",
       "      <td>UD-02</td>\n",
       "      <td>CH-02</td>\n",
       "      <td>Short-Term Pass Holder</td>\n",
       "      <td>NaN</td>\n",
       "      <td>NaN</td>\n",
       "    </tr>\n",
       "    <tr>\n",
       "      <th>275087</th>\n",
       "      <td>295464</td>\n",
       "      <td>03/31/2017 11:16:00 PM</td>\n",
       "      <td>04/01/2017 02:11:00 AM</td>\n",
       "      <td>SEA00031</td>\n",
       "      <td>10487.366</td>\n",
       "      <td>NE 42nd St &amp; University Way NE</td>\n",
       "      <td>E Harrison St &amp; Broadway Ave E</td>\n",
       "      <td>UD-02</td>\n",
       "      <td>CH-02</td>\n",
       "      <td>Member</td>\n",
       "      <td>Female</td>\n",
       "      <td>1982.0</td>\n",
       "    </tr>\n",
       "  </tbody>\n",
       "</table>\n",
       "<p>3243 rows × 12 columns</p>\n",
       "</div>"
      ],
      "text/plain": [
       "        trip_id               starttime                stoptime    bikeid  \\\n",
       "68          506  10/13/2014 12:08:00 PM  10/13/2014 07:07:00 PM  SEA00155   \n",
       "193         649  10/13/2014 02:54:00 PM  10/13/2014 05:59:00 PM  SEA00193   \n",
       "408         908  10/13/2014 11:12:00 PM  10/14/2014 06:52:00 AM  SEA00230   \n",
       "475         983  10/14/2014 09:12:00 AM  10/14/2014 01:20:00 PM  SEA00181   \n",
       "512        1025  10/14/2014 10:49:00 AM  10/14/2014 05:19:00 PM  SEA00244   \n",
       "...         ...                     ...                     ...       ...   \n",
       "274051   294382  03/25/2017 02:28:00 PM  03/25/2017 07:05:00 PM  SEA00494   \n",
       "274052   294383  03/25/2017 02:28:00 PM  03/25/2017 07:05:00 PM  SEA00182   \n",
       "274266   294604  03/27/2017 11:56:00 AM  03/27/2017 03:29:00 PM  SEA00291   \n",
       "275086   295463  03/31/2017 11:16:00 PM  04/01/2017 02:11:00 AM  SEA00347   \n",
       "275087   295464  03/31/2017 11:16:00 PM  04/01/2017 02:11:00 AM  SEA00031   \n",
       "\n",
       "        tripduration                       from_station_name  \\\n",
       "68         25119.114                     2nd Ave & Spring St   \n",
       "193        11144.159          NE 42nd St & University Way NE   \n",
       "408        27583.945                      7th Ave & Union St   \n",
       "475        14885.176         Pier 69 / Alaskan Way & Clay St   \n",
       "512        23346.911                    E Pine St & 16th Ave   \n",
       "...              ...                                     ...   \n",
       "274051     16634.168  Cal Anderson Park / 11th Ave & Pine St   \n",
       "274052     16639.182  Cal Anderson Park / 11th Ave & Pine St   \n",
       "274266     12758.624                   6th Ave S & S King St   \n",
       "275086     10487.475          NE 42nd St & University Way NE   \n",
       "275087     10487.366          NE 42nd St & University Way NE   \n",
       "\n",
       "                        to_station_name from_station_id to_station_id  \\\n",
       "68                    2nd Ave & Vine St          CBD-06         BT-03   \n",
       "193      NE 42nd St & University Way NE           UD-02         UD-02   \n",
       "408                   2nd Ave & Pine St          CBD-03        CBD-13   \n",
       "475     Pier 69 / Alaskan Way & Clay St           WF-01         WF-01   \n",
       "512       PATH / 9th Ave & Westlake Ave           CH-07        SLU-07   \n",
       "...                                 ...             ...           ...   \n",
       "274051  Pier 69 / Alaskan Way & Clay St           CH-08         WF-01   \n",
       "274052  Pier 69 / Alaskan Way & Clay St           CH-08         WF-01   \n",
       "274266   NE 42nd St & University Way NE           ID-04         UD-02   \n",
       "275086   E Harrison St & Broadway Ave E           UD-02         CH-02   \n",
       "275087   E Harrison St & Broadway Ave E           UD-02         CH-02   \n",
       "\n",
       "                      usertype  gender  birthyear  \n",
       "68                      Member    Male     1988.0  \n",
       "193     Short-Term Pass Holder     NaN        NaN  \n",
       "408     Short-Term Pass Holder     NaN        NaN  \n",
       "475     Short-Term Pass Holder     NaN        NaN  \n",
       "512                     Member    Male     1986.0  \n",
       "...                        ...     ...        ...  \n",
       "274051  Short-Term Pass Holder     NaN        NaN  \n",
       "274052  Short-Term Pass Holder     NaN        NaN  \n",
       "274266  Short-Term Pass Holder     NaN        NaN  \n",
       "275086  Short-Term Pass Holder     NaN        NaN  \n",
       "275087                  Member  Female     1982.0  \n",
       "\n",
       "[3243 rows x 12 columns]"
      ]
     },
     "execution_count": 55,
     "metadata": {},
     "output_type": "execute_result"
    }
   ],
   "source": [
    "df_long_trips"
   ]
  },
  {
   "cell_type": "code",
   "execution_count": 56,
   "metadata": {},
   "outputs": [
    {
     "data": {
      "text/plain": [
       "(3243, 12)"
      ]
     },
     "execution_count": 56,
     "metadata": {},
     "output_type": "execute_result"
    }
   ],
   "source": [
    "df[sel].shape"
   ]
  },
  {
   "cell_type": "code",
   "execution_count": 57,
   "metadata": {},
   "outputs": [],
   "source": [
    "# Make a copy of a slice\n",
    "df_subset = df[['starttime', 'stoptime']].copy()\n",
    "df_subset['trip_hours'] = df['tripduration']/3600"
   ]
  },
  {
   "cell_type": "markdown",
   "metadata": {},
   "source": [
    "Columns can be created (or overwritten) with the assignment operator.\n",
    "Let's create a *tripminutes* column with the number of minutes for each trip"
   ]
  },
  {
   "cell_type": "code",
   "execution_count": 58,
   "metadata": {},
   "outputs": [],
   "source": [
    "df['tripminutes'] = df['tripduration']/60"
   ]
  },
  {
   "cell_type": "markdown",
   "metadata": {},
   "source": [
    "More complicated mathematical operations can be done with tools in the ``numpy`` package:"
   ]
  },
  {
   "cell_type": "markdown",
   "metadata": {},
   "source": [
    "### Working with Times"
   ]
  },
  {
   "cell_type": "markdown",
   "metadata": {},
   "source": [
    "One trick to know when working with columns of times is that Pandas ``DateTimeIndex`` provides a nice interface for working with columns of times.\n",
    "\n",
    "For a dataset of this size, using ``pd.to_datetime`` and specifying the date format can make things much faster (from the [strftime reference](http://strftime.org/), we see that the pronto data has format ``\"%m/%d/%Y %I:%M:%S %p\"``"
   ]
  },
  {
   "cell_type": "markdown",
   "metadata": {},
   "source": [
    "(Note: you can also use ``infer_datetime_format=True`` in most cases to automatically infer the correct format, though due to a bug it doesn't work when AM/PM are present)"
   ]
  },
  {
   "cell_type": "markdown",
   "metadata": {},
   "source": [
    "With it, we can extract, the hour of the day, the day of the week, the month, and a wide range of other views of the time:"
   ]
  },
  {
   "cell_type": "code",
   "execution_count": 59,
   "metadata": {},
   "outputs": [],
   "source": [
    "datetime_series = pd.to_datetime(df['starttime'])\n",
    "df['hour'] = datetime_series.dt.hour\n",
    "df['dayofweek'] = datetime_series.dt.weekday\n",
    "df['month'] = datetime_series.dt.month"
   ]
  },
  {
   "cell_type": "markdown",
   "metadata": {},
   "source": [
    "### Simple Grouping of Data\n",
    "\n",
    "The real power of Pandas comes in its tools for grouping and aggregating data. Here we'll look at *value counts* and the basics of *group-by* operations."
   ]
  },
  {
   "cell_type": "markdown",
   "metadata": {},
   "source": [
    "#### Value Counts"
   ]
  },
  {
   "cell_type": "markdown",
   "metadata": {},
   "source": [
    "Pandas includes an array of useful functionality for manipulating and analyzing tabular data.\n",
    "We'll take a look at two of these here."
   ]
  },
  {
   "cell_type": "markdown",
   "metadata": {},
   "source": [
    "The ``pandas.value_counts`` returns statistics on the unique values within each column.\n",
    "\n",
    "We can use it, for example, to break down rides by gender:"
   ]
  },
  {
   "cell_type": "code",
   "execution_count": 60,
   "metadata": {},
   "outputs": [
    {
     "data": {
      "text/plain": [
       "Male      135171\n",
       "Female     34997\n",
       "Other       3647\n",
       "Name: gender, dtype: int64"
      ]
     },
     "execution_count": 60,
     "metadata": {},
     "output_type": "execute_result"
    }
   ],
   "source": [
    "pd.value_counts(df[\"gender\"])"
   ]
  },
  {
   "cell_type": "markdown",
   "metadata": {},
   "source": [
    "Or to break down rides by age:"
   ]
  },
  {
   "cell_type": "code",
   "execution_count": 61,
   "metadata": {},
   "outputs": [
    {
     "data": {
      "text/plain": [
       "36.0    15381\n",
       "38.0    10491\n",
       "42.0     9028\n",
       "41.0     8950\n",
       "39.0     8699\n",
       "        ...  \n",
       "87.0        7\n",
       "24.0        6\n",
       "81.0        2\n",
       "79.0        1\n",
       "92.0        1\n",
       "Name: birthyear, Length: 61, dtype: int64"
      ]
     },
     "execution_count": 61,
     "metadata": {},
     "output_type": "execute_result"
    }
   ],
   "source": [
    "pd.value_counts(2023 - df[\"birthyear\"])"
   ]
  },
  {
   "cell_type": "markdown",
   "metadata": {},
   "source": [
    "By default, the values rather than the index are sorted. Use ``sort=False`` to turn this behavior off:"
   ]
  },
  {
   "cell_type": "code",
   "execution_count": 62,
   "metadata": {},
   "outputs": [
    {
     "data": {
      "text/plain": [
       "1960.0    1118\n",
       "1970.0    2741\n",
       "1988.0    8228\n",
       "1977.0    4187\n",
       "1971.0    3471\n",
       "          ... \n",
       "1944.0       1\n",
       "1999.0       6\n",
       "1939.0      47\n",
       "1997.0     285\n",
       "1931.0       1\n",
       "Name: birthyear, Length: 61, dtype: int64"
      ]
     },
     "execution_count": 62,
     "metadata": {},
     "output_type": "execute_result"
    }
   ],
   "source": [
    "pd.value_counts(df[\"birthyear\"], sort=False)"
   ]
  },
  {
   "cell_type": "markdown",
   "metadata": {},
   "source": [
    "We can explore other things as well: day of week, hour of day, etc."
   ]
  },
  {
   "cell_type": "code",
   "execution_count": 63,
   "metadata": {},
   "outputs": [
    {
     "data": {
      "text/plain": [
       "17    28245\n",
       "8     23646\n",
       "16    22722\n",
       "9     20407\n",
       "18    19584\n",
       "15    18674\n",
       "12    17357\n",
       "13    17333\n",
       "14    16826\n",
       "11    16348\n",
       "10    15422\n",
       "19    12925\n",
       "7     12625\n",
       "20     8582\n",
       "21     6812\n",
       "22     4492\n",
       "6      3625\n",
       "23     2949\n",
       "0      1725\n",
       "5      1598\n",
       "1      1126\n",
       "2       844\n",
       "4       775\n",
       "3       449\n",
       "Name: hour, dtype: int64"
      ]
     },
     "execution_count": 63,
     "metadata": {},
     "output_type": "execute_result"
    }
   ],
   "source": [
    "pd.value_counts(df[\"hour\"])"
   ]
  },
  {
   "cell_type": "markdown",
   "metadata": {},
   "source": [
    "### Group-by Operation\n",
    "\n",
    "One of the killer features of the Pandas dataframe is the ability to do group-by operations.\n",
    "You can visualize the group-by like this (image borrowed from the [Python Data Science Handbook](http://shop.oreilly.com/product/0636920034919.do))"
   ]
  },
  {
   "cell_type": "code",
   "execution_count": 64,
   "metadata": {},
   "outputs": [
    {
     "data": {
      "text/html": [
       "<div>\n",
       "<style scoped>\n",
       "    .dataframe tbody tr th:only-of-type {\n",
       "        vertical-align: middle;\n",
       "    }\n",
       "\n",
       "    .dataframe tbody tr th {\n",
       "        vertical-align: top;\n",
       "    }\n",
       "\n",
       "    .dataframe thead th {\n",
       "        text-align: right;\n",
       "    }\n",
       "</style>\n",
       "<table border=\"1\" class=\"dataframe\">\n",
       "  <thead>\n",
       "    <tr style=\"text-align: right;\">\n",
       "      <th></th>\n",
       "      <th>trip_id</th>\n",
       "      <th>starttime</th>\n",
       "      <th>stoptime</th>\n",
       "      <th>bikeid</th>\n",
       "      <th>tripduration</th>\n",
       "      <th>from_station_name</th>\n",
       "      <th>to_station_name</th>\n",
       "      <th>from_station_id</th>\n",
       "      <th>to_station_id</th>\n",
       "      <th>usertype</th>\n",
       "      <th>gender</th>\n",
       "      <th>birthyear</th>\n",
       "      <th>tripminutes</th>\n",
       "      <th>hour</th>\n",
       "      <th>dayofweek</th>\n",
       "      <th>month</th>\n",
       "    </tr>\n",
       "  </thead>\n",
       "  <tbody>\n",
       "    <tr>\n",
       "      <th>0</th>\n",
       "      <td>431</td>\n",
       "      <td>10/13/2014 10:31:00 AM</td>\n",
       "      <td>10/13/2014 10:48:00 AM</td>\n",
       "      <td>SEA00298</td>\n",
       "      <td>985.935</td>\n",
       "      <td>2nd Ave &amp; Spring St</td>\n",
       "      <td>Occidental Park / Occidental Ave S &amp; S Washing...</td>\n",
       "      <td>CBD-06</td>\n",
       "      <td>PS-04</td>\n",
       "      <td>Member</td>\n",
       "      <td>Male</td>\n",
       "      <td>1960.0</td>\n",
       "      <td>16.432250</td>\n",
       "      <td>10</td>\n",
       "      <td>0</td>\n",
       "      <td>10</td>\n",
       "    </tr>\n",
       "    <tr>\n",
       "      <th>1</th>\n",
       "      <td>432</td>\n",
       "      <td>10/13/2014 10:32:00 AM</td>\n",
       "      <td>10/13/2014 10:48:00 AM</td>\n",
       "      <td>SEA00195</td>\n",
       "      <td>926.375</td>\n",
       "      <td>2nd Ave &amp; Spring St</td>\n",
       "      <td>Occidental Park / Occidental Ave S &amp; S Washing...</td>\n",
       "      <td>CBD-06</td>\n",
       "      <td>PS-04</td>\n",
       "      <td>Member</td>\n",
       "      <td>Male</td>\n",
       "      <td>1970.0</td>\n",
       "      <td>15.439583</td>\n",
       "      <td>10</td>\n",
       "      <td>0</td>\n",
       "      <td>10</td>\n",
       "    </tr>\n",
       "    <tr>\n",
       "      <th>2</th>\n",
       "      <td>433</td>\n",
       "      <td>10/13/2014 10:33:00 AM</td>\n",
       "      <td>10/13/2014 10:48:00 AM</td>\n",
       "      <td>SEA00486</td>\n",
       "      <td>883.831</td>\n",
       "      <td>2nd Ave &amp; Spring St</td>\n",
       "      <td>Occidental Park / Occidental Ave S &amp; S Washing...</td>\n",
       "      <td>CBD-06</td>\n",
       "      <td>PS-04</td>\n",
       "      <td>Member</td>\n",
       "      <td>Female</td>\n",
       "      <td>1988.0</td>\n",
       "      <td>14.730517</td>\n",
       "      <td>10</td>\n",
       "      <td>0</td>\n",
       "      <td>10</td>\n",
       "    </tr>\n",
       "    <tr>\n",
       "      <th>3</th>\n",
       "      <td>434</td>\n",
       "      <td>10/13/2014 10:34:00 AM</td>\n",
       "      <td>10/13/2014 10:48:00 AM</td>\n",
       "      <td>SEA00333</td>\n",
       "      <td>865.937</td>\n",
       "      <td>2nd Ave &amp; Spring St</td>\n",
       "      <td>Occidental Park / Occidental Ave S &amp; S Washing...</td>\n",
       "      <td>CBD-06</td>\n",
       "      <td>PS-04</td>\n",
       "      <td>Member</td>\n",
       "      <td>Female</td>\n",
       "      <td>1977.0</td>\n",
       "      <td>14.432283</td>\n",
       "      <td>10</td>\n",
       "      <td>0</td>\n",
       "      <td>10</td>\n",
       "    </tr>\n",
       "    <tr>\n",
       "      <th>4</th>\n",
       "      <td>435</td>\n",
       "      <td>10/13/2014 10:34:00 AM</td>\n",
       "      <td>10/13/2014 10:49:00 AM</td>\n",
       "      <td>SEA00202</td>\n",
       "      <td>923.923</td>\n",
       "      <td>2nd Ave &amp; Spring St</td>\n",
       "      <td>Occidental Park / Occidental Ave S &amp; S Washing...</td>\n",
       "      <td>CBD-06</td>\n",
       "      <td>PS-04</td>\n",
       "      <td>Member</td>\n",
       "      <td>Male</td>\n",
       "      <td>1971.0</td>\n",
       "      <td>15.398717</td>\n",
       "      <td>10</td>\n",
       "      <td>0</td>\n",
       "      <td>10</td>\n",
       "    </tr>\n",
       "  </tbody>\n",
       "</table>\n",
       "</div>"
      ],
      "text/plain": [
       "   trip_id               starttime                stoptime    bikeid  \\\n",
       "0      431  10/13/2014 10:31:00 AM  10/13/2014 10:48:00 AM  SEA00298   \n",
       "1      432  10/13/2014 10:32:00 AM  10/13/2014 10:48:00 AM  SEA00195   \n",
       "2      433  10/13/2014 10:33:00 AM  10/13/2014 10:48:00 AM  SEA00486   \n",
       "3      434  10/13/2014 10:34:00 AM  10/13/2014 10:48:00 AM  SEA00333   \n",
       "4      435  10/13/2014 10:34:00 AM  10/13/2014 10:49:00 AM  SEA00202   \n",
       "\n",
       "   tripduration    from_station_name  \\\n",
       "0       985.935  2nd Ave & Spring St   \n",
       "1       926.375  2nd Ave & Spring St   \n",
       "2       883.831  2nd Ave & Spring St   \n",
       "3       865.937  2nd Ave & Spring St   \n",
       "4       923.923  2nd Ave & Spring St   \n",
       "\n",
       "                                     to_station_name from_station_id  \\\n",
       "0  Occidental Park / Occidental Ave S & S Washing...          CBD-06   \n",
       "1  Occidental Park / Occidental Ave S & S Washing...          CBD-06   \n",
       "2  Occidental Park / Occidental Ave S & S Washing...          CBD-06   \n",
       "3  Occidental Park / Occidental Ave S & S Washing...          CBD-06   \n",
       "4  Occidental Park / Occidental Ave S & S Washing...          CBD-06   \n",
       "\n",
       "  to_station_id usertype  gender  birthyear  tripminutes  hour  dayofweek  \\\n",
       "0         PS-04   Member    Male     1960.0    16.432250    10          0   \n",
       "1         PS-04   Member    Male     1970.0    15.439583    10          0   \n",
       "2         PS-04   Member  Female     1988.0    14.730517    10          0   \n",
       "3         PS-04   Member  Female     1977.0    14.432283    10          0   \n",
       "4         PS-04   Member    Male     1971.0    15.398717    10          0   \n",
       "\n",
       "   month  \n",
       "0     10  \n",
       "1     10  \n",
       "2     10  \n",
       "3     10  \n",
       "4     10  "
      ]
     },
     "execution_count": 64,
     "metadata": {},
     "output_type": "execute_result"
    }
   ],
   "source": [
    "df.head()"
   ]
  },
  {
   "cell_type": "code",
   "execution_count": 65,
   "metadata": {},
   "outputs": [
    {
     "data": {
      "text/html": [
       "<div>\n",
       "<style scoped>\n",
       "    .dataframe tbody tr th:only-of-type {\n",
       "        vertical-align: middle;\n",
       "    }\n",
       "\n",
       "    .dataframe tbody tr th {\n",
       "        vertical-align: top;\n",
       "    }\n",
       "\n",
       "    .dataframe thead th {\n",
       "        text-align: right;\n",
       "    }\n",
       "</style>\n",
       "<table border=\"1\" class=\"dataframe\">\n",
       "  <thead>\n",
       "    <tr style=\"text-align: right;\">\n",
       "      <th></th>\n",
       "      <th>count</th>\n",
       "    </tr>\n",
       "    <tr>\n",
       "      <th>from_station_id</th>\n",
       "      <th></th>\n",
       "    </tr>\n",
       "  </thead>\n",
       "  <tbody>\n",
       "    <tr>\n",
       "      <th>BT-01</th>\n",
       "      <td>10463</td>\n",
       "    </tr>\n",
       "    <tr>\n",
       "      <th>BT-03</th>\n",
       "      <td>7334</td>\n",
       "    </tr>\n",
       "    <tr>\n",
       "      <th>BT-04</th>\n",
       "      <td>4666</td>\n",
       "    </tr>\n",
       "    <tr>\n",
       "      <th>BT-05</th>\n",
       "      <td>5699</td>\n",
       "    </tr>\n",
       "    <tr>\n",
       "      <th>BT-06</th>\n",
       "      <td>150</td>\n",
       "    </tr>\n",
       "  </tbody>\n",
       "</table>\n",
       "</div>"
      ],
      "text/plain": [
       "                 count\n",
       "from_station_id       \n",
       "BT-01            10463\n",
       "BT-03             7334\n",
       "BT-04             4666\n",
       "BT-05             5699\n",
       "BT-06              150"
      ]
     },
     "execution_count": 65,
     "metadata": {},
     "output_type": "execute_result"
    }
   ],
   "source": [
    "df_sub = df[['from_station_id', 'trip_id']]\n",
    "df_count = df_sub.groupby(['from_station_id']).count()\n",
    "df_count.head()\n",
    "df_count.columns = ['count']\n",
    "df_count.head()"
   ]
  },
  {
   "cell_type": "code",
   "execution_count": 66,
   "metadata": {},
   "outputs": [
    {
     "data": {
      "text/html": [
       "<div>\n",
       "<style scoped>\n",
       "    .dataframe tbody tr th:only-of-type {\n",
       "        vertical-align: middle;\n",
       "    }\n",
       "\n",
       "    .dataframe tbody tr th {\n",
       "        vertical-align: top;\n",
       "    }\n",
       "\n",
       "    .dataframe thead th {\n",
       "        text-align: right;\n",
       "    }\n",
       "</style>\n",
       "<table border=\"1\" class=\"dataframe\">\n",
       "  <thead>\n",
       "    <tr style=\"text-align: right;\">\n",
       "      <th></th>\n",
       "      <th>trip_id</th>\n",
       "      <th>tripduration</th>\n",
       "      <th>birthyear</th>\n",
       "      <th>tripminutes</th>\n",
       "      <th>hour</th>\n",
       "      <th>dayofweek</th>\n",
       "      <th>month</th>\n",
       "    </tr>\n",
       "    <tr>\n",
       "      <th>from_station_id</th>\n",
       "      <th></th>\n",
       "      <th></th>\n",
       "      <th></th>\n",
       "      <th></th>\n",
       "      <th></th>\n",
       "      <th></th>\n",
       "      <th></th>\n",
       "    </tr>\n",
       "  </thead>\n",
       "  <tbody>\n",
       "    <tr>\n",
       "      <th>BT-01</th>\n",
       "      <td>147831.009844</td>\n",
       "      <td>1375.031203</td>\n",
       "      <td>1980.131427</td>\n",
       "      <td>22.917187</td>\n",
       "      <td>13.815636</td>\n",
       "      <td>3.131033</td>\n",
       "      <td>6.541623</td>\n",
       "    </tr>\n",
       "    <tr>\n",
       "      <th>BT-03</th>\n",
       "      <td>139404.294655</td>\n",
       "      <td>1019.200684</td>\n",
       "      <td>1976.505142</td>\n",
       "      <td>16.986678</td>\n",
       "      <td>12.970684</td>\n",
       "      <td>2.899236</td>\n",
       "      <td>6.563403</td>\n",
       "    </tr>\n",
       "    <tr>\n",
       "      <th>BT-04</th>\n",
       "      <td>157992.809687</td>\n",
       "      <td>891.095897</td>\n",
       "      <td>1979.877044</td>\n",
       "      <td>14.851598</td>\n",
       "      <td>13.825332</td>\n",
       "      <td>2.598800</td>\n",
       "      <td>6.919846</td>\n",
       "    </tr>\n",
       "    <tr>\n",
       "      <th>BT-05</th>\n",
       "      <td>139283.572381</td>\n",
       "      <td>1199.949481</td>\n",
       "      <td>1975.937479</td>\n",
       "      <td>19.999158</td>\n",
       "      <td>13.780312</td>\n",
       "      <td>2.955606</td>\n",
       "      <td>6.567117</td>\n",
       "    </tr>\n",
       "    <tr>\n",
       "      <th>BT-06</th>\n",
       "      <td>291807.953333</td>\n",
       "      <td>659.770547</td>\n",
       "      <td>1975.830769</td>\n",
       "      <td>10.996176</td>\n",
       "      <td>13.466667</td>\n",
       "      <td>2.640000</td>\n",
       "      <td>2.580000</td>\n",
       "    </tr>\n",
       "  </tbody>\n",
       "</table>\n",
       "</div>"
      ],
      "text/plain": [
       "                       trip_id  tripduration    birthyear  tripminutes  \\\n",
       "from_station_id                                                          \n",
       "BT-01            147831.009844   1375.031203  1980.131427    22.917187   \n",
       "BT-03            139404.294655   1019.200684  1976.505142    16.986678   \n",
       "BT-04            157992.809687    891.095897  1979.877044    14.851598   \n",
       "BT-05            139283.572381   1199.949481  1975.937479    19.999158   \n",
       "BT-06            291807.953333    659.770547  1975.830769    10.996176   \n",
       "\n",
       "                      hour  dayofweek     month  \n",
       "from_station_id                                  \n",
       "BT-01            13.815636   3.131033  6.541623  \n",
       "BT-03            12.970684   2.899236  6.563403  \n",
       "BT-04            13.825332   2.598800  6.919846  \n",
       "BT-05            13.780312   2.955606  6.567117  \n",
       "BT-06            13.466667   2.640000  2.580000  "
      ]
     },
     "execution_count": 66,
     "metadata": {},
     "output_type": "execute_result"
    }
   ],
   "source": [
    "df_mean = df.groupby(['from_station_id']).mean()\n",
    "df_mean.head()"
   ]
  },
  {
   "cell_type": "code",
   "execution_count": 67,
   "metadata": {},
   "outputs": [
    {
     "data": {
      "text/plain": [
       "{'BT-01': [217, 227, 228, 282, 283, 310, 326, 327, 329, 331, 443, 470, 471, 525, 526, 569, 657, 659, 661, 703, 752, 801, 802, 861, 998, 1069, 1154, 1172, 1411, 1412, 1418, 1423, 1427, 1477, 1482, 1521, 1522, 1528, 1543, 1544, 1614, 1802, 1803, 1804, 1866, 1868, 1869, 1898, 2021, 2023, 2025, 2027, 2028, 2058, 2137, 2138, 2175, 2176, 2228, 2229, 2335, 2425, 2622, 2624, 2647, 2649, 2741, 2771, 2855, 2856, 2893, 2945, 3028, 3053, 3097, 3254, 3264, 3615, 3644, 3674, 3765, 3789, 3863, 3913, 3971, 3984, 3993, 3997, 4007, 4020, 4152, 4193, 4384, 4601, 4724, 4780, 4819, 4933, 4934, 5019, ...], 'BT-03': [87, 88, 230, 261, 366, 407, 414, 439, 453, 754, 761, 810, 824, 909, 926, 1036, 1042, 1100, 1104, 1133, 1180, 1184, 1215, 1240, 1241, 1267, 1287, 1302, 1331, 1333, 1496, 1567, 1568, 1616, 1653, 1694, 1885, 1935, 2002, 2042, 2073, 2112, 2113, 2134, 2178, 2179, 2314, 2315, 2330, 2331, 2332, 2333, 2334, 2344, 2385, 2401, 2487, 2519, 2558, 2559, 2578, 2635, 2637, 2641, 2655, 2663, 2664, 2685, 2732, 2793, 2806, 2841, 2968, 2975, 2977, 3040, 3059, 3078, 3135, 3181, 3186, 3189, 3214, 3237, 3298, 3307, 3317, 3358, 3362, 3390, 3393, 3423, 3434, 3442, 3458, 3514, 3535, 3537, 3538, 3565, ...], 'BT-04': [66, 67, 94, 104, 108, 166, 233, 259, 322, 333, 394, 395, 398, 501, 570, 592, 603, 606, 607, 609, 610, 805, 806, 823, 853, 946, 960, 981, 1001, 1023, 1024, 1210, 1274, 1301, 1307, 1311, 1336, 1342, 1387, 1499, 1500, 1565, 1575, 1595, 1640, 1692, 1699, 1736, 1813, 1844, 1856, 1900, 1923, 1995, 1997, 2155, 2207, 2210, 2328, 2581, 2598, 2600, 2654, 2669, 2670, 2853, 2989, 2999, 3001, 3005, 3032, 3057, 3058, 3185, 3271, 3290, 3352, 3398, 3417, 3418, 3436, 3479, 3503, 3513, 3556, 3684, 3761, 3915, 3945, 3983, 3994, 4091, 4113, 4151, 4160, 4235, 4238, 4281, 4325, 4399, ...], 'BT-05': [110, 413, 426, 513, 585, 618, 744, 753, 795, 1003, 1204, 1254, 1316, 1348, 1405, 1438, 1461, 1515, 1609, 1623, 1710, 1737, 1774, 1788, 1790, 1792, 1834, 1839, 1860, 1861, 1953, 1984, 2026, 2065, 2067, 2247, 2267, 2285, 2491, 2492, 2515, 2572, 2573, 2710, 2711, 2713, 2787, 2868, 2898, 2951, 2952, 2974, 3017, 3071, 3134, 3142, 3145, 3229, 3330, 3342, 3350, 3445, 3495, 3550, 3577, 3578, 3595, 3609, 3688, 3689, 3696, 3697, 3705, 3775, 3823, 3839, 3893, 3924, 3938, 3959, 4041, 4050, 4061, 4177, 4178, 4196, 4208, 4233, 4321, 4385, 4402, 4407, 4429, 4474, 4481, 4681, 4713, 4714, 4715, 4726, ...], 'BT-06': [268581, 268643, 268668, 268718, 268735, 268781, 268897, 268903, 268914, 268961, 269000, 269036, 269042, 269078, 269178, 269194, 269231, 269237, 269238, 269239, 269240, 269257, 269285, 269337, 269338, 269374, 269375, 269376, 269377, 269383, 269447, 269448, 269589, 269613, 269677, 269776, 269780, 269847, 269849, 269877, 269908, 269918, 269976, 269997, 270002, 270056, 270081, 270147, 270182, 270210, 270262, 270268, 270269, 270337, 270453, 270551, 270553, 270559, 270587, 270659, 270698, 270710, 270716, 270780, 270834, 270890, 270924, 270944, 271008, 271088, 271101, 271248, 271249, 271264, 271427, 271483, 271494, 271574, 271593, 271601, 271674, 271716, 271720, 271726, 271735, 271875, 271876, 271927, 271995, 272019, 272020, 272105, 272210, 272282, 272295, 272328, 272383, 272400, 272413, 272502, ...], 'CBD-03': [118, 119, 164, 229, 275, 285, 328, 339, 356, 357, 362, 363, 383, 408, 495, 520, 527, 767, 773, 780, 782, 986, 1025, 1047, 1094, 1103, 1127, 1136, 1163, 1186, 1205, 1208, 1209, 1420, 1474, 1475, 1503, 1504, 1524, 1529, 1555, 1611, 1679, 1718, 1742, 1743, 1754, 1760, 1810, 1814, 1833, 1841, 1862, 1875, 1880, 1890, 1957, 1971, 2062, 2121, 2128, 2243, 2244, 2245, 2246, 2306, 2307, 2310, 2311, 2316, 2317, 2318, 2319, 2320, 2390, 2399, 2400, 2404, 2405, 2468, 2545, 2546, 2721, 2791, 2792, 2857, 2858, 2905, 2907, 2916, 2919, 2920, 2949, 3022, 3041, 3085, 3091, 3125, 3126, 3161, ...], 'CBD-04': [105392, 105458, 105467, 105472, 105614, 105615, 105835, 105836, 105855, 105858, 106056, 106117, 106138, 106139, 106142, 106215, 106480, 106593, 106594, 106656, 106660, 106661, 106670, 106700, 106722, 106745, 106800, 106931, 107090, 107349, 107352, 107401, 107420, 107445, 107446, 107492, 107509, 107552, 107641, 107716, 107844, 107937, 107972, 107998, 108005, 108031, 108035, 108090, 108291, 108292, 108483, 108487, 108520, 108521, 108523, 108947, 108948, 109070, 109152, 109155, 109160, 109299, 109300, 109381, 109518, 109769, 109793, 109808, 109813, 109814, 110063, 110103, 110173, 110185, 110188, 110297, 110331, 110370, 110394, 110480, 110540, 110894, 110895, 110947, 110953, 110990, 111006, 111091, 111329, 111408, 111428, 111472, 111504, 111546, 111547, 111575, 111607, 111622, 111635, 111736, ...], 'CBD-05': [54, 79, 95, 148, 149, 150, 151, 165, 211, 219, 252, 257, 258, 271, 274, 301, 303, 323, 423, 434, 576, 586, 629, 666, 775, 908, 915, 919, 924, 930, 988, 996, 997, 1062, 1073, 1116, 1122, 1125, 1224, 1243, 1245, 1399, 1437, 1578, 1579, 1713, 1716, 1726, 1732, 1750, 1751, 1777, 1806, 1811, 1944, 1945, 2080, 2309, 2313, 2322, 2323, 2359, 2429, 2484, 2552, 2553, 2556, 2607, 2608, 2724, 2725, 2734, 2737, 2811, 2983, 2986, 3100, 3140, 3141, 3162, 3170, 3171, 3203, 3217, 3234, 3309, 3357, 3376, 3456, 3465, 3472, 3525, 3563, 3571, 3614, 3639, 3642, 3736, 3774, 3785, ...], 'CBD-06': [0, 1, 2, 3, 4, 5, 63, 68, 70, 71, 75, 85, 86, 106, 114, 117, 145, 185, 186, 189, 190, 209, 268, 293, 342, 348, 438, 548, 579, 593, 594, 595, 622, 623, 674, 675, 692, 695, 731, 766, 789, 890, 965, 1029, 1030, 1034, 1050, 1058, 1061, 1097, 1102, 1124, 1191, 1202, 1203, 1260, 1297, 1319, 1340, 1401, 1421, 1434, 1466, 1473, 1488, 1585, 1586, 1603, 1607, 1796, 1817, 1865, 1876, 1877, 1922, 1972, 2338, 2339, 2373, 2374, 2458, 2518, 2864, 3029, 3049, 3115, 3118, 3122, 3228, 3245, 3300, 3321, 3410, 3411, 3420, 3558, 3564, 3585, 3631, 3665, ...], 'CBD-07': [42, 69, 78, 141, 196, 269, 478, 510, 522, 542, 559, 560, 582, 645, 658, 668, 670, 691, 737, 750, 869, 959, 980, 987, 1037, 1049, 1060, 1072, 1108, 1115, 1139, 1147, 1152, 1356, 1376, 1417, 1447, 1457, 1741, 1756, 1801, 2016, 2017, 2018, 2055, 2190, 2631, 2632, 2827, 3048, 3054, 3055, 3082, 3175, 3180, 3204, 3205, 3287, 3288, 3433, 3454, 3632, 3647, 3648, 3661, 3807, 3917, 3929, 3941, 3950, 3952, 3958, 3986, 3987, 4023, 4037, 4066, 4244, 4309, 4383, 4439, 4440, 4485, 4490, 4505, 4750, 4756, 4916, 5150, 5185, 5201, 5210, 5263, 5269, 5279, 5311, 5312, 5314, 5329, 5357, ...], 'CBD-13': [99, 139, 198, 249, 276, 334, 381, 388, 424, 442, 523, 588, 596, 597, 598, 599, 601, 664, 719, 745, 758, 807, 852, 879, 880, 887, 888, 933, 1002, 1008, 1089, 1093, 1119, 1155, 1187, 1189, 1192, 1284, 1327, 1330, 1337, 1353, 1366, 1391, 1436, 1440, 1458, 1464, 1484, 1487, 1497, 1516, 1536, 1538, 1542, 1562, 1582, 1583, 1589, 1707, 1725, 1727, 1763, 1773, 1785, 1795, 1816, 1838, 1857, 1924, 1985, 1986, 2064, 2068, 2069, 2136, 2139, 2140, 2150, 2162, 2166, 2167, 2195, 2235, 2236, 2294, 2325, 2349, 2350, 2389, 2407, 2436, 2465, 2513, 2534, 2589, 2590, 2645, 2728, 2751, ...], 'CD-01': [68531, 68532, 69169, 69170, 69954, 70367, 70529, 70546, 70621, 70622, 70871, 70872, 71349, 71797, 71964, 71968, 72510, 72568, 72758, 72951, 72952, 73561, 73699, 74005, 74049, 74077, 74249, 74253, 74292, 74678, 74782, 74783, 75051, 75372, 75534, 75535, 75576, 75784, 75785, 75786, 75846, 75907, 75908, 76414, 76415, 76893, 76895, 76896, 76899, 76906, 77152, 77237, 77474, 77669, 78008, 78011, 78566, 78594, 78595, 78847, 78848, 78863, 79097, 79135, 79365, 79368, 79539, 79877, 79878, 80109, 80249, 80250, 80928, 81595, 81689, 81960, 82132, 82253, 82441, 82706, 82845, 83023, 83069, 83260, 83453, 83726, 84281, 84740, 84771, 84938, 85335, 85496, 85620, 85647, 85923, 86427, 86976, 87098, 87724, 87769, ...], 'CH-01': [256, 355, 382, 416, 437, 444, 502, 503, 600, 679, 713, 821, 962, 990, 1000, 1063, 1099, 1131, 1207, 1212, 1232, 1253, 1285, 1357, 1390, 1508, 1570, 1612, 1630, 1766, 1843, 1846, 1910, 1911, 1919, 1925, 1926, 2024, 2043, 2049, 2133, 2171, 2181, 2193, 2257, 2342, 2391, 2454, 2467, 2469, 2486, 2609, 2620, 2679, 2690, 2699, 2700, 2797, 2816, 2817, 2838, 2900, 2915, 3012, 3039, 3136, 3168, 3305, 3386, 3414, 3570, 3620, 3669, 3702, 3715, 3799, 3827, 3830, 3862, 4060, 4154, 4164, 4211, 4271, 4282, 4312, 4419, 4551, 4572, 4578, 4656, 4657, 4658, 4817, 4858, 4911, 4917, 5020, 5081, 5096, ...], 'CH-02': [55, 56, 58, 83, 113, 126, 127, 154, 162, 163, 176, 179, 180, 235, 254, 265, 286, 317, 336, 389, 405, 409, 410, 418, 419, 422, 440, 473, 481, 672, 699, 788, 811, 816, 828, 847, 848, 892, 893, 901, 906, 917, 918, 938, 953, 957, 973, 983, 1057, 1105, 1106, 1160, 1161, 1178, 1179, 1193, 1196, 1199, 1218, 1220, 1235, 1236, 1255, 1258, 1268, 1281, 1293, 1295, 1304, 1364, 1379, 1395, 1396, 1439, 1532, 1541, 1574, 1587, 1622, 1636, 1642, 1647, 1654, 1665, 1676, 1735, 1824, 1836, 1837, 1908, 1909, 1912, 1913, 1930, 1931, 1939, 2034, 2040, 2059, 2126, ...], 'CH-03': [290, 417, 428, 435, 436, 452, 494, 516, 640, 665, 808, 925, 929, 955, 966, 967, 1043, 1150, 1219, 1231, 1247, 1249, 1252, 1261, 1271, 1282, 1303, 1318, 1329, 1448, 1624, 1631, 1641, 1643, 1646, 1655, 1660, 1669, 1693, 1724, 1823, 1826, 1853, 1927, 1928, 1956, 2096, 2172, 2185, 2242, 2287, 2364, 2406, 2542, 2543, 2604, 2605, 2610, 2617, 2621, 2659, 2743, 2824, 2933, 2934, 2978, 2980, 2988, 3073, 3193, 3299, 3366, 3371, 3372, 3397, 3427, 3501, 3610, 3660, 3724, 3739, 3749, 3758, 3859, 3871, 3884, 3891, 3895, 3933, 3946, 3951, 4123, 4209, 4210, 4212, 4219, 4220, 4221, 4229, 4234, ...], 'CH-05': [134, 195, 205, 248, 250, 251, 315, 324, 337, 390, 393, 445, 450, 472, 653, 676, 677, 768, 786, 793, 812, 837, 838, 871, 954, 978, 1041, 1167, 1168, 1217, 1264, 1291, 1306, 1326, 1328, 1472, 1478, 1494, 1626, 1649, 1659, 1689, 1696, 1729, 1745, 1749, 1818, 1819, 1852, 1867, 1894, 1895, 1904, 1914, 1921, 2001, 2022, 2066, 2084, 2103, 2148, 2184, 2188, 2200, 2205, 2265, 2276, 2277, 2279, 2296, 2297, 2379, 2380, 2384, 2398, 2428, 2551, 2561, 2562, 2623, 2628, 2630, 2878, 2922, 2923, 2924, 2925, 2926, 2928, 2947, 2948, 3002, 3006, 3158, 3166, 3169, 3191, 3267, 3338, 3385, ...], 'CH-06': [212, 253, 277, 278, 279, 403, 449, 504, 684, 881, 928, 937, 1126, 1200, 1201, 1251, 1645, 1664, 1677, 1820, 1951, 2784, 2802, 2991, 3132, 3202, 3343, 3344, 3382, 3520, 3730, 3791, 3796, 3814, 3844, 3868, 3870, 3872, 3920, 4038, 4108, 4134, 4165, 4168, 4202, 4217, 4224, 4230, 4261, 4274, 4377, 4378, 4396, 4661, 4667, 4873, 4921, 4955, 4956, 5016, 5064, 5100, 5129, 5135, 5136, 5156, 5328, 5432, 5444, 5477, 5478, 5641, 5689, 5708, 5751, 5775, 5958, 6100, 6121, 6144, 6152, 6169, 6184, 6280, 6284, 6312, 6337, 6361, 6374, 6539, 6644, 6651, 6657, 6658, 6749, 6750, 6765, 6803, 7095, 7108, ...], 'CH-07': [146, 210, 299, 341, 374, 377, 401, 415, 431, 466, 512, 627, 729, 777, 822, 825, 826, 827, 829, 836, 870, 907, 914, 940, 941, 982, 1064, 1151, 1227, 1234, 1280, 1294, 1314, 1315, 1449, 1450, 1451, 1619, 1620, 1658, 1670, 1683, 1698, 1934, 2050, 2053, 2120, 2125, 2130, 2173, 2177, 2196, 2261, 2262, 2291, 2293, 2352, 2416, 2426, 2453, 2460, 2485, 2517, 2523, 2524, 2563, 2565, 2588, 2712, 2779, 2842, 2844, 2846, 2847, 2936, 2960, 2992, 3010, 3013, 3019, 3027, 3042, 3050, 3131, 3179, 3200, 3212, 3266, 3295, 3323, 3327, 3375, 3389, 3392, 3437, 3441, 3480, 3490, 3506, 3536, ...], 'CH-08': [120, 136, 144, 158, 159, 242, 262, 294, 311, 321, 352, 376, 480, 489, 491, 496, 497, 509, 517, 524, 712, 742, 757, 779, 790, 796, 797, 819, 851, 872, 884, 885, 897, 947, 949, 956, 971, 1101, 1109, 1149, 1206, 1213, 1256, 1263, 1289, 1332, 1334, 1406, 1459, 1481, 1525, 1599, 1600, 1644, 1667, 1690, 1744, 1753, 1761, 1769, 1812, 1859, 1870, 1871, 1882, 1883, 1891, 1893, 1897, 1905, 1915, 1941, 1955, 2092, 2093, 2203, 2273, 2281, 2282, 2286, 2301, 2324, 2375, 2422, 2423, 2462, 2512, 2634, 2657, 2658, 2661, 2666, 2696, 2697, 2716, 2717, 2757, 2790, 2796, 2818, ...], 'CH-09': [101, 168, 222, 349, 380, 467, 567, 578, 628, 647, 759, 835, 882, 894, 895, 1033, 1085, 1148, 1153, 1181, 1182, 1197, 1237, 1292, 1305, 1343, 1344, 1345, 1501, 1526, 1549, 1588, 1671, 1740, 1829, 1872, 1901, 1902, 1990, 2000, 2033, 2037, 2047, 2151, 2163, 2165, 2202, 2226, 2227, 2254, 2299, 2300, 2302, 2303, 2329, 2355, 2356, 2363, 2365, 2387, 2478, 2570, 2571, 2582, 2583, 2612, 2704, 2708, 2745, 2754, 2755, 2762, 2831, 2832, 2834, 2848, 2872, 2884, 2961, 3119, 3129, 3172, 3244, 3273, 3278, 3322, 3334, 3335, 3353, 3406, 3519, 3522, 3611, 3624, 3638, 3710, 3716, 3772, 3810, 3833, ...], 'CH-12': [319, 384, 411, 441, 451, 462, 540, 554, 558, 605, 651, 701, 778, 814, 832, 856, 883, 898, 911, 958, 1113, 1121, 1137, 1216, 1223, 1228, 1233, 1279, 1317, 1325, 1415, 1520, 1545, 1548, 1564, 1590, 1597, 1615, 1635, 1681, 1825, 1830, 1842, 1847, 1854, 1855, 1896, 1954, 1968, 1969, 2232, 2456, 2457, 2495, 2496, 2606, 2625, 2646, 2803, 2901, 2902, 2937, 2938, 2970, 3023, 3105, 3130, 3155, 3159, 3197, 3198, 3224, 3347, 3364, 3367, 3370, 3378, 3419, 3469, 3499, 3586, 3650, 3658, 3676, 3701, 3708, 3714, 3744, 3832, 3840, 3857, 3858, 3875, 3878, 3914, 4016, 4070, 4084, 4092, 4099, ...], 'CH-15': [109, 160, 244, 340, 402, 430, 459, 468, 723, 724, 725, 739, 748, 800, 803, 804, 831, 923, 945, 1107, 1190, 1229, 1272, 1299, 1300, 1358, 1416, 1432, 1571, 1629, 1657, 1933, 1959, 1960, 1962, 1963, 1987, 1994, 1996, 2019, 2060, 2115, 2194, 2269, 2270, 2357, 2361, 2522, 2577, 2587, 2601, 2602, 2636, 2914, 2997, 2998, 3009, 3111, 3152, 3210, 3260, 3294, 3318, 3331, 3349, 3374, 3391, 3396, 3400, 3401, 3426, 3438, 3444, 3461, 3641, 3687, 3690, 3699, 3751, 3752, 3847, 3877, 3894, 3912, 3926, 3982, 4011, 4161, 4176, 4199, 4249, 4255, 4256, 4260, 4273, 4335, 4344, 4415, 4432, 4473, ...], 'CH-16': [175075, 175093, 175108, 175126, 175127, 175131, 175136, 175144, 175145, 175210, 175241, 175266, 175285, 175306, 175347, 175351, 175398, 175440, 175573, 175575, 175593, 175595, 175601, 175611, 175626, 175641, 175658, 175668, 175680, 175682, 175761, 175784, 175884, 175910, 175912, 175915, 175930, 175938, 176028, 176139, 176154, 176157, 176164, 176169, 176178, 176242, 176283, 176338, 176387, 176435, 176445, 176453, 176470, 176492, 176509, 176527, 176624, 176625, 176629, 176680, 176730, 176735, 176810, 176824, 176830, 176864, 176865, 176899, 176911, 176978, 177070, 177159, 177160, 177184, 177187, 177241, 177405, 177406, 177410, 177415, 177416, 177439, 177493, 177643, 177656, 177710, 177836, 177855, 177858, 177984, 178007, 178011, 178038, 178079, 178151, 178264, 178266, 178309, 178322, 178324, ...], 'DPD-01': [59, 91, 93, 289, 568, 644, 667, 740, 839, 974, 979, 1010, 1068, 1164, 1594, 1651, 1673, 1782, 1783, 1827, 1873, 1874, 1998, 1999, 2280, 2554, 2576, 2614, 2615, 2870, 2927, 3046, 3102, 3182, 3236, 3248, 3251, 3263, 3279, 3282, 3304, 3340, 3549, 3613, 3692, 3709, 3790, 3806, 3835, 3836, 3845, 3942, 3943, 3944, 4028, 4141, 4354, 4529, 4552, 4566, 4583, 4764, 4825, 4870, 4954, 4980, 5055, 5195, 5204, 5209, 5339, 5352, 5369, 5375, 5385, 5392, 5448, 5453, 5510, 5620, 5627, 5666, 5671, 5677, 5679, 5772, 5812, 5831, 5931, 6033, 6061, 6062, 6063, 6064, 6086, 6101, 6125, 6126, 6139, 6233, ...], 'DPD-03': [131, 197, 345, 347, 727, 844, 1075, 1144, 1347, 1430, 1514, 1697, 2189, 2215, 2345, 2353, 2360, 2362, 3020, 3123, 3124, 3150, 3160, 3302, 3526, 3666, 3918, 3935, 4129, 4323, 4327, 4332, 4363, 4414, 4466, 4467, 4515, 4563, 5215, 5367, 5587, 5616, 5833, 5900, 5915, 5943, 6022, 6076, 6306, 6327, 6478, 6506, 6555, 6642, 6660, 6838, 6842, 6843, 7017, 7107, 7348, 7494, 7612, 7613, 7858, 8186, 8229, 8358, 8362, 8432, 8440, 8807, 8936, 9000, 9001, 9218, 9219, 9220, 9259, 9421, 9422, 9564, 9580, 9884, 9897, 9904, 10075, 10276, 10478, 10564, 10682, 10798, 10872, 11006, 11087, 11099, 11212, 11341, 11510, 11511, ...], 'EL-01': [199, 400, 700, 702, 715, 716, 769, 1175, 1350, 1351, 1467, 1592, 1604, 1708, 1980, 2767, 2814, 2815, 2843, 2852, 3269, 3283, 3477, 3594, 3601, 3602, 3606, 3691, 4046, 4270, 4290, 4390, 4391, 4438, 4452, 4486, 4543, 4575, 4893, 5049, 5170, 5280, 5636, 5672, 5702, 5881, 5882, 5914, 6001, 6011, 6013, 6050, 6286, 6305, 6455, 6460, 6834, 6875, 6881, 6890, 6891, 6892, 6893, 6894, 7120, 7152, 7824, 7825, 7893, 8138, 8168, 8216, 8239, 8290, 8476, 8668, 8687, 8783, 8799, 8976, 9276, 9277, 9608, 9639, 9839, 9840, 9841, 9933, 9946, 9968, 10249, 10255, 10300, 10359, 10418, 10427, 10645, 10658, 10785, 10805, ...], 'EL-03': [344, 358, 360, 425, 492, 583, 927, 1027, 1071, 1110, 1117, 1165, 1166, 1242, 1355, 1424, 1580, 1581, 1687, 1712, 2011, 2013, 2135, 2157, 2211, 2212, 2348, 2372, 2394, 2395, 2525, 2526, 2633, 2650, 2671, 2680, 2897, 3096, 3164, 3259, 3373, 3388, 3446, 3497, 3598, 3626, 3740, 3768, 3804, 3808, 3828, 3831, 4064, 4078, 4226, 4379, 4503, 4509, 4538, 4549, 4584, 4600, 4920, 4937, 4959, 5124, 5219, 5313, 5374, 5498, 5538, 5547, 5549, 5614, 5701, 5711, 5723, 5835, 5870, 5995, 6007, 6014, 6015, 6042, 6172, 6176, 6198, 6287, 6517, 6530, 6641, 6672, 6673, 6681, 6682, 6711, 6760, 6761, 6879, 7057, ...], 'EL-05': [200, 201, 447, 456, 488, 615, 646, 694, 763, 858, 859, 860, 903, 916, 1230, 1250, 1273, 1309, 1377, 1419, 1628, 1648, 1686, 1940, 1967, 2063, 2122, 2123, 2129, 2248, 2528, 2593, 2638, 2642, 2643, 2715, 2788, 2789, 2794, 2798, 2800, 2801, 2819, 2820, 2822, 2823, 2982, 2990, 2996, 3011, 3043, 3383, 3399, 3487, 3735, 3738, 3999, 4086, 4166, 4289, 4306, 4426, 4431, 4555, 4577, 4768, 4828, 4877, 4896, 4926, 4966, 4969, 4976, 4977, 5126, 5139, 5709, 5714, 5862, 5894, 5895, 5896, 5971, 6024, 6025, 6163, 6181, 6313, 6430, 6661, 6774, 6802, 6917, 6933, 6934, 7127, 7128, 7133, 7157, 7160, ...], 'FH-01': [100, 231, 325, 330, 373, 386, 455, 485, 505, 521, 743, 787, 809, 866, 867, 868, 874, 875, 876, 877, 944, 975, 992, 1014, 1032, 1055, 1084, 1092, 1308, 1407, 1445, 1454, 1460, 1468, 1470, 1495, 1537, 1634, 1700, 1764, 1787, 1797, 1800, 1906, 1907, 1973, 1974, 2260, 2388, 2445, 2448, 2450, 2452, 2530, 2531, 2672, 2673, 2873, 2950, 2979, 3086, 3128, 3153, 3194, 3207, 3313, 3363, 3368, 3471, 3590, 3596, 3683, 3698, 3825, 3838, 3904, 4004, 4017, 4039, 4047, 4048, 4203, 4302, 4393, 4433, 4459, 4468, 4470, 4510, 4763, 4985, 4986, 5143, 5165, 5225, 5261, 5278, 5318, 5327, 5337, ...], 'FH-04': [364, 371, 392, 396, 460, 482, 529, 950, 970, 984, 1145, 1244, 1552, 1559, 1601, 1661, 1680, 1771, 1991, 1992, 2030, 2143, 2144, 2266, 2268, 2304, 2305, 2376, 2564, 2639, 2758, 2885, 2886, 2887, 2889, 3014, 3103, 3107, 3280, 3337, 3387, 3473, 3583, 3584, 3695, 3707, 3721, 3731, 3756, 3841, 3842, 3854, 3874, 3903, 4045, 4155, 4182, 4258, 4500, 4536, 4610, 4680, 4757, 4778, 4834, 4895, 4903, 4948, 5101, 5161, 5368, 5370, 5408, 5445, 5476, 5506, 5540, 5583, 5678, 5686, 5756, 5876, 5920, 5928, 6020, 6021, 6037, 6083, 6155, 6164, 6167, 6209, 6303, 6356, 6394, 6466, 6496, 6514, 6575, 6717, ...], 'ID-04': [89, 123, 155, 156, 169, 170, 214, 223, 237, 309, 479, 483, 652, 733, 764, 770, 841, 862, 864, 865, 899, 1005, 1012, 1038, 1176, 1298, 1372, 1380, 1389, 1479, 1511, 1550, 1553, 1684, 1685, 1886, 1889, 1892, 1989, 2005, 2031, 2217, 2343, 2392, 2393, 2396, 2397, 2444, 2471, 2684, 2688, 2862, 3149, 3221, 3247, 3255, 3439, 3515, 3516, 3548, 3553, 3579, 3581, 3619, 3667, 3668, 3795, 3932, 3966, 3968, 4026, 4073, 4317, 4320, 4357, 4400, 4568, 4677, 4770, 4940, 4957, 5038, 5255, 5296, 5297, 5298, 5330, 5360, 5364, 5548, 5561, 5580, 5619, 5643, 5668, 5787, 5788, 5832, 5968, 6132, ...], 'PS-04': [6, 7, 8, 9, 10, 11, 12, 13, 14, 15, 16, 17, 18, 19, 20, 21, 22, 23, 24, 25, 26, 27, 28, 29, 30, 31, 32, 33, 34, 35, 36, 37, 38, 39, 40, 41, 43, 44, 46, 47, 48, 50, 51, 52, 62, 77, 81, 82, 84, 98, 107, 112, 125, 138, 140, 171, 172, 173, 174, 175, 191, 194, 221, 234, 238, 239, 255, 335, 346, 378, 379, 461, 465, 506, 553, 555, 561, 587, 613, 634, 663, 671, 680, 681, 698, 728, 755, 784, 817, 842, 920, 936, 991, 1015, 1020, 1118, 1162, 1171, 1238, 1239, ...], 'PS-05': [45, 49, 53, 57, 90, 130, 202, 218, 246, 247, 263, 474, 515, 528, 562, 563, 602, 632, 726, 736, 939, 1004, 1017, 1138, 1226, 1288, 1370, 1386, 1539, 1675, 1695, 1706, 1739, 1746, 1747, 1748, 1755, 1768, 1778, 2206, 2283, 2284, 2336, 2432, 2489, 2535, 2940, 2941, 3060, 3231, 3453, 3530, 3652, 4027, 4029, 4087, 4358, 4559, 4672, 4773, 4809, 5247, 5282, 5558, 5584, 5610, 5612, 5653, 5753, 6038, 6240, 6324, 6511, 6663, 6664, 6903, 6938, 6940, 6941, 6942, 6943, 6944, 6946, 6947, 6948, 6996, 6997, 6998, 7274, 7288, 7314, 7441, 7456, 7705, 7706, 7823, 7918, 7996, 8093, 8101, ...], 'SLU-01': [111, 142, 143, 147, 152, 153, 220, 308, 312, 370, 387, 399, 433, 476, 484, 490, 545, 571, 581, 584, 656, 683, 687, 688, 689, 709, 720, 746, 771, 849, 873, 889, 922, 989, 1031, 1035, 1044, 1079, 1080, 1096, 1120, 1128, 1129, 1143, 1157, 1185, 1313, 1339, 1384, 1403, 1442, 1443, 1489, 1576, 1577, 1584, 1652, 1682, 1775, 1799, 1807, 1858, 1920, 1970, 1976, 1977, 1983, 2020, 2029, 2035, 2036, 2054, 2056, 2119, 2142, 2145, 2146, 2180, 2187, 2220, 2221, 2223, 2256, 2271, 2417, 2418, 2476, 2477, 2481, 2482, 2483, 2516, 2536, 2538, 2539, 2540, 2541, 2560, 2591, 2603, ...], 'SLU-02': [137, 181, 296, 397, 427, 458, 464, 500, 530, 531, 682, 791, 931, 1021, 1091, 1114, 1123, 1246, 1257, 1275, 1323, 1361, 1397, 1485, 1638, 1719, 1720, 1850, 1942, 1943, 2086, 2101, 2102, 2147, 2182, 2186, 2199, 2253, 2255, 2326, 2386, 2430, 2431, 2488, 2529, 2881, 3033, 3137, 3178, 3241, 3384, 3395, 3555, 3672, 3717, 3728, 3737, 3889, 3899, 3902, 4005, 4014, 4052, 4090, 4204, 4250, 4257, 4265, 4295, 4386, 4409, 4645, 4707, 4711, 4712, 4746, 4747, 4776, 4835, 4889, 4890, 5132, 5141, 5146, 5167, 5212, 5217, 5409, 5410, 5413, 5475, 5489, 5507, 5748, 5764, 5823, 5905, 5906, 5930, 5946, ...], 'SLU-04': [213, 245, 273, 288, 291, 295, 316, 432, 589, 639, 662, 765, 783, 792, 813, 818, 878, 886, 993, 994, 1007, 1022, 1074, 1077, 1132, 1146, 1211, 1359, 1363, 1371, 1428, 1463, 1502, 1505, 1551, 1560, 1561, 1596, 1598, 1678, 1988, 2004, 2006, 2007, 2070, 2071, 2087, 2118, 2434, 2435, 2437, 2438, 2449, 2451, 2537, 2568, 2569, 2574, 2575, 2675, 2682, 2698, 2702, 2703, 2709, 2764, 2786, 2810, 2894, 2909, 2910, 2913, 2995, 3070, 3106, 3143, 3195, 3256, 3329, 3339, 3450, 3511, 3518, 3529, 3561, 3582, 3597, 3599, 3673, 3713, 3783, 3869, 3953, 3996, 4022, 4103, 4104, 4137, 4288, 4318, ...], 'SLU-07': [368, 454, 551, 552, 575, 577, 633, 648, 735, 741, 747, 760, 794, 798, 815, 830, 843, 932, 1028, 1046, 1065, 1086, 1087, 1088, 1135, 1159, 1174, 1194, 1198, 1221, 1286, 1341, 1346, 1369, 1373, 1385, 1392, 1444, 1530, 1534, 1558, 1602, 1632, 1715, 1767, 1772, 1779, 1780, 1789, 1793, 1821, 1831, 1835, 1840, 1845, 1851, 1881, 2368, 2580, 2706, 2707, 2714, 2742, 2795, 2840, 2849, 2883, 2917, 2931, 2967, 3021, 3056, 3080, 3093, 3127, 3144, 3151, 3174, 3208, 3220, 3246, 3275, 3291, 3308, 3320, 3328, 3336, 3440, 3463, 3554, 3572, 3608, 3616, 3646, 3659, 3663, 3680, 3722, 3815, 3843, ...], 'SLU-15': [102, 178, 232, 243, 284, 287, 292, 313, 318, 338, 429, 498, 546, 547, 572, 573, 612, 685, 690, 697, 704, 749, 751, 756, 772, 776, 845, 846, 912, 985, 1019, 1059, 1082, 1098, 1140, 1158, 1169, 1248, 1266, 1270, 1290, 1312, 1322, 1368, 1375, 1398, 1410, 1413, 1414, 1469, 1476, 1486, 1491, 1509, 1513, 1531, 1535, 1540, 1546, 1618, 1637, 1666, 1704, 1731, 1734, 1765, 1794, 1808, 2097, 2111, 2414, 2419, 2420, 2421, 2441, 2446, 2548, 2722, 2723, 2740, 2804, 2835, 2836, 2896, 2903, 2976, 2994, 3024, 3089, 3101, 3108, 3112, 3133, 3147, 3157, 3177, 3196, 3211, 3222, 3225, ...], 'SLU-16': [391, 406, 420, 448, 486, 487, 532, 536, 537, 538, 539, 541, 732, 785, 900, 921, 972, 1013, 1066, 1076, 1095, 1156, 1222, 1269, 1276, 1296, 1381, 1382, 1429, 1512, 1625, 1758, 1791, 1952, 1981, 1982, 2041, 2088, 2164, 2169, 2237, 2555, 2557, 2616, 2738, 2739, 2748, 2753, 2768, 2921, 3003, 3156, 3201, 3206, 3274, 3312, 3333, 3451, 3539, 3607, 3617, 3637, 3811, 4051, 4056, 4074, 4106, 4110, 4181, 4207, 4216, 4248, 4442, 4471, 4544, 4632, 4633, 4634, 4849, 4936, 4975, 5256, 5389, 5470, 5499, 5796, 6032, 6051, 6052, 6153, 6157, 6212, 6316, 6341, 6497, 6501, 6509, 6564, 6613, 6614, ...], 'SLU-18': [103, 320, 359, 446, 544, 556, 565, 566, 591, 614, 616, 617, 620, 621, 624, 625, 626, 630, 636, 637, 638, 641, 642, 643, 649, 650, 693, 799, 834, 913, 952, 1225, 1349, 1506, 1517, 1518, 1563, 1569, 1672, 1738, 1832, 1878, 1879, 1887, 1888, 1916, 1917, 1918, 1929, 1946, 1949, 1950, 1975, 1978, 2032, 2044, 2089, 2090, 2105, 2110, 2233, 2234, 2251, 2252, 2308, 2312, 2337, 2369, 2371, 2592, 2594, 2626, 2627, 2665, 3004, 3063, 3069, 3090, 3094, 3216, 3369, 3421, 3429, 3430, 3449, 3544, 3719, 3727, 3753, 3764, 3771, 3777, 3906, 4008, 4100, 4243, 4267, 4453, 4460, 4576, ...], 'SLU-19': [129, 280, 304, 350, 351, 353, 354, 457, 493, 564, 590, 604, 686, 734, 820, 863, 1259, 1277, 1388, 1400, 1639, 1721, 1722, 1757, 1784, 1903, 1993, 2104, 2288, 2289, 2298, 2351, 2402, 2410, 2411, 2412, 2413, 2455, 2459, 2527, 2629, 2766, 2869, 2871, 2955, 2956, 2957, 3066, 3067, 3074, 3223, 3249, 3250, 3341, 3402, 3447, 3484, 3485, 3508, 3677, 3685, 3693, 3694, 3704, 3733, 3881, 3882, 4072, 4085, 4114, 4115, 4285, 4370, 4514, 4516, 4528, 4593, 4608, 4612, 4613, 4729, 4735, 4737, 4739, 4740, 4741, 4847, 4852, 4872, 4944, 4949, 4958, 4973, 5021, 5115, 5192, 5233, 5235, 5237, 5358, ...], 'SLU-20': [79307, 79441, 79473, 79584, 79657, 79658, 79659, 79864, 79868, 79995, 80012, 80022, 80045, 80046, 80047, 80048, 80100, 80101, 80426, 80609, 80999, 81066, 81230, 81480, 81543, 81839, 81876, 81908, 81919, 82029, 82142, 82312, 82927, 83320, 83464, 83545, 84168, 84181, 84205, 84206, 84207, 84330, 85064, 85099, 85300, 85556, 85589, 85611, 85703, 86035, 86107, 86434, 86544, 86610, 86630, 86644, 86665, 86707, 86755, 86821, 86889, 86929, 87095, 87128, 87179, 87196, 87225, 87256, 87301, 87316, 87323, 87433, 87434, 87537, 88183, 88272, 88273, 88408, 88409, 88412, 88458, 88540, 88557, 88601, 88608, 88627, 88652, 88658, 88985, 89125, 89138, 89168, 89227, 89229, 89284, 89507, 89571, 89667, 89776, 89814, ...], 'SLU-21': [133364, 133365, 133388, 133620, 133621, 133744, 133745, 134178, 134179, 135017, 135244, 135282, 135637, 135638, 135659, 135847, 135849, 136028, 136095, 136096, 136306, 136404, 136405, 136406, 136622, 136623, 136966, 137771, 138186, 138187, 138188, 138460, 139095, 139113, 139197, 139246, 139522, 139570, 139571, 139711, 139729, 139730, 139870, 140047, 140163, 140180, 140181, 140380, 140416, 140417, 140858, 140917, 141076, 141371, 141372, 141373, 141389, 141625, 141858, 141965, 141966, 142022, 142023, 142109, 142114, 142115, 142116, 142117, 142118, 142362, 142601, 142660, 142687, 142730, 142744, 142745, 142747, 142748, 143158, 143235, 143823, 143857, 143881, 143978, 144002, 144019, 144271, 144280, 144283, 144284, 144381, 144436, 144634, 144635, 144700, 144701, 145164, 145184, 145232, 145256, ...], 'SLU-22': [210885, 210897, 210898, 210899, 210913, 210918, 211084, 211085, 211264, 211318, 211322, 211344, 211345, 211385, 211387, 211388, 211427, 211428, 211555, 211596, 211637, 211638, 211903, 212064, 212065, 212066, 212067, 212116, 212315, 212351, 212363, 212364, 212377, 212378, 212382, 212476, 212477, 212507, 212630, 212641, 212642, 212714, 212715, 212738, 212741, 212742, 212759, 212760, 212768, 212837, 212838, 212848, 212889, 212948, 212952, 212956, 212957, 212958, 212964, 212969, 212970, 212976, 213177, 213274, 213275, 213276, 213277, 213278, 213321, 213358, 213359, 213439, 213442, 213533, 213535, 213641, 213738, 213739, 213744, 213745, 213772, 213773, 213788, 213789, 213871, 213928, 213929, 213989, 214046, 214047, 214078, 214079, 214134, 214143, 214144, 214145, 214147, 214184, 214186, 214210, ...], 'SLU-23': [192, 206, 224, 225, 226, 305, 306, 549, 550, 635, 705, 706, 707, 708, 710, 711, 714, 840, 902, 905, 968, 969, 1051, 1052, 1112, 1130, 1431, 2003, 2061, 2094, 2099, 2216, 2263, 2264, 2292, 2493, 2494, 2500, 2501, 2520, 2521, 2586, 2596, 2613, 2648, 2651, 2652, 2653, 2667, 2676, 2729, 2730, 2731, 2733, 2735, 2744, 2749, 2756, 2759, 2763, 2765, 2774, 2775, 2808, 2809, 2812, 2813, 2833, 2880, 3113, 3114, 3213, 3494, 3622, 3651, 3654, 3779, 3813, 4018, 4032, 4033, 4247, 4297, 4394, 4403, 4406, 4472, 4494, 4710, 4736, 4777, 4802, 4859, 4945, 4947, 5004, 5031, 5054, 5234, 5258, ...], 'UD-01': [60, 61, 76, 177, 182, 208, 608, 942, 943, 1054, 1134, 1262, 1354, 1547, 1617, 1936, 1937, 1966, 2095, 2183, 2470, 2472, 2514, 2547, 2550, 2677, 2681, 2683, 2686, 2687, 2694, 2695, 2736, 2895, 2971, 3000, 3109, 3110, 3167, 3257, 3258, 3270, 3361, 3377, 3483, 3527, 3860, 3892, 4222, 4293, 4331, 4478, 4484, 4491, 4588, 4721, 4905, 4983, 4984, 4990, 5322, 5331, 5395, 5416, 5692, 5717, 5765, 5921, 5950, 6096, 6140, 6219, 6220, 6363, 6450, 6459, 6662, 6771, 6853, 6855, 6868, 6871, 6936, 7074, 7081, 7094, 7109, 7110, 7113, 7135, 7136, 7186, 7188, 7207, 7209, 7210, 7359, 7382, 7617, 7618, ...], 'UD-02': [92, 97, 183, 193, 204, 240, 241, 543, 654, 655, 722, 850, 976, 977, 1067, 1188, 1310, 1365, 1383, 1507, 1519, 1533, 1633, 1662, 1674, 1770, 2965, 3163, 3187, 3188, 3428, 3547, 3557, 3560, 3593, 4190, 4369, 4813, 4939, 5110, 5268, 5500, 5520, 5602, 5603, 5826, 5851, 5898, 5899, 6249, 6311, 6358, 6428, 6689, 6690, 6691, 6701, 6731, 6790, 6823, 7092, 7139, 7141, 7142, 7252, 7518, 7597, 7598, 7722, 7950, 7951, 8179, 8356, 8469, 8611, 8642, 8693, 8700, 8713, 8871, 8872, 9359, 9360, 9391, 9392, 9440, 9540, 9541, 9719, 9720, 9821, 9947, 10006, 10550, 10732, 10806, 10810, 10817, 11019, 11036, ...], 'UD-04': [96, 161, 184, 188, 260, 372, 499, 611, 678, 891, 961, 995, 1045, 1170, 1173, 1177, 1426, 1573, 1605, 1650, 1705, 1711, 1798, 1964, 1965, 2048, 2074, 2109, 2201, 2424, 2473, 2611, 2689, 2692, 2693, 2850, 2851, 2876, 2877, 2912, 2935, 3065, 3081, 3092, 3425, 3466, 3531, 3540, 3792, 3824, 3848, 3956, 3970, 4055, 4094, 4263, 4464, 4469, 4614, 4642, 4691, 4692, 4796, 4837, 4879, 4927, 5058, 5163, 5207, 5216, 5365, 5596, 5659, 5688, 5816, 5855, 5910, 6216, 6269, 6423, 6447, 6454, 6638, 6647, 6693, 6705, 6745, 6759, 6808, 6809, 6869, 6870, 6873, 6874, 6914, 6984, 6985, 7079, 7206, 7216, ...], 'UD-07': [115, 116, 281, 469, 669, 696, 738, 904, 963, 1040, 1214, 1367, 1490, 1608, 1613, 1663, 1717, 2014, 2127, 2347, 2499, 2691, 2959, 3052, 3061, 3281, 3359, 3431, 3712, 3837, 3911, 3930, 3931, 3936, 4071, 4187, 4218, 4284, 4365, 4382, 4446, 4594, 4760, 4883, 4885, 4953, 4982, 5023, 5181, 5228, 5306, 5419, 5426, 5427, 5529, 5530, 5795, 5799, 6002, 6173, 6241, 6556, 6636, 6726, 6727, 6728, 6751, 6960, 7097, 7168, 7176, 7193, 7194, 7404, 7600, 7601, 7698, 8099, 8134, 8142, 8240, 8267, 8304, 8614, 8615, 8703, 8706, 8707, 8772, 8881, 8915, 8916, 8921, 8922, 8971, 9162, 9168, 9266, 9267, 9431, ...], 'UW-01': [730, 1691, 1759, 2124, 2383, 2746, 3087, 3356, 3404, 3510, 3512, 3734, 3788, 3907, 4021, 4316, 4337, 4359, 4620, 4625, 4884, 4891, 4892, 5125, 5223, 5345, 5516, 5541, 5550, 5592, 5734, 5838, 6131, 6205, 6254, 6282, 6299, 6331, 6384, 6413, 6505, 6748, 7022, 7087, 7457, 7504, 7514, 7521, 7607, 7608, 7666, 7768, 8039, 8107, 8215, 8269, 8661, 9025, 9403, 9404, 9437, 9600, 9637, 9818, 9854, 9907, 9986, 10565, 10600, 10664, 10743, 10777, 11049, 11062, 11100, 11146, 11204, 11398, 11519, 11540, 11541, 11587, 11716, 11818, 12005, 12121, 12154, 12231, 12357, 12468, 12591, 12680, 12783, 12836, 13627, 13677, 13946, 14057, 14740, 14872, ...], 'UW-02': [72, 73, 74, 80, 421, 857, 964, 1026, 1183, 1433, 1435, 1566, 1932, 2057, 2116, 2117, 2354, 2720, 2778, 3098, 3306, 3319, 3493, 3523, 3543, 3605, 3767, 4362, 4424, 5003, 5006, 5080, 5202, 5308, 5326, 5334, 5600, 5923, 6003, 6251, 6268, 6271, 6453, 6524, 7090, 7491, 7603, 7604, 7869, 8148, 8401, 8813, 8911, 8912, 8918, 9590, 9791, 9877, 9891, 9893, 9985, 10147, 10494, 11053, 11054, 11520, 11521, 11525, 11527, 11530, 11534, 11680, 11773, 12048, 12052, 12054, 12056, 12057, 12059, 12089, 12097, 12300, 12397, 12407, 12782, 12933, 12938, 12973, 12974, 13095, 13244, 13498, 13943, 14521, 14737, 14981, 14984, 15217, 15310, 15965, ...], 'UW-04': [187, 343, 375, 463, 477, 580, 673, 762, 781, 833, 1053, 1056, 1081, 1111, 1324, 1393, 1394, 1483, 1527, 1709, 1752, 1786, 1805, 1815, 2075, 2076, 2114, 2213, 2214, 2218, 2219, 2239, 2240, 2272, 2415, 2490, 2497, 2674, 2781, 2985, 3138, 3199, 3285, 3355, 3432, 3481, 3542, 3580, 3612, 3636, 3910, 3919, 4003, 4036, 4065, 4279, 4338, 4355, 4492, 4507, 4606, 4970, 4971, 5059, 5303, 5356, 5390, 5393, 5436, 5511, 5528, 5531, 5792, 5829, 5854, 5903, 5938, 5972, 6074, 6075, 6217, 6288, 6326, 6403, 6451, 6797, 6945, 6961, 7080, 7104, 7115, 7147, 7148, 7223, 7433, 7541, 7787, 7830, 7851, 7852, ...], 'UW-06': [167, 272, 385, 631, 774, 951, 1011, 1048, 1078, 1083, 1195, 1338, 1402, 1493, 1510, 1572, 1606, 1621, 1714, 1723, 1809, 1828, 2085, 2149, 2152, 2238, 2769, 2770, 2773, 2805, 2854, 2932, 3120, 3121, 3218, 3219, 3233, 3240, 3243, 3310, 3311, 3348, 3448, 3464, 3478, 3492, 3532, 3545, 3588, 3640, 3643, 3682, 3762, 3801, 3822, 3937, 3940, 3977, 4000, 4006, 4058, 4082, 4138, 4175, 4345, 4454, 4698, 4733, 5070, 5166, 5245, 5292, 5353, 5519, 5554, 5579, 5629, 5654, 5685, 5755, 5944, 5965, 5974, 5989, 6026, 6117, 6202, 6229, 6230, 6252, 6256, 6258, 6264, 6301, 6339, 6352, 6396, 6422, 6429, 6456, ...], 'UW-07': [121, 122, 215, 216, 365, 367, 404, 721, 1090, 1141, 1142, 1408, 1409, 1453, 1471, 1668, 1701, 2015, 2051, 2249, 2532, 3173, 3566, 3879, 4310, 4463, 4605, 4647, 5042, 5062, 5154, 5401, 5402, 5405, 5414, 5435, 5647, 5682, 5726, 5911, 5986, 5987, 6068, 6812, 6849, 6850, 7119, 7552, 7584, 7630, 7632, 7969, 8308, 8523, 8678, 8751, 8788, 8865, 9069, 9301, 9318, 9319, 9320, 9326, 9329, 9330, 9346, 9347, 9363, 9593, 9700, 9844, 10905, 11163, 11581, 11582, 12146, 12179, 12363, 12521, 12615, 12752, 12809, 12849, 12899, 12954, 12955, 13145, 13185, 13300, 13301, 13734, 13757, 14013, 14068, 14359, 14434, 14561, 14796, 15080, ...], 'UW-10': [105, 124, 128, 314, 619, 896, 934, 935, 999, 1006, 1070, 1278, 1360, 1374, 1441, 1465, 1498, 2098, 2377, 2378, 2584, 2585, 2644, 2828, 2866, 2867, 3252, 3455, 3567, 3573, 3939, 3962, 4019, 4301, 4339, 4342, 4493, 4526, 4807, 5262, 5662, 5786, 5878, 5918, 6349, 6499, 6779, 6793, 7048, 7131, 7412, 7417, 7531, 7644, 7645, 7928, 7976, 8214, 8349, 8376, 8630, 8808, 8827, 9213, 9248, 9342, 9343, 9602, 9737, 9741, 9742, 10003, 10184, 12102, 12158, 12294, 12507, 12621, 12903, 13030, 13482, 13517, 13897, 13898, 13901, 14005, 14517, 14691, 14698, 14969, 15004, 15096, 15124, 15170, 15171, 15173, 15180, 15445, 15954, 15971, ...], 'UW-11': [150250, 150776, 151044, 151373, 151690, 152037, 152061, 153903, 153941, 154905, 154906, 154907, 154908, 154922, 154949, 154950, 155412, 155965, 156099, 156625, 156626, 156644, 157746, 159003, 159023, 159138, 159416, 159920, 159921, 161122, 161438, 161533, 161621, 161841, 162013, 162039, 162040, 162061, 162362, 162756, 162861, 163150, 163184, 164007, 164437, 165141, 165257, 165572, 166373, 166436, 166531, 166583, 166827, 167355, 167366, 167622, 167836, 167999, 168026, 168200, 168257, 168787, 168894, 168902, 168903, 168985, 169221, 169389, 169684, 169890, 170017, 170021, 170797, 170805, 171042, 171472, 171634, 171886, 171906, 172095, 172214, 172303, 172472, 172473, 172625, 172836, 173042, 173242, 173423, 173614, 173780, 173863, 174021, 174113, 174342, 174371, 174482, 174767, 175046, 175069, ...], 'UW-12': [241157, 241173, 241175, 241194, 241208, 241245, 241292, 241403, 241435, 241447, 241462, 241467, 241544, 241546, 241780, 241781, 241783, 241843, 241910, 242096, 242109, 242120, 242123, 242157, 242438, 242499, 242577, 242578, 242719, 242720, 242757, 242962, 242966, 242969, 242970, 243000, 243084, 243177, 243190, 243298, 243372, 243373, 243377, 243476, 243509, 243572, 243577, 243806, 243807, 243858, 243870, 243871, 243897, 243927, 243934, 243943, 244002, 244179, 244183, 244216, 244232, 244233, 244245, 244248, 244258, 244428, 244451, 244452, 244453, 244454, 244538, 244613, 244654, 244770, 244771, 244816, 244839, 244890, 244940, 245034, 245173, 245227, 245344, 245384, 245472, 245653, 245710, 245713, 245714, 245723, 245777, 245825, 245848, 245902, 245920, 245921, 246035, 246097, 246156, 246312, ...], 'WF-01': [133, 135, 297, 298, 300, 302, 307, 369, 475, 514, 518, 519, 533, 534, 535, 660, 717, 854, 855, 910, 948, 1009, 1016, 1039, 1320, 1321, 1404, 1422, 1456, 1480, 1523, 1556, 1557, 1591, 1593, 1776, 1863, 1864, 1899, 1979, 2008, 2009, 2012, 2038, 2039, 2052, 2081, 2082, 2083, 2100, 2106, 2107, 2108, 2131, 2158, 2159, 2160, 2161, 2170, 2174, 2191, 2192, 2204, 2241, 2346, 2358, 2366, 2367, 2381, 2382, 2427, 2433, 2464, 2474, 2475, 2479, 2480, 2502, 2505, 2544, 2579, 2618, 2619, 2668, 2701, 2705, 2718, 2719, 2726, 2727, 2747, 2776, 2785, 2807, 2821, 2826, 2830, 2837, 2839, 2859, ...], 'WF-03': [226783, 226786, 226827, 227100, 227321, 227322, 227569, 227570, 227768, 227769, 227780, 227781, 227889, 227937, 227975, 227977, 227981, 227987, 227990, 227993, 228093, 228094, 228115, 228137, 228138, 228139, 228140, 228155, 228162, 228173, 228276, 228300, 228379, 228452, 228453, 228518, 228694, 228714, 228715, 228766, 228767, 228851, 228852, 228856, 228857, 228942, 228944, 229178, 229308, 229309, 229351, 229369, 229531, 229593, 229597, 229620, 229622, 229628, 229713, 229809, 229810, 229815, 229826, 229945, 229963, 229979, 230015, 230209, 230211, 230243, 230364, 230513, 230514, 230547, 230548, 230559, 230596, 230658, 230659, 230735, 230736, 230745, 230883, 230884, 231019, 231020, 231021, 231192, 231193, 231194, 231276, 231325, 231387, 231435, 231458, 231694, 231695, 231696, 231781, 231782, ...], 'WF-04': [64, 65, 132, 157, 203, 207, 236, 264, 266, 267, 270, 332, 361, 412, 507, 508, 511, 557, 574, 718, 1018, 1335, 1378, 1446, 1455, 1702, 1703, 1762, 1781, 2077, 2078, 2079, 2091, 2153, 2154, 2156, 2197, 2198, 2258, 2259, 2340, 2341, 2503, 2504, 2506, 2507, 2508, 2509, 2510, 2511, 2533, 2566, 2567, 2656, 2660, 2662, 2780, 3030, 3031, 3051, 3062, 3079, 3146, 3192, 3230, 3265, 3541, 3559, 3655, 3797, 3995, 4030, 4031, 4098, 4356, 4455, 4498, 4663, 4664, 4743, 4744, 4783, 4784, 4785, 4861, 4996, 4998, 5203, 5266, 5267, 5271, 5272, 5273, 5315, 5344, 5407, 5513, 5570, 5593, 5632, ...]}"
      ]
     },
     "execution_count": 67,
     "metadata": {},
     "output_type": "execute_result"
    }
   ],
   "source": [
    "dfgroup = df.groupby(['from_station_id'])\n",
    "dfgroup.groups"
   ]
  },
  {
   "cell_type": "markdown",
   "metadata": {},
   "source": [
    "The simplest version of a groupby looks like this, and you can use almost any aggregation function you wish (mean, median, sum, minimum, maximum, standard deviation, count, etc.)\n",
    "\n",
    "```\n",
    "<data object>.groupby(<grouping values>).<aggregate>()\n",
    "```\n",
    "\n",
    "for example, we can group by gender and find the average of all numerical columns:"
   ]
  },
  {
   "cell_type": "code",
   "execution_count": 68,
   "metadata": {},
   "outputs": [
    {
     "data": {
      "text/html": [
       "<div>\n",
       "<style scoped>\n",
       "    .dataframe tbody tr th:only-of-type {\n",
       "        vertical-align: middle;\n",
       "    }\n",
       "\n",
       "    .dataframe tbody tr th {\n",
       "        vertical-align: top;\n",
       "    }\n",
       "\n",
       "    .dataframe thead th {\n",
       "        text-align: right;\n",
       "    }\n",
       "</style>\n",
       "<table border=\"1\" class=\"dataframe\">\n",
       "  <thead>\n",
       "    <tr style=\"text-align: right;\">\n",
       "      <th></th>\n",
       "      <th>trip_id</th>\n",
       "      <th>tripduration</th>\n",
       "      <th>birthyear</th>\n",
       "      <th>tripminutes</th>\n",
       "      <th>hour</th>\n",
       "      <th>dayofweek</th>\n",
       "      <th>month</th>\n",
       "    </tr>\n",
       "    <tr>\n",
       "      <th>gender</th>\n",
       "      <th></th>\n",
       "      <th></th>\n",
       "      <th></th>\n",
       "      <th></th>\n",
       "      <th></th>\n",
       "      <th></th>\n",
       "      <th></th>\n",
       "    </tr>\n",
       "  </thead>\n",
       "  <tbody>\n",
       "    <tr>\n",
       "      <th>Female</th>\n",
       "      <td>145929.823499</td>\n",
       "      <td>697.919834</td>\n",
       "      <td>1978.425056</td>\n",
       "      <td>11.631997</td>\n",
       "      <td>12.996714</td>\n",
       "      <td>2.552590</td>\n",
       "      <td>6.459125</td>\n",
       "    </tr>\n",
       "    <tr>\n",
       "      <th>Male</th>\n",
       "      <td>151446.703864</td>\n",
       "      <td>558.367672</td>\n",
       "      <td>1980.282169</td>\n",
       "      <td>9.306128</td>\n",
       "      <td>13.020130</td>\n",
       "      <td>2.457021</td>\n",
       "      <td>6.634441</td>\n",
       "    </tr>\n",
       "    <tr>\n",
       "      <th>Other</th>\n",
       "      <td>169321.573348</td>\n",
       "      <td>605.837092</td>\n",
       "      <td>1980.524267</td>\n",
       "      <td>10.097285</td>\n",
       "      <td>13.092679</td>\n",
       "      <td>2.994242</td>\n",
       "      <td>6.410200</td>\n",
       "    </tr>\n",
       "  </tbody>\n",
       "</table>\n",
       "</div>"
      ],
      "text/plain": [
       "              trip_id  tripduration    birthyear  tripminutes       hour  \\\n",
       "gender                                                                     \n",
       "Female  145929.823499    697.919834  1978.425056    11.631997  12.996714   \n",
       "Male    151446.703864    558.367672  1980.282169     9.306128  13.020130   \n",
       "Other   169321.573348    605.837092  1980.524267    10.097285  13.092679   \n",
       "\n",
       "        dayofweek     month  \n",
       "gender                       \n",
       "Female   2.552590  6.459125  \n",
       "Male     2.457021  6.634441  \n",
       "Other    2.994242  6.410200  "
      ]
     },
     "execution_count": 68,
     "metadata": {},
     "output_type": "execute_result"
    }
   ],
   "source": [
    "df.groupby('gender').mean()"
   ]
  },
  {
   "cell_type": "markdown",
   "metadata": {},
   "source": [
    "It's also possible to index the grouped object like it is a dataframe. If I want to get only the mean birth year:"
   ]
  },
  {
   "cell_type": "code",
   "execution_count": 69,
   "metadata": {},
   "outputs": [
    {
     "data": {
      "text/plain": [
       "gender\n",
       "Female    1978.425056\n",
       "Male      1980.282169\n",
       "Other     1980.524267\n",
       "Name: birthyear, dtype: float64"
      ]
     },
     "execution_count": 69,
     "metadata": {},
     "output_type": "execute_result"
    }
   ],
   "source": [
    "df.groupby('gender')['birthyear'].mean()"
   ]
  },
  {
   "cell_type": "markdown",
   "metadata": {},
   "source": [
    "You can even group by multiple values: for example we can look at the trip duration by time of day and by gender:"
   ]
  },
  {
   "cell_type": "code",
   "execution_count": 70,
   "metadata": {},
   "outputs": [
    {
     "data": {
      "text/plain": [
       "gender  hour\n",
       "Female  0       591.380268\n",
       "        1       508.777745\n",
       "        2       505.069778\n",
       "        3       433.498914\n",
       "        4       505.461497\n",
       "                   ...    \n",
       "Other   19      598.535293\n",
       "        20      561.447222\n",
       "        21      434.131885\n",
       "        22      371.930192\n",
       "        23      414.811000\n",
       "Name: tripduration, Length: 71, dtype: float64"
      ]
     },
     "execution_count": 70,
     "metadata": {},
     "output_type": "execute_result"
    }
   ],
   "source": [
    "df.groupby(['gender', 'hour'])['tripduration'].mean()"
   ]
  },
  {
   "cell_type": "markdown",
   "metadata": {},
   "source": [
    "The ``unstack()`` operation can help make sense of this type of multiply-grouped data. What this technically does is split a multiple-valued index into an index plus columns:"
   ]
  },
  {
   "cell_type": "code",
   "execution_count": 71,
   "metadata": {},
   "outputs": [
    {
     "data": {
      "text/html": [
       "<div>\n",
       "<style scoped>\n",
       "    .dataframe tbody tr th:only-of-type {\n",
       "        vertical-align: middle;\n",
       "    }\n",
       "\n",
       "    .dataframe tbody tr th {\n",
       "        vertical-align: top;\n",
       "    }\n",
       "\n",
       "    .dataframe thead th {\n",
       "        text-align: right;\n",
       "    }\n",
       "</style>\n",
       "<table border=\"1\" class=\"dataframe\">\n",
       "  <thead>\n",
       "    <tr style=\"text-align: right;\">\n",
       "      <th>hour</th>\n",
       "      <th>0</th>\n",
       "      <th>1</th>\n",
       "      <th>2</th>\n",
       "      <th>3</th>\n",
       "      <th>4</th>\n",
       "      <th>5</th>\n",
       "      <th>6</th>\n",
       "      <th>7</th>\n",
       "      <th>8</th>\n",
       "      <th>9</th>\n",
       "      <th>...</th>\n",
       "      <th>14</th>\n",
       "      <th>15</th>\n",
       "      <th>16</th>\n",
       "      <th>17</th>\n",
       "      <th>18</th>\n",
       "      <th>19</th>\n",
       "      <th>20</th>\n",
       "      <th>21</th>\n",
       "      <th>22</th>\n",
       "      <th>23</th>\n",
       "    </tr>\n",
       "    <tr>\n",
       "      <th>gender</th>\n",
       "      <th></th>\n",
       "      <th></th>\n",
       "      <th></th>\n",
       "      <th></th>\n",
       "      <th></th>\n",
       "      <th></th>\n",
       "      <th></th>\n",
       "      <th></th>\n",
       "      <th></th>\n",
       "      <th></th>\n",
       "      <th></th>\n",
       "      <th></th>\n",
       "      <th></th>\n",
       "      <th></th>\n",
       "      <th></th>\n",
       "      <th></th>\n",
       "      <th></th>\n",
       "      <th></th>\n",
       "      <th></th>\n",
       "      <th></th>\n",
       "      <th></th>\n",
       "    </tr>\n",
       "  </thead>\n",
       "  <tbody>\n",
       "    <tr>\n",
       "      <th>Female</th>\n",
       "      <td>591.380268</td>\n",
       "      <td>508.777745</td>\n",
       "      <td>505.069778</td>\n",
       "      <td>433.498914</td>\n",
       "      <td>505.461497</td>\n",
       "      <td>641.527839</td>\n",
       "      <td>585.726293</td>\n",
       "      <td>690.646182</td>\n",
       "      <td>671.049313</td>\n",
       "      <td>646.975130</td>\n",
       "      <td>...</td>\n",
       "      <td>749.648905</td>\n",
       "      <td>731.386837</td>\n",
       "      <td>697.467570</td>\n",
       "      <td>731.873398</td>\n",
       "      <td>721.145525</td>\n",
       "      <td>685.122995</td>\n",
       "      <td>682.246636</td>\n",
       "      <td>633.353413</td>\n",
       "      <td>622.817029</td>\n",
       "      <td>792.45717</td>\n",
       "    </tr>\n",
       "    <tr>\n",
       "      <th>Male</th>\n",
       "      <td>515.973157</td>\n",
       "      <td>528.691678</td>\n",
       "      <td>549.521105</td>\n",
       "      <td>424.284302</td>\n",
       "      <td>682.295862</td>\n",
       "      <td>511.311059</td>\n",
       "      <td>471.078660</td>\n",
       "      <td>551.195541</td>\n",
       "      <td>537.497385</td>\n",
       "      <td>528.169844</td>\n",
       "      <td>...</td>\n",
       "      <td>578.272156</td>\n",
       "      <td>629.199118</td>\n",
       "      <td>628.657338</td>\n",
       "      <td>606.122740</td>\n",
       "      <td>564.156230</td>\n",
       "      <td>529.134865</td>\n",
       "      <td>541.830652</td>\n",
       "      <td>505.574607</td>\n",
       "      <td>505.376361</td>\n",
       "      <td>495.36007</td>\n",
       "    </tr>\n",
       "    <tr>\n",
       "      <th>Other</th>\n",
       "      <td>492.829091</td>\n",
       "      <td>825.941000</td>\n",
       "      <td>440.641333</td>\n",
       "      <td>338.601000</td>\n",
       "      <td>168.646000</td>\n",
       "      <td>NaN</td>\n",
       "      <td>559.517545</td>\n",
       "      <td>485.616496</td>\n",
       "      <td>587.118751</td>\n",
       "      <td>646.489332</td>\n",
       "      <td>...</td>\n",
       "      <td>685.278839</td>\n",
       "      <td>718.103179</td>\n",
       "      <td>693.682153</td>\n",
       "      <td>568.167570</td>\n",
       "      <td>545.438397</td>\n",
       "      <td>598.535293</td>\n",
       "      <td>561.447222</td>\n",
       "      <td>434.131885</td>\n",
       "      <td>371.930192</td>\n",
       "      <td>414.81100</td>\n",
       "    </tr>\n",
       "  </tbody>\n",
       "</table>\n",
       "<p>3 rows × 24 columns</p>\n",
       "</div>"
      ],
      "text/plain": [
       "hour            0           1           2           3           4   \\\n",
       "gender                                                               \n",
       "Female  591.380268  508.777745  505.069778  433.498914  505.461497   \n",
       "Male    515.973157  528.691678  549.521105  424.284302  682.295862   \n",
       "Other   492.829091  825.941000  440.641333  338.601000  168.646000   \n",
       "\n",
       "hour            5           6           7           8           9   ...  \\\n",
       "gender                                                              ...   \n",
       "Female  641.527839  585.726293  690.646182  671.049313  646.975130  ...   \n",
       "Male    511.311059  471.078660  551.195541  537.497385  528.169844  ...   \n",
       "Other          NaN  559.517545  485.616496  587.118751  646.489332  ...   \n",
       "\n",
       "hour            14          15          16          17          18  \\\n",
       "gender                                                               \n",
       "Female  749.648905  731.386837  697.467570  731.873398  721.145525   \n",
       "Male    578.272156  629.199118  628.657338  606.122740  564.156230   \n",
       "Other   685.278839  718.103179  693.682153  568.167570  545.438397   \n",
       "\n",
       "hour            19          20          21          22         23  \n",
       "gender                                                             \n",
       "Female  685.122995  682.246636  633.353413  622.817029  792.45717  \n",
       "Male    529.134865  541.830652  505.574607  505.376361  495.36007  \n",
       "Other   598.535293  561.447222  434.131885  371.930192  414.81100  \n",
       "\n",
       "[3 rows x 24 columns]"
      ]
     },
     "execution_count": 71,
     "metadata": {},
     "output_type": "execute_result"
    }
   ],
   "source": [
    "df.groupby(['gender', 'hour'])['tripduration'].mean().unstack()"
   ]
  },
  {
   "cell_type": "markdown",
   "metadata": {},
   "source": [
    "### Visualizing data with ``pandas``\n",
    "\n",
    "Of course, looking at tables of data is not very intuitive.\n",
    "Fortunately Pandas has many useful plotting functions built-in, all of which make use of the ``matplotlib`` library to generate plots.\n",
    "\n",
    "In the past, whenever you did plotting in the IPython notebook, you should have first run this *magic command* which configured the notebook to work well with plots. However, this is *no longer necessary* as of the last few years. If you have an *old* installation of iPython, you may need to do this - but you should have upgraded as part of the Software Installation instructions."
   ]
  },
  {
   "cell_type": "code",
   "execution_count": 72,
   "metadata": {},
   "outputs": [],
   "source": [
    "%matplotlib inline"
   ]
  },
  {
   "cell_type": "markdown",
   "metadata": {},
   "source": [
    "Now we can simply call the `plot()` method of any series or dataframe to get a reasonable view of the data:"
   ]
  },
  {
   "cell_type": "code",
   "execution_count": 73,
   "metadata": {},
   "outputs": [
    {
     "data": {
      "text/plain": [
       "<AxesSubplot:>"
      ]
     },
     "execution_count": 73,
     "metadata": {},
     "output_type": "execute_result"
    },
    {
     "data": {
      "image/png": "[encoded data removed]",
      "text/plain": [
       "<Figure size 432x288 with 1 Axes>"
      ]
     },
     "metadata": {
      "needs_background": "light"
     },
     "output_type": "display_data"
    }
   ],
   "source": [
    "import matplotlib.pyplot as plt\n",
    "df['tripduration'].plot()"
   ]
  },
  {
   "cell_type": "markdown",
   "metadata": {},
   "source": [
    "### Adjusting the Plot Style\n",
    "\n",
    "Matplotlib has a number of plot styles you can use. For example, if you like R you might use the ggplot style:"
   ]
  },
  {
   "cell_type": "code",
   "execution_count": 74,
   "metadata": {},
   "outputs": [],
   "source": [
    "plt.style.use(\"ggplot\")"
   ]
  },
  {
   "cell_type": "markdown",
   "metadata": {},
   "source": [
    "### Other plot types\n",
    "\n",
    "Pandas supports a range of other plotting types; you can find these by using the <TAB> autocomplete on the ``plot`` method:"
   ]
  },
  {
   "cell_type": "code",
   "execution_count": 75,
   "metadata": {},
   "outputs": [],
   "source": [
    "# plt."
   ]
  },
  {
   "cell_type": "markdown",
   "metadata": {},
   "source": [
    "For example, we can create a histogram of trip durations:"
   ]
  },
  {
   "cell_type": "code",
   "execution_count": 76,
   "metadata": {},
   "outputs": [
    {
     "data": {
      "text/plain": [
       "<AxesSubplot:>"
      ]
     },
     "execution_count": 76,
     "metadata": {},
     "output_type": "execute_result"
    },
    {
     "data": {
      "image/png": "[encoded data removed]",
      "text/plain": [
       "<Figure size 432x288 with 1 Axes>"
      ]
     },
     "metadata": {},
     "output_type": "display_data"
    }
   ],
   "source": [
    "df['tripduration'].hist()"
   ]
  },
  {
   "cell_type": "markdown",
   "metadata": {},
   "source": [
    "If you'd like to adjust the x and y limits of the plot, you can use the ``set_xlim()`` and ``set_ylim()`` method of the resulting object:"
   ]
  },
  {
   "cell_type": "code",
   "execution_count": 77,
   "metadata": {},
   "outputs": [
    {
     "data": {
      "text/plain": [
       "(0.0, 20000.0)"
      ]
     },
     "execution_count": 77,
     "metadata": {},
     "output_type": "execute_result"
    },
    {
     "data": {
      "image/png": "[encoded data removed]",
      "text/plain": [
       "<Figure size 432x288 with 1 Axes>"
      ]
     },
     "metadata": {},
     "output_type": "display_data"
    }
   ],
   "source": [
    "df['tripduration'].hist().set_xlim(0, 20000)"
   ]
  },
  {
   "cell_type": "markdown",
   "metadata": {},
   "source": [
    "## Breakout: Exploring the Data\n",
    "\n",
    "Make a plot of the total number of rides as a function of month of the year (You'll need to extract the month, use a ``groupby``, and find the appropriate aggregation to count the number in each group)."
   ]
  },
  {
   "cell_type": "code",
   "execution_count": 78,
   "metadata": {},
   "outputs": [
    {
     "data": {
      "text/plain": [
       "<AxesSubplot:xlabel='month'>"
      ]
     },
     "execution_count": 78,
     "metadata": {},
     "output_type": "execute_result"
    },
    {
     "data": {
      "image/png": "[encoded data removed]",
      "text/plain": [
       "<Figure size 432x288 with 1 Axes>"
      ]
     },
     "metadata": {},
     "output_type": "display_data"
    }
   ],
   "source": [
    "df.groupby('month')['month'].count().plot()"
   ]
  },
  {
   "cell_type": "markdown",
   "metadata": {},
   "source": [
    "Split this plot by gender. Do you see any seasonal ridership patterns by gender?"
   ]
  },
  {
   "cell_type": "code",
   "execution_count": 79,
   "metadata": {},
   "outputs": [
    {
     "data": {
      "text/plain": [
       "<AxesSubplot:xlabel='month'>"
      ]
     },
     "execution_count": 79,
     "metadata": {},
     "output_type": "execute_result"
    },
    {
     "data": {
      "image/png": "[encoded data removed]",
      "text/plain": [
       "<Figure size 432x288 with 1 Axes>"
      ]
     },
     "metadata": {},
     "output_type": "display_data"
    }
   ],
   "source": [
    "df.groupby(['month', 'gender'])['month'].count().unstack().plot()"
   ]
  },
  {
   "cell_type": "markdown",
   "metadata": {},
   "source": [
    "Split this plot by user type. Do you see any seasonal ridership patterns by usertype?"
   ]
  },
  {
   "cell_type": "code",
   "execution_count": 80,
   "metadata": {},
   "outputs": [
    {
     "data": {
      "text/plain": [
       "<AxesSubplot:xlabel='month'>"
      ]
     },
     "execution_count": 80,
     "metadata": {},
     "output_type": "execute_result"
    },
    {
     "data": {
      "image/png": "[encoded data removed]",
      "text/plain": [
       "<Figure size 432x288 with 1 Axes>"
      ]
     },
     "metadata": {},
     "output_type": "display_data"
    }
   ],
   "source": [
    "df.groupby(['month', 'usertype'])['month'].count().unstack().plot()"
   ]
  },
  {
   "cell_type": "markdown",
   "metadata": {},
   "source": [
    "Repeat the above three steps, counting the number of rides by time of day rather that by month."
   ]
  },
  {
   "cell_type": "code",
   "execution_count": 81,
   "metadata": {},
   "outputs": [
    {
     "data": {
      "text/plain": [
       "<AxesSubplot:xlabel='hour'>"
      ]
     },
     "execution_count": 81,
     "metadata": {},
     "output_type": "execute_result"
    },
    {
     "data": {
      "image/png": "[encoded data removed]",
      "text/plain": [
       "<Figure size 432x288 with 1 Axes>"
      ]
     },
     "metadata": {},
     "output_type": "display_data"
    }
   ],
   "source": [
    "df.groupby('hour')['hour'].count().plot()"
   ]
  },
  {
   "cell_type": "code",
   "execution_count": 82,
   "metadata": {
    "scrolled": true
   },
   "outputs": [
    {
     "data": {
      "text/plain": [
       "<AxesSubplot:xlabel='hour'>"
      ]
     },
     "execution_count": 82,
     "metadata": {},
     "output_type": "execute_result"
    },
    {
     "data": {
      "image/png": "[encoded data removed]",
      "text/plain": [
       "<Figure size 432x288 with 1 Axes>"
      ]
     },
     "metadata": {},
     "output_type": "display_data"
    }
   ],
   "source": [
    "df.groupby(['hour', 'gender'])['month'].count().unstack().plot()"
   ]
  },
  {
   "cell_type": "code",
   "execution_count": 83,
   "metadata": {},
   "outputs": [
    {
     "data": {
      "text/plain": [
       "<AxesSubplot:xlabel='hour'>"
      ]
     },
     "execution_count": 83,
     "metadata": {},
     "output_type": "execute_result"
    },
    {
     "data": {
      "image/png": "[encoded data removed]",
      "text/plain": [
       "<Figure size 432x288 with 1 Axes>"
      ]
     },
     "metadata": {},
     "output_type": "display_data"
    }
   ],
   "source": [
    "df.groupby(['hour', 'usertype'])['month'].count().unstack().plot()"
   ]
  },
  {
   "cell_type": "markdown",
   "metadata": {},
   "source": [
    "Are there any other interesting insights you can discover in the data using these tools?"
   ]
  }
 ],
 "metadata": {
  "anaconda-cloud": {},
  "kernelspec": {
   "display_name": "Python 3 (ipykernel)",
   "language": "python",
   "name": "python3"
  },
  "language_info": {
   "codemirror_mode": {
    "name": "ipython",
    "version": 3
   },
   "file_extension": ".py",
   "mimetype": "text/x-python",
   "name": "python",
   "nbconvert_exporter": "python",
   "pygments_lexer": "ipython3",
   "version": "3.9.12"
  },
  "vscode": {
   "interpreter": {
    "hash": "31f2aee4e71d21fbe5cf8b01ff0e069b9275f58929596ceb00d14d90e3e16cd6"
   }
  }
 },
 "nbformat": 4,
 "nbformat_minor": 1
}
