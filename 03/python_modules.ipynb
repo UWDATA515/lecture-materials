{
 "cells": [
  {
   "cell_type": "markdown",
   "id": "9cfdd619",
   "metadata": {},
   "source": [
    "# Python modules\n",
    "\n",
    "---------\n",
    "\n",
    "Notebooks are great (and we'll continue to use them in class as a teaching tool!), but they are hard to build large, sophisticated software in because of their ordering issues and overhead. This is where `.py` files come in - separate files containing Python code.\n",
    "\n",
    "Most of this section will be done in a text editer (either on the command line or in a graphical program like VS Code or Sublime).\n",
    "\n",
    "--------\n",
    "\n",
    "## Python files\n",
    "\n",
    "In this directory, create a new file `celebrate.py` and add some Python to it:\n",
    "\n",
    "```python\n",
    "print(\"Let's have a party!\")\n",
    "```\n",
    "\n",
    "This new Python file is called a *module*. A module is a file containing Python definitions and statements. The file name is the module name with the suffix `.py` appended - so this is the \"celebrate\" module."
   ]
  },
  {
   "cell_type": "code",
   "execution_count": null,
   "id": "1a767c15",
   "metadata": {},
   "outputs": [],
   "source": [
    "# Try it!"
   ]
  },
  {
   "cell_type": "markdown",
   "id": "2c9b3a3c",
   "metadata": {},
   "source": [
    "From the terminal, you can now run the module:\n",
    "\n",
    "```bash\n",
    "$ python celebrate.py\n",
    "```"
   ]
  },
  {
   "cell_type": "code",
   "execution_count": null,
   "id": "55f4fe29",
   "metadata": {},
   "outputs": [],
   "source": [
    "# Try it!"
   ]
  },
  {
   "cell_type": "markdown",
   "id": "22c495ae",
   "metadata": {},
   "source": [
    "When you use the `python` command from the command line using a `.py` as an argument, the Python interpreter program executes the statements in the `.py` file\n",
    "\n",
    "--------\n",
    "\n",
    "## Python + Jupyter\n",
    "\n",
    "Now if you come back to Jupyter and look at all the files in this directory (you may need to refresh the page), you'll see that your new `celebrate.py` file has appeared. If you click on it, you can edit it directly in Jupyter like you could in your text editor. You can edit Python files via Jupyter if you like, although a graphical code editor tool like VS Code or Sublime will be more effective."
   ]
  },
  {
   "cell_type": "code",
   "execution_count": null,
   "id": "d7176fc4",
   "metadata": {},
   "outputs": [],
   "source": [
    "# Try it!"
   ]
  },
  {
   "cell_type": "markdown",
   "id": "73a565b9",
   "metadata": {},
   "source": [
    "You can actually also import your new module into a Jupyter notebook, using a regular import statement with the name of the module."
   ]
  },
  {
   "cell_type": "code",
   "execution_count": null,
   "id": "25e6ab36",
   "metadata": {},
   "outputs": [],
   "source": [
    "# Import the module here\n"
   ]
  },
  {
   "cell_type": "markdown",
   "id": "e04725ac",
   "metadata": {},
   "source": [
    "In your text editor, try editing the file - update the message to say `\"Let's have a party and eat cake!\"`. Now try rerunning the previous import command."
   ]
  },
  {
   "cell_type": "code",
   "execution_count": null,
   "id": "b2bb4529",
   "metadata": {},
   "outputs": [],
   "source": [
    "# Try it!"
   ]
  },
  {
   "cell_type": "markdown",
   "id": "d062e232",
   "metadata": {},
   "source": [
    "Notice that nothing happened when you tried to reload - Jupyter saves the import and won't rerun it. There are two ways to reload a module after you've edited it:\n",
    "\n",
    "  1. Restart the kernel (Kernel > Restart)\n",
    "  2. Or use special Jupyter settings to automatically reload files. Autoreload has a bunch of different settings that you can look up if you want to use this:\n",
    "\n",
    "    ```\n",
    "    %load_ext autoreload\n",
    "    %autoreload 2\n",
    "    ```"
   ]
  },
  {
   "cell_type": "code",
   "execution_count": null,
   "id": "87c3a2d4",
   "metadata": {},
   "outputs": [],
   "source": [
    "# Try it!"
   ]
  },
  {
   "cell_type": "markdown",
   "id": "ef81d455",
   "metadata": {},
   "source": [
    "--------\n",
    "\n",
    "## Functions in modules\n",
    "\n",
    "Usually what you'll want to do more than just execute statements in a module - this is where functions come in.\n",
    "\n",
    "Change your `celebrate.py` file so that you add a `cake` function that prints `Let's have some cake!`"
   ]
  },
  {
   "cell_type": "code",
   "execution_count": null,
   "id": "c32aa4b0",
   "metadata": {},
   "outputs": [],
   "source": [
    "# Try it!"
   ]
  },
  {
   "cell_type": "markdown",
   "id": "f8942d8a",
   "metadata": {},
   "source": [
    "Now try rerunning the module from the command line:\n",
    "\n",
    "```bash\n",
    "$ python celebrate.py\n",
    "```"
   ]
  },
  {
   "cell_type": "code",
   "execution_count": null,
   "id": "76d80f7b",
   "metadata": {},
   "outputs": [],
   "source": [
    "# Try it!"
   ]
  },
  {
   "cell_type": "markdown",
   "id": "600f16b2",
   "metadata": {},
   "source": [
    "It didn't print anything about cake! Why not?\n",
    "\n",
    "Try it in the notebook too - try re-importing the module."
   ]
  },
  {
   "cell_type": "code",
   "execution_count": null,
   "id": "c9f896d3",
   "metadata": {},
   "outputs": [],
   "source": [
    "import celebrate"
   ]
  },
  {
   "cell_type": "markdown",
   "id": "3c7c9d09",
   "metadata": {},
   "source": [
    "Still no cake.\n",
    "\n",
    "But now, we can use our `celebrate` module and `cake` function in our code!"
   ]
  },
  {
   "cell_type": "code",
   "execution_count": null,
   "id": "ae1587c5",
   "metadata": {},
   "outputs": [],
   "source": []
  },
  {
   "cell_type": "markdown",
   "id": "180e928f",
   "metadata": {},
   "source": [
    "This is just like how we used math, numpy, and pandas last week. You can even give a shortened name if you like, like we did for pandas:"
   ]
  },
  {
   "cell_type": "code",
   "execution_count": null,
   "id": "71b7bc18",
   "metadata": {},
   "outputs": [],
   "source": [
    "import celebrate as cb"
   ]
  },
  {
   "cell_type": "markdown",
   "id": "d324cc6a",
   "metadata": {},
   "source": [
    "However, this can be confusing unless it is a universally accepted naming convention (like `pd` for pandas). Stick with the full module name most of the time.\n",
    "\n",
    "Note that there's an alternative import structure that involves the asterisk character:\n",
    "\n",
    "  ```python\n",
    "  from celebrate import *\n",
    "  ```\n",
    "\n",
    "We'll talk more about that in a later lecture, but for now, **avoid this construction!** Stick with importing a module plainly (`import celebrate`) or with a short name (`import celebrate as cb`)."
   ]
  },
  {
   "cell_type": "markdown",
   "id": "8413a0ec",
   "metadata": {},
   "source": [
    "--------\n",
    "\n",
    "## Python top-level environment\n",
    "\n",
    "Sometimes, we want a module to provide both *reusable functionality* (ie functions) and *an actual result* (ie statements that do something). You COULD in fact make two modules - one with the functions and one that is a regular script that does something - but people are lazy and it's common to do it all in one file, at least for simple to moderate code.\n",
    "\n",
    "What we want:\n",
    "\n",
    "* When someone imports the module with `import celebrate`, they have access to the functions we've defined but any computational code does NOT run (ie the `Let's have a party!` print).\n",
    "* When someone runs the module directly (ie on the command line with `python celebrate.py`), it SHOULD execute the print statement.\n",
    "\n",
    "The way we do this is with a special `if` statement that wraps our computational code:\n",
    "\n",
    "```python\n",
    "if __name__ == \"__main__\":\n",
    "    # do stuff\n",
    "```"
   ]
  },
  {
   "cell_type": "code",
   "execution_count": null,
   "id": "e7e727c6",
   "metadata": {},
   "outputs": [],
   "source": [
    "# Try it in celebrate.py!"
   ]
  },
  {
   "cell_type": "markdown",
   "id": "d8d197e7",
   "metadata": {},
   "source": [
    "Now if you try to import the file into the Jupyter notebook, you won't see the print statement:"
   ]
  },
  {
   "cell_type": "code",
   "execution_count": null,
   "id": "fef3aec6",
   "metadata": {},
   "outputs": [],
   "source": [
    "import celebrate"
   ]
  },
  {
   "cell_type": "markdown",
   "id": "801c2dc1",
   "metadata": {},
   "source": [
    "But if you run the module from the command line, it WILL print:"
   ]
  },
  {
   "cell_type": "code",
   "execution_count": null,
   "id": "f9ca5017",
   "metadata": {},
   "outputs": [],
   "source": [
    "# Try running `python celebrate.py` from the command line"
   ]
  },
  {
   "cell_type": "markdown",
   "id": "790e88a9",
   "metadata": {},
   "source": [
    "Lots of programming languages have a \"main\" construction like this.\n",
    "\n",
    "What is actually going on?\n",
    "\n",
    "When a Python module is imported, the variable `__name__` is automatically set to the module's name. Usually, this is the name of the Python file itself without the `.py` extension:"
   ]
  },
  {
   "cell_type": "code",
   "execution_count": null,
   "id": "dd838961",
   "metadata": {},
   "outputs": [],
   "source": [
    "celebrate.__name__"
   ]
  },
  {
   "cell_type": "markdown",
   "id": "3a191f32",
   "metadata": {},
   "source": [
    "However, if the module is executed in the top-level code environment, its `__name__` is set to the string `__main__`. “Top-level code” is the first user-specified Python module that starts running. It’s “top-level” because it imports all other modules that the program needs. Sometimes “top-level code” is called an entry point to the application.\n",
    "\n",
    "So in our Jupyter notebook, you also have a `__name__` variable."
   ]
  },
  {
   "cell_type": "code",
   "execution_count": null,
   "id": "2ddd6049",
   "metadata": {},
   "outputs": [],
   "source": [
    "__name__"
   ]
  },
  {
   "cell_type": "markdown",
   "id": "ce6da6e5",
   "metadata": {},
   "source": [
    "When you run the module with `python celebrate.py`, however, the `__name__` for the `celebrate` module will be `__main__` instead, because that's the Python code that you started with!\n",
    "\n",
    "Lastly, if your main block is getting really big or complicated, a common way to structure the code is with a specific `main` function that you call in the main block:"
   ]
  },
  {
   "cell_type": "code",
   "execution_count": null,
   "id": "c3f89837",
   "metadata": {},
   "outputs": [],
   "source": [
    "def main():\n",
    "    # do stuff\n",
    "    return\n",
    "\n",
    "if __name__ == '__main__':\n",
    "    main()"
   ]
  },
  {
   "cell_type": "markdown",
   "id": "181e705c",
   "metadata": {},
   "source": [
    "--------\n",
    "\n",
    "## Exercise\n",
    "\n",
    "1. Move the three functions that you wrote in the previous breakout section on functions into a `.py` module file.\n",
    "1. Add a main function and block that calls each function 2 times with different arguments.\n",
    "1. Execute your module from the command line.\n",
    "1. Import the module into a Jupyter notebook.\n",
    "1. Now try moving the main function and block to a different `.py` file. Use an import to access the functions."
   ]
  },
  {
   "cell_type": "code",
   "execution_count": null,
   "id": "d9ddb5a2",
   "metadata": {},
   "outputs": [],
   "source": []
  }
 ],
 "metadata": {
  "kernelspec": {
   "display_name": "Python 3 (ipykernel)",
   "language": "python",
   "name": "python3"
  },
  "language_info": {
   "codemirror_mode": {
    "name": "ipython",
    "version": 3
   },
   "file_extension": ".py",
   "mimetype": "text/x-python",
   "name": "python",
   "nbconvert_exporter": "python",
   "pygments_lexer": "ipython3",
   "version": "3.9.12"
  }
 },
 "nbformat": 4,
 "nbformat_minor": 5
}
