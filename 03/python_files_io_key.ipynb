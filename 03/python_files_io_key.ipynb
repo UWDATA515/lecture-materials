{
 "cells": [
  {
   "cell_type": "markdown",
   "id": "66d720a1",
   "metadata": {},
   "source": [
    "# Python input/output\n",
    "\n",
    "The definitive source on input/output in Python is the [Python documentation](https://docs.python.org/3/tutorial/inputoutput.html), which you can always look at to find details.\n",
    "\n",
    "--------\n",
    "\n",
    "## Opening files\n",
    "\n",
    "Often we'll need to interact with data files in the course of our work. In many cases, we can use a pre-existing function to read the file and parse the data for us. For instance, we can use pandas to read a CSV file:"
   ]
  },
  {
   "cell_type": "code",
   "execution_count": 1,
   "id": "0bdd40bf",
   "metadata": {},
   "outputs": [
    {
     "data": {
      "text/html": [
       "<div>\n",
       "<style scoped>\n",
       "    .dataframe tbody tr th:only-of-type {\n",
       "        vertical-align: middle;\n",
       "    }\n",
       "\n",
       "    .dataframe tbody tr th {\n",
       "        vertical-align: top;\n",
       "    }\n",
       "\n",
       "    .dataframe thead th {\n",
       "        text-align: right;\n",
       "    }\n",
       "</style>\n",
       "<table border=\"1\" class=\"dataframe\">\n",
       "  <thead>\n",
       "    <tr style=\"text-align: right;\">\n",
       "      <th></th>\n",
       "      <th>trip_id</th>\n",
       "      <th>starttime</th>\n",
       "      <th>stoptime</th>\n",
       "      <th>bikeid</th>\n",
       "      <th>tripduration</th>\n",
       "      <th>from_station_name</th>\n",
       "      <th>to_station_name</th>\n",
       "      <th>from_station_id</th>\n",
       "      <th>to_station_id</th>\n",
       "      <th>usertype</th>\n",
       "      <th>gender</th>\n",
       "      <th>birthyear</th>\n",
       "    </tr>\n",
       "  </thead>\n",
       "  <tbody>\n",
       "    <tr>\n",
       "      <th>0</th>\n",
       "      <td>431</td>\n",
       "      <td>10/13/2014 10:31:00 AM</td>\n",
       "      <td>10/13/2014 10:48:00 AM</td>\n",
       "      <td>SEA00298</td>\n",
       "      <td>985.935</td>\n",
       "      <td>2nd Ave &amp; Spring St</td>\n",
       "      <td>Occidental Park / Occidental Ave S &amp; S Washing...</td>\n",
       "      <td>CBD-06</td>\n",
       "      <td>PS-04</td>\n",
       "      <td>Member</td>\n",
       "      <td>Male</td>\n",
       "      <td>1960.0</td>\n",
       "    </tr>\n",
       "    <tr>\n",
       "      <th>1</th>\n",
       "      <td>432</td>\n",
       "      <td>10/13/2014 10:32:00 AM</td>\n",
       "      <td>10/13/2014 10:48:00 AM</td>\n",
       "      <td>SEA00195</td>\n",
       "      <td>926.375</td>\n",
       "      <td>2nd Ave &amp; Spring St</td>\n",
       "      <td>Occidental Park / Occidental Ave S &amp; S Washing...</td>\n",
       "      <td>CBD-06</td>\n",
       "      <td>PS-04</td>\n",
       "      <td>Member</td>\n",
       "      <td>Male</td>\n",
       "      <td>1970.0</td>\n",
       "    </tr>\n",
       "    <tr>\n",
       "      <th>2</th>\n",
       "      <td>433</td>\n",
       "      <td>10/13/2014 10:33:00 AM</td>\n",
       "      <td>10/13/2014 10:48:00 AM</td>\n",
       "      <td>SEA00486</td>\n",
       "      <td>883.831</td>\n",
       "      <td>2nd Ave &amp; Spring St</td>\n",
       "      <td>Occidental Park / Occidental Ave S &amp; S Washing...</td>\n",
       "      <td>CBD-06</td>\n",
       "      <td>PS-04</td>\n",
       "      <td>Member</td>\n",
       "      <td>Female</td>\n",
       "      <td>1988.0</td>\n",
       "    </tr>\n",
       "    <tr>\n",
       "      <th>3</th>\n",
       "      <td>434</td>\n",
       "      <td>10/13/2014 10:34:00 AM</td>\n",
       "      <td>10/13/2014 10:48:00 AM</td>\n",
       "      <td>SEA00333</td>\n",
       "      <td>865.937</td>\n",
       "      <td>2nd Ave &amp; Spring St</td>\n",
       "      <td>Occidental Park / Occidental Ave S &amp; S Washing...</td>\n",
       "      <td>CBD-06</td>\n",
       "      <td>PS-04</td>\n",
       "      <td>Member</td>\n",
       "      <td>Female</td>\n",
       "      <td>1977.0</td>\n",
       "    </tr>\n",
       "    <tr>\n",
       "      <th>4</th>\n",
       "      <td>435</td>\n",
       "      <td>10/13/2014 10:34:00 AM</td>\n",
       "      <td>10/13/2014 10:49:00 AM</td>\n",
       "      <td>SEA00202</td>\n",
       "      <td>923.923</td>\n",
       "      <td>2nd Ave &amp; Spring St</td>\n",
       "      <td>Occidental Park / Occidental Ave S &amp; S Washing...</td>\n",
       "      <td>CBD-06</td>\n",
       "      <td>PS-04</td>\n",
       "      <td>Member</td>\n",
       "      <td>Male</td>\n",
       "      <td>1971.0</td>\n",
       "    </tr>\n",
       "  </tbody>\n",
       "</table>\n",
       "</div>"
      ],
      "text/plain": [
       "   trip_id               starttime                stoptime    bikeid  \\\n",
       "0      431  10/13/2014 10:31:00 AM  10/13/2014 10:48:00 AM  SEA00298   \n",
       "1      432  10/13/2014 10:32:00 AM  10/13/2014 10:48:00 AM  SEA00195   \n",
       "2      433  10/13/2014 10:33:00 AM  10/13/2014 10:48:00 AM  SEA00486   \n",
       "3      434  10/13/2014 10:34:00 AM  10/13/2014 10:48:00 AM  SEA00333   \n",
       "4      435  10/13/2014 10:34:00 AM  10/13/2014 10:49:00 AM  SEA00202   \n",
       "\n",
       "   tripduration    from_station_name  \\\n",
       "0       985.935  2nd Ave & Spring St   \n",
       "1       926.375  2nd Ave & Spring St   \n",
       "2       883.831  2nd Ave & Spring St   \n",
       "3       865.937  2nd Ave & Spring St   \n",
       "4       923.923  2nd Ave & Spring St   \n",
       "\n",
       "                                     to_station_name from_station_id  \\\n",
       "0  Occidental Park / Occidental Ave S & S Washing...          CBD-06   \n",
       "1  Occidental Park / Occidental Ave S & S Washing...          CBD-06   \n",
       "2  Occidental Park / Occidental Ave S & S Washing...          CBD-06   \n",
       "3  Occidental Park / Occidental Ave S & S Washing...          CBD-06   \n",
       "4  Occidental Park / Occidental Ave S & S Washing...          CBD-06   \n",
       "\n",
       "  to_station_id usertype  gender  birthyear  \n",
       "0         PS-04   Member    Male     1960.0  \n",
       "1         PS-04   Member    Male     1970.0  \n",
       "2         PS-04   Member  Female     1988.0  \n",
       "3         PS-04   Member  Female     1977.0  \n",
       "4         PS-04   Member    Male     1971.0  "
      ]
     },
     "execution_count": 1,
     "metadata": {},
     "output_type": "execute_result"
    }
   ],
   "source": [
    "import pandas as pd\n",
    "pd.read_csv('pronto.csv').head()"
   ]
  },
  {
   "cell_type": "markdown",
   "id": "0906b3d7",
   "metadata": {},
   "source": [
    "However, sometimes data files are not CSVs but are instead some custom format that we have to process ourselves. In these cases, we'll need to access a file from Python directly.\n",
    "\n",
    "The first step in working with a file is to \"open\" it (just like you would open a file in a text editor or preview application). We use the built-in `open` function for that:"
   ]
  },
  {
   "cell_type": "code",
   "execution_count": 2,
   "id": "7f928e56",
   "metadata": {},
   "outputs": [],
   "source": [
    "file = open('pronto.csv')"
   ]
  },
  {
   "cell_type": "markdown",
   "id": "819a672f",
   "metadata": {},
   "source": [
    "After you're done with the file, it's important to close the file (just like you would close a text editor or preview application):"
   ]
  },
  {
   "cell_type": "code",
   "execution_count": 3,
   "id": "2311f936",
   "metadata": {},
   "outputs": [],
   "source": [
    "file.close()"
   ]
  },
  {
   "cell_type": "markdown",
   "id": "4edf79c7",
   "metadata": {},
   "source": [
    "If you don't close the file, bad things could happen. For instance, if you're writing something to the file, the content may not get flushed (ie fully saved) if you don't close the file before you terminate your program.\n",
    "\n",
    "The open/close lifecycle of working with files is so common that Python has a special \"with\" construct to make it easier. This is usually the way I recommend working with files. Python will automatically close the file after it finishes the `with` block:"
   ]
  },
  {
   "cell_type": "code",
   "execution_count": 4,
   "id": "e7a0d54f",
   "metadata": {},
   "outputs": [],
   "source": [
    "with open('pronto.csv') as file:\n",
    "    # do something with file\n",
    "    pass\n",
    "\n",
    "# file is automatically closed after the with block"
   ]
  },
  {
   "attachments": {},
   "cell_type": "markdown",
   "id": "1f21cccd",
   "metadata": {},
   "source": [
    "--------\n",
    "\n",
    "## Reading files\n",
    "\n",
    "You can do a lot of things with file objects. You can explore those with tab completion (or in the [Python documentation](https://docs.python.org/3/library/io.html#i-o-base-classes)):"
   ]
  },
  {
   "cell_type": "code",
   "execution_count": null,
   "id": "eb33b890",
   "metadata": {},
   "outputs": [],
   "source": [
    "with open('pronto.csv') as file:\n",
    "    file."
   ]
  },
  {
   "cell_type": "markdown",
   "id": "707521b1",
   "metadata": {},
   "source": [
    "For reading files, there are a number of helpful reading functions, like `readline`, `readlines`, or the less-likely `read`. To read all the lines of the file into a variable:"
   ]
  },
  {
   "cell_type": "code",
   "execution_count": 5,
   "id": "9644f432",
   "metadata": {},
   "outputs": [
    {
     "name": "stdout",
     "output_type": "stream",
     "text": [
      "trip_id,starttime,stoptime,bikeid,tripduration,from_station_name,to_station_name,from_station_id,to_station_id,usertype,gender,birthyear\n",
      "\n",
      "431,10/13/2014 10:31:00 AM,10/13/2014 10:48:00 AM,SEA00298,985.935,2nd Ave & Spring St,Occidental Park / Occidental Ave S & S Washington St,CBD-06,PS-04,Member,Male,1960\n",
      "\n",
      "trip_id,starttime,stoptime,bikeid,tripduration,from_station_name,to_station_name,from_station_id,to_station_id,usertype,gender,birthyear\n",
      "\n"
     ]
    }
   ],
   "source": [
    "with open('pronto.csv') as file:\n",
    "    lines = file.readlines()\n",
    "    print(lines[0])\n",
    "    print(lines[1])\n",
    "\n",
    "    # Reset the file so we can read the lines again\n",
    "    file.seek(0)\n",
    "    # now we can readlines again!\n",
    "    print(file.readlines()[0])"
   ]
  },
  {
   "cell_type": "markdown",
   "id": "69755a0a",
   "metadata": {},
   "source": [
    "What happens if you try to read the lines again? What does this mean about how `readlines` works?\n",
    "\n",
    "How can we \"reset\" the file to read everything again?"
   ]
  },
  {
   "cell_type": "markdown",
   "id": "cb7f8eb1",
   "metadata": {},
   "source": [
    "To read line by line, you can use `readline`:"
   ]
  },
  {
   "cell_type": "code",
   "execution_count": 6,
   "id": "145d1a08",
   "metadata": {},
   "outputs": [],
   "source": [
    "with open('pronto.csv') as file:\n",
    "    # This is kinda ugly, there's a better way below\n",
    "    while True:\n",
    "        line = file.readline()\n",
    "        if len(line) == 0:\n",
    "            break"
   ]
  },
  {
   "cell_type": "markdown",
   "id": "21a7232a",
   "metadata": {},
   "source": [
    "Python has a slightly easier way to read text files line by line (automatically calling `readline`):"
   ]
  },
  {
   "cell_type": "code",
   "execution_count": 8,
   "id": "0ba3464e",
   "metadata": {},
   "outputs": [
    {
     "name": "stderr",
     "output_type": "stream",
     "text": [
      "IOPub data rate exceeded.\n",
      "The Jupyter server will temporarily stop sending output\n",
      "to the client in order to avoid crashing it.\n",
      "To change this limit, set the config variable\n",
      "`--ServerApp.iopub_data_rate_limit`.\n",
      "\n",
      "Current values:\n",
      "ServerApp.iopub_data_rate_limit=1000000.0 (bytes/sec)\n",
      "ServerApp.rate_limit_window=3.0 (secs)\n",
      "\n"
     ]
    }
   ],
   "source": [
    "with open('pronto.csv') as file:\n",
    "    # Python knows how to do this automatically!\n",
    "    for line in file:\n",
    "        print(line)"
   ]
  },
  {
   "cell_type": "markdown",
   "id": "ad908e27",
   "metadata": {},
   "source": [
    "--------\n",
    "\n",
    "## Writing files\n",
    "\n",
    "We can also edit or write to files with Python. You might start by trying what we did before, but using `writelines` instead of `readlines` to write some strings as lines of text:"
   ]
  },
  {
   "cell_type": "code",
   "execution_count": 9,
   "id": "8d8873e1",
   "metadata": {},
   "outputs": [
    {
     "ename": "FileNotFoundError",
     "evalue": "[Errno 2] No such file or directory: 'test.txt'",
     "output_type": "error",
     "traceback": [
      "\u001b[0;31m---------------------------------------------------------------------------\u001b[0m",
      "\u001b[0;31mFileNotFoundError\u001b[0m                         Traceback (most recent call last)",
      "Cell \u001b[0;32mIn[9], line 1\u001b[0m\n\u001b[0;32m----> 1\u001b[0m \u001b[38;5;28;01mwith\u001b[39;00m \u001b[38;5;28mopen\u001b[39m(\u001b[38;5;124m'\u001b[39m\u001b[38;5;124mtest.txt\u001b[39m\u001b[38;5;124m'\u001b[39m) \u001b[38;5;28;01mas\u001b[39;00m file:\n\u001b[1;32m      2\u001b[0m     file\u001b[38;5;241m.\u001b[39mwritelines([\u001b[38;5;124m'\u001b[39m\u001b[38;5;124mfirst line\u001b[39m\u001b[38;5;124m'\u001b[39m, \u001b[38;5;124m'\u001b[39m\u001b[38;5;124msecond_line\u001b[39m\u001b[38;5;124m'\u001b[39m])\n",
      "File \u001b[0;32m~/miniconda3/lib/python3.11/site-packages/IPython/core/interactiveshell.py:310\u001b[0m, in \u001b[0;36m_modified_open\u001b[0;34m(file, *args, **kwargs)\u001b[0m\n\u001b[1;32m    303\u001b[0m \u001b[38;5;28;01mif\u001b[39;00m file \u001b[38;5;129;01min\u001b[39;00m {\u001b[38;5;241m0\u001b[39m, \u001b[38;5;241m1\u001b[39m, \u001b[38;5;241m2\u001b[39m}:\n\u001b[1;32m    304\u001b[0m     \u001b[38;5;28;01mraise\u001b[39;00m \u001b[38;5;167;01mValueError\u001b[39;00m(\n\u001b[1;32m    305\u001b[0m         \u001b[38;5;124mf\u001b[39m\u001b[38;5;124m\"\u001b[39m\u001b[38;5;124mIPython won\u001b[39m\u001b[38;5;124m'\u001b[39m\u001b[38;5;124mt let you open fd=\u001b[39m\u001b[38;5;132;01m{\u001b[39;00mfile\u001b[38;5;132;01m}\u001b[39;00m\u001b[38;5;124m by default \u001b[39m\u001b[38;5;124m\"\u001b[39m\n\u001b[1;32m    306\u001b[0m         \u001b[38;5;124m\"\u001b[39m\u001b[38;5;124mas it is likely to crash IPython. If you know what you are doing, \u001b[39m\u001b[38;5;124m\"\u001b[39m\n\u001b[1;32m    307\u001b[0m         \u001b[38;5;124m\"\u001b[39m\u001b[38;5;124myou can use builtins\u001b[39m\u001b[38;5;124m'\u001b[39m\u001b[38;5;124m open.\u001b[39m\u001b[38;5;124m\"\u001b[39m\n\u001b[1;32m    308\u001b[0m     )\n\u001b[0;32m--> 310\u001b[0m \u001b[38;5;28;01mreturn\u001b[39;00m io_open(file, \u001b[38;5;241m*\u001b[39margs, \u001b[38;5;241m*\u001b[39m\u001b[38;5;241m*\u001b[39mkwargs)\n",
      "\u001b[0;31mFileNotFoundError\u001b[0m: [Errno 2] No such file or directory: 'test.txt'"
     ]
    }
   ],
   "source": [
    "with open('test.txt') as file:\n",
    "    file.writelines(['first line', 'second_line'])"
   ]
  },
  {
   "cell_type": "markdown",
   "id": "db3eb645",
   "metadata": {},
   "source": [
    "What went wrong?\n",
    "\n",
    "We need to tell Python that we're writing to this file instead of reading from it (reading, or `r` mode, is the default). We can set the mode to \"write\":"
   ]
  },
  {
   "cell_type": "code",
   "execution_count": 10,
   "id": "d1a1f02e",
   "metadata": {},
   "outputs": [],
   "source": [
    "# Open in write mode\n",
    "with open('test.txt', 'w') as file:\n",
    "    file.writelines(['first line', 'second line'])"
   ]
  },
  {
   "cell_type": "markdown",
   "id": "5fef1cec",
   "metadata": {},
   "source": [
    "Find the file in the Jupyter file viewer and open it up.\n",
    "\n",
    "Now wait a minute! It used `writelines` but it didn't actually write separate lines! This is a silly thing in Python - you can read in the [documentation](https://docs.python.org/3/library/io.html#io.IOBase.writelines) that `writelines` does not add line separators. We have to add those manually:"
   ]
  },
  {
   "cell_type": "code",
   "execution_count": 11,
   "id": "51f6e5ad",
   "metadata": {},
   "outputs": [],
   "source": [
    "with open('test.txt', 'w') as file:\n",
    "    # Use line separators\n",
    "    file.writelines(['first line\\n', 'second line\\n'])"
   ]
  },
  {
   "cell_type": "markdown",
   "id": "e9122050",
   "metadata": {},
   "source": [
    "Notice that we *overwrote* the previous version of the file - when you open in write mode, you're going to replace the file contents with whatever you write. If instead you want to append content (ie add lines), you can open the file in \"append\" mode:"
   ]
  },
  {
   "cell_type": "code",
   "execution_count": 12,
   "id": "f453a9b2",
   "metadata": {},
   "outputs": [],
   "source": [
    "# Open in append mode\n",
    "with open('test.txt', 'a') as file:\n",
    "    file.writelines(['third line\\n', 'fourth line\\n'])"
   ]
  },
  {
   "cell_type": "markdown",
   "id": "44dd4169",
   "metadata": {},
   "source": [
    "You can also write an individual string:"
   ]
  },
  {
   "cell_type": "code",
   "execution_count": 13,
   "id": "f7045d89",
   "metadata": {},
   "outputs": [],
   "source": [
    "with open('test.txt', 'a') as file:\n",
    "    # Write one string\n",
    "    file.write('fifth line\\n')"
   ]
  },
  {
   "cell_type": "markdown",
   "id": "9bb35177",
   "metadata": {},
   "source": [
    "You can also use the plain old `print` function by also providing a file as an argument to the `print` function:"
   ]
  },
  {
   "cell_type": "code",
   "execution_count": 14,
   "id": "95bc5116",
   "metadata": {},
   "outputs": [],
   "source": [
    "with open('test.txt', 'a') as file:\n",
    "    # Use the print built-in\n",
    "    print('sixth line', file=file)\n",
    "    print('seventh line', file=file)"
   ]
  },
  {
   "cell_type": "markdown",
   "id": "cdaa102e",
   "metadata": {},
   "source": [
    "Note that `print` DOES automatically include a newline character at the end of the printed content.\n",
    "\n",
    "### Formatting\n",
    "\n",
    "One thing that you'll often want to do is embed variables in what you print out. You can do this by writing each part of the line individually, adding variables where you need them:"
   ]
  },
  {
   "cell_type": "code",
   "execution_count": 15,
   "id": "cc79d0e9",
   "metadata": {},
   "outputs": [],
   "source": [
    "secret = 'abracadabra'\n",
    "\n",
    "with open('test.txt', 'w') as file:\n",
    "    # Prints out \"The secret password is abracadabra\"\n",
    "    file.write('The secret password is ')\n",
    "    file.write(secret)\n",
    "    file.write('!\\n')"
   ]
  },
  {
   "cell_type": "markdown",
   "id": "ce43ab6e",
   "metadata": {},
   "source": [
    "However, Python supports \"format strings\" which allow you to embed a variable inside of a string. This makes things much more readable!"
   ]
  },
  {
   "cell_type": "code",
   "execution_count": 16,
   "id": "695ecfaf",
   "metadata": {},
   "outputs": [],
   "source": [
    "secret = 'abracadabra'\n",
    "\n",
    "with open('test.txt', 'w') as file:\n",
    "    # Precede the string with the character \"f\", and embed variables with curly braces {}\n",
    "    file.write(f'The secret password is {secret}!')"
   ]
  },
  {
   "cell_type": "markdown",
   "id": "5cc68097",
   "metadata": {},
   "source": [
    "We call these \"f-strings\" (short for \"formatted strings\").\n",
    "\n",
    "There's a lot more formatting magic you can do with f-strings. Check out the full Python [documentation](https://docs.python.org/3/tutorial/inputoutput.html#fancier-output-formatting) if you need to figure out how to format something in a particular way."
   ]
  },
  {
   "cell_type": "markdown",
   "id": "07c8b859",
   "metadata": {},
   "source": [
    "--------\n",
    "\n",
    "## User input\n",
    "\n",
    "One way to build an interactive program - one that involves the user in the input and output - is by prompting them for information, which you can then use to do something with.\n",
    "\n",
    "The way to do this is with the built-in `input` function. You provide a prompt as an argument:"
   ]
  },
  {
   "cell_type": "code",
   "execution_count": 17,
   "id": "a1d47c1f",
   "metadata": {},
   "outputs": [
    {
     "name": "stdout",
     "output_type": "stream",
     "text": [
      "What is your name?  Melissa\n"
     ]
    },
    {
     "name": "stdout",
     "output_type": "stream",
     "text": [
      "Hello, Melissa!\n"
     ]
    }
   ],
   "source": [
    "name = input('What is your name? ')\n",
    "\n",
    "print(f'Hello, {name}!')"
   ]
  },
  {
   "cell_type": "markdown",
   "id": "b0c560a8",
   "metadata": {},
   "source": [
    "You can read more about the `input` function in the Python documentation [here](https://docs.python.org/3/library/functions.html#input)."
   ]
  },
  {
   "attachments": {},
   "cell_type": "markdown",
   "id": "b12696bb",
   "metadata": {},
   "source": [
    "--------\n",
    "\n",
    "## Exercise\n",
    "\n",
    "1. In a Python module, write a function called `read_csv` to read a CSV file (manually - without using pandas or the `csv` module).\n",
    "\n",
    "  The function should take a file name as input and should return a list of dictionaries, with each dictionary containing the `column:value` data for a particular row. You should assume that the file contains a header row with the column names.\n",
    "\n",
    "  For instance, if the CSV file contains these rows:\n",
    "\n",
    "  ```\n",
    "  id,name,age\n",
    "  1,sarah,30\n",
    "  2,steve,42\n",
    "  ```\n",
    "\n",
    "  Then the function should return the following list.:\n",
    "\n",
    "  ```python\n",
    "  [\n",
    "      {id: \"1\", name: \"sarah\", age: \"30\"},\n",
    "      {id: \"2\", name: \"steve\", age: \"42'\"}\n",
    "  ]\n",
    "  ```\n",
    "\n",
    "2. In the same module, write a function called `write_csv` that takes the same list format from `read_csv`, a list of column names, and a file name, and writes the subset of columns to a file.\n",
    "\n",
    "  For instance, if you call `write_csv(rows, [\"id\", \"age\"], \"output.csv\")` with the list from part 1, then the file `output.csv` should contain the following contents:\n",
    "\n",
    "  ```\n",
    "  id,age\n",
    "  1,30\n",
    "  2,42\n",
    "  ```\n",
    "\n",
    "  This is a way we might anonymize data.\n",
    "\n",
    "\n",
    "3. Write a main function that runs the `read_csv` function on the Pronto CSV file that we download from the City of Seattle at https://data.seattle.gov/api/views/tw7j-dfaw/rows.csv?accessType=DOWNLOAD. Then write a new CSV without the personal columns `usertype`, `gender`, and `birthyear`.\n",
    "\n",
    "\n",
    "### Bonus exercises\n",
    "\n",
    "* Have the main function take the name of the csv file to read, the name of the csv file to output, and the columns to emit, as user input on the command line.\n",
    "* Make `read_csv` take another argument - a boolean `has_headers` that indicates whether the csv has a header row or not. If `has_headers` is true, the function should behave exactly as it did before. If `has_headers` is false, use numbers for the column names instead, ie `0`, `1`, `2`, etc."
   ]
  },
  {
   "cell_type": "markdown",
   "id": "29c834c5",
   "metadata": {},
   "source": []
  }
 ],
 "metadata": {
  "kernelspec": {
   "display_name": "Python 3 (ipykernel)",
   "language": "python",
   "name": "python3"
  },
  "language_info": {
   "codemirror_mode": {
    "name": "ipython",
    "version": 3
   },
   "file_extension": ".py",
   "mimetype": "text/x-python",
   "name": "python",
   "nbconvert_exporter": "python",
   "pygments_lexer": "ipython3",
   "version": "3.9.6 (default, Oct 18 2022, 12:41:40) \n[Clang 14.0.0 (clang-1400.0.29.202)]"
  },
  "vscode": {
   "interpreter": {
    "hash": "31f2aee4e71d21fbe5cf8b01ff0e069b9275f58929596ceb00d14d90e3e16cd6"
   }
  }
 },
 "nbformat": 4,
 "nbformat_minor": 5
}
