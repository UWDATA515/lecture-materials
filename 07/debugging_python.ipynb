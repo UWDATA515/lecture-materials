{
 "cells": [
  {
   "cell_type": "markdown",
   "metadata": {},
   "source": [
    "# Errors, or bugs, in your software\n",
    "\n",
    "Today we'll cover dealing with errors in your Python code, an important aspect of writing software.\n",
    "\n",
    "#### What is a software bug?\n",
    "\n",
    "According to [Wikipedia](https://en.wikipedia.org/wiki/Software_bug) (accessed 16 Oct 2018), a software bug is an error, flaw, failure, or fault in a computer program or system that causes it to produce an incorrect or unexpected result, or behave in unintended ways.\n",
    "\n",
    "#### Where did the terminology come from?\n",
    "\n",
    "Engineers have used the term well before electronic computers and software. Sometimes Thomas Edison is credited with the first recorded use of bug in that fashion. [[Wikipedia](https://en.wikipedia.org/wiki/Software_bug#Etymology)]"
   ]
  },
  {
   "cell_type": "markdown",
   "metadata": {},
   "source": [
    "#### If incorrect code is never executed, is it a bug?\n",
    "\n",
    "This is the software equivalent to \"If a tree falls and no one hears it, does it make a sound?\". "
   ]
  },
  {
   "cell_type": "markdown",
   "metadata": {},
   "source": [
    "## Three classes of bugs\n",
    "\n",
    "Let's discuss three major types of bugs in your code, from easiest to most difficult to diagnose:\n",
    "\n",
    "1. **Syntax errors**\n",
    "1. **Runtime errors**\n",
    "1. **Semantic errors**"
   ]
  },
  {
   "cell_type": "code",
   "execution_count": null,
   "metadata": {},
   "outputs": [],
   "source": [
    "import numpy as np"
   ]
  },
  {
   "cell_type": "markdown",
   "metadata": {},
   "source": [
    "### Syntax errors\n",
    "\n",
    "Errors where the code is not written in a valid way. (Generally easiest to fix.)"
   ]
  },
  {
   "cell_type": "code",
   "execution_count": null,
   "metadata": {},
   "outputs": [],
   "source": [
    "print \"This should only work in 2.X NOT used in this class.\""
   ]
  },
  {
   "cell_type": "code",
   "execution_count": null,
   "metadata": {},
   "outputs": [],
   "source": []
  },
  {
   "cell_type": "code",
   "execution_count": null,
   "metadata": {},
   "outputs": [],
   "source": []
  },
  {
   "cell_type": "markdown",
   "metadata": {},
   "source": [
    "### Runtime errors\n",
    "\n",
    "Errors where code is syntactically valid, but fails to execute. Often throwing exceptions here. Sometimes these are easy to fix; it's harder when in other people's code."
   ]
  },
  {
   "cell_type": "code",
   "execution_count": null,
   "metadata": {},
   "outputs": [],
   "source": [
    "# invalid operation\n",
    "a = 0\n",
    "5/a"
   ]
  },
  {
   "cell_type": "code",
   "execution_count": null,
   "metadata": {},
   "outputs": [],
   "source": [
    "# invalid operation\n",
    "input = \"40\"\n",
    "input/11"
   ]
  },
  {
   "cell_type": "code",
   "execution_count": null,
   "metadata": {
    "scrolled": true
   },
   "outputs": [],
   "source": [
    "while True:\n",
    "    pass"
   ]
  },
  {
   "cell_type": "code",
   "execution_count": null,
   "metadata": {},
   "outputs": [],
   "source": [
    "x = 5\n",
    "x.isalphanum()"
   ]
  },
  {
   "cell_type": "markdown",
   "metadata": {},
   "source": [
    "### Semantic errors\n",
    "\n",
    "Errors where code is syntactically valid, but contain errors in logic. These can be difficult to find and fix.\n",
    "\n",
    "Say we're trying to confirm that a trigonometric identity holds. Let's use the basic relationship between sine and cosine, given by the Pythagorean identity\n",
    "\n",
    "$$\n",
    "\\sin^2 \\theta + \\cos^2 \\theta = 1\n",
    "$$\n",
    "\n",
    "We can write a function to check this:"
   ]
  },
  {
   "cell_type": "code",
   "execution_count": null,
   "metadata": {},
   "outputs": [],
   "source": [
    "import math\n",
    "\n",
    "def pythagorean_identity(theta):\n",
    "    return math.sin(theta)**2 + math.cos(theta)**4"
   ]
  },
  {
   "cell_type": "code",
   "execution_count": null,
   "metadata": {},
   "outputs": [],
   "source": [
    "pythagorean_identity(.4)"
   ]
  },
  {
   "cell_type": "markdown",
   "metadata": {},
   "source": [
    "What is the bug in this code?"
   ]
  },
  {
   "cell_type": "markdown",
   "metadata": {},
   "source": []
  },
  {
   "cell_type": "markdown",
   "metadata": {},
   "source": [
    "## How to find and resolve bugs?\n",
    "\n",
    "Debugging has the following steps:\n",
    "\n",
    "1. **Detection** of an exception or invalid results. \n",
    "2. **Isolation** of where the program causes the error. This is often the most difficult step.\n",
    "3. **Resolution** of how to change the code to eliminate the error. Mostly, it's not too bad, but sometimes this can cause major revisions in codes.\n"
   ]
  },
  {
   "cell_type": "markdown",
   "metadata": {},
   "source": [
    "### Detection of Bugs\n",
    "\n",
    "How can we detect that a bug exists?"
   ]
  },
  {
   "cell_type": "markdown",
   "metadata": {},
   "source": [
    "* "
   ]
  },
  {
   "cell_type": "markdown",
   "metadata": {
    "collapsed": true,
    "jupyter": {
     "outputs_hidden": true
    }
   },
   "source": [
    "### Isolation of Bugs\n",
    "\n",
    "How can you figure out where the bug is?"
   ]
  },
  {
   "cell_type": "markdown",
   "metadata": {},
   "source": [
    "* "
   ]
  },
  {
   "cell_type": "markdown",
   "metadata": {},
   "source": [
    "## Debugging Example: Entropy\n",
    "\n",
    "Say we're trying to compute the **entropy** of a set of probabilities.  The\n",
    "form of the equation is\n",
    "\n",
    "$$\n",
    "H = -\\sum_i p_i \\log(p_i)\n",
    "$$\n",
    "\n",
    "The choice of base for the logarithm varies for different applications. Base 2 gives the unit of bits, while base `e` gives nats, and base 10 gives units of \"dits\". \n",
    "\n",
    "We can write the function like this:"
   ]
  },
  {
   "cell_type": "code",
   "execution_count": null,
   "metadata": {},
   "outputs": [],
   "source": [
    "def entropy(ps):\n",
    "    items = []\n",
    "    for p_i in ps:\n",
    "        interm = p_i * np.log2(p_i)\n",
    "        items.append(interm)\n",
    "    return -np.sum(items)"
   ]
  },
  {
   "cell_type": "markdown",
   "metadata": {},
   "source": [
    "Imagine if we have the nucleotides in DNA: A, T, C & G for adenine, thymine, cytosine, and guanine, respectively.  If we have a given DNA sequence, e.g. `ATCGATCG` we can compute the observed probability for each nucleotide in the sequence as:\n",
    "\n",
    "| Nucleotide | Occurrences | P(Nucleotide) |\n",
    "|------------|-------------|---------------|\n",
    "| A | 2 | .25 |\n",
    "| T | 2 | .25 |\n",
    "| C | 2 | .25 |\n",
    "| G | 2 | .25 |\n",
    "\n",
    "Thus, we have 4 states that are all equally likely, we can compute the entropy with the following:"
   ]
  },
  {
   "cell_type": "code",
   "execution_count": null,
   "metadata": {},
   "outputs": [],
   "source": [
    "entropy([.25, .25, .25, .25])"
   ]
  },
  {
   "cell_type": "markdown",
   "metadata": {},
   "source": [
    "To reinforce this concept, let's imagine we want to encode the nucleotides A, T, C, G as bits.  Without any knowledge of nucleotide frequency, i.e. assuming they are all equally likely, we could define a bitwise representation of the nucleotides as:\n",
    "\n",
    "| Nucleotide | Bit Representation |\n",
    "|------------|--------------------|\n",
    "| A | `00` |\n",
    "| T | `01` |\n",
    "| C | `10` |\n",
    "| G | `11` |\n",
    "\n",
    "We can see that it takes two bits to represent the nucleotides uniquely.  This is exactly what the `entropy` function predicts for the representation given they are all equality, e.g. `entropy([.25, .25, .25, .25])`.\n",
    "\n",
    "In information theory, this is called **Shannon's source coding theorem**, which states that it is impossible to compress data such that the code rate (average number of bits per symbol) is less than the entropy of the source, without it being virtually certain that information will be lost. So in the DNA case, we must use 2 bits per symbol."
   ]
  },
  {
   "cell_type": "markdown",
   "metadata": {},
   "source": [
    "----------------------\n",
    "\n",
    "Let's try out the function a little bit more:"
   ]
  },
  {
   "cell_type": "code",
   "execution_count": null,
   "metadata": {},
   "outputs": [],
   "source": []
  },
  {
   "cell_type": "code",
   "execution_count": null,
   "metadata": {},
   "outputs": [],
   "source": []
  },
  {
   "cell_type": "code",
   "execution_count": null,
   "metadata": {
    "scrolled": true
   },
   "outputs": [],
   "source": []
  },
  {
   "cell_type": "code",
   "execution_count": null,
   "metadata": {
    "scrolled": true
   },
   "outputs": [],
   "source": []
  },
  {
   "cell_type": "code",
   "execution_count": null,
   "metadata": {
    "scrolled": true
   },
   "outputs": [],
   "source": []
  },
  {
   "cell_type": "code",
   "execution_count": null,
   "metadata": {},
   "outputs": [],
   "source": []
  },
  {
   "cell_type": "markdown",
   "metadata": {},
   "source": [
    "What problems did we find?"
   ]
  },
  {
   "cell_type": "markdown",
   "metadata": {},
   "source": []
  },
  {
   "cell_type": "markdown",
   "metadata": {},
   "source": [
    "Let's try to figure out what is causing our problems using print statement debugging:"
   ]
  },
  {
   "cell_type": "code",
   "execution_count": null,
   "metadata": {},
   "outputs": [],
   "source": [
    "def entropy(ps):\n",
    "    items = []\n",
    "    for p_i in ps:\n",
    "        interm = p_i * np.log2(p_i)\n",
    "        items.append(interm)\n",
    "    return -np.sum(items)"
   ]
  },
  {
   "cell_type": "code",
   "execution_count": null,
   "metadata": {},
   "outputs": [],
   "source": []
  },
  {
   "cell_type": "code",
   "execution_count": null,
   "metadata": {},
   "outputs": [],
   "source": []
  },
  {
   "cell_type": "code",
   "execution_count": null,
   "metadata": {},
   "outputs": [],
   "source": []
  },
  {
   "cell_type": "markdown",
   "metadata": {},
   "source": [
    "Modify our entropy code so that we don't have the problems of values that are not valid probabilities:"
   ]
  },
  {
   "cell_type": "code",
   "execution_count": null,
   "metadata": {},
   "outputs": [],
   "source": [
    "def entropy(ps):\n",
    "    items = []\n",
    "    for p_i in ps:\n",
    "        interm = p_i * np.log2(p_i)\n",
    "        items.append(interm)\n",
    "    return -np.sum(items)"
   ]
  },
  {
   "cell_type": "code",
   "execution_count": null,
   "metadata": {},
   "outputs": [],
   "source": []
  },
  {
   "cell_type": "code",
   "execution_count": null,
   "metadata": {},
   "outputs": [],
   "source": []
  },
  {
   "cell_type": "code",
   "execution_count": null,
   "metadata": {},
   "outputs": [],
   "source": []
  },
  {
   "cell_type": "markdown",
   "metadata": {},
   "source": [
    "Modify our entropy code so that we don't have any other problems we have discovered:"
   ]
  },
  {
   "cell_type": "code",
   "execution_count": null,
   "metadata": {},
   "outputs": [],
   "source": [
    "def entropy(ps):\n",
    "    items = []\n",
    "    for p_i in ps:\n",
    "        interm = p_i * np.log2(p_i)\n",
    "        items.append(interm)\n",
    "    return -np.sum(items)"
   ]
  },
  {
   "cell_type": "code",
   "execution_count": null,
   "metadata": {},
   "outputs": [],
   "source": []
  },
  {
   "cell_type": "markdown",
   "metadata": {},
   "source": [
    "### Using assertions\n",
    "\n",
    "Python comes with a built-in `assert` statement that basically says \"I expect this statement to be true, and if it's not, raise an exception\" ([more info](https://docs.python.org/3/reference/simple_stmts.html#the-assert-statement)). Assertions are usually only enabled during development for debugging purposes; when running the same Python code in a production environment, developers typically \"optimize their code with the `-O` option which disables assertions (ie they run `python -O my_module.py`).\n",
    "\n",
    "An assert statement looks like:\n",
    "\n",
    "```python\n",
    "assert <expression>, <message>\n",
    "```\n",
    "\n",
    "For instance:\n",
    "\n",
    "```python\n",
    "assert x > 5, \"x is not greater than 5\"\n",
    "```\n",
    "\n",
    "Let's try converting some of our code to assertions:"
   ]
  },
  {
   "cell_type": "code",
   "execution_count": null,
   "metadata": {},
   "outputs": [],
   "source": []
  },
  {
   "cell_type": "code",
   "execution_count": null,
   "metadata": {},
   "outputs": [],
   "source": []
  },
  {
   "cell_type": "code",
   "execution_count": null,
   "metadata": {},
   "outputs": [],
   "source": []
  },
  {
   "cell_type": "markdown",
   "metadata": {},
   "source": [
    "### Using Python's debugger, `pdb`\n",
    "\n",
    "Python comes with a built-in debugger called [pdb](http://docs.python.org/2/library/pdb.html).  It allows you to step line-by-line through a computation and examine what's happening at each step.  Note that this should probably be your last resort in tracing down a bug. It can be hard to use sometimes, because it can be too tedious.\n",
    "\n",
    "You can use the debugger by inserting the line\n",
    "``` python\n",
    "import pdb; pdb.set_trace()\n",
    "```\n",
    "within your script. To leave the debugger, type \"exit()\". To see the commands you can use, type \"help\".\n",
    "\n",
    "Let's try this out:"
   ]
  },
  {
   "cell_type": "code",
   "execution_count": null,
   "metadata": {},
   "outputs": [],
   "source": [
    "def entropy(p):\n",
    "    p = np.asarray(p)\n",
    "    items = p * np.log2(p)\n",
    "    import pdb; pdb.set_trace()\n",
    "    return -np.sum(items)"
   ]
  },
  {
   "cell_type": "markdown",
   "metadata": {},
   "source": [
    "This can be a more convenient way to debug programs and step through the actual execution."
   ]
  },
  {
   "cell_type": "code",
   "execution_count": null,
   "metadata": {},
   "outputs": [],
   "source": [
    "p = [.1, -.2, .3]\n",
    "entropy(p)"
   ]
  },
  {
   "cell_type": "code",
   "execution_count": null,
   "metadata": {},
   "outputs": [],
   "source": [
    "python -m pdb <name of file>"
   ]
  },
  {
   "cell_type": "markdown",
   "metadata": {},
   "source": [
    "--------\n",
    "\n",
    "## Exercise\n",
    "\n",
    "*[Drawn from Software Carpentry](https://swcarpentry.github.io/python-novice-inflammation/11-debugging/index.html#not-supposed-to-be-the-same)*\n",
    "\n",
    "You are assisting a researcher with Python code that computes the Body Mass Index (BMI) of patients. The researcher is concerned because all patients seemingly have unusual and identical BMIs, despite having different physiques. BMI is calculated as weight in kilograms divided by the square of height in metres.\n",
    "\n",
    "1. Use print statement debugging to debug the following code which computes BMI for a list of people. If you see the bug right away, you should STILL do the print statement debugging to demonstrate the bug."
   ]
  },
  {
   "cell_type": "code",
   "execution_count": null,
   "metadata": {},
   "outputs": [],
   "source": [
    "patients = [[70, 1.8], [80, 1.9], [150, 1.7]]\n",
    "\n",
    "def calculate_bmi(weight, height):\n",
    "    return weight / (height ** 2)\n",
    "\n",
    "def calculate_bmi_for_list(patients):\n",
    "    for patient in patients:\n",
    "        weight, height = patients[0]\n",
    "        bmi = calculate_bmi(height, weight)\n",
    "        print(\"Patient's BMI is:\", bmi)\n",
    "\n",
    "calculate_bmi_for_list(patients)"
   ]
  },
  {
   "cell_type": "markdown",
   "metadata": {},
   "source": [
    "What's wrong with this code? Hint: there is more than one problem."
   ]
  },
  {
   "cell_type": "markdown",
   "metadata": {},
   "source": []
  },
  {
   "cell_type": "markdown",
   "metadata": {},
   "source": [
    "2. Use the Python debugger (`pdb`) to debug instead. Set a breakpoint at the beginning of the `calculate_bmi_for_list` function and step through (and into!) the `calculate_bmi` function."
   ]
  },
  {
   "cell_type": "code",
   "execution_count": null,
   "metadata": {},
   "outputs": [],
   "source": [
    "patients = [[70, 1.8], [80, 1.9], [150, 1.7]]\n",
    "\n",
    "def calculate_bmi(weight, height):\n",
    "    return weight / (height ** 2)\n",
    "\n",
    "def calculate_bmi_for_list(patients):\n",
    "    for patient in patients:\n",
    "        weight, height = patients[0]\n",
    "        bmi = calculate_bmi(height, weight)\n",
    "        print(\"Patient's BMI is:\", bmi)\n",
    "\n",
    "calculate_bmi_for_list(patients)"
   ]
  }
 ],
 "metadata": {
  "kernelspec": {
   "display_name": "Python 3 (ipykernel)",
   "language": "python",
   "name": "python3"
  },
  "language_info": {
   "codemirror_mode": {
    "name": "ipython",
    "version": 3
   },
   "file_extension": ".py",
   "mimetype": "text/x-python",
   "name": "python",
   "nbconvert_exporter": "python",
   "pygments_lexer": "ipython3",
   "version": "3.11.5"
  }
 },
 "nbformat": 4,
 "nbformat_minor": 4
}
